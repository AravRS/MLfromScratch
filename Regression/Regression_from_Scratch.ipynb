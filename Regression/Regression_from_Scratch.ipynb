{
  "nbformat": 4,
  "nbformat_minor": 0,
  "metadata": {
    "colab": {
      "name": "Regression_from_Scratch.ipynb",
      "provenance": [],
      "collapsed_sections": [],
      "toc_visible": true
    },
    "kernelspec": {
      "name": "python3",
      "display_name": "Python 3"
    }
  },
  "cells": [
    {
      "cell_type": "markdown",
      "metadata": {
        "id": "RiMBkBbshzLI",
        "colab_type": "text"
      },
      "source": [
        "# Regression from Scratch"
      ]
    },
    {
      "cell_type": "markdown",
      "metadata": {
        "id": "tyxg4ze7wpY4",
        "colab_type": "text"
      },
      "source": [
        "#### Necessary Imports"
      ]
    },
    {
      "cell_type": "code",
      "metadata": {
        "id": "EN7PNqgAvk_L",
        "colab_type": "code",
        "colab": {}
      },
      "source": [
        "import numpy as np\n",
        "import pandas as pd\n",
        "import matplotlib.pyplot as plt\n",
        "import seaborn as sns\n",
        "sns.set()"
      ],
      "execution_count": 0,
      "outputs": []
    },
    {
      "cell_type": "markdown",
      "metadata": {
        "id": "vGRfGf7899Kg",
        "colab_type": "text"
      },
      "source": [
        "## Data"
      ]
    },
    {
      "cell_type": "code",
      "metadata": {
        "id": "owkD6kpzn4Rf",
        "colab_type": "code",
        "colab": {}
      },
      "source": [
        "dtype_dict = {'bathrooms':float, 'waterfront':int, 'sqft_above':int, 'sqft_living15':float, 'grade':int, 'yr_renovated':int, 'price':float, 'bedrooms':float, 'zipcode':str, 'long':float, 'sqft_lot15':float, 'sqft_living':float, 'floors':str, 'condition':int, 'lat':float, 'date':str, 'sqft_basement':int, 'yr_built':int, 'id':str, 'sqft_lot':int, 'view':int}"
      ],
      "execution_count": 0,
      "outputs": []
    },
    {
      "cell_type": "code",
      "metadata": {
        "id": "YM2WTSpbv2nq",
        "colab_type": "code",
        "outputId": "092dcdc2-e910-48da-83eb-4d7454d7abd0",
        "colab": {
          "base_uri": "https://localhost:8080/",
          "height": 363
        }
      },
      "source": [
        "data = pd.read_csv(\"kc_house_data.csv\", dtype=dtype_dict)\n",
        "data.head(10)"
      ],
      "execution_count": 4,
      "outputs": [
        {
          "output_type": "execute_result",
          "data": {
            "text/html": [
              "<div>\n",
              "<style scoped>\n",
              "    .dataframe tbody tr th:only-of-type {\n",
              "        vertical-align: middle;\n",
              "    }\n",
              "\n",
              "    .dataframe tbody tr th {\n",
              "        vertical-align: top;\n",
              "    }\n",
              "\n",
              "    .dataframe thead th {\n",
              "        text-align: right;\n",
              "    }\n",
              "</style>\n",
              "<table border=\"1\" class=\"dataframe\">\n",
              "  <thead>\n",
              "    <tr style=\"text-align: right;\">\n",
              "      <th></th>\n",
              "      <th>id</th>\n",
              "      <th>date</th>\n",
              "      <th>price</th>\n",
              "      <th>bedrooms</th>\n",
              "      <th>bathrooms</th>\n",
              "      <th>sqft_living</th>\n",
              "      <th>sqft_lot</th>\n",
              "      <th>floors</th>\n",
              "      <th>waterfront</th>\n",
              "      <th>view</th>\n",
              "      <th>condition</th>\n",
              "      <th>grade</th>\n",
              "      <th>sqft_above</th>\n",
              "      <th>sqft_basement</th>\n",
              "      <th>yr_built</th>\n",
              "      <th>yr_renovated</th>\n",
              "      <th>zipcode</th>\n",
              "      <th>lat</th>\n",
              "      <th>long</th>\n",
              "      <th>sqft_living15</th>\n",
              "      <th>sqft_lot15</th>\n",
              "    </tr>\n",
              "  </thead>\n",
              "  <tbody>\n",
              "    <tr>\n",
              "      <th>0</th>\n",
              "      <td>7129300520</td>\n",
              "      <td>20141013T000000</td>\n",
              "      <td>221900.0</td>\n",
              "      <td>3.0</td>\n",
              "      <td>1.00</td>\n",
              "      <td>1180.0</td>\n",
              "      <td>5650</td>\n",
              "      <td>1</td>\n",
              "      <td>0</td>\n",
              "      <td>0</td>\n",
              "      <td>3</td>\n",
              "      <td>7</td>\n",
              "      <td>1180</td>\n",
              "      <td>0</td>\n",
              "      <td>1955</td>\n",
              "      <td>0</td>\n",
              "      <td>98178</td>\n",
              "      <td>47.5112</td>\n",
              "      <td>-122.257</td>\n",
              "      <td>1340.0</td>\n",
              "      <td>5650.0</td>\n",
              "    </tr>\n",
              "    <tr>\n",
              "      <th>1</th>\n",
              "      <td>6414100192</td>\n",
              "      <td>20141209T000000</td>\n",
              "      <td>538000.0</td>\n",
              "      <td>3.0</td>\n",
              "      <td>2.25</td>\n",
              "      <td>2570.0</td>\n",
              "      <td>7242</td>\n",
              "      <td>2</td>\n",
              "      <td>0</td>\n",
              "      <td>0</td>\n",
              "      <td>3</td>\n",
              "      <td>7</td>\n",
              "      <td>2170</td>\n",
              "      <td>400</td>\n",
              "      <td>1951</td>\n",
              "      <td>1991</td>\n",
              "      <td>98125</td>\n",
              "      <td>47.7210</td>\n",
              "      <td>-122.319</td>\n",
              "      <td>1690.0</td>\n",
              "      <td>7639.0</td>\n",
              "    </tr>\n",
              "    <tr>\n",
              "      <th>2</th>\n",
              "      <td>5631500400</td>\n",
              "      <td>20150225T000000</td>\n",
              "      <td>180000.0</td>\n",
              "      <td>2.0</td>\n",
              "      <td>1.00</td>\n",
              "      <td>770.0</td>\n",
              "      <td>10000</td>\n",
              "      <td>1</td>\n",
              "      <td>0</td>\n",
              "      <td>0</td>\n",
              "      <td>3</td>\n",
              "      <td>6</td>\n",
              "      <td>770</td>\n",
              "      <td>0</td>\n",
              "      <td>1933</td>\n",
              "      <td>0</td>\n",
              "      <td>98028</td>\n",
              "      <td>47.7379</td>\n",
              "      <td>-122.233</td>\n",
              "      <td>2720.0</td>\n",
              "      <td>8062.0</td>\n",
              "    </tr>\n",
              "    <tr>\n",
              "      <th>3</th>\n",
              "      <td>2487200875</td>\n",
              "      <td>20141209T000000</td>\n",
              "      <td>604000.0</td>\n",
              "      <td>4.0</td>\n",
              "      <td>3.00</td>\n",
              "      <td>1960.0</td>\n",
              "      <td>5000</td>\n",
              "      <td>1</td>\n",
              "      <td>0</td>\n",
              "      <td>0</td>\n",
              "      <td>5</td>\n",
              "      <td>7</td>\n",
              "      <td>1050</td>\n",
              "      <td>910</td>\n",
              "      <td>1965</td>\n",
              "      <td>0</td>\n",
              "      <td>98136</td>\n",
              "      <td>47.5208</td>\n",
              "      <td>-122.393</td>\n",
              "      <td>1360.0</td>\n",
              "      <td>5000.0</td>\n",
              "    </tr>\n",
              "    <tr>\n",
              "      <th>4</th>\n",
              "      <td>1954400510</td>\n",
              "      <td>20150218T000000</td>\n",
              "      <td>510000.0</td>\n",
              "      <td>3.0</td>\n",
              "      <td>2.00</td>\n",
              "      <td>1680.0</td>\n",
              "      <td>8080</td>\n",
              "      <td>1</td>\n",
              "      <td>0</td>\n",
              "      <td>0</td>\n",
              "      <td>3</td>\n",
              "      <td>8</td>\n",
              "      <td>1680</td>\n",
              "      <td>0</td>\n",
              "      <td>1987</td>\n",
              "      <td>0</td>\n",
              "      <td>98074</td>\n",
              "      <td>47.6168</td>\n",
              "      <td>-122.045</td>\n",
              "      <td>1800.0</td>\n",
              "      <td>7503.0</td>\n",
              "    </tr>\n",
              "    <tr>\n",
              "      <th>5</th>\n",
              "      <td>7237550310</td>\n",
              "      <td>20140512T000000</td>\n",
              "      <td>1225000.0</td>\n",
              "      <td>4.0</td>\n",
              "      <td>4.50</td>\n",
              "      <td>5420.0</td>\n",
              "      <td>101930</td>\n",
              "      <td>1</td>\n",
              "      <td>0</td>\n",
              "      <td>0</td>\n",
              "      <td>3</td>\n",
              "      <td>11</td>\n",
              "      <td>3890</td>\n",
              "      <td>1530</td>\n",
              "      <td>2001</td>\n",
              "      <td>0</td>\n",
              "      <td>98053</td>\n",
              "      <td>47.6561</td>\n",
              "      <td>-122.005</td>\n",
              "      <td>4760.0</td>\n",
              "      <td>101930.0</td>\n",
              "    </tr>\n",
              "    <tr>\n",
              "      <th>6</th>\n",
              "      <td>1321400060</td>\n",
              "      <td>20140627T000000</td>\n",
              "      <td>257500.0</td>\n",
              "      <td>3.0</td>\n",
              "      <td>2.25</td>\n",
              "      <td>1715.0</td>\n",
              "      <td>6819</td>\n",
              "      <td>2</td>\n",
              "      <td>0</td>\n",
              "      <td>0</td>\n",
              "      <td>3</td>\n",
              "      <td>7</td>\n",
              "      <td>1715</td>\n",
              "      <td>0</td>\n",
              "      <td>1995</td>\n",
              "      <td>0</td>\n",
              "      <td>98003</td>\n",
              "      <td>47.3097</td>\n",
              "      <td>-122.327</td>\n",
              "      <td>2238.0</td>\n",
              "      <td>6819.0</td>\n",
              "    </tr>\n",
              "    <tr>\n",
              "      <th>7</th>\n",
              "      <td>2008000270</td>\n",
              "      <td>20150115T000000</td>\n",
              "      <td>291850.0</td>\n",
              "      <td>3.0</td>\n",
              "      <td>1.50</td>\n",
              "      <td>1060.0</td>\n",
              "      <td>9711</td>\n",
              "      <td>1</td>\n",
              "      <td>0</td>\n",
              "      <td>0</td>\n",
              "      <td>3</td>\n",
              "      <td>7</td>\n",
              "      <td>1060</td>\n",
              "      <td>0</td>\n",
              "      <td>1963</td>\n",
              "      <td>0</td>\n",
              "      <td>98198</td>\n",
              "      <td>47.4095</td>\n",
              "      <td>-122.315</td>\n",
              "      <td>1650.0</td>\n",
              "      <td>9711.0</td>\n",
              "    </tr>\n",
              "    <tr>\n",
              "      <th>8</th>\n",
              "      <td>2414600126</td>\n",
              "      <td>20150415T000000</td>\n",
              "      <td>229500.0</td>\n",
              "      <td>3.0</td>\n",
              "      <td>1.00</td>\n",
              "      <td>1780.0</td>\n",
              "      <td>7470</td>\n",
              "      <td>1</td>\n",
              "      <td>0</td>\n",
              "      <td>0</td>\n",
              "      <td>3</td>\n",
              "      <td>7</td>\n",
              "      <td>1050</td>\n",
              "      <td>730</td>\n",
              "      <td>1960</td>\n",
              "      <td>0</td>\n",
              "      <td>98146</td>\n",
              "      <td>47.5123</td>\n",
              "      <td>-122.337</td>\n",
              "      <td>1780.0</td>\n",
              "      <td>8113.0</td>\n",
              "    </tr>\n",
              "    <tr>\n",
              "      <th>9</th>\n",
              "      <td>3793500160</td>\n",
              "      <td>20150312T000000</td>\n",
              "      <td>323000.0</td>\n",
              "      <td>3.0</td>\n",
              "      <td>2.50</td>\n",
              "      <td>1890.0</td>\n",
              "      <td>6560</td>\n",
              "      <td>2</td>\n",
              "      <td>0</td>\n",
              "      <td>0</td>\n",
              "      <td>3</td>\n",
              "      <td>7</td>\n",
              "      <td>1890</td>\n",
              "      <td>0</td>\n",
              "      <td>2003</td>\n",
              "      <td>0</td>\n",
              "      <td>98038</td>\n",
              "      <td>47.3684</td>\n",
              "      <td>-122.031</td>\n",
              "      <td>2390.0</td>\n",
              "      <td>7570.0</td>\n",
              "    </tr>\n",
              "  </tbody>\n",
              "</table>\n",
              "</div>"
            ],
            "text/plain": [
              "           id             date      price  ...     long  sqft_living15  sqft_lot15\n",
              "0  7129300520  20141013T000000   221900.0  ... -122.257         1340.0      5650.0\n",
              "1  6414100192  20141209T000000   538000.0  ... -122.319         1690.0      7639.0\n",
              "2  5631500400  20150225T000000   180000.0  ... -122.233         2720.0      8062.0\n",
              "3  2487200875  20141209T000000   604000.0  ... -122.393         1360.0      5000.0\n",
              "4  1954400510  20150218T000000   510000.0  ... -122.045         1800.0      7503.0\n",
              "5  7237550310  20140512T000000  1225000.0  ... -122.005         4760.0    101930.0\n",
              "6  1321400060  20140627T000000   257500.0  ... -122.327         2238.0      6819.0\n",
              "7  2008000270  20150115T000000   291850.0  ... -122.315         1650.0      9711.0\n",
              "8  2414600126  20150415T000000   229500.0  ... -122.337         1780.0      8113.0\n",
              "9  3793500160  20150312T000000   323000.0  ... -122.031         2390.0      7570.0\n",
              "\n",
              "[10 rows x 21 columns]"
            ]
          },
          "metadata": {
            "tags": []
          },
          "execution_count": 4
        }
      ]
    },
    {
      "cell_type": "code",
      "metadata": {
        "id": "HRPogdjCv72d",
        "colab_type": "code",
        "outputId": "b7244079-f31a-4e6d-9720-891f5a96844c",
        "colab": {
          "base_uri": "https://localhost:8080/",
          "height": 487
        }
      },
      "source": [
        "data.info()"
      ],
      "execution_count": 5,
      "outputs": [
        {
          "output_type": "stream",
          "text": [
            "<class 'pandas.core.frame.DataFrame'>\n",
            "RangeIndex: 21613 entries, 0 to 21612\n",
            "Data columns (total 21 columns):\n",
            " #   Column         Non-Null Count  Dtype  \n",
            "---  ------         --------------  -----  \n",
            " 0   id             21613 non-null  object \n",
            " 1   date           21613 non-null  object \n",
            " 2   price          21613 non-null  float64\n",
            " 3   bedrooms       21613 non-null  float64\n",
            " 4   bathrooms      21613 non-null  float64\n",
            " 5   sqft_living    21613 non-null  float64\n",
            " 6   sqft_lot       21613 non-null  int64  \n",
            " 7   floors         21613 non-null  object \n",
            " 8   waterfront     21613 non-null  int64  \n",
            " 9   view           21613 non-null  int64  \n",
            " 10  condition      21613 non-null  int64  \n",
            " 11  grade          21613 non-null  int64  \n",
            " 12  sqft_above     21613 non-null  int64  \n",
            " 13  sqft_basement  21613 non-null  int64  \n",
            " 14  yr_built       21613 non-null  int64  \n",
            " 15  yr_renovated   21613 non-null  int64  \n",
            " 16  zipcode        21613 non-null  object \n",
            " 17  lat            21613 non-null  float64\n",
            " 18  long           21613 non-null  float64\n",
            " 19  sqft_living15  21613 non-null  float64\n",
            " 20  sqft_lot15     21613 non-null  float64\n",
            "dtypes: float64(8), int64(9), object(4)\n",
            "memory usage: 3.5+ MB\n"
          ],
          "name": "stdout"
        }
      ]
    },
    {
      "cell_type": "code",
      "metadata": {
        "id": "3BW2zhwTwBH7",
        "colab_type": "code",
        "outputId": "8e79134b-6cbd-4f84-a212-f1f7bd131cbb",
        "colab": {
          "base_uri": "https://localhost:8080/",
          "height": 393
        }
      },
      "source": [
        "data.describe(include='all')"
      ],
      "execution_count": 6,
      "outputs": [
        {
          "output_type": "execute_result",
          "data": {
            "text/html": [
              "<div>\n",
              "<style scoped>\n",
              "    .dataframe tbody tr th:only-of-type {\n",
              "        vertical-align: middle;\n",
              "    }\n",
              "\n",
              "    .dataframe tbody tr th {\n",
              "        vertical-align: top;\n",
              "    }\n",
              "\n",
              "    .dataframe thead th {\n",
              "        text-align: right;\n",
              "    }\n",
              "</style>\n",
              "<table border=\"1\" class=\"dataframe\">\n",
              "  <thead>\n",
              "    <tr style=\"text-align: right;\">\n",
              "      <th></th>\n",
              "      <th>id</th>\n",
              "      <th>date</th>\n",
              "      <th>price</th>\n",
              "      <th>bedrooms</th>\n",
              "      <th>bathrooms</th>\n",
              "      <th>sqft_living</th>\n",
              "      <th>sqft_lot</th>\n",
              "      <th>floors</th>\n",
              "      <th>waterfront</th>\n",
              "      <th>view</th>\n",
              "      <th>condition</th>\n",
              "      <th>grade</th>\n",
              "      <th>sqft_above</th>\n",
              "      <th>sqft_basement</th>\n",
              "      <th>yr_built</th>\n",
              "      <th>yr_renovated</th>\n",
              "      <th>zipcode</th>\n",
              "      <th>lat</th>\n",
              "      <th>long</th>\n",
              "      <th>sqft_living15</th>\n",
              "      <th>sqft_lot15</th>\n",
              "    </tr>\n",
              "  </thead>\n",
              "  <tbody>\n",
              "    <tr>\n",
              "      <th>count</th>\n",
              "      <td>21613</td>\n",
              "      <td>21613</td>\n",
              "      <td>2.161300e+04</td>\n",
              "      <td>21613.000000</td>\n",
              "      <td>21613.000000</td>\n",
              "      <td>21613.000000</td>\n",
              "      <td>2.161300e+04</td>\n",
              "      <td>21613</td>\n",
              "      <td>21613.000000</td>\n",
              "      <td>21613.000000</td>\n",
              "      <td>21613.000000</td>\n",
              "      <td>21613.000000</td>\n",
              "      <td>21613.000000</td>\n",
              "      <td>21613.000000</td>\n",
              "      <td>21613.000000</td>\n",
              "      <td>21613.000000</td>\n",
              "      <td>21613</td>\n",
              "      <td>21613.000000</td>\n",
              "      <td>21613.000000</td>\n",
              "      <td>21613.000000</td>\n",
              "      <td>21613.000000</td>\n",
              "    </tr>\n",
              "    <tr>\n",
              "      <th>unique</th>\n",
              "      <td>21436</td>\n",
              "      <td>372</td>\n",
              "      <td>NaN</td>\n",
              "      <td>NaN</td>\n",
              "      <td>NaN</td>\n",
              "      <td>NaN</td>\n",
              "      <td>NaN</td>\n",
              "      <td>6</td>\n",
              "      <td>NaN</td>\n",
              "      <td>NaN</td>\n",
              "      <td>NaN</td>\n",
              "      <td>NaN</td>\n",
              "      <td>NaN</td>\n",
              "      <td>NaN</td>\n",
              "      <td>NaN</td>\n",
              "      <td>NaN</td>\n",
              "      <td>70</td>\n",
              "      <td>NaN</td>\n",
              "      <td>NaN</td>\n",
              "      <td>NaN</td>\n",
              "      <td>NaN</td>\n",
              "    </tr>\n",
              "    <tr>\n",
              "      <th>top</th>\n",
              "      <td>0795000620</td>\n",
              "      <td>20140623T000000</td>\n",
              "      <td>NaN</td>\n",
              "      <td>NaN</td>\n",
              "      <td>NaN</td>\n",
              "      <td>NaN</td>\n",
              "      <td>NaN</td>\n",
              "      <td>1</td>\n",
              "      <td>NaN</td>\n",
              "      <td>NaN</td>\n",
              "      <td>NaN</td>\n",
              "      <td>NaN</td>\n",
              "      <td>NaN</td>\n",
              "      <td>NaN</td>\n",
              "      <td>NaN</td>\n",
              "      <td>NaN</td>\n",
              "      <td>98103</td>\n",
              "      <td>NaN</td>\n",
              "      <td>NaN</td>\n",
              "      <td>NaN</td>\n",
              "      <td>NaN</td>\n",
              "    </tr>\n",
              "    <tr>\n",
              "      <th>freq</th>\n",
              "      <td>3</td>\n",
              "      <td>142</td>\n",
              "      <td>NaN</td>\n",
              "      <td>NaN</td>\n",
              "      <td>NaN</td>\n",
              "      <td>NaN</td>\n",
              "      <td>NaN</td>\n",
              "      <td>10680</td>\n",
              "      <td>NaN</td>\n",
              "      <td>NaN</td>\n",
              "      <td>NaN</td>\n",
              "      <td>NaN</td>\n",
              "      <td>NaN</td>\n",
              "      <td>NaN</td>\n",
              "      <td>NaN</td>\n",
              "      <td>NaN</td>\n",
              "      <td>602</td>\n",
              "      <td>NaN</td>\n",
              "      <td>NaN</td>\n",
              "      <td>NaN</td>\n",
              "      <td>NaN</td>\n",
              "    </tr>\n",
              "    <tr>\n",
              "      <th>mean</th>\n",
              "      <td>NaN</td>\n",
              "      <td>NaN</td>\n",
              "      <td>5.400881e+05</td>\n",
              "      <td>3.370842</td>\n",
              "      <td>2.114757</td>\n",
              "      <td>2079.899736</td>\n",
              "      <td>1.510697e+04</td>\n",
              "      <td>NaN</td>\n",
              "      <td>0.007542</td>\n",
              "      <td>0.234303</td>\n",
              "      <td>3.409430</td>\n",
              "      <td>7.656873</td>\n",
              "      <td>1788.390691</td>\n",
              "      <td>291.509045</td>\n",
              "      <td>1971.005136</td>\n",
              "      <td>84.402258</td>\n",
              "      <td>NaN</td>\n",
              "      <td>47.560053</td>\n",
              "      <td>-122.213896</td>\n",
              "      <td>1986.552492</td>\n",
              "      <td>12768.455652</td>\n",
              "    </tr>\n",
              "    <tr>\n",
              "      <th>std</th>\n",
              "      <td>NaN</td>\n",
              "      <td>NaN</td>\n",
              "      <td>3.671272e+05</td>\n",
              "      <td>0.930062</td>\n",
              "      <td>0.770163</td>\n",
              "      <td>918.440897</td>\n",
              "      <td>4.142051e+04</td>\n",
              "      <td>NaN</td>\n",
              "      <td>0.086517</td>\n",
              "      <td>0.766318</td>\n",
              "      <td>0.650743</td>\n",
              "      <td>1.175459</td>\n",
              "      <td>828.090978</td>\n",
              "      <td>442.575043</td>\n",
              "      <td>29.373411</td>\n",
              "      <td>401.679240</td>\n",
              "      <td>NaN</td>\n",
              "      <td>0.138564</td>\n",
              "      <td>0.140828</td>\n",
              "      <td>685.391304</td>\n",
              "      <td>27304.179631</td>\n",
              "    </tr>\n",
              "    <tr>\n",
              "      <th>min</th>\n",
              "      <td>NaN</td>\n",
              "      <td>NaN</td>\n",
              "      <td>7.500000e+04</td>\n",
              "      <td>0.000000</td>\n",
              "      <td>0.000000</td>\n",
              "      <td>290.000000</td>\n",
              "      <td>5.200000e+02</td>\n",
              "      <td>NaN</td>\n",
              "      <td>0.000000</td>\n",
              "      <td>0.000000</td>\n",
              "      <td>1.000000</td>\n",
              "      <td>1.000000</td>\n",
              "      <td>290.000000</td>\n",
              "      <td>0.000000</td>\n",
              "      <td>1900.000000</td>\n",
              "      <td>0.000000</td>\n",
              "      <td>NaN</td>\n",
              "      <td>47.155900</td>\n",
              "      <td>-122.519000</td>\n",
              "      <td>399.000000</td>\n",
              "      <td>651.000000</td>\n",
              "    </tr>\n",
              "    <tr>\n",
              "      <th>25%</th>\n",
              "      <td>NaN</td>\n",
              "      <td>NaN</td>\n",
              "      <td>3.219500e+05</td>\n",
              "      <td>3.000000</td>\n",
              "      <td>1.750000</td>\n",
              "      <td>1427.000000</td>\n",
              "      <td>5.040000e+03</td>\n",
              "      <td>NaN</td>\n",
              "      <td>0.000000</td>\n",
              "      <td>0.000000</td>\n",
              "      <td>3.000000</td>\n",
              "      <td>7.000000</td>\n",
              "      <td>1190.000000</td>\n",
              "      <td>0.000000</td>\n",
              "      <td>1951.000000</td>\n",
              "      <td>0.000000</td>\n",
              "      <td>NaN</td>\n",
              "      <td>47.471000</td>\n",
              "      <td>-122.328000</td>\n",
              "      <td>1490.000000</td>\n",
              "      <td>5100.000000</td>\n",
              "    </tr>\n",
              "    <tr>\n",
              "      <th>50%</th>\n",
              "      <td>NaN</td>\n",
              "      <td>NaN</td>\n",
              "      <td>4.500000e+05</td>\n",
              "      <td>3.000000</td>\n",
              "      <td>2.250000</td>\n",
              "      <td>1910.000000</td>\n",
              "      <td>7.618000e+03</td>\n",
              "      <td>NaN</td>\n",
              "      <td>0.000000</td>\n",
              "      <td>0.000000</td>\n",
              "      <td>3.000000</td>\n",
              "      <td>7.000000</td>\n",
              "      <td>1560.000000</td>\n",
              "      <td>0.000000</td>\n",
              "      <td>1975.000000</td>\n",
              "      <td>0.000000</td>\n",
              "      <td>NaN</td>\n",
              "      <td>47.571800</td>\n",
              "      <td>-122.230000</td>\n",
              "      <td>1840.000000</td>\n",
              "      <td>7620.000000</td>\n",
              "    </tr>\n",
              "    <tr>\n",
              "      <th>75%</th>\n",
              "      <td>NaN</td>\n",
              "      <td>NaN</td>\n",
              "      <td>6.450000e+05</td>\n",
              "      <td>4.000000</td>\n",
              "      <td>2.500000</td>\n",
              "      <td>2550.000000</td>\n",
              "      <td>1.068800e+04</td>\n",
              "      <td>NaN</td>\n",
              "      <td>0.000000</td>\n",
              "      <td>0.000000</td>\n",
              "      <td>4.000000</td>\n",
              "      <td>8.000000</td>\n",
              "      <td>2210.000000</td>\n",
              "      <td>560.000000</td>\n",
              "      <td>1997.000000</td>\n",
              "      <td>0.000000</td>\n",
              "      <td>NaN</td>\n",
              "      <td>47.678000</td>\n",
              "      <td>-122.125000</td>\n",
              "      <td>2360.000000</td>\n",
              "      <td>10083.000000</td>\n",
              "    </tr>\n",
              "    <tr>\n",
              "      <th>max</th>\n",
              "      <td>NaN</td>\n",
              "      <td>NaN</td>\n",
              "      <td>7.700000e+06</td>\n",
              "      <td>33.000000</td>\n",
              "      <td>8.000000</td>\n",
              "      <td>13540.000000</td>\n",
              "      <td>1.651359e+06</td>\n",
              "      <td>NaN</td>\n",
              "      <td>1.000000</td>\n",
              "      <td>4.000000</td>\n",
              "      <td>5.000000</td>\n",
              "      <td>13.000000</td>\n",
              "      <td>9410.000000</td>\n",
              "      <td>4820.000000</td>\n",
              "      <td>2015.000000</td>\n",
              "      <td>2015.000000</td>\n",
              "      <td>NaN</td>\n",
              "      <td>47.777600</td>\n",
              "      <td>-121.315000</td>\n",
              "      <td>6210.000000</td>\n",
              "      <td>871200.000000</td>\n",
              "    </tr>\n",
              "  </tbody>\n",
              "</table>\n",
              "</div>"
            ],
            "text/plain": [
              "                id             date  ...  sqft_living15     sqft_lot15\n",
              "count        21613            21613  ...   21613.000000   21613.000000\n",
              "unique       21436              372  ...            NaN            NaN\n",
              "top     0795000620  20140623T000000  ...            NaN            NaN\n",
              "freq             3              142  ...            NaN            NaN\n",
              "mean           NaN              NaN  ...    1986.552492   12768.455652\n",
              "std            NaN              NaN  ...     685.391304   27304.179631\n",
              "min            NaN              NaN  ...     399.000000     651.000000\n",
              "25%            NaN              NaN  ...    1490.000000    5100.000000\n",
              "50%            NaN              NaN  ...    1840.000000    7620.000000\n",
              "75%            NaN              NaN  ...    2360.000000   10083.000000\n",
              "max            NaN              NaN  ...    6210.000000  871200.000000\n",
              "\n",
              "[11 rows x 21 columns]"
            ]
          },
          "metadata": {
            "tags": []
          },
          "execution_count": 6
        }
      ]
    },
    {
      "cell_type": "markdown",
      "metadata": {
        "id": "HHCQhmERxIPB",
        "colab_type": "text"
      },
      "source": [
        "Train/Test data (80% training and 20% testing)"
      ]
    },
    {
      "cell_type": "code",
      "metadata": {
        "id": "BHJw3LD2wamT",
        "colab_type": "code",
        "outputId": "97660a93-fe7d-4828-bf4d-20351bed3e1b",
        "colab": {
          "base_uri": "https://localhost:8080/",
          "height": 215
        }
      },
      "source": [
        "train_data = pd.read_csv(\"kc_house_train_data.csv\")\n",
        "train_data.head()"
      ],
      "execution_count": 7,
      "outputs": [
        {
          "output_type": "execute_result",
          "data": {
            "text/html": [
              "<div>\n",
              "<style scoped>\n",
              "    .dataframe tbody tr th:only-of-type {\n",
              "        vertical-align: middle;\n",
              "    }\n",
              "\n",
              "    .dataframe tbody tr th {\n",
              "        vertical-align: top;\n",
              "    }\n",
              "\n",
              "    .dataframe thead th {\n",
              "        text-align: right;\n",
              "    }\n",
              "</style>\n",
              "<table border=\"1\" class=\"dataframe\">\n",
              "  <thead>\n",
              "    <tr style=\"text-align: right;\">\n",
              "      <th></th>\n",
              "      <th>id</th>\n",
              "      <th>date</th>\n",
              "      <th>price</th>\n",
              "      <th>bedrooms</th>\n",
              "      <th>bathrooms</th>\n",
              "      <th>sqft_living</th>\n",
              "      <th>sqft_lot</th>\n",
              "      <th>floors</th>\n",
              "      <th>waterfront</th>\n",
              "      <th>view</th>\n",
              "      <th>condition</th>\n",
              "      <th>grade</th>\n",
              "      <th>sqft_above</th>\n",
              "      <th>sqft_basement</th>\n",
              "      <th>yr_built</th>\n",
              "      <th>yr_renovated</th>\n",
              "      <th>zipcode</th>\n",
              "      <th>lat</th>\n",
              "      <th>long</th>\n",
              "      <th>sqft_living15</th>\n",
              "      <th>sqft_lot15</th>\n",
              "    </tr>\n",
              "  </thead>\n",
              "  <tbody>\n",
              "    <tr>\n",
              "      <th>0</th>\n",
              "      <td>7129300520</td>\n",
              "      <td>20141013T000000</td>\n",
              "      <td>221900.0</td>\n",
              "      <td>3</td>\n",
              "      <td>1.00</td>\n",
              "      <td>1180</td>\n",
              "      <td>5650</td>\n",
              "      <td>1.0</td>\n",
              "      <td>0</td>\n",
              "      <td>0</td>\n",
              "      <td>3</td>\n",
              "      <td>7</td>\n",
              "      <td>1180</td>\n",
              "      <td>0</td>\n",
              "      <td>1955</td>\n",
              "      <td>0</td>\n",
              "      <td>98178</td>\n",
              "      <td>47.5112</td>\n",
              "      <td>-122.257</td>\n",
              "      <td>1340</td>\n",
              "      <td>5650</td>\n",
              "    </tr>\n",
              "    <tr>\n",
              "      <th>1</th>\n",
              "      <td>6414100192</td>\n",
              "      <td>20141209T000000</td>\n",
              "      <td>538000.0</td>\n",
              "      <td>3</td>\n",
              "      <td>2.25</td>\n",
              "      <td>2570</td>\n",
              "      <td>7242</td>\n",
              "      <td>2.0</td>\n",
              "      <td>0</td>\n",
              "      <td>0</td>\n",
              "      <td>3</td>\n",
              "      <td>7</td>\n",
              "      <td>2170</td>\n",
              "      <td>400</td>\n",
              "      <td>1951</td>\n",
              "      <td>1991</td>\n",
              "      <td>98125</td>\n",
              "      <td>47.7210</td>\n",
              "      <td>-122.319</td>\n",
              "      <td>1690</td>\n",
              "      <td>7639</td>\n",
              "    </tr>\n",
              "    <tr>\n",
              "      <th>2</th>\n",
              "      <td>5631500400</td>\n",
              "      <td>20150225T000000</td>\n",
              "      <td>180000.0</td>\n",
              "      <td>2</td>\n",
              "      <td>1.00</td>\n",
              "      <td>770</td>\n",
              "      <td>10000</td>\n",
              "      <td>1.0</td>\n",
              "      <td>0</td>\n",
              "      <td>0</td>\n",
              "      <td>3</td>\n",
              "      <td>6</td>\n",
              "      <td>770</td>\n",
              "      <td>0</td>\n",
              "      <td>1933</td>\n",
              "      <td>0</td>\n",
              "      <td>98028</td>\n",
              "      <td>47.7379</td>\n",
              "      <td>-122.233</td>\n",
              "      <td>2720</td>\n",
              "      <td>8062</td>\n",
              "    </tr>\n",
              "    <tr>\n",
              "      <th>3</th>\n",
              "      <td>2487200875</td>\n",
              "      <td>20141209T000000</td>\n",
              "      <td>604000.0</td>\n",
              "      <td>4</td>\n",
              "      <td>3.00</td>\n",
              "      <td>1960</td>\n",
              "      <td>5000</td>\n",
              "      <td>1.0</td>\n",
              "      <td>0</td>\n",
              "      <td>0</td>\n",
              "      <td>5</td>\n",
              "      <td>7</td>\n",
              "      <td>1050</td>\n",
              "      <td>910</td>\n",
              "      <td>1965</td>\n",
              "      <td>0</td>\n",
              "      <td>98136</td>\n",
              "      <td>47.5208</td>\n",
              "      <td>-122.393</td>\n",
              "      <td>1360</td>\n",
              "      <td>5000</td>\n",
              "    </tr>\n",
              "    <tr>\n",
              "      <th>4</th>\n",
              "      <td>1954400510</td>\n",
              "      <td>20150218T000000</td>\n",
              "      <td>510000.0</td>\n",
              "      <td>3</td>\n",
              "      <td>2.00</td>\n",
              "      <td>1680</td>\n",
              "      <td>8080</td>\n",
              "      <td>1.0</td>\n",
              "      <td>0</td>\n",
              "      <td>0</td>\n",
              "      <td>3</td>\n",
              "      <td>8</td>\n",
              "      <td>1680</td>\n",
              "      <td>0</td>\n",
              "      <td>1987</td>\n",
              "      <td>0</td>\n",
              "      <td>98074</td>\n",
              "      <td>47.6168</td>\n",
              "      <td>-122.045</td>\n",
              "      <td>1800</td>\n",
              "      <td>7503</td>\n",
              "    </tr>\n",
              "  </tbody>\n",
              "</table>\n",
              "</div>"
            ],
            "text/plain": [
              "           id             date     price  ...     long  sqft_living15  sqft_lot15\n",
              "0  7129300520  20141013T000000  221900.0  ... -122.257           1340        5650\n",
              "1  6414100192  20141209T000000  538000.0  ... -122.319           1690        7639\n",
              "2  5631500400  20150225T000000  180000.0  ... -122.233           2720        8062\n",
              "3  2487200875  20141209T000000  604000.0  ... -122.393           1360        5000\n",
              "4  1954400510  20150218T000000  510000.0  ... -122.045           1800        7503\n",
              "\n",
              "[5 rows x 21 columns]"
            ]
          },
          "metadata": {
            "tags": []
          },
          "execution_count": 7
        }
      ]
    },
    {
      "cell_type": "code",
      "metadata": {
        "id": "fN-kUbmswl4U",
        "colab_type": "code",
        "outputId": "395e6814-cdf9-4542-85d4-526f86c12de3",
        "colab": {
          "base_uri": "https://localhost:8080/",
          "height": 215
        }
      },
      "source": [
        "test_data = pd.read_csv(\"kc_house_test_data.csv\")\n",
        "test_data.head()"
      ],
      "execution_count": 8,
      "outputs": [
        {
          "output_type": "execute_result",
          "data": {
            "text/html": [
              "<div>\n",
              "<style scoped>\n",
              "    .dataframe tbody tr th:only-of-type {\n",
              "        vertical-align: middle;\n",
              "    }\n",
              "\n",
              "    .dataframe tbody tr th {\n",
              "        vertical-align: top;\n",
              "    }\n",
              "\n",
              "    .dataframe thead th {\n",
              "        text-align: right;\n",
              "    }\n",
              "</style>\n",
              "<table border=\"1\" class=\"dataframe\">\n",
              "  <thead>\n",
              "    <tr style=\"text-align: right;\">\n",
              "      <th></th>\n",
              "      <th>id</th>\n",
              "      <th>date</th>\n",
              "      <th>price</th>\n",
              "      <th>bedrooms</th>\n",
              "      <th>bathrooms</th>\n",
              "      <th>sqft_living</th>\n",
              "      <th>sqft_lot</th>\n",
              "      <th>floors</th>\n",
              "      <th>waterfront</th>\n",
              "      <th>view</th>\n",
              "      <th>condition</th>\n",
              "      <th>grade</th>\n",
              "      <th>sqft_above</th>\n",
              "      <th>sqft_basement</th>\n",
              "      <th>yr_built</th>\n",
              "      <th>yr_renovated</th>\n",
              "      <th>zipcode</th>\n",
              "      <th>lat</th>\n",
              "      <th>long</th>\n",
              "      <th>sqft_living15</th>\n",
              "      <th>sqft_lot15</th>\n",
              "    </tr>\n",
              "  </thead>\n",
              "  <tbody>\n",
              "    <tr>\n",
              "      <th>0</th>\n",
              "      <td>114101516</td>\n",
              "      <td>20140528T000000</td>\n",
              "      <td>310000.0</td>\n",
              "      <td>3</td>\n",
              "      <td>1.0</td>\n",
              "      <td>1430</td>\n",
              "      <td>19901</td>\n",
              "      <td>1.5</td>\n",
              "      <td>0</td>\n",
              "      <td>0</td>\n",
              "      <td>4</td>\n",
              "      <td>7</td>\n",
              "      <td>1430</td>\n",
              "      <td>0</td>\n",
              "      <td>1927</td>\n",
              "      <td>0</td>\n",
              "      <td>98028</td>\n",
              "      <td>47.7558</td>\n",
              "      <td>-122.229</td>\n",
              "      <td>1780</td>\n",
              "      <td>12697</td>\n",
              "    </tr>\n",
              "    <tr>\n",
              "      <th>1</th>\n",
              "      <td>9297300055</td>\n",
              "      <td>20150124T000000</td>\n",
              "      <td>650000.0</td>\n",
              "      <td>4</td>\n",
              "      <td>3.0</td>\n",
              "      <td>2950</td>\n",
              "      <td>5000</td>\n",
              "      <td>2.0</td>\n",
              "      <td>0</td>\n",
              "      <td>3</td>\n",
              "      <td>3</td>\n",
              "      <td>9</td>\n",
              "      <td>1980</td>\n",
              "      <td>970</td>\n",
              "      <td>1979</td>\n",
              "      <td>0</td>\n",
              "      <td>98126</td>\n",
              "      <td>47.5714</td>\n",
              "      <td>-122.375</td>\n",
              "      <td>2140</td>\n",
              "      <td>4000</td>\n",
              "    </tr>\n",
              "    <tr>\n",
              "      <th>2</th>\n",
              "      <td>1202000200</td>\n",
              "      <td>20141103T000000</td>\n",
              "      <td>233000.0</td>\n",
              "      <td>3</td>\n",
              "      <td>2.0</td>\n",
              "      <td>1710</td>\n",
              "      <td>4697</td>\n",
              "      <td>1.5</td>\n",
              "      <td>0</td>\n",
              "      <td>0</td>\n",
              "      <td>5</td>\n",
              "      <td>6</td>\n",
              "      <td>1710</td>\n",
              "      <td>0</td>\n",
              "      <td>1941</td>\n",
              "      <td>0</td>\n",
              "      <td>98002</td>\n",
              "      <td>47.3048</td>\n",
              "      <td>-122.218</td>\n",
              "      <td>1030</td>\n",
              "      <td>4705</td>\n",
              "    </tr>\n",
              "    <tr>\n",
              "      <th>3</th>\n",
              "      <td>8562750320</td>\n",
              "      <td>20141110T000000</td>\n",
              "      <td>580500.0</td>\n",
              "      <td>3</td>\n",
              "      <td>2.5</td>\n",
              "      <td>2320</td>\n",
              "      <td>3980</td>\n",
              "      <td>2.0</td>\n",
              "      <td>0</td>\n",
              "      <td>0</td>\n",
              "      <td>3</td>\n",
              "      <td>8</td>\n",
              "      <td>2320</td>\n",
              "      <td>0</td>\n",
              "      <td>2003</td>\n",
              "      <td>0</td>\n",
              "      <td>98027</td>\n",
              "      <td>47.5391</td>\n",
              "      <td>-122.070</td>\n",
              "      <td>2580</td>\n",
              "      <td>3980</td>\n",
              "    </tr>\n",
              "    <tr>\n",
              "      <th>4</th>\n",
              "      <td>7589200193</td>\n",
              "      <td>20141110T000000</td>\n",
              "      <td>535000.0</td>\n",
              "      <td>3</td>\n",
              "      <td>1.0</td>\n",
              "      <td>1090</td>\n",
              "      <td>3000</td>\n",
              "      <td>1.5</td>\n",
              "      <td>0</td>\n",
              "      <td>0</td>\n",
              "      <td>4</td>\n",
              "      <td>8</td>\n",
              "      <td>1090</td>\n",
              "      <td>0</td>\n",
              "      <td>1929</td>\n",
              "      <td>0</td>\n",
              "      <td>98117</td>\n",
              "      <td>47.6889</td>\n",
              "      <td>-122.375</td>\n",
              "      <td>1570</td>\n",
              "      <td>5080</td>\n",
              "    </tr>\n",
              "  </tbody>\n",
              "</table>\n",
              "</div>"
            ],
            "text/plain": [
              "           id             date     price  ...     long  sqft_living15  sqft_lot15\n",
              "0   114101516  20140528T000000  310000.0  ... -122.229           1780       12697\n",
              "1  9297300055  20150124T000000  650000.0  ... -122.375           2140        4000\n",
              "2  1202000200  20141103T000000  233000.0  ... -122.218           1030        4705\n",
              "3  8562750320  20141110T000000  580500.0  ... -122.070           2580        3980\n",
              "4  7589200193  20141110T000000  535000.0  ... -122.375           1570        5080\n",
              "\n",
              "[5 rows x 21 columns]"
            ]
          },
          "metadata": {
            "tags": []
          },
          "execution_count": 8
        }
      ]
    },
    {
      "cell_type": "markdown",
      "metadata": {
        "id": "vsNbkuJGxUb-",
        "colab_type": "text"
      },
      "source": [
        "## Simple Regression Model (Closed form solution)"
      ]
    },
    {
      "cell_type": "markdown",
      "metadata": {
        "id": "U89-QgCCyQky",
        "colab_type": "text"
      },
      "source": [
        "$ numerator = (\\Sigma (X*Y)) - (1/N)*((\\Sigma X) * (\\Sigma Y)) $\n",
        "\n",
        "$ denominator = (\\Sigma X^2) - (1/N)*((\\Sigma X) * (\\Sigma X)) $\n",
        "\n",
        "OR\n",
        "\n",
        "$ numerator = (mean \\ of X * Y) - (mean \\ of X)*(mean \\ of Y) $\n",
        "\n",
        "$ denominator = (mean \\ of X^2) - (mean \\ of X)*(mean \\ of X) $"
      ]
    },
    {
      "cell_type": "markdown",
      "metadata": {
        "id": "22KKM79X03Li",
        "colab_type": "text"
      },
      "source": [
        "$ slope = numerator/denominator $\n",
        "\n",
        "$ intercept = (mean \\ of Y) - slope * (mean \\ of X) $"
      ]
    },
    {
      "cell_type": "code",
      "metadata": {
        "id": "B2a81S9VyuLk",
        "colab_type": "code",
        "colab": {}
      },
      "source": [
        "def simple_linear_regression(input_feature, output):\n",
        "    X = input_feature\n",
        "    Y = output\n",
        "    N = len(X)\n",
        "    \n",
        "    numerator = ((X*Y).sum()) - (1/N)*((X.sum()) * (Y.sum()))\n",
        "    denominator = ((X**2).sum()) - (1/N)*((X.sum()) * (X.sum()))\n",
        "\n",
        "    slope = numerator/denominator\n",
        "    intercept = (Y.mean()) - slope * (X.mean())\n",
        "\n",
        "    return (intercept, slope)"
      ],
      "execution_count": 0,
      "outputs": []
    },
    {
      "cell_type": "markdown",
      "metadata": {
        "id": "jFUG304_1lSg",
        "colab_type": "text"
      },
      "source": [
        "Testing the model"
      ]
    },
    {
      "cell_type": "code",
      "metadata": {
        "id": "j-qdUc7Y0B6g",
        "colab_type": "code",
        "outputId": "0a3405b5-981a-466e-b5e7-242a99aee869",
        "colab": {
          "base_uri": "https://localhost:8080/",
          "height": 50
        }
      },
      "source": [
        "test_feature = np.array(range(5))\n",
        "test_output  = np.array(1 + 1*test_feature)\n",
        "\n",
        "(test_intercept, test_slope) =  simple_linear_regression(test_feature, test_output)\n",
        "print(f\"Intercept: {test_intercept}\")\n",
        "print(f\"    Slope: {test_slope}\")"
      ],
      "execution_count": 10,
      "outputs": [
        {
          "output_type": "stream",
          "text": [
            "Intercept: 1.0\n",
            "    Slope: 1.0\n"
          ],
          "name": "stdout"
        }
      ]
    },
    {
      "cell_type": "code",
      "metadata": {
        "id": "YuOC6F9LAeID",
        "colab_type": "code",
        "outputId": "beb3022d-eb53-400c-d338-f5838a435233",
        "colab": {
          "base_uri": "https://localhost:8080/",
          "height": 377
        }
      },
      "source": [
        "x = np.linspace(0,5,100)\n",
        "plt.figure(figsize=(10,6))\n",
        "plt.plot(test_feature, test_output, 'bo',\n",
        "         x, test_slope*x + test_intercept,'r-');"
      ],
      "execution_count": 11,
      "outputs": [
        {
          "output_type": "display_data",
          "data": {
            "image/png": "[encoded data removed]",
            "text/plain": [
              "<Figure size 720x432 with 1 Axes>"
            ]
          },
          "metadata": {
            "tags": []
          }
        }
      ]
    },
    {
      "cell_type": "markdown",
      "metadata": {
        "id": "RNm1oWeB2jom",
        "colab_type": "text"
      },
      "source": [
        "#### Fitting the simple regression with **sqrt_living** and **price**"
      ]
    },
    {
      "cell_type": "code",
      "metadata": {
        "id": "5gdejBeXxWqS",
        "colab_type": "code",
        "outputId": "c3bab3ed-b2c6-42e8-9c33-dea87a229e91",
        "colab": {
          "base_uri": "https://localhost:8080/",
          "height": 50
        }
      },
      "source": [
        "input_feature = train_data['sqft_living']\n",
        "output = train_data['price']\n",
        "\n",
        "sqft_intercept, sqft_slope = simple_linear_regression(input_feature, output)\n",
        "print(f\"Intercept: {sqft_intercept}\")\n",
        "print(f\"    Slope: {sqft_slope}\")"
      ],
      "execution_count": 12,
      "outputs": [
        {
          "output_type": "stream",
          "text": [
            "Intercept: -47116.07907289418\n",
            "    Slope: 281.9588396303426\n"
          ],
          "name": "stdout"
        }
      ]
    },
    {
      "cell_type": "code",
      "metadata": {
        "id": "zrzLNYT7CEiP",
        "colab_type": "code",
        "outputId": "8cbe601e-e3ba-407c-aac5-80dfeb9975dc",
        "colab": {
          "base_uri": "https://localhost:8080/",
          "height": 388
        }
      },
      "source": [
        "x = np.linspace(0,14000,100)\n",
        "plt.figure(figsize=(10,6))\n",
        "plt.plot(input_feature, output, '.',\n",
        "         x, sqft_slope*x + sqft_intercept,'-');"
      ],
      "execution_count": 13,
      "outputs": [
        {
          "output_type": "display_data",
          "data": {
            "image/png": "[encoded data removed]",
            "text/plain": [
              "<Figure size 720x432 with 1 Axes>"
            ]
          },
          "metadata": {
            "tags": []
          }
        }
      ]
    },
    {
      "cell_type": "markdown",
      "metadata": {
        "id": "5uCfmH6w-Idj",
        "colab_type": "text"
      },
      "source": [
        "#### Predicting Values"
      ]
    },
    {
      "cell_type": "markdown",
      "metadata": {
        "id": "6U02XAJQ-PM8",
        "colab_type": "text"
      },
      "source": [
        "$$ \\hat{y} = intercept + slope * x $$"
      ]
    },
    {
      "cell_type": "code",
      "metadata": {
        "id": "jT9-orJZ16FT",
        "colab_type": "code",
        "colab": {}
      },
      "source": [
        "def get_simple_regression_predictions(input_feature, intercept, slope):\n",
        "    predicted_values = intercept + (slope * input_feature)\n",
        "    return predicted_values"
      ],
      "execution_count": 0,
      "outputs": []
    },
    {
      "cell_type": "markdown",
      "metadata": {
        "id": "WqEScp3wEmb4",
        "colab_type": "text"
      },
      "source": [
        "For a single house"
      ]
    },
    {
      "cell_type": "code",
      "metadata": {
        "id": "_cDjuGl82t7z",
        "colab_type": "code",
        "outputId": "ef6ce549-c91d-45af-8cd3-d2c7f662a28c",
        "colab": {
          "base_uri": "https://localhost:8080/",
          "height": 34
        }
      },
      "source": [
        "my_house_sqft = 2650\n",
        "estimated_price = get_simple_regression_predictions(my_house_sqft, sqft_intercept, sqft_slope)\n",
        "print(f\"The estimated price for a house with {my_house_sqft} squarefeet is {estimated_price}\")"
      ],
      "execution_count": 15,
      "outputs": [
        {
          "output_type": "stream",
          "text": [
            "The estimated price for a house with 2650 squarefeet is 700074.8459475137\n"
          ],
          "name": "stdout"
        }
      ]
    },
    {
      "cell_type": "markdown",
      "metadata": {
        "id": "6DDswyOSEoTM",
        "colab_type": "text"
      },
      "source": [
        "For all houses"
      ]
    },
    {
      "cell_type": "code",
      "metadata": {
        "id": "D9tt1octCzKh",
        "colab_type": "code",
        "outputId": "a2a87a0a-e4f1-4e12-82d9-e9a78e632d33",
        "colab": {
          "base_uri": "https://localhost:8080/",
          "height": 218
        }
      },
      "source": [
        "input_feature = test_data['sqft_living']\n",
        "output = test_data['price']\n",
        "\n",
        "predicted_price = get_simple_regression_predictions(input_feature, sqft_intercept, sqft_slope)\n",
        "print(predicted_price)"
      ],
      "execution_count": 16,
      "outputs": [
        {
          "output_type": "stream",
          "text": [
            "0       3.560851e+05\n",
            "1       7.846625e+05\n",
            "2       4.350335e+05\n",
            "3       6.070284e+05\n",
            "4       2.602191e+05\n",
            "            ...     \n",
            "4224    1.128652e+06\n",
            "4225    6.577810e+05\n",
            "4226    6.634202e+05\n",
            "4227    6.042088e+05\n",
            "4228    2.404819e+05\n",
            "Name: sqft_living, Length: 4229, dtype: float64\n"
          ],
          "name": "stdout"
        }
      ]
    },
    {
      "cell_type": "code",
      "metadata": {
        "id": "IU2SJ9QLzQCu",
        "colab_type": "code",
        "outputId": "a6c86e7e-1f78-40d4-c57b-3a3829154203",
        "colab": {
          "base_uri": "https://localhost:8080/",
          "height": 388
        }
      },
      "source": [
        "plt.figure(figsize=(10,6))\n",
        "plt.plot(input_feature, output, '.',\n",
        "         input_feature, predicted_price,'-');"
      ],
      "execution_count": 17,
      "outputs": [
        {
          "output_type": "display_data",
          "data": {
            "image/png": "[encoded data removed]",
            "text/plain": [
              "<Figure size 720x432 with 1 Axes>"
            ]
          },
          "metadata": {
            "tags": []
          }
        }
      ]
    },
    {
      "cell_type": "code",
      "metadata": {
        "id": "Oj9nopNJiR1j",
        "colab_type": "code",
        "outputId": "db7ee6fe-e80a-490c-dade-5b88fa3d5120",
        "colab": {
          "base_uri": "https://localhost:8080/",
          "height": 405
        }
      },
      "source": [
        "plt.figure(figsize=(10,6))\n",
        "sns.distplot(output, hist=False, color=\"r\", label=\"Actual Value\")\n",
        "sns.distplot(predicted_price, hist=False, color=\"b\", label=\"Fitted Values\");"
      ],
      "execution_count": 18,
      "outputs": [
        {
          "output_type": "display_data",
          "data": {
            "image/png": "[encoded data removed]",
            "text/plain": [
              "<Figure size 720x432 with 1 Axes>"
            ]
          },
          "metadata": {
            "tags": []
          }
        }
      ]
    },
    {
      "cell_type": "markdown",
      "metadata": {
        "id": "u3hhPmZt38vy",
        "colab_type": "text"
      },
      "source": [
        " #### Residual Sum of Squares (RSS)"
      ]
    },
    {
      "cell_type": "markdown",
      "metadata": {
        "id": "g7_j1gmBT-fV",
        "colab_type": "text"
      },
      "source": [
        "The sum of all the differences between predicted values and actual values and then square the sum."
      ]
    },
    {
      "cell_type": "markdown",
      "metadata": {
        "id": "dCaKU_UQ-Yu-",
        "colab_type": "text"
      },
      "source": [
        " $$ RSS = \\Sigma (y - \\hat{y})^2 $$"
      ]
    },
    {
      "cell_type": "code",
      "metadata": {
        "id": "ysjlZ4Nx20rL",
        "colab_type": "code",
        "colab": {}
      },
      "source": [
        "def get_residual_sum_of_squares(input_feature, output, intercept,slope):       \n",
        "    predicted_values = get_simple_regression_predictions(input_feature, intercept, slope)   \n",
        "    residuals = output - predicted_values\n",
        "    RSS = (residuals**2).sum()\n",
        "    return RSS"
      ],
      "execution_count": 0,
      "outputs": []
    },
    {
      "cell_type": "code",
      "metadata": {
        "id": "02Mskyiv30Iw",
        "colab_type": "code",
        "outputId": "0fdc892f-881b-423c-fc95-9199fc773aca",
        "colab": {
          "base_uri": "https://localhost:8080/",
          "height": 34
        }
      },
      "source": [
        "input_feature = train_data['sqft_living']\n",
        "output = train_data['price']\n",
        "\n",
        "rss_prices_on_sqft = get_residual_sum_of_squares(input_feature, output, sqft_intercept, sqft_slope)\n",
        "print(f'The RSS of predicting Prices based on Square Feet is : {rss_prices_on_sqft}')"
      ],
      "execution_count": 20,
      "outputs": [
        {
          "output_type": "stream",
          "text": [
            "The RSS of predicting Prices based on Square Feet is : 1201918354177283.0\n"
          ],
          "name": "stdout"
        }
      ]
    },
    {
      "cell_type": "markdown",
      "metadata": {
        "id": "etG2pNlu5MFR",
        "colab_type": "text"
      },
      "source": [
        "### Inverse Predictions"
      ]
    },
    {
      "cell_type": "markdown",
      "metadata": {
        "id": "xU5KONVFUMIV",
        "colab_type": "text"
      },
      "source": [
        "We know, \n",
        "$ \\hat{y} = intercept + slope * x $\n",
        "\n",
        "Therefore, \n",
        "$ x = (\\hat{y} - intercept)/slope $"
      ]
    },
    {
      "cell_type": "code",
      "metadata": {
        "id": "i3GCPYvK411e",
        "colab_type": "code",
        "colab": {}
      },
      "source": [
        "def inverse_regression_predictions(output, intercept, slope):\n",
        "    estimated_feature = (output - intercept)/slope\n",
        "    return estimated_feature"
      ],
      "execution_count": 0,
      "outputs": []
    },
    {
      "cell_type": "code",
      "metadata": {
        "id": "JWWH09FC5OlC",
        "colab_type": "code",
        "outputId": "bbbe46e4-8715-455f-b6df-f73df5261fb1",
        "colab": {
          "base_uri": "https://localhost:8080/",
          "height": 34
        }
      },
      "source": [
        "my_house_price = 800000\n",
        "estimated_squarefeet = inverse_regression_predictions(my_house_price, sqft_intercept, sqft_slope)\n",
        "print(f\"The estimated squarefeet for a house worth {my_house_price} is {estimated_squarefeet}\")"
      ],
      "execution_count": 22,
      "outputs": [
        {
          "output_type": "stream",
          "text": [
            "The estimated squarefeet for a house worth 800000 is 3004.3962451522766\n"
          ],
          "name": "stdout"
        }
      ]
    },
    {
      "cell_type": "markdown",
      "metadata": {
        "id": "V7YVN3ix6zSh",
        "colab_type": "text"
      },
      "source": [
        "## Multiple Regression Model (gradient decent)"
      ]
    },
    {
      "cell_type": "markdown",
      "metadata": {
        "id": "YYHPPTwmvwbh",
        "colab_type": "text"
      },
      "source": [
        "Matrix Calculations."
      ]
    },
    {
      "cell_type": "code",
      "metadata": {
        "id": "0G6QdvKe5bUa",
        "colab_type": "code",
        "colab": {}
      },
      "source": [
        "def get_numpy_data(data, features, output):\n",
        "    data['constant'] = 1\n",
        "    features = ['constant'] + features\n",
        " \n",
        "    features_df = data[features]     \n",
        "    feature_matrix = features_df.to_numpy() #Convert into a numpy matrix\n",
        "    \n",
        "    output_array = data[output]\n",
        "    output_array = output_array.to_numpy() #Convert into a numpy array\n",
        "\n",
        "    return (feature_matrix, output_array)"
      ],
      "execution_count": 0,
      "outputs": []
    },
    {
      "cell_type": "markdown",
      "metadata": {
        "id": "dt6TS8AYU2za",
        "colab_type": "text"
      },
      "source": [
        "$$ \\hat{y}_i = \\sum \\mathbf{w}_jh_j(\\mathbf{x}_i) + \\epsilon_i $$"
      ]
    },
    {
      "cell_type": "markdown",
      "metadata": {
        "id": "1958ioRTVjTo",
        "colab_type": "text"
      },
      "source": [
        "$ \\epsilon_i $, the error term is ignored, as it is equally likely to be +ve or -ve."
      ]
    },
    {
      "cell_type": "markdown",
      "metadata": {
        "id": "y1nNl2XYFKf3",
        "colab_type": "text"
      },
      "source": [
        "**Martix Notations:**"
      ]
    },
    {
      "cell_type": "markdown",
      "metadata": {
        "id": "gx4Kq5Y_6hqN",
        "colab_type": "text"
      },
      "source": [
        "$$ \\mathbf{y} = \\mathbf{H}\\mathbf{w} + \\epsilon $$"
      ]
    },
    {
      "cell_type": "code",
      "metadata": {
        "id": "6P058OtI637w",
        "colab_type": "code",
        "colab": {}
      },
      "source": [
        "def predict_output(feature_matrix, weights):\n",
        "    predictions = np.dot(feature_matrix, weights)\n",
        "    return predictions "
      ],
      "execution_count": 0,
      "outputs": []
    },
    {
      "cell_type": "markdown",
      "metadata": {
        "id": "JkFkYyc37AcS",
        "colab_type": "text"
      },
      "source": [
        "RSS = $ (\\mathbf{y} - \\mathbf{H}\\mathbf{w})^T(\\mathbf{y} - \\mathbf{H}\\mathbf{w}) $"
      ]
    },
    {
      "cell_type": "markdown",
      "metadata": {
        "id": "UhoeqogZ8i3M",
        "colab_type": "text"
      },
      "source": [
        "Closed form solution: $ (\\mathbf{H}^T \\mathbf{H} )^{-1}\\mathbf{H}^T\\mathbf{y} $"
      ]
    },
    {
      "cell_type": "markdown",
      "metadata": {
        "id": "gybE10-o9PLj",
        "colab_type": "text"
      },
      "source": [
        "### Gradient Descent"
      ]
    },
    {
      "cell_type": "markdown",
      "metadata": {
        "id": "grIqfErb48cp",
        "colab_type": "text"
      },
      "source": [
        "$ w^{(t+1)} = w^{(t)} -\n",
        " \\eta \\nabla RSS(\\mathbf{w}^{(t)}) $"
      ]
    },
    {
      "cell_type": "markdown",
      "metadata": {
        "id": "nmBMVB-I75S0",
        "colab_type": "text"
      },
      "source": [
        "where, $ \\nabla RSS(\\mathbf{w}) = -2\\mathbf{H}^T(\\mathbf{y} - \\mathbf{H}\\mathbf{w}) = - 2 * Errors * Features $ "
      ]
    },
    {
      "cell_type": "markdown",
      "metadata": {
        "id": "b7LMU0GT9SjP",
        "colab_type": "text"
      },
      "source": [
        "Therefore, $ w^{(t+1)} = w^{(t)} +2\n",
        " \\eta \\mathbf{H}^T(\\mathbf{y} - \\mathbf{H}\\mathbf{w}) $"
      ]
    },
    {
      "cell_type": "code",
      "metadata": {
        "id": "m7xxGjOF8vUw",
        "colab_type": "code",
        "colab": {}
      },
      "source": [
        "def regression_gradient_descent(feature_matrix, output, initial_weights, step_size, tolerance):\n",
        "    converged = False \n",
        "    weights = np.array(initial_weights) \n",
        "\n",
        "    while not converged:\n",
        "        predictions = predict_output(feature_matrix, weights)\n",
        "        errors = predictions - output\n",
        "        gradient_sum_squares = 0 \n",
        "\n",
        "        for i in range(len(weights)): \n",
        "            derivative = 2*np.dot(errors, feature_matrix[:, i])\n",
        "            gradient_sum_squares += (derivative**2)\n",
        "            weights[i] -= (step_size * derivative)\n",
        "        \n",
        "        gradient_magnitude = np.sqrt(gradient_sum_squares)\n",
        "\n",
        "        if gradient_magnitude < tolerance:\n",
        "            converged = True\n",
        "\n",
        "    return weights"
      ],
      "execution_count": 0,
      "outputs": []
    },
    {
      "cell_type": "markdown",
      "metadata": {
        "id": "4KO7reHSzr_k",
        "colab_type": "text"
      },
      "source": [
        "Testing with simple regression"
      ]
    },
    {
      "cell_type": "code",
      "metadata": {
        "id": "CgzU0j429k_Z",
        "colab_type": "code",
        "outputId": "f54570a0-4ed3-45a1-b2ab-f972bedec974",
        "colab": {
          "base_uri": "https://localhost:8080/",
          "height": 34
        }
      },
      "source": [
        "simple_features = ['sqft_living']\n",
        "my_output = 'price'\n",
        "(simple_feature_matrix, output) = get_numpy_data(train_data, simple_features, my_output)\n",
        "initial_weights = np.array([-47000., 1.])\n",
        "step_size = 7e-12\n",
        "tolerance = 2.5e7\n",
        "test_weight = regression_gradient_descent(simple_feature_matrix, output, initial_weights, step_size, tolerance)\n",
        "print(test_weight)"
      ],
      "execution_count": 26,
      "outputs": [
        {
          "output_type": "stream",
          "text": [
            "[-46999.88716555    281.91211918]\n"
          ],
          "name": "stdout"
        }
      ]
    },
    {
      "cell_type": "code",
      "metadata": {
        "id": "No5lVs1o_Olw",
        "colab_type": "code",
        "outputId": "5de6ebb8-d6be-4b4f-9978-893da137a8df",
        "colab": {
          "base_uri": "https://localhost:8080/",
          "height": 50
        }
      },
      "source": [
        "(test_simple_feature_matrix, test_output) = get_numpy_data(test_data, simple_features, my_output)\n",
        "test_predictions = predict_output(test_simple_feature_matrix, test_weight)\n",
        "print(test_predictions)"
      ],
      "execution_count": 27,
      "outputs": [
        {
          "output_type": "stream",
          "text": [
            "[356134.443255   784640.86440132 435069.83662406 ... 663418.65315598\n",
            " 604217.10812919 240550.47439317]\n"
          ],
          "name": "stdout"
        }
      ]
    },
    {
      "cell_type": "code",
      "metadata": {
        "id": "y23XeA8AzmVG",
        "colab_type": "code",
        "outputId": "37cf4565-0e20-4dc1-cc7c-f97a0605e2a5",
        "colab": {
          "base_uri": "https://localhost:8080/",
          "height": 388
        }
      },
      "source": [
        "plt.figure(figsize=(10,6))\n",
        "plt.plot(test_simple_feature_matrix, test_output, 'b.',\n",
        "         test_simple_feature_matrix, test_predictions,'-');"
      ],
      "execution_count": 28,
      "outputs": [
        {
          "output_type": "display_data",
          "data": {
            "image/png": "[encoded data removed]",
            "text/plain": [
              "<Figure size 720x432 with 1 Axes>"
            ]
          },
          "metadata": {
            "tags": []
          }
        }
      ]
    },
    {
      "cell_type": "markdown",
      "metadata": {
        "id": "zYCmntF2_VE5",
        "colab_type": "text"
      },
      "source": [
        "### Multiple Regression"
      ]
    },
    {
      "cell_type": "code",
      "metadata": {
        "id": "yrJbHZ0v93oM",
        "colab_type": "code",
        "colab": {}
      },
      "source": [
        "model_features = ['sqft_living', 'sqft_living15'] # sqft_living15 is the average squarefeet for the nearest 15 neighbors. \n",
        "my_output = 'price'\n",
        "(feature_matrix, output) = get_numpy_data(train_data, model_features, my_output)\n",
        "\n",
        "initial_weights = np.array([-100000., 1., 1.])\n",
        "step_size = 4e-12\n",
        "tolerance = 1e9"
      ],
      "execution_count": 0,
      "outputs": []
    },
    {
      "cell_type": "code",
      "metadata": {
        "id": "OwUFnvVJ_nZi",
        "colab_type": "code",
        "outputId": "7bcb9662-a2e5-46e5-f7e8-db36ea9c06e6",
        "colab": {
          "base_uri": "https://localhost:8080/",
          "height": 34
        }
      },
      "source": [
        "weight_2 = regression_gradient_descent(feature_matrix, output, initial_weights, step_size, tolerance)\n",
        "print(weight_2)"
      ],
      "execution_count": 30,
      "outputs": [
        {
          "output_type": "stream",
          "text": [
            "[-9.99999688e+04  2.45072603e+02  6.52795267e+01]\n"
          ],
          "name": "stdout"
        }
      ]
    },
    {
      "cell_type": "code",
      "metadata": {
        "id": "XRGXB23G_cXv",
        "colab_type": "code",
        "outputId": "62a9b8e2-c039-4c39-c75f-5713bd252849",
        "colab": {
          "base_uri": "https://localhost:8080/",
          "height": 50
        }
      },
      "source": [
        "(test_feature_matrix, test_output) = get_numpy_data(test_data, model_features, my_output)\n",
        "\n",
        "test_predictions_2 = predict_output(test_feature_matrix, weight_2)\n",
        "print(test_predictions_2)"
      ],
      "execution_count": 31,
      "outputs": [
        {
          "output_type": "stream",
          "text": [
            "[366651.41162949 762662.39850726 386312.09557541 ... 682087.39916306\n",
            " 585579.27901327 216559.20391786]\n"
          ],
          "name": "stdout"
        }
      ]
    },
    {
      "cell_type": "code",
      "metadata": {
        "id": "f0edoUgq1lgk",
        "colab_type": "code",
        "outputId": "e58d9ae6-41b0-4f4e-d0c0-3e1c5947f995",
        "colab": {
          "base_uri": "https://localhost:8080/",
          "height": 401
        }
      },
      "source": [
        "plt.figure(figsize=(10,6))\n",
        "sns.distplot(test_output, hist=False, color=\"r\", label=\"Actual Value\")\n",
        "sns.distplot(test_predictions_2, hist=False, color=\"b\", label=\"Fitted Values\");"
      ],
      "execution_count": 32,
      "outputs": [
        {
          "output_type": "display_data",
          "data": {
            "image/png": "[encoded data removed]",
            "text/plain": [
              "<Figure size 720x432 with 1 Axes>"
            ]
          },
          "metadata": {
            "tags": []
          }
        }
      ]
    },
    {
      "cell_type": "code",
      "metadata": {
        "colab_type": "code",
        "outputId": "bd0b1a0c-6428-4a5d-90e9-3a52cdd55595",
        "id": "BbEAIcVj2phf",
        "colab": {
          "base_uri": "https://localhost:8080/",
          "height": 401
        }
      },
      "source": [
        "# Expected normal dist with peak at 0\n",
        "plt.figure(figsize=(10,6))\n",
        "residuals = test_output - test_predictions_2\n",
        "sns.distplot(residuals);"
      ],
      "execution_count": 33,
      "outputs": [
        {
          "output_type": "display_data",
          "data": {
            "image/png": "[encoded data removed]",
            "text/plain": [
              "<Figure size 720x432 with 1 Axes>"
            ]
          },
          "metadata": {
            "tags": []
          }
        }
      ]
    },
    {
      "cell_type": "code",
      "metadata": {
        "id": "xKLwxeIPx95S",
        "colab_type": "code",
        "colab": {}
      },
      "source": [
        "def get_residual_sum_of_squares_from_output_predicted(output, predicted_values):          \n",
        "    residuals = output - predicted_values\n",
        "    RSS = (residuals**2).sum()\n",
        "    return RSS"
      ],
      "execution_count": 0,
      "outputs": []
    },
    {
      "cell_type": "code",
      "metadata": {
        "id": "8zsgq5wp_jbU",
        "colab_type": "code",
        "outputId": "58b120a2-8267-4f3f-9a80-8a07eaaf7087",
        "colab": {
          "base_uri": "https://localhost:8080/",
          "height": 34
        }
      },
      "source": [
        "print(f\"RSS:\", get_residual_sum_of_squares_from_output_predicted(test_output, test_predictions_2))"
      ],
      "execution_count": 35,
      "outputs": [
        {
          "output_type": "stream",
          "text": [
            "RSS: 270263443629803.56\n"
          ],
          "name": "stdout"
        }
      ]
    },
    {
      "cell_type": "markdown",
      "metadata": {
        "id": "AZLXXn3hXuM4",
        "colab_type": "text"
      },
      "source": [
        "## Ridge Regression"
      ]
    },
    {
      "cell_type": "markdown",
      "metadata": {
        "id": "wbkq3Jkv_3L4",
        "colab_type": "text"
      },
      "source": [
        "**L2 Penalty** "
      ]
    },
    {
      "cell_type": "markdown",
      "metadata": {
        "id": "5CsUT68n_D-P",
        "colab_type": "text"
      },
      "source": [
        "$ Total \\ cost = RSS(\\mathbf{w}) + \\color{red}{{ \\lambda ||\\mathbf{w}||_2^2}} $\n",
        "$ =  (\\mathbf{y} - \\mathbf{H}\\mathbf{w})^T(\\mathbf{y} - \\mathbf{H}\\mathbf{w}) + \\color{red}{{ \\lambda \\mathbf{w}^T\\mathbf{w}}} $"
      ]
    },
    {
      "cell_type": "code",
      "metadata": {
        "id": "bvGZdvEJWSrY",
        "colab_type": "code",
        "colab": {}
      },
      "source": [
        "def feature_derivative_ridge(errors, feature, weight, l2_penalty, feature_is_constant):\n",
        "    # If feature_is_constant is True, derivative is twice the dot product of errors and feature\n",
        "    if feature_is_constant == True:\n",
        "        derivative = 2 * np.dot(errors, feature)\n",
        "    # Otherwise, derivative is twice the dot product plus 2*l2_penalty*weight\n",
        "    else:\n",
        "        derivative = 2 * np.dot(errors, feature) + 2*(l2_penalty*weight)\n",
        "    return derivative"
      ],
      "execution_count": 0,
      "outputs": []
    },
    {
      "cell_type": "code",
      "metadata": {
        "id": "-Kk8MxYSX5jz",
        "colab_type": "code",
        "colab": {}
      },
      "source": [
        "def ridge_regression_gradient_descent(feature_matrix, output, initial_weights, step_size, l2_penalty, max_iterations=100):\n",
        "    weights = np.array(initial_weights)     \n",
        "    \n",
        "    while max_iterations > 0:       \n",
        "        predictions = predict_output(feature_matrix, weights)\n",
        "        errors = predictions - output\n",
        "        for i in range(len(weights)): \n",
        "          \n",
        "            if i == 0:\n",
        "                feature_is_constant = True\n",
        "            else:\n",
        "                feature_is_constant = False\n",
        "            derivative = feature_derivative_ridge(errors, feature_matrix[:,i], weights[i], l2_penalty, feature_is_constant)\n",
        "           \n",
        "            weights[i] = weights[i] - (step_size * derivative)\n",
        "        max_iterations -= 1            \n",
        "    return weights"
      ],
      "execution_count": 0,
      "outputs": []
    },
    {
      "cell_type": "markdown",
      "metadata": {
        "id": "8RSVWJDIv_4b",
        "colab_type": "text"
      },
      "source": [
        "#### Fitting Ridge Regression"
      ]
    },
    {
      "cell_type": "code",
      "metadata": {
        "id": "BtUDmcfVYILQ",
        "colab_type": "code",
        "colab": {}
      },
      "source": [
        "simple_features = ['sqft_living']\n",
        "my_output = 'price'\n",
        "(simple_feature_matrix, output) = get_numpy_data(train_data, simple_features, my_output)\n",
        "(simple_test_feature_matrix, test_output) = get_numpy_data(test_data, simple_features, my_output)"
      ],
      "execution_count": 0,
      "outputs": []
    },
    {
      "cell_type": "code",
      "metadata": {
        "id": "PGPqxwk5YSRP",
        "colab_type": "code",
        "colab": {}
      },
      "source": [
        "initial_weights = np.array([0., 0.])\n",
        "step_size = 1e-12\n",
        "max_iterations = 1000"
      ],
      "execution_count": 0,
      "outputs": []
    },
    {
      "cell_type": "code",
      "metadata": {
        "id": "21pyPrALwOID",
        "colab_type": "code",
        "outputId": "beb8e457-b555-4838-91c6-e4c8aec95978",
        "colab": {
          "base_uri": "https://localhost:8080/",
          "height": 34
        }
      },
      "source": [
        "simple_weights_0_penalty = ridge_regression_gradient_descent(simple_feature_matrix, output, \n",
        "                                                             initial_weights, step_size, \n",
        "                                                             0.0, max_iterations)\n",
        "print(simple_weights_0_penalty)"
      ],
      "execution_count": 40,
      "outputs": [
        {
          "output_type": "stream",
          "text": [
            "[-1.63113515e-01  2.63024369e+02]\n"
          ],
          "name": "stdout"
        }
      ]
    },
    {
      "cell_type": "code",
      "metadata": {
        "id": "vSqx8lBxYY8s",
        "colab_type": "code",
        "outputId": "a6302d9c-9eec-48c9-c80a-8dd293600ac2",
        "colab": {
          "base_uri": "https://localhost:8080/",
          "height": 34
        }
      },
      "source": [
        "simple_weights_high_penalty = ridge_regression_gradient_descent(simple_feature_matrix, output, \n",
        "                                                             initial_weights, step_size, \n",
        "                                                             1e11, max_iterations)\n",
        "print(simple_weights_high_penalty)"
      ],
      "execution_count": 41,
      "outputs": [
        {
          "output_type": "stream",
          "text": [
            "[  9.76730382 124.57217567]\n"
          ],
          "name": "stdout"
        }
      ]
    },
    {
      "cell_type": "code",
      "metadata": {
        "id": "EIepXMNDYkej",
        "colab_type": "code",
        "outputId": "50fa94af-3a9b-4858-f496-3d7d9ced092c",
        "colab": {
          "base_uri": "https://localhost:8080/",
          "height": 388
        }
      },
      "source": [
        "plt.figure(figsize=(10,6))\n",
        "plt.plot(simple_feature_matrix,output,'k.',\n",
        "         simple_feature_matrix,predict_output(simple_feature_matrix, simple_weights_0_penalty),'b-',\n",
        "         simple_feature_matrix,predict_output(simple_feature_matrix, simple_weights_high_penalty),'r-');"
      ],
      "execution_count": 42,
      "outputs": [
        {
          "output_type": "display_data",
          "data": {
            "image/png": "[encoded data removed]",
            "text/plain": [
              "<Figure size 720x432 with 1 Axes>"
            ]
          },
          "metadata": {
            "tags": []
          }
        }
      ]
    },
    {
      "cell_type": "markdown",
      "metadata": {
        "id": "aHCDj_rJUzvX",
        "colab_type": "text"
      },
      "source": [
        "## Normalization"
      ]
    },
    {
      "cell_type": "markdown",
      "metadata": {
        "id": "5edWuiXQBn5X",
        "colab_type": "text"
      },
      "source": [
        "$$ h_j(\\mathbf{x}_k) = \\frac{h_j(\\mathbf{x}_k)} {\\sqrt{\\sum h_j(\\mathbf{x}_i)^2}} $$"
      ]
    },
    {
      "cell_type": "code",
      "metadata": {
        "id": "LzSsHMwiYm3X",
        "colab_type": "code",
        "colab": {}
      },
      "source": [
        "def normalize_features(feature_matrix):\n",
        "    norms = np.linalg.norm(feature_matrix, axis=0)\n",
        "    normalized_features = feature_matrix/norms\n",
        "    return (normalized_features, norms)"
      ],
      "execution_count": 0,
      "outputs": []
    },
    {
      "cell_type": "markdown",
      "metadata": {
        "id": "RkOs9RpgVn9i",
        "colab_type": "text"
      },
      "source": [
        "Testing"
      ]
    },
    {
      "cell_type": "code",
      "metadata": {
        "id": "MzIPKPCkVfH_",
        "colab_type": "code",
        "outputId": "ce21317a-a147-4264-dfc7-d9524dc19495",
        "colab": {
          "base_uri": "https://localhost:8080/",
          "height": 134
        }
      },
      "source": [
        "features, norms = normalize_features(np.array([[3.,6.,9.],[4.,8.,12.]]))\n",
        "print(f\"Data:\\n {np.array([[3.,6.,9.],[4.,8.,12.]])} \\n Normalized:\\n {(features)}\")\n",
        "print(f\"Norms: {norms}\")"
      ],
      "execution_count": 44,
      "outputs": [
        {
          "output_type": "stream",
          "text": [
            "Data:\n",
            " [[ 3.  6.  9.]\n",
            " [ 4.  8. 12.]] \n",
            " Normalized:\n",
            " [[0.6 0.6 0.6]\n",
            " [0.8 0.8 0.8]]\n",
            "Norms: [ 5. 10. 15.]\n"
          ],
          "name": "stdout"
        }
      ]
    },
    {
      "cell_type": "markdown",
      "metadata": {
        "id": "LvK8zmZaWA8u",
        "colab_type": "text"
      },
      "source": [
        "## Lasso Regression"
      ]
    },
    {
      "cell_type": "markdown",
      "metadata": {
        "id": "RNG_7dNkQ1Y1",
        "colab_type": "text"
      },
      "source": [
        "**L1 Penalty**"
      ]
    },
    {
      "cell_type": "markdown",
      "metadata": {
        "id": "E3KG8DZWBAQ9",
        "colab_type": "text"
      },
      "source": [
        "$$ Total \\ cost = RSS(\\mathbf{w}) + \\color{red}{ \\lambda ||\\mathbf{w}||_1} $$"
      ]
    },
    {
      "cell_type": "code",
      "metadata": {
        "id": "NPELCJypWC3E",
        "colab_type": "code",
        "colab": {}
      },
      "source": [
        "def lasso_coordinate_descent_step(i, feature_matrix, output, weights, l1_penalty):\n",
        "    prediction = predict_output(feature_matrix, weights)\n",
        "    ro_i = (feature_matrix[:,i] * (output - prediction + (weights[i] * feature_matrix[:,i]))).sum()\n",
        "\n",
        "    if i == 0: # intercept, then do not regularize\n",
        "        new_weight_i = ro_i \n",
        "    elif ro_i < -l1_penalty/2.:\n",
        "        new_weight_i = (ro_i + l1_penalty/2.)\n",
        "    elif ro_i > l1_penalty/2.:\n",
        "        new_weight_i = (ro_i - l1_penalty/2.)\n",
        "    else:\n",
        "        new_weight_i = 0.\n",
        "    \n",
        "    return new_weight_i"
      ],
      "execution_count": 0,
      "outputs": []
    },
    {
      "cell_type": "markdown",
      "metadata": {
        "id": "pfPIkLijWS60",
        "colab_type": "text"
      },
      "source": [
        "Testing"
      ]
    },
    {
      "cell_type": "code",
      "metadata": {
        "id": "6IwC_4GmWMII",
        "colab_type": "code",
        "outputId": "a496dd2c-00f2-493b-e2b9-0d8a0c996a41",
        "colab": {
          "base_uri": "https://localhost:8080/",
          "height": 34
        }
      },
      "source": [
        "print( lasso_coordinate_descent_step(1, np.array([[3./np.sqrt(13),1./np.sqrt(10)],[2./np.sqrt(13),3./np.sqrt(10)]]), \n",
        "                                   np.array([1., 1.]), np.array([1., 4.]), 0.1))"
      ],
      "execution_count": 46,
      "outputs": [
        {
          "output_type": "stream",
          "text": [
            "0.4255588466910251\n"
          ],
          "name": "stdout"
        }
      ]
    },
    {
      "cell_type": "code",
      "metadata": {
        "id": "7BzoRr3fWXbJ",
        "colab_type": "code",
        "colab": {}
      },
      "source": [
        "def lasso_cyclical_coordinate_descent(feature_matrix, output, initial_weights, l1_penalty, tolerance):\n",
        "    D = feature_matrix.shape[1]\n",
        "    weights = np.array(initial_weights)\n",
        "    change = np.array(initial_weights) * 0.0\n",
        "    converged = False\n",
        "\n",
        "    while not converged:\n",
        "        for idx in range(D):\n",
        "\n",
        "            # new weight for feature\n",
        "            new_weight = lasso_coordinate_descent_step(idx, feature_matrix,\n",
        "                                                       output, weights,\n",
        "                                                       l1_penalty)\n",
        "            # compute change in weight for feature\n",
        "            change[idx] = np.abs(new_weight - weights[idx])\n",
        "\n",
        "            # assign new weight\n",
        "            weights[idx] = new_weight\n",
        "\n",
        "        # maximum change in weight, after all changes have been computed\n",
        "        max_change = max(change)\n",
        "\n",
        "        if max_change < tolerance:\n",
        "            converged = True\n",
        "    return weights"
      ],
      "execution_count": 0,
      "outputs": []
    },
    {
      "cell_type": "markdown",
      "metadata": {
        "id": "B5Opo6inWvSi",
        "colab_type": "text"
      },
      "source": [
        "#### Fitting Lasso Regression"
      ]
    },
    {
      "cell_type": "code",
      "metadata": {
        "id": "O16n8rF2WiSV",
        "colab_type": "code",
        "colab": {}
      },
      "source": [
        "simple_features = ['sqft_living', 'bedrooms']\n",
        "my_output = 'price'\n",
        "initial_weights = np.zeros(3)\n",
        "l1_penalty = 1e4\n",
        "tolerance = 1.0"
      ],
      "execution_count": 0,
      "outputs": []
    },
    {
      "cell_type": "code",
      "metadata": {
        "id": "hkdXF_l9Wy56",
        "colab_type": "code",
        "colab": {}
      },
      "source": [
        "(simple_feature_matrix, output) = get_numpy_data(data, simple_features, my_output)\n",
        "(normalized_simple_feature_matrix, simple_norms) = normalize_features(simple_feature_matrix) # normalize features"
      ],
      "execution_count": 0,
      "outputs": []
    },
    {
      "cell_type": "code",
      "metadata": {
        "id": "CacVt3GqW1w0",
        "colab_type": "code",
        "outputId": "253c1e41-7066-4e1e-c249-6a27b032714c",
        "colab": {
          "base_uri": "https://localhost:8080/",
          "height": 34
        }
      },
      "source": [
        "weights = lasso_cyclical_coordinate_descent(normalized_simple_feature_matrix, output,\n",
        "                                            initial_weights, l1_penalty, tolerance)\n",
        "print(weights)"
      ],
      "execution_count": 50,
      "outputs": [
        {
          "output_type": "stream",
          "text": [
            "[ 1.16210167e+07  1.04853516e+08 -2.91905467e+07]\n"
          ],
          "name": "stdout"
        }
      ]
    },
    {
      "cell_type": "code",
      "metadata": {
        "id": "6Pgx2EQJW6aN",
        "colab_type": "code",
        "outputId": "f74ef2e5-63d1-4cc6-86f8-d35c40eb2263",
        "colab": {
          "base_uri": "https://localhost:8080/",
          "height": 34
        }
      },
      "source": [
        "prediction =  predict_output(normalized_simple_feature_matrix, weights)\n",
        "RSS = get_residual_sum_of_squares_from_output_predicted(output, prediction)\n",
        "print(RSS)"
      ],
      "execution_count": 51,
      "outputs": [
        {
          "output_type": "stream",
          "text": [
            "1436642141088566.0\n"
          ],
          "name": "stdout"
        }
      ]
    },
    {
      "cell_type": "markdown",
      "metadata": {
        "id": "dPz24td-XQoI",
        "colab_type": "text"
      },
      "source": [
        "#### Lasso with more features"
      ]
    },
    {
      "cell_type": "code",
      "metadata": {
        "id": "NoH7Gqs7XL58",
        "colab_type": "code",
        "colab": {}
      },
      "source": [
        "all_features = ['bedrooms',\n",
        "                'bathrooms',\n",
        "                'sqft_living',\n",
        "                'sqft_lot',\n",
        "                'floors',\n",
        "                'waterfront', \n",
        "                'view', \n",
        "                'condition', \n",
        "                'grade',\n",
        "                'sqft_above',\n",
        "                'sqft_basement',\n",
        "                'yr_built', \n",
        "                'yr_renovated']\n",
        "my_output = 'price'\n",
        "(feature_matrix, output) = get_numpy_data(train_data, all_features, my_output)\n",
        "normalized_feature_matrix, norms = normalize_features(feature_matrix)"
      ],
      "execution_count": 0,
      "outputs": []
    },
    {
      "cell_type": "code",
      "metadata": {
        "id": "iYtiSq1vXU0V",
        "colab_type": "code",
        "colab": {}
      },
      "source": [
        "initial_weights = np.zeros(len(all_features) + 1)\n",
        "l1_penalty = 1e4\n",
        "tolerance = 1.0"
      ],
      "execution_count": 0,
      "outputs": []
    },
    {
      "cell_type": "code",
      "metadata": {
        "id": "svj6LEExXiFP",
        "colab_type": "code",
        "outputId": "69a98721-fd12-405d-e58d-19b5d172d910",
        "colab": {
          "base_uri": "https://localhost:8080/",
          "height": 84
        }
      },
      "source": [
        "weights1e4 = lasso_cyclical_coordinate_descent(normalized_feature_matrix, output,\n",
        "                                               initial_weights, l1_penalty, tolerance)\n",
        "print(weights1e4)"
      ],
      "execution_count": 54,
      "outputs": [
        {
          "output_type": "stream",
          "text": [
            "[ 7.87859491e+08 -1.96611439e+07  1.28893367e+07  5.20015124e+07\n",
            " -1.34448346e+06  4.40613056e+06  6.85843473e+06  4.53587116e+06\n",
            "  8.66423048e+06  1.28374342e+08  0.00000000e+00  3.64776371e+05\n",
            " -8.98872855e+08  6.49411472e+05]\n"
          ],
          "name": "stdout"
        }
      ]
    },
    {
      "cell_type": "code",
      "metadata": {
        "id": "ZNKu1NT9XoPS",
        "colab_type": "code",
        "outputId": "4e0c1587-d033-4078-91f0-8799221a80ef",
        "colab": {
          "base_uri": "https://localhost:8080/",
          "height": 402
        }
      },
      "source": [
        "# print(list(zip(all_features, weights1e4)))\n",
        "coef_df = pd.DataFrame(zip(all_features, weights1e4), columns=(\"Features\", \"Weights\"))\n",
        "coef_df[coef_df[\"Weights\"] != 0]"
      ],
      "execution_count": 55,
      "outputs": [
        {
          "output_type": "execute_result",
          "data": {
            "text/html": [
              "<div>\n",
              "<style scoped>\n",
              "    .dataframe tbody tr th:only-of-type {\n",
              "        vertical-align: middle;\n",
              "    }\n",
              "\n",
              "    .dataframe tbody tr th {\n",
              "        vertical-align: top;\n",
              "    }\n",
              "\n",
              "    .dataframe thead th {\n",
              "        text-align: right;\n",
              "    }\n",
              "</style>\n",
              "<table border=\"1\" class=\"dataframe\">\n",
              "  <thead>\n",
              "    <tr style=\"text-align: right;\">\n",
              "      <th></th>\n",
              "      <th>Features</th>\n",
              "      <th>Weights</th>\n",
              "    </tr>\n",
              "  </thead>\n",
              "  <tbody>\n",
              "    <tr>\n",
              "      <th>0</th>\n",
              "      <td>bedrooms</td>\n",
              "      <td>7.878595e+08</td>\n",
              "    </tr>\n",
              "    <tr>\n",
              "      <th>1</th>\n",
              "      <td>bathrooms</td>\n",
              "      <td>-1.966114e+07</td>\n",
              "    </tr>\n",
              "    <tr>\n",
              "      <th>2</th>\n",
              "      <td>sqft_living</td>\n",
              "      <td>1.288934e+07</td>\n",
              "    </tr>\n",
              "    <tr>\n",
              "      <th>3</th>\n",
              "      <td>sqft_lot</td>\n",
              "      <td>5.200151e+07</td>\n",
              "    </tr>\n",
              "    <tr>\n",
              "      <th>4</th>\n",
              "      <td>floors</td>\n",
              "      <td>-1.344483e+06</td>\n",
              "    </tr>\n",
              "    <tr>\n",
              "      <th>5</th>\n",
              "      <td>waterfront</td>\n",
              "      <td>4.406131e+06</td>\n",
              "    </tr>\n",
              "    <tr>\n",
              "      <th>6</th>\n",
              "      <td>view</td>\n",
              "      <td>6.858435e+06</td>\n",
              "    </tr>\n",
              "    <tr>\n",
              "      <th>7</th>\n",
              "      <td>condition</td>\n",
              "      <td>4.535871e+06</td>\n",
              "    </tr>\n",
              "    <tr>\n",
              "      <th>8</th>\n",
              "      <td>grade</td>\n",
              "      <td>8.664230e+06</td>\n",
              "    </tr>\n",
              "    <tr>\n",
              "      <th>9</th>\n",
              "      <td>sqft_above</td>\n",
              "      <td>1.283743e+08</td>\n",
              "    </tr>\n",
              "    <tr>\n",
              "      <th>11</th>\n",
              "      <td>yr_built</td>\n",
              "      <td>3.647764e+05</td>\n",
              "    </tr>\n",
              "    <tr>\n",
              "      <th>12</th>\n",
              "      <td>yr_renovated</td>\n",
              "      <td>-8.988729e+08</td>\n",
              "    </tr>\n",
              "  </tbody>\n",
              "</table>\n",
              "</div>"
            ],
            "text/plain": [
              "        Features       Weights\n",
              "0       bedrooms  7.878595e+08\n",
              "1      bathrooms -1.966114e+07\n",
              "2    sqft_living  1.288934e+07\n",
              "3       sqft_lot  5.200151e+07\n",
              "4         floors -1.344483e+06\n",
              "5     waterfront  4.406131e+06\n",
              "6           view  6.858435e+06\n",
              "7      condition  4.535871e+06\n",
              "8          grade  8.664230e+06\n",
              "9     sqft_above  1.283743e+08\n",
              "11      yr_built  3.647764e+05\n",
              "12  yr_renovated -8.988729e+08"
            ]
          },
          "metadata": {
            "tags": []
          },
          "execution_count": 55
        }
      ]
    },
    {
      "cell_type": "markdown",
      "metadata": {
        "id": "Jz-fGBBccqrx",
        "colab_type": "text"
      },
      "source": [
        "Normalizing weights to directly apply on data"
      ]
    },
    {
      "cell_type": "code",
      "metadata": {
        "id": "ie_dfrqecv2K",
        "colab_type": "code",
        "colab": {}
      },
      "source": [
        "normalized_weights1e4 = weights1e4 / norms"
      ],
      "execution_count": 0,
      "outputs": []
    },
    {
      "cell_type": "code",
      "metadata": {
        "id": "a16-ZUaEc1o9",
        "colab_type": "code",
        "outputId": "c8f41841-257a-47df-ead8-c3c10e4bde7e",
        "colab": {
          "base_uri": "https://localhost:8080/",
          "height": 34
        }
      },
      "source": [
        "(test_feature_matrix, test_output) = get_numpy_data(test_data, all_features, 'price')\n",
        "prediction =  predict_output(test_feature_matrix, normalized_weights1e4)\n",
        "RSS = get_residual_sum_of_squares_from_output_predicted(test_output, prediction)\n",
        "print('RSS for model with weights1e4 =', RSS)"
      ],
      "execution_count": 57,
      "outputs": [
        {
          "output_type": "stream",
          "text": [
            "RSS for model with weights1e4 = 194415789314446.75\n"
          ],
          "name": "stdout"
        }
      ]
    },
    {
      "cell_type": "code",
      "metadata": {
        "id": "gMhs8h6TaT0v",
        "colab_type": "code",
        "outputId": "de3ec081-c995-4388-e2f9-0607d8fef0c7",
        "colab": {
          "base_uri": "https://localhost:8080/",
          "height": 401
        }
      },
      "source": [
        "plt.figure(figsize=(10,6))\n",
        "sns.distplot(test_output, hist=False, color=\"r\", label=\"Actual Value\")\n",
        "sns.distplot(prediction, hist=False, color=\"b\", label=\"Fitted Values\");"
      ],
      "execution_count": 58,
      "outputs": [
        {
          "output_type": "display_data",
          "data": {
            "image/png": "[encoded data removed]",
            "text/plain": [
              "<Figure size 720x432 with 1 Axes>"
            ]
          },
          "metadata": {
            "tags": []
          }
        }
      ]
    },
    {
      "cell_type": "markdown",
      "metadata": {
        "id": "27c3R0mdgTY2",
        "colab_type": "text"
      },
      "source": [
        "## K-nearest Neighbors Regression"
      ]
    },
    {
      "cell_type": "markdown",
      "metadata": {
        "id": "fwhSTjlgC-4J",
        "colab_type": "text"
      },
      "source": [
        "Predicted value: $ \\ \\hat{y} = k \\ \\  closest \\  \\ y_i $ "
      ]
    },
    {
      "cell_type": "markdown",
      "metadata": {
        "id": "amk4GhxADyUZ",
        "colab_type": "text"
      },
      "source": [
        "In **1D**, just Euclidean distance:    $  \\ distance(x_j,x_q) = |x_j-x_q| $"
      ]
    },
    {
      "cell_type": "code",
      "metadata": {
        "id": "eg_w1yMhgVwi",
        "colab_type": "code",
        "colab": {}
      },
      "source": [
        "feature_list = ['bedrooms',  \n",
        "                'bathrooms',  \n",
        "                'sqft_living',  \n",
        "                'sqft_lot',  \n",
        "                'floors',\n",
        "                'waterfront',  \n",
        "                'view',  \n",
        "                'condition',  \n",
        "                'grade',  \n",
        "                'sqft_above',  \n",
        "                'sqft_basement',\n",
        "                'yr_built',  \n",
        "                'yr_renovated',  \n",
        "                'lat',  \n",
        "                'long',  \n",
        "                'sqft_living15',  \n",
        "                'sqft_lot15']\n",
        "features_train, output_train = get_numpy_data(train_data, feature_list, 'price')\n",
        "features_test, output_test = get_numpy_data(test_data, feature_list, 'price')\n",
        "#we assume validation_data = test_data\n",
        "validation_data = test_data\n",
        "features_valid, output_valid = get_numpy_data(validation_data, feature_list, 'price')"
      ],
      "execution_count": 0,
      "outputs": []
    },
    {
      "cell_type": "markdown",
      "metadata": {
        "id": "Uoc4xmyDQFZh",
        "colab_type": "text"
      },
      "source": [
        "Normalize"
      ]
    },
    {
      "cell_type": "code",
      "metadata": {
        "id": "GXNy8-8mPwEU",
        "colab_type": "code",
        "colab": {}
      },
      "source": [
        "features_train, norms = normalize_features(features_train)\n",
        "features_test = features_test / norms\n",
        "features_valid = features_valid / norms"
      ],
      "execution_count": 0,
      "outputs": []
    },
    {
      "cell_type": "markdown",
      "metadata": {
        "id": "nsxuqAj0Qm2H",
        "colab_type": "text"
      },
      "source": [
        "####  1-nearest neighbor regression"
      ]
    },
    {
      "cell_type": "code",
      "metadata": {
        "id": "Tu-mVhTUQEi6",
        "colab_type": "code",
        "colab": {}
      },
      "source": [
        "def compute_distances(train_matrix, query_vector):\n",
        "    diff = train_matrix - query_vector\n",
        "    distances = np.sqrt(np.sum(diff**2, axis=1))\n",
        "    return distances"
      ],
      "execution_count": 0,
      "outputs": []
    },
    {
      "cell_type": "markdown",
      "metadata": {
        "id": "-9D4_xozTPWv",
        "colab_type": "text"
      },
      "source": [
        "Test for 3rd value of test_data"
      ]
    },
    {
      "cell_type": "code",
      "metadata": {
        "id": "1rf50OXmRS6m",
        "colab_type": "code",
        "outputId": "5d67dad2-3652-4130-de49-1849408c2971",
        "colab": {
          "base_uri": "https://localhost:8080/",
          "height": 34
        }
      },
      "source": [
        "third_house_distance = compute_distances(features_train, features_test[2])\n",
        "idx = third_house_distance.argsort()[0]\n",
        "min_distance = min(third_house_distance)\n",
        "print(idx , min_distance)"
      ],
      "execution_count": 62,
      "outputs": [
        {
          "output_type": "stream",
          "text": [
            "15198 0.0010062800933970273\n"
          ],
          "name": "stdout"
        }
      ]
    },
    {
      "cell_type": "code",
      "metadata": {
        "id": "j3Zm9goRRVFe",
        "colab_type": "code",
        "outputId": "22dfb449-d0a8-4a26-f190-4f96bd1eaac4",
        "colab": {
          "base_uri": "https://localhost:8080/",
          "height": 50
        }
      },
      "source": [
        "print(\"Predict Price:\", output_train[idx])\n",
        "print(\"Actual Price:\", output_test[2])"
      ],
      "execution_count": 63,
      "outputs": [
        {
          "output_type": "stream",
          "text": [
            "Predict Price: 234000.0\n",
            "Actual Price: 233000.0\n"
          ],
          "name": "stdout"
        }
      ]
    },
    {
      "cell_type": "markdown",
      "metadata": {
        "id": "oiMTRoPiSS9N",
        "colab_type": "text"
      },
      "source": [
        "#### k-nearest neighbor regression"
      ]
    },
    {
      "cell_type": "code",
      "metadata": {
        "id": "uMmLn2JyRgWy",
        "colab_type": "code",
        "colab": {}
      },
      "source": [
        "def compute_k_nearest_neighbors(k, features_matrix, feature_vector):\n",
        "    distances = compute_distances(features_matrix, feature_vector)\n",
        "    return np.argsort(distances, axis = 0)[:k]"
      ],
      "execution_count": 0,
      "outputs": []
    },
    {
      "cell_type": "code",
      "metadata": {
        "id": "7NrUGShUSWDO",
        "colab_type": "code",
        "outputId": "b6f63b4b-c9b9-4acf-874b-f02fb18f5ca4",
        "colab": {
          "base_uri": "https://localhost:8080/",
          "height": 34
        }
      },
      "source": [
        "k_nearest_neighbors = compute_k_nearest_neighbors(4, features_train, features_test[2])\n",
        "print(k_nearest_neighbors)"
      ],
      "execution_count": 65,
      "outputs": [
        {
          "output_type": "stream",
          "text": [
            "[15198  7004  7994 14877]\n"
          ],
          "name": "stdout"
        }
      ]
    },
    {
      "cell_type": "code",
      "metadata": {
        "id": "tgC280e3S1Lz",
        "colab_type": "code",
        "outputId": "1d6cc2c7-8054-47b7-f1bf-78fa75d30207",
        "colab": {
          "base_uri": "https://localhost:8080/",
          "height": 50
        }
      },
      "source": [
        "print(\"Predict Price (avg of all the values):\", output_train[k_nearest_neighbors].mean())\n",
        "print(\"Actual Price:\", output_test[2])"
      ],
      "execution_count": 66,
      "outputs": [
        {
          "output_type": "stream",
          "text": [
            "Predict Price (avg of all the values): 304125.0\n",
            "Actual Price: 233000.0\n"
          ],
          "name": "stdout"
        }
      ]
    },
    {
      "cell_type": "markdown",
      "metadata": {
        "id": "AMlPOcctTKsg",
        "colab_type": "text"
      },
      "source": [
        "Single function"
      ]
    },
    {
      "cell_type": "code",
      "metadata": {
        "id": "ARirGhv0SfKQ",
        "colab_type": "code",
        "colab": {}
      },
      "source": [
        "def compute_distances_k_avg(k, features_matrix, output_values, feature_vector):\n",
        "    k_neigbors = compute_k_nearest_neighbors(k, features_matrix, feature_vector)\n",
        "    avg_value = np.mean(output_values[k_neigbors])\n",
        "    return avg_value"
      ],
      "execution_count": 0,
      "outputs": []
    },
    {
      "cell_type": "code",
      "metadata": {
        "id": "qz4GmMzKSlwq",
        "colab_type": "code",
        "outputId": "b54de924-3966-4c7b-9749-2022c571c7a8",
        "colab": {
          "base_uri": "https://localhost:8080/",
          "height": 34
        }
      },
      "source": [
        "print(compute_distances_k_avg(4, features_train, output_train, features_test[2]))"
      ],
      "execution_count": 68,
      "outputs": [
        {
          "output_type": "stream",
          "text": [
            "304125.0\n"
          ],
          "name": "stdout"
        }
      ]
    },
    {
      "cell_type": "markdown",
      "metadata": {
        "id": "5GY5USPuVBLD",
        "colab_type": "text"
      },
      "source": [
        "To compute multiple values"
      ]
    },
    {
      "cell_type": "code",
      "metadata": {
        "id": "nAV30bcKU_lA",
        "colab_type": "code",
        "colab": {}
      },
      "source": [
        "def compute_distances_k_all(k, features_matrix, output_values, feature_vector):\n",
        "    num_of_rows = feature_vector.shape[0]\n",
        "    predicted_values = []\n",
        "    for i in range(num_of_rows):\n",
        "        avg_value = compute_distances_k_avg(k, features_train, output_train, features_test[i])\n",
        "        predicted_values.append(avg_value)\n",
        "    return predicted_values"
      ],
      "execution_count": 0,
      "outputs": []
    },
    {
      "cell_type": "markdown",
      "metadata": {
        "id": "YYGLrwLPT3PH",
        "colab_type": "text"
      },
      "source": [
        "#### Choosing the best value of k using a validation set"
      ]
    },
    {
      "cell_type": "markdown",
      "metadata": {
        "id": "k9GCFpQhUYeB",
        "colab_type": "text"
      },
      "source": [
        "Funtion to find the best value of k in a given range by finding minimun RSS value"
      ]
    },
    {
      "cell_type": "code",
      "metadata": {
        "id": "2bY-V44NSp_I",
        "colab_type": "code",
        "colab": {}
      },
      "source": [
        "#k 1-16\n",
        "rss_all = []\n",
        "for k in range(1,16):    \n",
        "    predict_value = compute_distances_k_all(k, features_train, output_train, features_valid)\n",
        "    rss = get_residual_sum_of_squares_from_output_predicted(output_valid, predict_value)\n",
        "    rss_all.append(rss)"
      ],
      "execution_count": 0,
      "outputs": []
    },
    {
      "cell_type": "code",
      "metadata": {
        "id": "Ljb7zAPaUuw0",
        "colab_type": "code",
        "outputId": "4dc55d08-141d-4809-fc4b-1f48e25b6009",
        "colab": {
          "base_uri": "https://localhost:8080/",
          "height": 70
        }
      },
      "source": [
        "print(rss_all)\n",
        "print(f\"k = {rss_all.index(min(rss_all))}  RSS = {min(rss_all)}\",)"
      ],
      "execution_count": 71,
      "outputs": [
        {
          "output_type": "stream",
          "text": [
            "[282101002919057.0, 220618309271553.5, 201841847980446.66, 189310188181744.75, 190110780118806.34, 187954642136394.5, 185986285679529.88, 185116598147126.0, 185737291238478.3, 188082669926013.25, 186999130202952.12, 187968428312453.94, 189484473832326.06, 190963356274700.28, 192045535078109.88]\n",
            "k = 7  RSS = 185116598147126.0\n"
          ],
          "name": "stdout"
        }
      ]
    },
    {
      "cell_type": "code",
      "metadata": {
        "id": "J-Vk6GGpV0M9",
        "colab_type": "code",
        "outputId": "981c4359-0f56-4b2a-dcbd-46361745e0e0",
        "colab": {
          "base_uri": "https://localhost:8080/",
          "height": 388
        }
      },
      "source": [
        "k_values = range(1, 16)\n",
        "plt.figure(figsize=(10,6))\n",
        "plt.plot(k_values, rss_all, 'go-');"
      ],
      "execution_count": 72,
      "outputs": [
        {
          "output_type": "display_data",
          "data": {
            "image/png": "[encoded data removed]",
            "text/plain": [
              "<Figure size 720x432 with 1 Axes>"
            ]
          },
          "metadata": {
            "tags": []
          }
        }
      ]
    }
  ]
}