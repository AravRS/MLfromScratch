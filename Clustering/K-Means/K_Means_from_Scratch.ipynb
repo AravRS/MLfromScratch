{
  "nbformat": 4,
  "nbformat_minor": 0,
  "metadata": {
    "colab": {
      "name": "K_Means_from_Scratch.ipynb",
      "provenance": [],
      "collapsed_sections": []
    },
    "kernelspec": {
      "name": "python3",
      "display_name": "Python 3"
    }
  },
  "cells": [
    {
      "cell_type": "markdown",
      "metadata": {
        "id": "zQAiV1uZs9FV",
        "colab_type": "text"
      },
      "source": [
        "# K-Means from Scratch"
      ]
    },
    {
      "cell_type": "markdown",
      "metadata": {
        "id": "Y9bPt4HttCZ7",
        "colab_type": "text"
      },
      "source": [
        "*Necessary Imports*"
      ]
    },
    {
      "cell_type": "code",
      "metadata": {
        "id": "ejofWajAMCUw",
        "colab_type": "code",
        "colab": {}
      },
      "source": [
        "import numpy as np\n",
        "import pandas as pd\n",
        "import matplotlib.pyplot as plt\n",
        "import seaborn as sns\n",
        "sns.set()"
      ],
      "execution_count": 0,
      "outputs": []
    },
    {
      "cell_type": "markdown",
      "metadata": {
        "id": "k80DFFirRl1i",
        "colab_type": "text"
      },
      "source": [
        "## Data"
      ]
    },
    {
      "cell_type": "code",
      "metadata": {
        "id": "eLXsnxguM9fV",
        "colab_type": "code",
        "outputId": "e44f3d3c-d7c2-435e-cf91-40c0ecc5480c",
        "colab": {
          "base_uri": "https://localhost:8080/",
          "height": 343
        }
      },
      "source": [
        "wiki = pd.read_csv(\"people_wiki.csv\")\n",
        "wiki.head(10)"
      ],
      "execution_count": 3,
      "outputs": [
        {
          "output_type": "execute_result",
          "data": {
            "text/html": [
              "<div>\n",
              "<style scoped>\n",
              "    .dataframe tbody tr th:only-of-type {\n",
              "        vertical-align: middle;\n",
              "    }\n",
              "\n",
              "    .dataframe tbody tr th {\n",
              "        vertical-align: top;\n",
              "    }\n",
              "\n",
              "    .dataframe thead th {\n",
              "        text-align: right;\n",
              "    }\n",
              "</style>\n",
              "<table border=\"1\" class=\"dataframe\">\n",
              "  <thead>\n",
              "    <tr style=\"text-align: right;\">\n",
              "      <th></th>\n",
              "      <th>URI</th>\n",
              "      <th>name</th>\n",
              "      <th>text</th>\n",
              "    </tr>\n",
              "  </thead>\n",
              "  <tbody>\n",
              "    <tr>\n",
              "      <th>0</th>\n",
              "      <td>&lt;http://dbpedia.org/resource/Digby_Morrell&gt;</td>\n",
              "      <td>Digby Morrell</td>\n",
              "      <td>digby morrell born 10 october 1979 is a former...</td>\n",
              "    </tr>\n",
              "    <tr>\n",
              "      <th>1</th>\n",
              "      <td>&lt;http://dbpedia.org/resource/Alfred_J._Lewy&gt;</td>\n",
              "      <td>Alfred J. Lewy</td>\n",
              "      <td>alfred j lewy aka sandy lewy graduated from un...</td>\n",
              "    </tr>\n",
              "    <tr>\n",
              "      <th>2</th>\n",
              "      <td>&lt;http://dbpedia.org/resource/Harpdog_Brown&gt;</td>\n",
              "      <td>Harpdog Brown</td>\n",
              "      <td>harpdog brown is a singer and harmonica player...</td>\n",
              "    </tr>\n",
              "    <tr>\n",
              "      <th>3</th>\n",
              "      <td>&lt;http://dbpedia.org/resource/Franz_Rottensteiner&gt;</td>\n",
              "      <td>Franz Rottensteiner</td>\n",
              "      <td>franz rottensteiner born in waidmannsfeld lowe...</td>\n",
              "    </tr>\n",
              "    <tr>\n",
              "      <th>4</th>\n",
              "      <td>&lt;http://dbpedia.org/resource/G-Enka&gt;</td>\n",
              "      <td>G-Enka</td>\n",
              "      <td>henry krvits born 30 december 1974 in tallinn ...</td>\n",
              "    </tr>\n",
              "    <tr>\n",
              "      <th>5</th>\n",
              "      <td>&lt;http://dbpedia.org/resource/Sam_Henderson&gt;</td>\n",
              "      <td>Sam Henderson</td>\n",
              "      <td>sam henderson born october 18 1969 is an ameri...</td>\n",
              "    </tr>\n",
              "    <tr>\n",
              "      <th>6</th>\n",
              "      <td>&lt;http://dbpedia.org/resource/Aaron_LaCrate&gt;</td>\n",
              "      <td>Aaron LaCrate</td>\n",
              "      <td>aaron lacrate is an american music producer re...</td>\n",
              "    </tr>\n",
              "    <tr>\n",
              "      <th>7</th>\n",
              "      <td>&lt;http://dbpedia.org/resource/Trevor_Ferguson&gt;</td>\n",
              "      <td>Trevor Ferguson</td>\n",
              "      <td>trevor ferguson aka john farrow born 11 novemb...</td>\n",
              "    </tr>\n",
              "    <tr>\n",
              "      <th>8</th>\n",
              "      <td>&lt;http://dbpedia.org/resource/Grant_Nelson&gt;</td>\n",
              "      <td>Grant Nelson</td>\n",
              "      <td>grant nelson born 27 april 1971 in london also...</td>\n",
              "    </tr>\n",
              "    <tr>\n",
              "      <th>9</th>\n",
              "      <td>&lt;http://dbpedia.org/resource/Cathy_Caruth&gt;</td>\n",
              "      <td>Cathy Caruth</td>\n",
              "      <td>cathy caruth born 1955 is frank h t rhodes pro...</td>\n",
              "    </tr>\n",
              "  </tbody>\n",
              "</table>\n",
              "</div>"
            ],
            "text/plain": [
              "                                                 URI  ...                                               text\n",
              "0        <http://dbpedia.org/resource/Digby_Morrell>  ...  digby morrell born 10 october 1979 is a former...\n",
              "1       <http://dbpedia.org/resource/Alfred_J._Lewy>  ...  alfred j lewy aka sandy lewy graduated from un...\n",
              "2        <http://dbpedia.org/resource/Harpdog_Brown>  ...  harpdog brown is a singer and harmonica player...\n",
              "3  <http://dbpedia.org/resource/Franz_Rottensteiner>  ...  franz rottensteiner born in waidmannsfeld lowe...\n",
              "4               <http://dbpedia.org/resource/G-Enka>  ...  henry krvits born 30 december 1974 in tallinn ...\n",
              "5        <http://dbpedia.org/resource/Sam_Henderson>  ...  sam henderson born october 18 1969 is an ameri...\n",
              "6        <http://dbpedia.org/resource/Aaron_LaCrate>  ...  aaron lacrate is an american music producer re...\n",
              "7      <http://dbpedia.org/resource/Trevor_Ferguson>  ...  trevor ferguson aka john farrow born 11 novemb...\n",
              "8         <http://dbpedia.org/resource/Grant_Nelson>  ...  grant nelson born 27 april 1971 in london also...\n",
              "9         <http://dbpedia.org/resource/Cathy_Caruth>  ...  cathy caruth born 1955 is frank h t rhodes pro...\n",
              "\n",
              "[10 rows x 3 columns]"
            ]
          },
          "metadata": {
            "tags": []
          },
          "execution_count": 3
        }
      ]
    },
    {
      "cell_type": "code",
      "metadata": {
        "id": "oVjJWJpb2h8b",
        "colab_type": "code",
        "outputId": "cd1986af-76d0-43ca-ed1f-2d355cf7fc4c",
        "colab": {
          "base_uri": "https://localhost:8080/",
          "height": 185
        }
      },
      "source": [
        "wiki.info()"
      ],
      "execution_count": 4,
      "outputs": [
        {
          "output_type": "stream",
          "text": [
            "<class 'pandas.core.frame.DataFrame'>\n",
            "RangeIndex: 59071 entries, 0 to 59070\n",
            "Data columns (total 3 columns):\n",
            " #   Column  Non-Null Count  Dtype \n",
            "---  ------  --------------  ----- \n",
            " 0   URI     59071 non-null  object\n",
            " 1   name    59071 non-null  object\n",
            " 2   text    59071 non-null  object\n",
            "dtypes: object(3)\n",
            "memory usage: 1.4+ MB\n"
          ],
          "name": "stdout"
        }
      ]
    },
    {
      "cell_type": "code",
      "metadata": {
        "id": "5H0iINgm2ksm",
        "colab_type": "code",
        "outputId": "476b56f0-92cd-4e32-f181-5e749cecbfa3",
        "colab": {
          "base_uri": "https://localhost:8080/",
          "height": 166
        }
      },
      "source": [
        "wiki.describe(include='all')"
      ],
      "execution_count": 5,
      "outputs": [
        {
          "output_type": "execute_result",
          "data": {
            "text/html": [
              "<div>\n",
              "<style scoped>\n",
              "    .dataframe tbody tr th:only-of-type {\n",
              "        vertical-align: middle;\n",
              "    }\n",
              "\n",
              "    .dataframe tbody tr th {\n",
              "        vertical-align: top;\n",
              "    }\n",
              "\n",
              "    .dataframe thead th {\n",
              "        text-align: right;\n",
              "    }\n",
              "</style>\n",
              "<table border=\"1\" class=\"dataframe\">\n",
              "  <thead>\n",
              "    <tr style=\"text-align: right;\">\n",
              "      <th></th>\n",
              "      <th>URI</th>\n",
              "      <th>name</th>\n",
              "      <th>text</th>\n",
              "    </tr>\n",
              "  </thead>\n",
              "  <tbody>\n",
              "    <tr>\n",
              "      <th>count</th>\n",
              "      <td>59071</td>\n",
              "      <td>59071</td>\n",
              "      <td>59071</td>\n",
              "    </tr>\n",
              "    <tr>\n",
              "      <th>unique</th>\n",
              "      <td>59071</td>\n",
              "      <td>59070</td>\n",
              "      <td>59071</td>\n",
              "    </tr>\n",
              "    <tr>\n",
              "      <th>top</th>\n",
              "      <td>&lt;http://dbpedia.org/resource/Guillermo_Galv%C3...</td>\n",
              "      <td>author)</td>\n",
              "      <td>teresa surez commonly known by her stage name ...</td>\n",
              "    </tr>\n",
              "    <tr>\n",
              "      <th>freq</th>\n",
              "      <td>1</td>\n",
              "      <td>2</td>\n",
              "      <td>1</td>\n",
              "    </tr>\n",
              "  </tbody>\n",
              "</table>\n",
              "</div>"
            ],
            "text/plain": [
              "                                                      URI  ...                                               text\n",
              "count                                               59071  ...                                              59071\n",
              "unique                                              59071  ...                                              59071\n",
              "top     <http://dbpedia.org/resource/Guillermo_Galv%C3...  ...  teresa surez commonly known by her stage name ...\n",
              "freq                                                    1  ...                                                  1\n",
              "\n",
              "[4 rows x 3 columns]"
            ]
          },
          "metadata": {
            "tags": []
          },
          "execution_count": 5
        }
      ]
    },
    {
      "cell_type": "markdown",
      "metadata": {
        "id": "pczcbTeztIyI",
        "colab_type": "text"
      },
      "source": [
        "#### Loading tf-idf"
      ]
    },
    {
      "cell_type": "markdown",
      "metadata": {
        "id": "pLQgU11gtNEp",
        "colab_type": "text"
      },
      "source": [
        "Term Frequency: $ word \\ counts $"
      ]
    },
    {
      "cell_type": "markdown",
      "metadata": {
        "id": "CVr0jp9nTBBo",
        "colab_type": "text"
      },
      "source": [
        "Inverse Document Frequency: $ log \\big{(} \\dfrac{no. of \\ docs}{1 + no. of \\ docs \\ using \\ word} \\big{)} $"
      ]
    },
    {
      "cell_type": "code",
      "metadata": {
        "id": "JpuJqv27Xc2c",
        "colab_type": "code",
        "colab": {}
      },
      "source": [
        "data = np.load('data.npy')\n",
        "indices = np.load('indices.npy')\n",
        "indptr = np.load('indptr.npy')\n",
        "shape = np.load('shape.npy')\n",
        "from scipy.sparse import csr_matrix \n",
        "tf_idf = csr_matrix((data, indices, indptr), shape)"
      ],
      "execution_count": 0,
      "outputs": []
    },
    {
      "cell_type": "code",
      "metadata": {
        "id": "UmmRUb6CVEhW",
        "colab_type": "code",
        "colab": {}
      },
      "source": [
        "import json\n",
        "with open('people_wiki_map_index_to_word.json', 'r') as f:\n",
        "    people_wiki_map_index_to_word = json.load(f)\n",
        "map_index_to_word = people_wiki_map_index_to_word"
      ],
      "execution_count": 0,
      "outputs": []
    },
    {
      "cell_type": "markdown",
      "metadata": {
        "id": "Supf3Vwoadnq",
        "colab_type": "text"
      },
      "source": [
        "Normalize all Vectors"
      ]
    },
    {
      "cell_type": "markdown",
      "metadata": {
        "id": "IozW1M3jIGT2",
        "colab_type": "text"
      },
      "source": [
        "$$ ||\\mathbf{x}-\\mathbf{y}||^2 = (\\mathbf{x}-\\mathbf{y})^T(\\mathbf{x}-\\mathbf{y}) = 2[cosine \\ distance] $$"
      ]
    },
    {
      "cell_type": "code",
      "metadata": {
        "id": "qNnkWECKabOo",
        "colab_type": "code",
        "colab": {}
      },
      "source": [
        "from sklearn.preprocessing import normalize\n",
        "tf_idf = normalize(tf_idf)"
      ],
      "execution_count": 0,
      "outputs": []
    },
    {
      "cell_type": "markdown",
      "metadata": {
        "id": "3cchMyyUat-1",
        "colab_type": "text"
      },
      "source": [
        "## K-Means Model"
      ]
    },
    {
      "cell_type": "markdown",
      "metadata": {
        "id": "sbfaVZ0vuqMV",
        "colab_type": "text"
      },
      "source": [
        "Choose an initial set of centroids, randomly from the data points."
      ]
    },
    {
      "cell_type": "code",
      "metadata": {
        "id": "VGcFyJ8Oaiu6",
        "colab_type": "code",
        "colab": {}
      },
      "source": [
        "def get_initial_centroids(data, k, seed=None):\n",
        "    \n",
        "    if seed is not None: # for obtaining consistent results\n",
        "        np.random.seed(seed)\n",
        "\n",
        "    n = data.shape[0]\n",
        "    rand_indices = np.random.randint(0, n, k)\n",
        "\n",
        "    centroids = data[rand_indices,:].toarray()    \n",
        "    return centroids"
      ],
      "execution_count": 0,
      "outputs": []
    },
    {
      "cell_type": "markdown",
      "metadata": {
        "id": "Wigiya9wbDLR",
        "colab_type": "text"
      },
      "source": [
        "### Assigning clusters"
      ]
    },
    {
      "cell_type": "markdown",
      "metadata": {
        "id": "PlupXbY9u14T",
        "colab_type": "text"
      },
      "source": [
        "1. Assign each data point to the closest centroid:\n",
        "$ z_i = argmin_j ||\\mu_j - \\mathbf{x}_i||^2 $\n",
        "2. Revise centroids as the mean of the assigned data points:\n",
        "$ \\mu_j = \\frac{1}{n_j} \\sum_{i:z_i=j} \\mathbf{x_i}$"
      ]
    },
    {
      "cell_type": "code",
      "metadata": {
        "id": "yzNZVm88bCuC",
        "colab_type": "code",
        "outputId": "7fa4f557-4413-482b-ec05-c410bc333332",
        "colab": {
          "base_uri": "https://localhost:8080/",
          "height": 134
        }
      },
      "source": [
        "# Get the TF-IDF vectors for documents 100 through 102.\n",
        "queries = tf_idf[100:102,:]\n",
        "\n",
        "# Compute pairwise distances from every data point to each query vector.\n",
        "from sklearn.metrics import pairwise_distances\n",
        "dist = pairwise_distances(tf_idf, queries, metric='euclidean')\n",
        "\n",
        "print(dist)"
      ],
      "execution_count": 10,
      "outputs": [
        {
          "output_type": "stream",
          "text": [
            "[[1.41000789 1.36894636]\n",
            " [1.40935215 1.41023886]\n",
            " [1.39855967 1.40890299]\n",
            " ...\n",
            " [1.41108296 1.39123646]\n",
            " [1.41022804 1.31468652]\n",
            " [1.39899784 1.41072448]]\n"
          ],
          "name": "stdout"
        }
      ]
    },
    {
      "cell_type": "code",
      "metadata": {
        "id": "ed9pvpC0HCC4",
        "colab_type": "code",
        "outputId": "3fb618b7-7554-4cff-bf95-026b1aebac19",
        "colab": {
          "base_uri": "https://localhost:8080/",
          "height": 34
        }
      },
      "source": [
        "first_3_centroids = tf_idf[:3,:]\n",
        "distances = pairwise_distances(tf_idf, first_3_centroids, metric='euclidean')\n",
        "dist = distances[430, 1]\n",
        "print(dist)"
      ],
      "execution_count": 11,
      "outputs": [
        {
          "output_type": "stream",
          "text": [
            "1.4071310658540346\n"
          ],
          "name": "stdout"
        }
      ]
    },
    {
      "cell_type": "code",
      "metadata": {
        "id": "lRzR0FvxbPE1",
        "colab_type": "code",
        "outputId": "e6fcd708-3bc5-4bb2-9624-cda4076fd42c",
        "colab": {
          "base_uri": "https://localhost:8080/",
          "height": 50
        }
      },
      "source": [
        "distances = distances.copy()\n",
        "closest_cluster = np.argmin(distances, axis=1)\n",
        "print(closest_cluster)\n",
        "print(closest_cluster.shape)"
      ],
      "execution_count": 12,
      "outputs": [
        {
          "output_type": "stream",
          "text": [
            "[0 1 2 ... 0 0 0]\n",
            "(59071,)\n"
          ],
          "name": "stdout"
        }
      ]
    },
    {
      "cell_type": "code",
      "metadata": {
        "id": "we-QqFEZbWw-",
        "colab_type": "code",
        "colab": {}
      },
      "source": [
        "def assign_clusters(data, centroids):\n",
        "    \n",
        "    distances_from_centroids = pairwise_distances(data, centroids, metric='euclidean')\n",
        "    cluster_assignment = np.argmin(distances_from_centroids, axis=1)\n",
        "    \n",
        "    return cluster_assignment"
      ],
      "execution_count": 0,
      "outputs": []
    },
    {
      "cell_type": "markdown",
      "metadata": {
        "id": "LVayzRe5bmWe",
        "colab_type": "text"
      },
      "source": [
        "### Revising clusters"
      ]
    },
    {
      "cell_type": "markdown",
      "metadata": {
        "id": "XvnaVNn6yuWS",
        "colab_type": "text"
      },
      "source": [
        "Repeat the the above steps."
      ]
    },
    {
      "cell_type": "code",
      "metadata": {
        "id": "F8dReapObj9M",
        "colab_type": "code",
        "colab": {}
      },
      "source": [
        "data = np.array([[1., 2., 0.],\n",
        "                 [0., 0., 0.],\n",
        "                 [2., 2., 0.]])\n",
        "centroids = np.array([[0.5, 0.5, 0.],\n",
        "                      [0., -0.5, 0.]])"
      ],
      "execution_count": 0,
      "outputs": []
    },
    {
      "cell_type": "code",
      "metadata": {
        "id": "mT4EQz1pbon6",
        "colab_type": "code",
        "outputId": "2e3e57a9-f9b8-4fee-b7dc-ff57d458d78f",
        "colab": {
          "base_uri": "https://localhost:8080/",
          "height": 34
        }
      },
      "source": [
        "cluster_assignment = assign_clusters(data, centroids)\n",
        "print(cluster_assignment)"
      ],
      "execution_count": 15,
      "outputs": [
        {
          "output_type": "stream",
          "text": [
            "[0 1 0]\n"
          ],
          "name": "stdout"
        }
      ]
    },
    {
      "cell_type": "code",
      "metadata": {
        "id": "-IGm_lTpbt8w",
        "colab_type": "code",
        "outputId": "d628708d-36cb-48ba-81c4-2f280b7359bb",
        "colab": {
          "base_uri": "https://localhost:8080/",
          "height": 50
        }
      },
      "source": [
        "print(cluster_assignment==1)\n",
        "print(cluster_assignment==0)"
      ],
      "execution_count": 16,
      "outputs": [
        {
          "output_type": "stream",
          "text": [
            "[False  True False]\n",
            "[ True False  True]\n"
          ],
          "name": "stdout"
        }
      ]
    },
    {
      "cell_type": "code",
      "metadata": {
        "id": "OzB7Uhn6bw8P",
        "colab_type": "code",
        "outputId": "ce08f236-a78b-42ab-a883-c89ed5c6b7d4",
        "colab": {
          "base_uri": "https://localhost:8080/",
          "height": 67
        }
      },
      "source": [
        "print(data[cluster_assignment==1])\n",
        "print(data[cluster_assignment==0])"
      ],
      "execution_count": 17,
      "outputs": [
        {
          "output_type": "stream",
          "text": [
            "[[0. 0. 0.]]\n",
            "[[1. 2. 0.]\n",
            " [2. 2. 0.]]\n"
          ],
          "name": "stdout"
        }
      ]
    },
    {
      "cell_type": "code",
      "metadata": {
        "id": "dQmZeIicbz28",
        "colab_type": "code",
        "outputId": "6fffda48-e7fc-4e9c-a952-3e8ec9111f86",
        "colab": {
          "base_uri": "https://localhost:8080/",
          "height": 34
        }
      },
      "source": [
        "data[cluster_assignment==0].mean(axis=0)"
      ],
      "execution_count": 18,
      "outputs": [
        {
          "output_type": "execute_result",
          "data": {
            "text/plain": [
              "array([1.5, 2. , 0. ])"
            ]
          },
          "metadata": {
            "tags": []
          },
          "execution_count": 18
        }
      ]
    },
    {
      "cell_type": "code",
      "metadata": {
        "id": "2fRLRLEeb1WM",
        "colab_type": "code",
        "colab": {}
      },
      "source": [
        "def revise_centroids(data, k, cluster_assignment):\n",
        "    new_centroids = []\n",
        "\n",
        "    for i in range(k):\n",
        "        # Select all data points that belong to cluster i\n",
        "        member_data_points = data[cluster_assignment==i]\n",
        "        # Compute the mean of the data points\n",
        "        centroid = member_data_points.mean(axis=0)        \n",
        "        # Falttern\n",
        "        centroid = centroid.A1\n",
        "        new_centroids.append(centroid)\n",
        "\n",
        "    new_centroids = np.array(new_centroids)    \n",
        "    return new_centroids"
      ],
      "execution_count": 0,
      "outputs": []
    },
    {
      "cell_type": "markdown",
      "metadata": {
        "id": "e7V8fq-Sb-rP",
        "colab_type": "text"
      },
      "source": [
        "### Assessing convergence"
      ]
    },
    {
      "cell_type": "markdown",
      "metadata": {
        "id": "uF4KZA4iwbBj",
        "colab_type": "text"
      },
      "source": [
        "Cluster Heterogeneity: \n",
        "$ J(Z,\\mu) = \\sum_{j=1}^{k} \\sum_{i:z_i=j} ||\\mathbf{x}_i - \\mu_j||^2 $"
      ]
    },
    {
      "cell_type": "code",
      "metadata": {
        "id": "Kk0HU6A3b6kH",
        "colab_type": "code",
        "colab": {}
      },
      "source": [
        "def compute_heterogeneity(data, k, centroids, cluster_assignment):\n",
        "    \n",
        "    heterogeneity = 0.0\n",
        "    for i in range(k):\n",
        "        \n",
        "        # Select all data points that belong to cluster i\n",
        "        member_data_points = data[cluster_assignment==i, :]\n",
        "        \n",
        "        if member_data_points.shape[0] > 0:\n",
        "            # Compute distances from centroid to data points\n",
        "            distances = pairwise_distances(member_data_points, [centroids[i]], metric='euclidean')\n",
        "            squared_distances = distances**2\n",
        "            heterogeneity += np.sum(squared_distances)\n",
        "        \n",
        "    return heterogeneity"
      ],
      "execution_count": 0,
      "outputs": []
    },
    {
      "cell_type": "code",
      "metadata": {
        "id": "_1gfaDR1cC-s",
        "colab_type": "code",
        "outputId": "2d5400e7-2dab-4ce8-bf8a-bd10984e8c84",
        "colab": {
          "base_uri": "https://localhost:8080/",
          "height": 34
        }
      },
      "source": [
        "compute_heterogeneity(data, 2, centroids, cluster_assignment)"
      ],
      "execution_count": 21,
      "outputs": [
        {
          "output_type": "execute_result",
          "data": {
            "text/plain": [
              "7.25"
            ]
          },
          "metadata": {
            "tags": []
          },
          "execution_count": 21
        }
      ]
    },
    {
      "cell_type": "markdown",
      "metadata": {
        "id": "kHh5VUhycGs4",
        "colab_type": "text"
      },
      "source": [
        "## Combining into a single function"
      ]
    },
    {
      "cell_type": "markdown",
      "metadata": {
        "id": "9e82c2g_IvpS",
        "colab_type": "text"
      },
      "source": [
        "- Repeatedly perform above steps\n",
        "- Track convergence metrics\n",
        "- Stop if either no assignment changes or after certain number of iterations"
      ]
    },
    {
      "cell_type": "code",
      "metadata": {
        "id": "1AtXZBc-cER3",
        "colab_type": "code",
        "colab": {}
      },
      "source": [
        "def kmeans(data, k, initial_centroids, maxiter, record_heterogeneity=None, verbose=False):\n",
        "\n",
        "    centroids = initial_centroids[:]\n",
        "    prev_cluster_assignment = None\n",
        "    \n",
        "    for itr in range(maxiter):        \n",
        "        if verbose:\n",
        "            print(f\"Itr#{itr}:\", end=\" \")\n",
        "        \n",
        "        # 1. Make cluster assignments using nearest centroids\n",
        "        cluster_assignment = assign_clusters(data, centroids)\n",
        "            \n",
        "        # 2. Compute a new centroid for each of the k clusters, averaging all data points of cluster\n",
        "        centroids = revise_centroids(data, k, cluster_assignment)\n",
        "            \n",
        "        # Check for convergence: if none of the assignments changed, stop\n",
        "        if prev_cluster_assignment is not None and \\\n",
        "          (prev_cluster_assignment==cluster_assignment).all():\n",
        "            break\n",
        "        \n",
        "        # Print number of new assignments \n",
        "        if prev_cluster_assignment is not None:\n",
        "            num_changed = sum(abs(prev_cluster_assignment-cluster_assignment))\n",
        "            if verbose:\n",
        "                print(f'{num_changed} elements changed their cluster assignment.')   \n",
        "        \n",
        "        # Record heterogeneity convergence metric\n",
        "        if record_heterogeneity is not None:\n",
        "            score = compute_heterogeneity(data, k, centroids, cluster_assignment)\n",
        "            record_heterogeneity.append(score)\n",
        "        \n",
        "        prev_cluster_assignment = cluster_assignment[:]\n",
        "        \n",
        "    return centroids, cluster_assignment"
      ],
      "execution_count": 0,
      "outputs": []
    },
    {
      "cell_type": "markdown",
      "metadata": {
        "id": "GffpdJfSxCzA",
        "colab_type": "text"
      },
      "source": [
        "## Plotting Convergence Metric"
      ]
    },
    {
      "cell_type": "markdown",
      "metadata": {
        "id": "iVxpLFQg-zeP",
        "colab_type": "text"
      },
      "source": [
        "Cluster Heterogeneity"
      ]
    },
    {
      "cell_type": "code",
      "metadata": {
        "id": "JSz-yw2FcNhx",
        "colab_type": "code",
        "outputId": "38be424b-3a8a-4987-d72c-7453f495b0f9",
        "colab": {
          "base_uri": "https://localhost:8080/",
          "height": 1000
        }
      },
      "source": [
        "k = 3\n",
        "heterogeneity = []\n",
        "initial_centroids = get_initial_centroids(tf_idf, k, seed=0)\n",
        "centroids, cluster_assignment = kmeans(tf_idf, k, initial_centroids, maxiter=400,\n",
        "                                       record_heterogeneity=heterogeneity, verbose=True)"
      ],
      "execution_count": 23,
      "outputs": [
        {
          "output_type": "stream",
          "text": [
            "Itr#0: Itr#1: 23983 elements changed their cluster assignment.\n",
            "Itr#2: 11828 elements changed their cluster assignment.\n",
            "Itr#3: 7455 elements changed their cluster assignment.\n",
            "Itr#4: 4785 elements changed their cluster assignment.\n",
            "Itr#5: 3837 elements changed their cluster assignment.\n",
            "Itr#6: 4147 elements changed their cluster assignment.\n",
            "Itr#7: 4587 elements changed their cluster assignment.\n",
            "Itr#8: 3822 elements changed their cluster assignment.\n",
            "Itr#9: 1665 elements changed their cluster assignment.\n",
            "Itr#10: 725 elements changed their cluster assignment.\n",
            "Itr#11: 368 elements changed their cluster assignment.\n",
            "Itr#12: 202 elements changed their cluster assignment.\n",
            "Itr#13: 129 elements changed their cluster assignment.\n",
            "Itr#14: 95 elements changed their cluster assignment.\n",
            "Itr#15: 81 elements changed their cluster assignment.\n",
            "Itr#16: 64 elements changed their cluster assignment.\n",
            "Itr#17: 58 elements changed their cluster assignment.\n",
            "Itr#18: 54 elements changed their cluster assignment.\n",
            "Itr#19: 46 elements changed their cluster assignment.\n",
            "Itr#20: 50 elements changed their cluster assignment.\n",
            "Itr#21: 62 elements changed their cluster assignment.\n",
            "Itr#22: 35 elements changed their cluster assignment.\n",
            "Itr#23: 23 elements changed their cluster assignment.\n",
            "Itr#24: 18 elements changed their cluster assignment.\n",
            "Itr#25: 21 elements changed their cluster assignment.\n",
            "Itr#26: 27 elements changed their cluster assignment.\n",
            "Itr#27: 25 elements changed their cluster assignment.\n",
            "Itr#28: 21 elements changed their cluster assignment.\n",
            "Itr#29: 25 elements changed their cluster assignment.\n",
            "Itr#30: 32 elements changed their cluster assignment.\n",
            "Itr#31: 32 elements changed their cluster assignment.\n",
            "Itr#32: 46 elements changed their cluster assignment.\n",
            "Itr#33: 49 elements changed their cluster assignment.\n",
            "Itr#34: 63 elements changed their cluster assignment.\n",
            "Itr#35: 57 elements changed their cluster assignment.\n",
            "Itr#36: 53 elements changed their cluster assignment.\n",
            "Itr#37: 35 elements changed their cluster assignment.\n",
            "Itr#38: 38 elements changed their cluster assignment.\n",
            "Itr#39: 39 elements changed their cluster assignment.\n",
            "Itr#40: 39 elements changed their cluster assignment.\n",
            "Itr#41: 46 elements changed their cluster assignment.\n",
            "Itr#42: 41 elements changed their cluster assignment.\n",
            "Itr#43: 31 elements changed their cluster assignment.\n",
            "Itr#44: 26 elements changed their cluster assignment.\n",
            "Itr#45: 22 elements changed their cluster assignment.\n",
            "Itr#46: 15 elements changed their cluster assignment.\n",
            "Itr#47: 12 elements changed their cluster assignment.\n",
            "Itr#48: 12 elements changed their cluster assignment.\n",
            "Itr#49: 13 elements changed their cluster assignment.\n",
            "Itr#50: 8 elements changed their cluster assignment.\n",
            "Itr#51: 10 elements changed their cluster assignment.\n",
            "Itr#52: 3 elements changed their cluster assignment.\n",
            "Itr#53: 3 elements changed their cluster assignment.\n",
            "Itr#54: 6 elements changed their cluster assignment.\n",
            "Itr#55: 3 elements changed their cluster assignment.\n",
            "Itr#56: 5 elements changed their cluster assignment.\n",
            "Itr#57: 4 elements changed their cluster assignment.\n",
            "Itr#58: 1 elements changed their cluster assignment.\n",
            "Itr#59: 1 elements changed their cluster assignment.\n",
            "Itr#60: "
          ],
          "name": "stdout"
        }
      ]
    },
    {
      "cell_type": "code",
      "metadata": {
        "id": "X0cRnp7ycKxu",
        "colab_type": "code",
        "colab": {}
      },
      "source": [
        "def plot_heterogeneity(heterogeneity, k):\n",
        "    plt.figure(figsize=(10,6))\n",
        "    plt.plot(heterogeneity)\n",
        "    plt.xlabel('Number of Iterations')\n",
        "    plt.ylabel('Heterogeneity')\n",
        "    plt.title(f'Heterogeneity of clustering over time, K={k}')"
      ],
      "execution_count": 0,
      "outputs": []
    },
    {
      "cell_type": "code",
      "metadata": {
        "id": "xzxRx_wl1OKV",
        "colab_type": "code",
        "outputId": "3d639913-1699-4022-f887-a9914c0f600b",
        "colab": {
          "base_uri": "https://localhost:8080/",
          "height": 410
        }
      },
      "source": [
        "plot_heterogeneity(heterogeneity, k)"
      ],
      "execution_count": 25,
      "outputs": [
        {
          "output_type": "display_data",
          "data": {
            "image/png": "[encoded data removed]",
            "text/plain": [
              "<Figure size 720x432 with 1 Axes>"
            ]
          },
          "metadata": {
            "tags": []
          }
        }
      ]
    },
    {
      "cell_type": "code",
      "metadata": {
        "id": "zcK_X9w8cOwS",
        "colab_type": "code",
        "outputId": "26e3d682-d982-4f09-ad5b-432f12a57adb",
        "colab": {
          "base_uri": "https://localhost:8080/",
          "height": 54
        }
      },
      "source": [
        "print(heterogeneity)"
      ],
      "execution_count": 26,
      "outputs": [
        {
          "output_type": "stream",
          "text": [
            "[58324.513557360166, 58184.88702561689, 58138.8351095433, 58115.5443794838, 58105.144360097955, 58097.525184447324, 58087.15219057265, 58067.52332833534, 58038.163658158126, 58033.277654160556, 58032.80538698504, 58032.63119637119, 58032.55442739463, 58032.51498266414, 58032.48655252265, 58032.4628390735, 58032.44795796612, 58032.43449158974, 58032.42602967142, 58032.41911185921, 58032.41058106258, 58032.4034507918, 58032.39943856925, 58032.39710978097, 58032.39550452751, 58032.39362039754, 58032.391293003995, 58032.38939093164, 58032.38753814068, 58032.3854990268, 58032.3821917849, 58032.378699442255, 58032.37264035171, 58032.365997387846, 58032.35959004154, 58032.35375961529, 58032.34721772186, 58032.342702778304, 58032.338476927755, 58032.33478185108, 58032.33004346504, 58032.322585288915, 58032.31617340006, 58032.311140872946, 58032.308356551606, 58032.30617328345, 58032.30478251542, 58032.30379008188, 58032.30282286614, 58032.30186832222, 58032.30089023452, 58032.29970841954, 58032.299265305046, 58032.298842522, 58032.29839474872, 58032.2981702242, 58032.29785759554, 58032.29750979859, 58032.29722383869, 58032.29707355844]\n"
          ],
          "name": "stdout"
        }
      ]
    },
    {
      "cell_type": "code",
      "metadata": {
        "id": "fWX96OM6cRy-",
        "colab_type": "code",
        "outputId": "c262b002-2588-4b14-b4c7-c80069ba38ff",
        "colab": {
          "base_uri": "https://localhost:8080/",
          "height": 34
        }
      },
      "source": [
        "# Cluster datapoint count\n",
        "print(np.bincount(cluster_assignment))"
      ],
      "execution_count": 27,
      "outputs": [
        {
          "output_type": "stream",
          "text": [
            "[19595 10427 29049]\n"
          ],
          "name": "stdout"
        }
      ]
    },
    {
      "cell_type": "markdown",
      "metadata": {
        "id": "Iz03TEcDccTs",
        "colab_type": "text"
      },
      "source": [
        "## Local Maxima"
      ]
    },
    {
      "cell_type": "code",
      "metadata": {
        "id": "OfOPCoEvcUIJ",
        "colab_type": "code",
        "outputId": "b227b4e9-926c-4ec4-b76a-2e0173e1a573",
        "colab": {
          "base_uri": "https://localhost:8080/",
          "height": 134
        }
      },
      "source": [
        "k = 10\n",
        "heterogeneity = {}\n",
        "cluster_assignment_dict = {}\n",
        "\n",
        "for seed in [0, 20000, 40000, 60000, 80000, 100000, 120000]:\n",
        "    initial_centroids = get_initial_centroids(tf_idf, k, seed)\n",
        "    centroids, cluster_assignment = kmeans(tf_idf, k, initial_centroids, maxiter=400,\n",
        "                                           record_heterogeneity=None, verbose=False)\n",
        "    # To save time, compute heterogeneity only once in the end\n",
        "    heterogeneity[seed] = compute_heterogeneity(tf_idf, k, centroids, cluster_assignment)\n",
        "    cluster_assignment_dict[seed] = np.bincount(cluster_assignment)\n",
        "    print('seed={0:06d}, heterogeneity={1:.5f}, cluster_distribution={2}'.format(seed, heterogeneity[seed], \n",
        "                                           cluster_assignment_dict[seed]))"
      ],
      "execution_count": 28,
      "outputs": [
        {
          "output_type": "stream",
          "text": [
            "seed=000000, heterogeneity=57457.52442, cluster_distribution=[18047  3824  5671  6983  1492  1730  3882  3449  7139  6854]\n",
            "seed=020000, heterogeneity=57533.20100, cluster_distribution=[ 3142   768  3566  2277 15779  7278  6146  7964  6666  5485]\n",
            "seed=040000, heterogeneity=57512.69257, cluster_distribution=[ 5551  6623   186  2999  8487  3893  6807  2921  3472 18132]\n",
            "seed=060000, heterogeneity=57466.97925, cluster_distribution=[ 3014  3089  6681  3856  8080  7222  3424   424  5381 17900]\n",
            "seed=080000, heterogeneity=57494.92990, cluster_distribution=[17582  1785  7215  3314  6285   809  5930  6791  5536  3824]\n",
            "seed=100000, heterogeneity=57484.42210, cluster_distribution=[ 6618  1337  6191  2890 16969  4983  5242  3892  5562  5387]\n",
            "seed=120000, heterogeneity=57554.62410, cluster_distribution=[ 6118  5841  4964  8423  4302  3183 16481  1608  5524  2627]\n"
          ],
          "name": "stdout"
        }
      ]
    },
    {
      "cell_type": "code",
      "metadata": {
        "id": "d8ZleV_CcadB",
        "colab_type": "code",
        "outputId": "59b85ab1-8af6-41aa-a7f4-f99b52fb1b23",
        "colab": {
          "base_uri": "https://localhost:8080/",
          "height": 252
        }
      },
      "source": [
        "for k, v in cluster_assignment_dict.items():\n",
        "    print(f\"k={k} \\n Cluster Sizes: {v}\")"
      ],
      "execution_count": 29,
      "outputs": [
        {
          "output_type": "stream",
          "text": [
            "k=0 \n",
            " Cluster Sizes: [18047  3824  5671  6983  1492  1730  3882  3449  7139  6854]\n",
            "k=20000 \n",
            " Cluster Sizes: [ 3142   768  3566  2277 15779  7278  6146  7964  6666  5485]\n",
            "k=40000 \n",
            " Cluster Sizes: [ 5551  6623   186  2999  8487  3893  6807  2921  3472 18132]\n",
            "k=60000 \n",
            " Cluster Sizes: [ 3014  3089  6681  3856  8080  7222  3424   424  5381 17900]\n",
            "k=80000 \n",
            " Cluster Sizes: [17582  1785  7215  3314  6285   809  5930  6791  5536  3824]\n",
            "k=100000 \n",
            " Cluster Sizes: [ 6618  1337  6191  2890 16969  4983  5242  3892  5562  5387]\n",
            "k=120000 \n",
            " Cluster Sizes: [ 6118  5841  4964  8423  4302  3183 16481  1608  5524  2627]\n"
          ],
          "name": "stdout"
        }
      ]
    },
    {
      "cell_type": "markdown",
      "metadata": {
        "id": "D_K4vg6vc1pe",
        "colab_type": "text"
      },
      "source": [
        "## K-Means++ Model"
      ]
    },
    {
      "cell_type": "markdown",
      "metadata": {
        "id": "XCzL_EmKxQcm",
        "colab_type": "text"
      },
      "source": [
        "One effective way to counter local maxima is to use k-means++ to provide a smart initialization. This method tries to spread out the initial set of centroids so that they are not too close together. It is known to improve the quality of local optima and lower average runtime."
      ]
    },
    {
      "cell_type": "code",
      "metadata": {
        "id": "oQ-mxfvtczqL",
        "colab_type": "code",
        "colab": {}
      },
      "source": [
        "def smart_initialize(data, k, seed=None):\n",
        "\n",
        "    if seed is not None:\n",
        "        np.random.seed(seed)\n",
        "    centroids = np.zeros((k, data.shape[1]))\n",
        "    \n",
        "    # Randomly choose the first centroid\n",
        "    idx = np.random.randint(data.shape[0])\n",
        "    centroids[0] = data[idx,:].toarray()\n",
        "\n",
        "    # Compute distances from the first centroid chosen to all the other data points\n",
        "    distances = pairwise_distances(data, centroids[0:1], metric='euclidean').flatten()\n",
        "    \n",
        "    for i in range(1, k):\n",
        "        # Choose the next centroid randomly, so that it should be as far as from ohter centroids as possible.\n",
        "        idx = np.random.choice(data.shape[0], 1, p=distances/sum(distances))\n",
        "        centroids[i] = data[idx,:].toarray()\n",
        "        \n",
        "        # Now compute distances from the centroids to all data points\n",
        "        distances = np.min(pairwise_distances(data, centroids[0:i+1], metric='euclidean'),axis=1)\n",
        "    \n",
        "    return centroids"
      ],
      "execution_count": 0,
      "outputs": []
    },
    {
      "cell_type": "code",
      "metadata": {
        "id": "KEwU4SNjc5AI",
        "colab_type": "code",
        "outputId": "deda7f71-7b21-4d0c-ebf3-3f8737041569",
        "colab": {
          "base_uri": "https://localhost:8080/",
          "height": 134
        }
      },
      "source": [
        "k = 10\n",
        "heterogeneity_smart = {}\n",
        "\n",
        "for seed in [0, 20000, 40000, 60000, 80000, 100000, 120000]:\n",
        "    initial_centroids = smart_initialize(tf_idf, k, seed)\n",
        "    centroids, cluster_assignment = kmeans(tf_idf, k, initial_centroids, maxiter=400,\n",
        "                                           record_heterogeneity=None, verbose=False)\n",
        "    heterogeneity_smart[seed] = compute_heterogeneity(tf_idf, k, centroids, cluster_assignment)\n",
        "    print('seed={0:06d}, heterogeneity={1:.5f}'.format(seed, heterogeneity_smart[seed]))"
      ],
      "execution_count": 31,
      "outputs": [
        {
          "output_type": "stream",
          "text": [
            "seed=000000, heterogeneity=57441.33298\n",
            "seed=020000, heterogeneity=57457.50383\n",
            "seed=040000, heterogeneity=57469.82237\n",
            "seed=060000, heterogeneity=57503.05355\n",
            "seed=080000, heterogeneity=57464.05684\n",
            "seed=100000, heterogeneity=57487.57010\n",
            "seed=120000, heterogeneity=57534.79120\n"
          ],
          "name": "stdout"
        }
      ]
    },
    {
      "cell_type": "markdown",
      "metadata": {
        "id": "WitFb3ISxTwm",
        "colab_type": "text"
      },
      "source": [
        "## Assessing K-Means and K-Means++"
      ]
    },
    {
      "cell_type": "code",
      "metadata": {
        "id": "jaDfV9xtc8SW",
        "colab_type": "code",
        "outputId": "e20e1e20-c6be-445e-8469-42842234500e",
        "colab": {
          "base_uri": "https://localhost:8080/",
          "height": 377
        }
      },
      "source": [
        "plt.figure(figsize=(10,6))\n",
        "plt.boxplot([list(heterogeneity.values()), list(heterogeneity_smart.values())], vert=False)\n",
        "plt.yticks([1, 2], ['k-means', 'k-means++']);"
      ],
      "execution_count": 32,
      "outputs": [
        {
          "output_type": "display_data",
          "data": {
            "image/png": "[encoded data removed]",
            "text/plain": [
              "<Figure size 720x432 with 1 Axes>"
            ]
          },
          "metadata": {
            "tags": []
          }
        }
      ]
    },
    {
      "cell_type": "markdown",
      "metadata": {
        "id": "0AOy4yp7dJ-B",
        "colab_type": "text"
      },
      "source": [
        "## Choosing *k* value"
      ]
    },
    {
      "cell_type": "markdown",
      "metadata": {
        "id": "O86MFWqRdBdn",
        "colab_type": "text"
      },
      "source": [
        "Run k-means at least a few times with different initializations and then return the run resulting in the lowest heterogeneity."
      ]
    },
    {
      "cell_type": "code",
      "metadata": {
        "id": "4eDpOHnrc-bB",
        "colab_type": "code",
        "colab": {}
      },
      "source": [
        "def kmeans_multiple_runs(data, k, maxiter, num_runs, seed_list=None, verbose=False):\n",
        "    heterogeneity = {}\n",
        "    \n",
        "    min_heterogeneity_achieved = float('inf')\n",
        "    best_seed = None\n",
        "    final_centroids = None\n",
        "    final_cluster_assignment = None\n",
        "    \n",
        "    for i in range(num_runs):\n",
        "        \n",
        "        if seed_list is not None: \n",
        "            seed = seed_list[i]\n",
        "            np.random.seed(seed)\n",
        "        else: \n",
        "            seed = int(time.time())\n",
        "            np.random.seed(seed)\n",
        "        \n",
        "        # k-means++ initialization\n",
        "        initial_centroids = smart_initialize(data, k, seed=seed)\n",
        "        \n",
        "        # k-means\n",
        "        centroids, cluster_assignment = kmeans(data, k, initial_centroids, maxiter=400,\n",
        "                                               record_heterogeneity=None, verbose=False)\n",
        "        \n",
        "        # Compute heterogeneity only once in the end\n",
        "        heterogeneity[seed] = compute_heterogeneity(data, k, centroids, cluster_assignment)\n",
        "        \n",
        "        if verbose:\n",
        "            print('seed={0:06d}, heterogeneity={1:.5f}'.format(seed, heterogeneity[seed]))\n",
        "            \n",
        "        # update the minimum if current measurement of heterogeneity is lower than before\n",
        "        if heterogeneity[seed] < min_heterogeneity_achieved:\n",
        "            min_heterogeneity_achieved = heterogeneity[seed]\n",
        "            best_seed = seed\n",
        "            final_centroids = centroids\n",
        "            final_cluster_assignment = cluster_assignment\n",
        "    \n",
        "    # Return the centroids and cluster assignments that minimize heterogeneity\n",
        "    return final_centroids, final_cluster_assignment"
      ],
      "execution_count": 0,
      "outputs": []
    },
    {
      "cell_type": "markdown",
      "metadata": {
        "id": "cjLXivzn0LQO",
        "colab_type": "text"
      },
      "source": [
        "Try for different values of `k` and `seed`"
      ]
    },
    {
      "cell_type": "code",
      "metadata": {
        "id": "3ebl72CpdHeg",
        "colab_type": "code",
        "outputId": "c330f2aa-0716-461d-c60f-aec96087c77f",
        "colab": {
          "base_uri": "https://localhost:8080/",
          "height": 689
        }
      },
      "source": [
        "centroids = {}\n",
        "cluster_assignment = {}\n",
        "heterogeneity_values = []\n",
        "k_list = [2, 10, 25, 50, 100]\n",
        "seed_list = [0, 20000, 40000, 60000, 80000, 100000, 120000]\n",
        "\n",
        "for k in k_list:\n",
        "    print(f\"k={k}\")\n",
        "    heterogeneity = []\n",
        "    centroids[k], cluster_assignment[k] = kmeans_multiple_runs(tf_idf, k, maxiter=400,\n",
        "                                                              num_runs=len(seed_list),\n",
        "                                                              seed_list=seed_list,\n",
        "                                                              verbose=True)\n",
        "    score = compute_heterogeneity(tf_idf, k, centroids[k], cluster_assignment[k])\n",
        "    heterogeneity_values.append(score)"
      ],
      "execution_count": 34,
      "outputs": [
        {
          "output_type": "stream",
          "text": [
            "k=2\n",
            "seed=000000, heterogeneity=58224.59913\n",
            "seed=020000, heterogeneity=58179.57453\n",
            "seed=040000, heterogeneity=58179.57453\n",
            "seed=060000, heterogeneity=58179.57453\n",
            "seed=080000, heterogeneity=58224.59952\n",
            "seed=100000, heterogeneity=58179.57453\n",
            "seed=120000, heterogeneity=58179.57453\n",
            "k=10\n",
            "seed=000000, heterogeneity=57441.33298\n",
            "seed=020000, heterogeneity=57457.50383\n",
            "seed=040000, heterogeneity=57469.82237\n",
            "seed=060000, heterogeneity=57503.05355\n",
            "seed=080000, heterogeneity=57464.05684\n",
            "seed=100000, heterogeneity=57487.57010\n",
            "seed=120000, heterogeneity=57534.79120\n",
            "k=25\n",
            "seed=000000, heterogeneity=56828.55406\n",
            "seed=020000, heterogeneity=56943.91794\n",
            "seed=040000, heterogeneity=56816.94257\n",
            "seed=060000, heterogeneity=56920.95767\n",
            "seed=080000, heterogeneity=56884.99112\n",
            "seed=100000, heterogeneity=56875.89487\n",
            "seed=120000, heterogeneity=56911.66467\n",
            "k=50\n",
            "seed=000000, heterogeneity=56339.57044\n",
            "seed=020000, heterogeneity=56351.77299\n",
            "seed=040000, heterogeneity=56299.53728\n",
            "seed=060000, heterogeneity=56324.49665\n",
            "seed=080000, heterogeneity=56397.34747\n",
            "seed=100000, heterogeneity=56349.61869\n",
            "seed=120000, heterogeneity=56316.63770\n",
            "k=100\n",
            "seed=000000, heterogeneity=55538.85158\n",
            "seed=020000, heterogeneity=55651.87120\n",
            "seed=040000, heterogeneity=55610.87687\n",
            "seed=060000, heterogeneity=55668.07863\n",
            "seed=080000, heterogeneity=55636.93608\n",
            "seed=100000, heterogeneity=55647.81451\n",
            "seed=120000, heterogeneity=55671.07997\n"
          ],
          "name": "stdout"
        }
      ]
    },
    {
      "cell_type": "code",
      "metadata": {
        "id": "OPHrRHYg0dO6",
        "colab_type": "code",
        "colab": {}
      },
      "source": [
        "def plot_k_vs_heterogeneity(k_values, heterogeneity_values):\n",
        "   plt.figure(figsize=(10,6))\n",
        "   plt.plot(k_values, heterogeneity_values, linewidth=2)\n",
        "   plt.xlabel('k')\n",
        "   plt.ylabel('heterogeneity')\n",
        "   plt.title('k vs. heterogeneity')"
      ],
      "execution_count": 0,
      "outputs": []
    },
    {
      "cell_type": "code",
      "metadata": {
        "id": "YXkdvRW408-l",
        "colab_type": "code",
        "colab": {
          "base_uri": "https://localhost:8080/",
          "height": 410
        },
        "outputId": "a04aa924-4693-4599-e2a1-0108514885ad"
      },
      "source": [
        "plot_k_vs_heterogeneity(k_list, heterogeneity_values)"
      ],
      "execution_count": 36,
      "outputs": [
        {
          "output_type": "display_data",
          "data": {
            "image/png": "[encoded data removed]",
            "text/plain": [
              "<Figure size 720x432 with 1 Axes>"
            ]
          },
          "metadata": {
            "tags": []
          }
        }
      ]
    },
    {
      "cell_type": "markdown",
      "metadata": {
        "id": "8FHEJQ7ZJ9Ni",
        "colab_type": "text"
      },
      "source": [
        "We usually choose the eblow point as the best value of *k*."
      ]
    },
    {
      "cell_type": "markdown",
      "metadata": {
        "id": "vfy1ZBzpdlRl",
        "colab_type": "text"
      },
      "source": [
        "## Visualizing  clusters of documents"
      ]
    },
    {
      "cell_type": "code",
      "metadata": {
        "id": "1nhZat0O73hC",
        "colab_type": "code",
        "colab": {}
      },
      "source": [
        "def visualize_document_clusters(wiki, tf_idf, centroids, cluster_assignment, k, map_index_to_word, display_content=True):\n",
        "    print('==========================================================')\n",
        "\n",
        "    for c in range(k):\n",
        "        print(\"CLUSTER\", c)        \n",
        "        # Print top 5 words with largest TF-IDF weights in the cluster\n",
        "        idx = centroids[c].argsort()[::-1]\n",
        "        for i in range(5):\n",
        "            print(f\"{list(map_index_to_word.keys())[list(map_index_to_word.values()).index(idx[i])]}:{round(centroids[c,idx[i]]*100, 2)}%\", end = \" | \")\n",
        "\n",
        "        if display_content:\n",
        "            print(\"\\n\")\n",
        "            distances = pairwise_distances(tf_idf, centroids[c].reshape(1, -1), metric='euclidean').flatten()\n",
        "            distances[cluster_assignment!=c] = float('inf') # remove non-members from consideration\n",
        "            nearest_neighbors = distances.argsort()\n",
        "\n",
        "            # Print top 5 articles\n",
        "            for i in range(5):\n",
        "                text = wiki[wiki.index == nearest_neighbors[i]]['text']\n",
        "                print(f\"{wiki[wiki.index == nearest_neighbors[i]]['name'].item()} [{round(distances[nearest_neighbors[i]], 3)}] \\n    {text.item()[:300]}\") # text limit to 300\n",
        "        print('\\n=================================================================')"
      ],
      "execution_count": 0,
      "outputs": []
    },
    {
      "cell_type": "code",
      "metadata": {
        "id": "WOaoLhfS6CfN",
        "colab_type": "code",
        "colab": {
          "base_uri": "https://localhost:8080/",
          "height": 1000
        },
        "outputId": "5b5f1bc9-e772-4c53-eb99-2bd9b346a7e9"
      },
      "source": [
        "k=25\n",
        "visualize_document_clusters(wiki, tf_idf, centroids[k], cluster_assignment[k], k,\n",
        "                            map_index_to_word, display_content=True)"
      ],
      "execution_count": 43,
      "outputs": [
        {
          "output_type": "stream",
          "text": [
            "==========================================================\n",
            "CLUSTER 0\n",
            "album:5.5% | band:4.61% | music:4.23% | released:2.9% | jazz:2.4% | \n",
            "\n",
            "Tony Mills (musician) [0.952] \n",
            "    tony mills born 7 july 1962 in solihull england is an english rock singer best known for his work with shy and tnthailing from birmingham when he was 14 years old he sang in his first band the punk band the ripoffs before joining fellow birmingham punk band cracked actors as bass guitarist turning t\n",
            "Will.i.am [0.953] \n",
            "    william adams born march 15 1975 known by his stage name william pronounced will i am is an american rapper songwriter entrepreneur actor dj record producer and philanthropist he is best known as a founding member of the hip hoppop band the black eyed peas with whom he has received seven grammy awar\n",
            "Keith Urban [0.953] \n",
            "    keith lionel urban born 26 october 1967 is a new zealand born australian country music singer songwriter guitarist entrepreneur and music competition judge in 1991 he released a selftitled debut album and charted four singles in australia before moving to the united states the following year he foun\n",
            "Prince (musician) [0.954] \n",
            "    prince rogers nelson born june 7 1958 known by his mononym prince is an american singersongwriter multiinstrumentalist and actor he has produced ten platinum albums and thirty top 40 singles during his career he has written several hundred songs and produces and records his own music for his own mus\n",
            "Steve Overland [0.954] \n",
            "    steve overland is a british singermusician who was the lead vocalist and songwriter for the bands wildlife fm the ladder shadowman and his own group overland overlands nearly 30 year career began in his home region of east anglia where he and his brother chris formed the band wildlife in 1980 the gr\n",
            "\n",
            "=================================================================\n",
            "CLUSTER 1\n",
            "poetry:20.21% | poems:7.79% | poet:6.62% | literary:4.08% | poets:4.0% | \n",
            "\n",
            "Philip Schultz [0.882] \n",
            "    philip schultz born 1945 in rochester new york is an american poet and the founderdirector of the writers studio a private school for fiction and poetry writing based in new york city he is the author of several collections of poetry including the god of loneliness selected and new poems houghton mi\n",
            "Maurice Riordan [0.883] \n",
            "    maurice riordan born 1953 is an irish poet translator and editor born in lisgoold county cork riordan has published three collections of poetry a word from the loki 1995 a largely londonbased collection which was a poetry book society choice and shortlisted for the t s eliot prize floods 2000 which \n",
            "Amy Newman [0.886] \n",
            "    amy newman is an american poet critic and professor she is the author of four collections of poems most recently dear editor persea books winner of the lexi rudnitsky editors choice award newmans second book camera lyrica won the beatrice hawley award and her first book order or disorder received th\n",
            "Cleopatra Mathis [0.888] \n",
            "    cleopatra mathis born 1947 ruston louisiana is an american poet who since 1982 has been the frederick sessions beebe professor in the english department at dartmouth college where she is also director of the creative writing program her most recent book is white sea sarabande books 2005her first fiv\n",
            "Roger Sedarat [0.889] \n",
            "    roger sedarat is an iranianamerican poet he is the author of two poetry collections dear regime letters to the islamic republic which was published by the ohio university press and won the presss hollis summers poetry prize and ghazal games ohio university press in his poetry he frequently crosses t\n",
            "\n",
            "=================================================================\n",
            "CLUSTER 2\n",
            "rugby:19.85% | cup:4.91% | against:4.62% | played:4.41% | wales:3.94% | \n",
            "\n",
            "Sonny Bill Williams [0.858] \n",
            "    sonny william sonny bill williams born 3 august 1985 is a new zealand rugby player and heavyweight boxer who has played rugby league and rugby union at the highest levels he currently plays rugby union for counties manukau he is only the second person to represent new zealand in rugby union after fi\n",
            "Brian Smith (rugby) [0.86] \n",
            "    brian smith born 9 september 1966 is an australian retired rugby football player and current coach he was director of rugby at aviva premiership team london irish he was the attack coach for england between 2008 and 2011smith was born in st george queensland he played rugby union for the queensland \n",
            "Massimo Giovanelli [0.87] \n",
            "    massimo giovanelli born noceto 1 march 1967 is a former italian rugby union player he played as a flanker he was one of the best italian rugby players of his generationgiovanelli started his career at his local team of rugby noceto football club being promoted to the first category in 1984 he would \n",
            "Massimo Cuttitta [0.876] \n",
            "    massimo cuttitta born in latina 2 september 1966 is a former italian rugby union footballer and a current coach he used to play as a prop hes also the twin brother of marcello cuttittahis family moved to south africa in the late 1960s where the cuttitta brothers including older sibling michele start\n",
            "Bev Risman [0.877] \n",
            "    augustus beverley walter risman obe born 23 november 1937 in salford england is a former rugby union and rugby league footballer a dualcode international who later became a coachson of rugby league legend gus risman bev played rugby union at flyhalf for the english national side 8 test appearances a\n",
            "\n",
            "=================================================================\n",
            "CLUSTER 3\n",
            "league:9.56% | baseball:9.06% | season:4.75% | games:4.71% | major:4.37% | \n",
            "\n",
            "Steve Springer [0.904] \n",
            "    steven michael springer born february 11 1961 is an american former professional baseball player who appeared in major league baseball as a third baseman and pinch hitter for eight games over two seasons for the cleveland indians 1990 and new york mets 1992 he threw and batted righthanded stood 6 fe\n",
            "Dave Ford [0.905] \n",
            "    david alan ford born december 29 1956 is a former major league baseball pitcher for the baltimore orioles born in cleveland ohio ford attended lincolnwest high school and after graduating in 1975 was selected with the 23rd pick by the orioles in the 1975 major league baseball draftford started his c\n",
            "Todd Williams [0.906] \n",
            "    todd michael williams born february 13 1971 in syracuse new york is a former major league baseball relief pitcher he attended east syracuseminoa high school graduating in 1989 he then attended onondaga community college before signing a professional baseball contract with the los angeles dodgers in \n",
            "Justin Knoedler [0.907] \n",
            "    justin joseph knoedler born july 17 1980 in springfield illinois is a former major league baseball catcherknoedler was originally drafted by the st louis cardinals in the 41st round 1218th overall in the 1998 major league baseball draft out of springfield high school but did not sign with them he wa\n",
            "Kevin Nicholson (baseball) [0.913] \n",
            "    kevin ronald nicholson born march 29 1976 is a canadian baseball shortstop he played part of the 2000 season for the san diego padres of major league baseball and for the canadian olympic baseball team in 2004nicholson was drafted by the california angels in the 43rd round of the 1994 major league b\n",
            "\n",
            "=================================================================\n",
            "CLUSTER 4\n",
            "president:2.44% | board:2.4% | chairman:2.22% | served:2.04% | business:1.98% | \n",
            "\n",
            "James A. Joseph [0.959] \n",
            "    james a joseph born 1935 is an american former diplomatjoseph is professor of the practice of public policy studies at duke university and founder of the united states southern africa center for leadership and public values at duke and the university of cape town he has served four us presidents in \n",
            "Howard Davies (economist) [0.961] \n",
            "    sir howard john davies born 12 february 1951 teaches courses on the regulation of financial markets and central banking at the paris school of international affairs at sciences pohe previously served as the first chairman of the financial services authority davies is chairman of the phoenix group an\n",
            "R. Nicholas Burns [0.961] \n",
            "    r nicholas burns born january 28 1956 is a university professor columnist lecturer and former american diplomat he is currently professor of the practice of diplomacy and international politics at harvards john f kennedy school of government and a member of the board of directors of the schools belf\n",
            "John P. White [0.962] \n",
            "    john patrick white born february 27 1937 is an american university professor and a former government official who served in the clinton administration he was born in syracuse new yorkwhite is the robert and renee belfer lecturer at the john f kennedy school of government at harvard universityhe serv\n",
            "J. Brian Atwood [0.964] \n",
            "    john brian atwood born 25 july 1942 is a diplomat and former administrator of the us agency for international development from 2002 to 2010 he was dean of the humphrey school of public affairs at the university of minnesota in 1966 atwood joined the united states foreign service and served as a fore\n",
            "\n",
            "=================================================================\n",
            "CLUSTER 5\n",
            "football:6.11% | league:5.56% | club:4.87% | season:4.84% | played:3.8% | \n",
            "\n",
            "Jason Roberts (footballer) [0.927] \n",
            "    jason andre davis roberts mbe born 25 january 1978 is a former professional footballer and now a football punditborn in park royal london roberts was playing football from an early age and spent time in the youth academies at several professional clubs but was not retained after a spell in nonleague\n",
            "Chris Day [0.928] \n",
            "    christopher nicholas chris day born 28 july 1975 is an english professional footballer who plays as a goalkeeper for stevenageday started his career at tottenham hotspur where he spent five years making one premier league appearance for the north london side he joined crystal palace for a fee of 225\n",
            "Tony Smith (footballer, born 1957) [0.931] \n",
            "    anthony tony smith born 20 february 1957 is a former footballer who played as a central defender in the football league in the 1970s and 1980she was born in sunderland but joined newcastle united as a youth and made his senior debut as a substitute for nigel walker against wolverhampton wanderers on\n",
            "Richard Ambrose [0.934] \n",
            "    richard ambrose born 10 june 1972 is a former australian rules footballer who played with the sydney swans in the australian football league afl he also played for port adelaide in the south australian national football league sanfl and subiaco in the west australian football league wafla key positi\n",
            "Neil Grayson [0.934] \n",
            "    neil grayson born 1 november 1964 in york is an english footballer who last played as a striker for sutton towngraysons first club was local outfit rowntree mackintosh playing in the northern counties east football league division one he was snapped up by doncaster rovers in march 1990 where he stay\n",
            "\n",
            "=================================================================\n",
            "CLUSTER 6\n",
            "radio:8.12% | news:5.9% | show:4.91% | bbc:3.38% | television:2.96% | \n",
            "\n",
            "Graeme Smith (radio presenter) [0.937] \n",
            "    graeme smith is a british broadcaster born in liverpool england he is currently employed by global radio graeme is a presenter on capital north west and wales he currently hosts the breakfast show alongside sarah storyfrom 2010 2012 he worked as breakfast show presenter and then drivetime host at 97\n",
            "Colin Murray [0.938] \n",
            "    colin murray born colin wright on 10 march 1977 is a northern irish sports and music radio and television presenter in 2010 he became host of bbc televisions match of the day 2 on bbc two while still anchoring shows on bbc radio 5 live and 5 live sport and fighting talk and was still presenting on b\n",
            "Colin Berry [0.939] \n",
            "    colin berry is a british radio disc jockeypresenter and newsreader best known for his many years at bbc radio 2colin started his radio career reading news on radio caroline in 1965before that he had performed administrative duties at granada television and westward television and went on to do simil\n",
            "Tony Cox (journalist) [0.941] \n",
            "    for other people with this name see anthony cox disambiguationtony cox is an american radio and television journalist who is host of the syndicated radio talk show upfront with tony cox and previously was host of news notes on national public radio nprcox is a graduate of ucla where he earned a bach\n",
            "Andy Archer (radio presenter) [0.941] \n",
            "    andy archer born anthony andrew dawson is a british radio presenter best known for his work on pirate radio stations in the 1960s and 1970s he later worked for independent local radio and bbc local radiohe was born in terrington st clement in norfolk on 22 january 1946 he had a brief stint as a pres\n",
            "\n",
            "=================================================================\n",
            "CLUSTER 7\n",
            "theatre:6.63% | series:3.51% | television:3.41% | actor:3.41% | comedy:3.17% | \n",
            "\n",
            "Lynne Wintersteller [0.952] \n",
            "    lynne wintersteller is an american actress best known for her work in the theatre a gifted soprano she has appeared in several musicals including starring in the original production of maltby and shires offbroadway musical closer than ever in 1989 at the cherry lane theatre a critical success the sh\n",
            "Paul Clarkson [0.953] \n",
            "    paul clarkson is an english actor theatre director and teacher he was born and educated in worcester and trained at lamda from 1979 1981 he has been assistant director at the swan theatre worcester associate director at derby playhouse theatre director of drama at pangbourne college berkshire and co\n",
            "Timothy Speyer [0.954] \n",
            "    timothy speyer born on the 4th may 1968 in bromley south east london is a british actor most notable for his stage workhe trained at gsa the guildford school of acting and graduated in 1994 as winner of the max adrian cup he has since worked and toured with appearances at virtually every regional to\n",
            "Gale Edwards [0.954] \n",
            "    gale edwards born 14 november 1954 is an australian theatre director who has worked extensively throughout australia and internationally she has also directed for television and film she began her career at adelaide youth theatre company energy connection from 1986 to 1989 she was associate director\n",
            "Colin Morgan [0.954] \n",
            "    colin morgan born 1 january 1986 is a northern irish film television and theatre actor best known for playing the title character in the bbc tv series merlin he made his west end theatre acting debut in 2007 as vernon little in dbc pierres vernon god little followed by his role as esteban in pedro a\n",
            "\n",
            "=================================================================\n",
            "CLUSTER 8\n",
            "research:5.09% | university:3.94% | professor:3.9% | science:2.95% | institute:2.19% | \n",
            "\n",
            "Ren%C3%A9e Fox [0.955] \n",
            "    rene c fox a summa cum laude graduate of smith college in 1949 earned her phd in sociology in 1954 from radcliffe college harvard university where she studied in the department of social relationsbefore joining the faculty of the university of pennsylvania in 1969 she was a member of the columbia un\n",
            "Lawrence W. Green [0.956] \n",
            "    lawrence w green is best known by health education researchers as the originator of the precede model and codeveloper of the precedeproceed model which has been used throughout the world to guide health program intervention design implementation and evaluation and has led to more than 1000 published\n",
            "Timothy Luke [0.957] \n",
            "    timothy w luke is university distinguished professor of political science in the college of liberal arts and human sciences as well as program chair of the government and international affairs program school of public and international affairs at virginia polytechnic institute and state university i\n",
            "Stephen Park Turner [0.958] \n",
            "    stephen turner is a researcher in social practice social and political theory and the philosophy of the social sciences he is graduate research professor in the department of philosophy of the university of south florida where he also holds he title distinguished university professor he has held a n\n",
            "Sajeev John [0.959] \n",
            "    sajeev john born 1957 is a professor of physics at the university of toronto and canada research chair holderhe received his bachelors degree in physics in 1979 from the massachusetts institute of technology and his phd in physics at harvard university in 1984 his phd work at harvard introduced the \n",
            "\n",
            "=================================================================\n",
            "CLUSTER 9\n",
            "law:14.13% | court:8.84% | judge:6.62% | district:4.47% | justice:4.24% | \n",
            "\n",
            "Barry Sullivan (lawyer) [0.888] \n",
            "    barry sullivan is a chicago lawyer and as of july 1 2009 the cooney conway chair in advocacy at loyola university chicago school of law he is a former litigation partner at jenner block llp where he was also a member of the appellate and supreme court and the labor and employment practicessullivan h\n",
            "William G. Young [0.889] \n",
            "    william glover young born 1940 is a united states federal judge for the district of massachusetts young was born in huntington new york he attended harvard college and harvard law school he received an ab from harvard university in 1962 he received a llb from harvard law school in 1967 he was a capt\n",
            "Bernard Bell (attorney) [0.892] \n",
            "    bernard bell is the associate dean for academic affairs and faculty professor of law and herbert hannoch scholar at rutgers school of lawnewark bell received a ba cum laude from harvard and a jd from stanford where he was notes editor of the law review and a member of the order of the coif he clerke\n",
            "George B. Daniels [0.893] \n",
            "    george benjamin daniels born 1953 is a united states federal judge for the united states district court for the southern district of new yorkdaniels was born in allendale south carolina he received a ba from yale university in 1975 he received a jd from the university of california berkeley boalt ha\n",
            "James G. Carr [0.901] \n",
            "    james g carr born july 7 1940 is a federal district judge for the united states district court for the northern district of ohiocarr was born in boston massachusetts he received a ba from kenyon college in 1966 and an llb from harvard law school in 1969 he was in private practice of law in chicago i\n",
            "\n",
            "=================================================================\n",
            "CLUSTER 10\n",
            "marathon:13.22% | metres:12.36% | championships:11.59% | she:7.93% | athletics:7.12% | \n",
            "\n",
            "Krisztina Papp [0.822] \n",
            "    krisztina papp born 17 december 1982 in eger is a hungarian long distance runner she is the national indoor record holder over 5000 mpapp began her international career as a junior with appearances at the 2000 world junior championships in athletics and the 2001 iaaf world cross country championship\n",
            "Yukiko Akaba [0.829] \n",
            "    yukiko akaba akaba yukiko born 18 october 1979 in haga tochigi is a japanese longdistance runner who specializes in the 10000 metres half marathon and marathon eventsshe won the silver medal in half marathon at the 1999 summer universiade at the 2001 summer universiade she finished eighth in the 500\n",
            "Rose Kosgei [0.838] \n",
            "    rose jerotich kosgei born 22 august 1981 is a kenyan longdistance runner who competes in half marathon and marathon racesshe initially started out as a 1500 metres runner and placed fourth in the event at the world junior championships in athletics in 1996 and 1998 before going on to claim the silve\n",
            "Alessandra Aguilar [0.841] \n",
            "    alessandra aguilar born 1 july 1978 in lugo is a spanish longdistance runner who specialises in marathon running she represented her country in the event at the 2008 summer olympics and at the world championships in athletics the following year and then at the 2012 summer olympics and the world cham\n",
            "G%C3%BCnther Weidlinger [0.845] \n",
            "    gnther weidlinger born april 5 1978 in braunau am inn is an austrian longdistance runner who is a former 3000 metres steeplechase specialist but now competes in the marathonhe first made his mark in athletics as a junior athlete in european competitions winning the steeplechase at the 1997 european \n",
            "\n",
            "=================================================================\n",
            "CLUSTER 11\n",
            "he:1.08% | that:1.01% | his:0.89% | were:0.71% | had:0.69% | \n",
            "\n",
            "Tang Xiyang [0.978] \n",
            "    tang xiyang born january 30 1930 in miluo hunan province is a chinese environmentalist he was awarded the 2007 ramon magsaysay award for peace and international understandingtang xiyang graduated from beijing normal university and then worked as a journalist for a beijing newspaper from 1952 1957 co\n",
            "Jimmie Briggs [0.982] \n",
            "    jimmie briggs is an american freelance journalist and teacher he was awarded the john battlow award from northwestern university for a story about the gulf wars impact on children which became a finalist for a national magazine award he has also investigated the impact of war on children in afghanis\n",
            "John Donald (jewellery designer) [0.983] \n",
            "    john donald is a british jeweller designer whose work is strongly identified in the 1960s and 1970s in london princess margaret and the queen mother purchased works by john donald in the 1960s having been introduced to him by antony armstrongjones 1st earl of snowdonexamples of donalds work are held\n",
            "Shina Rambo [0.984] \n",
            "    shina rambo born c 1963 is a former bandit who terrorised southwest nigeria in the 1990s after serving jailtime for his crimes he was converted by an evangelist and became a christian evangelical pastorshina rambo now mathew oluwanifemi was a name that sent shivers down the spine of people who lived\n",
            "Don Rittner [0.985] \n",
            "    don rittner is an american historian archeologist environmental activist educator and author living in the capital district schenectady county new york he is the official schenectady county historian responsible for providing guidance and support to municipal historians and serving as a conduit betw\n",
            "\n",
            "=================================================================\n",
            "CLUSTER 12\n",
            "racing:3.61% | championship:3.44% | world:2.8% | team:2.75% | championships:2.68% | \n",
            "\n",
            "Laurent R%C3%A9don [0.953] \n",
            "    laurent rdon born 5 august 1973 is a former race car driver from loire francerdon began his professional racing career in the french formula three championship winning it in 1995 he then moved to international formula 3000 where he finished 8th in the points for dams in 1996 and 9th for super nova r\n",
            "Andrej Pavicevic [0.958] \n",
            "    andrej pavicevic born 26 may 1975 in sydney australia is best known as a race driver he started racing in the nsw street sedan championship in 1994 in a suzuki swift gti from there he moved to the australian production car championship in 1995 have major success winning 3 class championships in 1995\n",
            "Kevin McGarrity [0.959] \n",
            "    kevin mcgarrity born august 3 1973 is a northern irish racing driver from belfastmcgarrity won the formula ford festival in 1995 after finishing second in the british formula ford series he was nominated for the mclaren autosport brdc award but it went to fellow northern ireland driver jonny kane in\n",
            "Michel Troll%C3%A9 [0.959] \n",
            "    michel troll born june 23 1959 is a french former racing driver from lens pasdecalaishe began his career in championnat de france formule renault turbo in 1984 finishing second in the championship in 1985 he moved to the french formula three championship and finished third in points with two wins in\n",
            "Charles Hall (racing driver) [0.96] \n",
            "    charles hall born 13 november 1979 is a british racing driver from sheffield englandafter beginning racing in karts he moved to car racing in 1997 at age 18 in barc formula renault and the formula vauxhall winter series he finished second in the main championship of formula vauxhall the following ye\n",
            "\n",
            "=================================================================\n",
            "CLUSTER 13\n",
            "church:12.01% | bishop:8.7% | lds:4.3% | diocese:4.23% | archbishop:4.15% | \n",
            "\n",
            "William Millsaps [0.911] \n",
            "    william wesley millsaps born december 19 1939 is a bishop of the episcopal missionary church he is the rector of christ church in monteagle tennessee and formerly presiding bishop of the episcopal missionary churchmillsaps graduated from princeton university with a bachelor of arts degree in 1961 at\n",
            "Leonard W. Riches [0.912] \n",
            "    leonard wayne riches sr born 1939 is an american anglican bishop he served as presiding bishop of the reformed episcopal church from 1996 to june 2014 and was previously the bishop of the diocese of the northeast and midatlantic in this church which was a founding jurisdiction of the anglican church\n",
            "Roger Ames [0.916] \n",
            "    roger copeland ames born 7 december 1942 is an american anglican priest he is the first bishop of the anglican diocese of the great lakes in the anglican church in north america after being a suffragan bishop for the convocation of anglicans in north america he is married and has two adult children \n",
            "Christopher Jones (bishop) [0.919] \n",
            "    christopher christy jones born 3 march 1936 is the bishop emeritus of the diocese of elphin he was born in county roscommon ireland he was ordained a priest on 17 june 1962 for his home diocese on 24 may 1994 he was appointed bishop for the diocese he was ordained a bishop on 15 august of the same y\n",
            "Michael Curry (bishop) [0.922] \n",
            "    the rt rev michael bruce curry born in chicago illinois on march 13 1953 is a bishop in the episcopal church he was elected eleventh bishop of the episcopal diocese of north carolina on february 11 2000 and ordained bishop on june 17 2000 at duke chapel on the campus of duke university in durham nor\n",
            "\n",
            "=================================================================\n",
            "CLUSTER 14\n",
            "art:14.95% | museum:8.02% | gallery:5.83% | artist:3.31% | arts:3.2% | \n",
            "\n",
            "John Walker (painter) [0.861] \n",
            "    john walker born 1939 is an english painter and printmaker he has been called one of the standout abstract painters of the last 50 yearswalker studied in birmingham at the moseley school of art and later the birmingham school of art and acadmie de la grande chaumire in paris some of his early work w\n",
            "Robert H. Cumming [0.886] \n",
            "    robert h cumming born 1943 worcester massachusetts is an american painter sculptor photographer and printmaker best known for his photographs of conceptual drawings and constructions which layer meanings within meanings and reference both science and art history he earned a bfa in 1965 from massachu\n",
            "Michael Joaquin Grey [0.886] \n",
            "    michael joaquin grey born 1961 in los angeles is an american artist inventor educator and toy designer based in new york citygrey holds a bachelor of arts degree in art and a bs in genetics from the university of california berkeley 1984 and a mfa in sculpture from yale university 1990 he is the inv\n",
            "David Elliott (curator) [0.892] \n",
            "    david stuart elliott born 29 april 1949 is a britishborn art gallery and museum curator and writer about modern and contemporary arthe was educated at loughborough grammar school after studying modern history at the university of durham and history of art at the courtauld institute of art elliott wo\n",
            "David Salle [0.895] \n",
            "    david salle born 1952 is an american painter printmaker and stage designer who helped define postmodern sensibility salle was born in norman oklahoma he earned a bfa and mfa from the california institute of the arts valencia california where he studied with john baldessari salles work first came to \n",
            "\n",
            "=================================================================\n",
            "CLUSTER 15\n",
            "book:4.33% | novel:3.83% | published:3.48% | books:3.1% | fiction:2.82% | \n",
            "\n",
            "Shelly Lowenkopf [0.958] \n",
            "    shelly lowenkopf born september 6 1931 santa monica california is an american writer and editor he has been an instructor in the master of professional writing program at the university of southern california since 1974he has served as editorial director for literary scholarly and general trade book\n",
            "Dennis Bock [0.959] \n",
            "    dennis bock born august 28 1964 is a canadian novelist and short story writer lecturer at the university of toronto travel writer and book reviewer his novel going home again was published in canada by harpercollins and in the us by alfred a knopf in august 2013 it is shortlisted for the 2013 scotia\n",
            "Robert Fleming (author) [0.96] \n",
            "    robert fleming is a journalist and writer of erotic fiction and horror fiction he is also a contributing editor for black issues book review he began writing in the early 1970s while studying fulltime for a degree in psychology at a local college his first writing job was in 1977 as an associate edi\n",
            "Lawrence Osborne [0.96] \n",
            "    lawrence osborne is a british novelist currently residing in new york cityosborne was educated at fitzwilliam college cambridge and at harvard and has since led a nomadic life residing for years in france italy morocco the united states mexico thailand and istanbulhe is the author of the novel ania \n",
            "Joshua Ferris [0.96] \n",
            "    joshua ferris born 1974 is an american author best known for his debut 2007 novel then we came to the end the book is a comedy about the american workplace told in the firstperson plural it takes place in a fictitious chicago ad agency that is experiencing a downturn at the end of the 90s internet b\n",
            "\n",
            "=================================================================\n",
            "CLUSTER 16\n",
            "football:11.94% | nfl:8.83% | yards:6.47% | coach:5.57% | bowl:4.6% | \n",
            "\n",
            "Tyrone Wheatley [0.903] \n",
            "    tyrone anthony wheatley born january 19 1972 is the running backs coach of michigan and a former professional american football player who played 10 seasons in the national football league nfl and was one of the most successful high school and collegiate athletes in metropolitan detroit history in h\n",
            "Cato June [0.905] \n",
            "    cato nnamdi june born november 18 1979 is a highschool football coach and former american football linebacker he was selected by the indianapolis colts of the national football league nfl in the sixth round of the 2003 nfl draft a 2006 pro bowl choice june was a member of the super bowl xli champion\n",
            "Tom Brady [0.912] \n",
            "    thomas edward patrick tom brady jr born august 3 1977 is an american football quarterback for the new england patriots of the national football league nflafter playing college football for the university of michigan he was drafted by the patriots in the 6th round of the 2000 nfl draft in bradys 13 f\n",
            "Greg Landry [0.914] \n",
            "    gregory paul landry born december 18 1946 in nashua new hampshire is a former american football player and coach who played quarterback in the national football league from 1968 to 1981 and again in 1984 he played for the detroit lions baltimore colts and chicago bearshe was the first quarterback se\n",
            "Pete Richardson [0.916] \n",
            "    pete richardson born october 17 1946 in youngstown ohio is a former american football defensive back in the national football league and former college head coachrichardson played college football at university of dayton and was drafted by the buffalo bills in the sixth round of the 1968 nfl draft h\n",
            "\n",
            "=================================================================\n",
            "CLUSTER 17\n",
            "tour:25.69% | pga:21.35% | golf:14.05% | open:7.28% | golfer:6.22% | \n",
            "\n",
            "Bob Heintz [0.757] \n",
            "    robert edward heintz born may 1 1970 is an american professional golfer who plays on the nationwide tourheintz was born in syosset new york he was a threetime ivy league champion at yale universityheintz turned professional in 1992 and joined the nike tour now nationwide tour in 1994 then took a hia\n",
            "Sonny Skinner [0.762] \n",
            "    sonny skinner born august 18 1960 is an american professional golfer who plays on the champions tourskinner was born in portsmouth virginia he turned professional in 1982skinner joined the pga tour in 1990 after going through qualifying school he played on the nationwide tour in 1991 after a poor pe\n",
            "Todd Barranger [0.769] \n",
            "    todd barranger born october 19 1968 is an american professional golfer who played on the pga tour asian tour and the nationwide tourbarranger joined the pga tour in 1994 earning his tour card through qualifying school but he wasnt able to retain his card he played in a limited amount of nationwide t\n",
            "Tim Conley [0.769] \n",
            "    tim conley born december 8 1958 is an american professional golfer who played on the pga tour nationwide tour and most recently the champions tourconley joined the pga tour in 1993 earning his card through qualifying school he did not perform well on tour in his rookie year but he did win the nike k\n",
            "Bruce Zabriski [0.772] \n",
            "    bruce zabriski born august 3 1957 is an american professional golfer who played on the pga tour european tour and the nationwide tourzabriski joined the european tour in 1985 and would play on the tour until 1987 his best finish came at the benson hedges international open where he finished in a tie\n",
            "\n",
            "=================================================================\n",
            "CLUSTER 18\n",
            "republican:6.08% | senate:5.05% | district:4.42% | state:3.89% | democratic:3.68% | \n",
            "\n",
            "Bob Smith (American politician) [0.929] \n",
            "    robert c smith redirects here for the 19th century british astrologer see robert cross smithrobert clinton bob smith born march 30 1941 is an american politician who served as a member of the united states house of representatives for new hampshires 1st congressional district from 1985 to 1990 and t\n",
            "Bob Menendez [0.933] \n",
            "    robert bob menendez born january 1 1954 is the senior united states senator from new jersey he is a member of the democratic party first appointed to the senate in january 2006 he was elected chairman of the united states senate committee on foreign relations in january 2013in 1974 at the age of 20 \n",
            "Micheal R. Williams [0.935] \n",
            "    micheal r williams born february 6 1955 in knoxville tennessee is a tennessee politician who formerly served in the tennessee state senate and was elected county mayor of union county in august 2010 a resident of maynardville in the tennessee state senate williams represented the 4th district which \n",
            "Cleo Fields [0.938] \n",
            "    cleo c fields born november 22 1962 is an american attorney politician and member of the democratic party from the us state of louisiana he represented louisianas 4th congressional district in the united states house of representatives from 1993 to 1997 and ran unsuccessfully for governor of louisia\n",
            "Steve Rauschenberger [0.939] \n",
            "    steve rauschenberger born august 29 1956 elgin illinois served as a republican member of the illinois state senate from 1993 to 2007 he was first elected to the state senate in 1992 while state senator he was a member of a group of conservative state senators elected in 1992 who often challenged the\n",
            "\n",
            "=================================================================\n",
            "CLUSTER 19\n",
            "basketball:14.07% | coach:9.09% | nba:7.66% | points:4.54% | season:4.13% | \n",
            "\n",
            "Sherron Collins [0.887] \n",
            "    sherron marlon collins born march 18 1987 is an american professional basketball player who last played for the texas legends of the nba dleague he formerly played for the charlotte bobcats of the national basketball association nba he has also played for the maine red claws of the nba dleague and h\n",
            "Tommy Amaker [0.898] \n",
            "    harold tommy amaker born june 6 1965 is an american ncaa division i college basketball coach and the current head coach of the harvard university mens basketball team he has also coached for the university of michigan and seton hall university he played point guard and later served as an assistant c\n",
            "Pat Riley [0.899] \n",
            "    patrick james pat riley born march 20 1945 is an american professional basketball executive and a former coach and player in the national basketball association nba he has been the team president of the miami heat since 1995 a position that enabled him to serve as their de facto general manager and \n",
            "Trey Burke [0.9] \n",
            "    alfonso clark trey burke iii born november 12 1992 is an american basketball player currently with the utah jazz of the national basketball association nba he was drafted by the minnesota timberwolves with the 9th overall pick in the 2013 nba draft and immediately traded to the jazz he played colleg\n",
            "Clemon Johnson [0.901] \n",
            "    clemon johnson born september 12 1956 is a retired american professional basketball player and the former head basketball coach at florida am johnson was a 610 240 lb 110 kg center who played 761 games for four teams during his 10 seasons in the national basketball association from 197478 he played \n",
            "\n",
            "=================================================================\n",
            "CLUSTER 20\n",
            "air:14.87% | force:10.59% | command:9.71% | commander:9.45% | staff:6.15% | \n",
            "\n",
            "Neil D. Van Sickle [0.798] \n",
            "    neil david van sickle born july 8 1915 is a retired american air force major general who was the deputy inspector general at headquarters united states air force washington dc the inspector general is responsible for evaluating command mission accomplishment the effectiveness of management utilizati\n",
            "William Y. Smith [0.799] \n",
            "    general william young smith born august 1314 1925 is a retired united states air force fourstar general who served as chief of staff supreme headquarters allied powers europe cofs shape from 1979 to 1981 and as deputy commander in chief us european command dcinceur from 1981 to 1983smith was born in\n",
            "James R. Brown [0.806] \n",
            "    james robert brown born june 17 1930 was a lieutenant general in the united states air force who served as vice commander of tactical air command with headquarters at langley air force base virginia the command comprises more than 118000 military and civilian personnel stationed at 18 major tactical\n",
            "Freddie L. Poston [0.808] \n",
            "    freddie lee poston born september 16 1925 was an american lieutenant general who was chief of staff united states pacific command camp h m smith hawaii poston is responsible to the commander in chief pacific for management of key military staff activities requiring coordinated air force navy army an\n",
            "Craven C. Rogers Jr. [0.809] \n",
            "    craven c rogers jr born september 16 1934 was a lieutenant general in the united states air force who served as deputy commander in chief us central command at macdill air force base florida the command was tasked with achieving us national objectives in southwest asia the persian gulf and the horn \n",
            "\n",
            "=================================================================\n",
            "CLUSTER 21\n",
            "party:6.44% | minister:6.41% | election:5.46% | parliament:3.14% | elected:3.05% | \n",
            "\n",
            "Stephen Harper [0.933] \n",
            "    stephen joseph harper pc mp born april 30 1959 is a canadian politician who is the 22nd and current prime minister of canada and the leader of the conservative party harper became prime minister in 2006 forming a minority government after the 2006 election he is the first prime minister to come from\n",
            "Lucienne Robillard [0.936] \n",
            "    lucienne robillard pc born june 16 1945 is a canadian politician and a member of the liberal party of canada she sat in the house of commons of canada as the member of parliament for the riding of westmountvillemarie in montrealrobillard had a career as a social worker before entering politics in th\n",
            "Paul Martin [0.94] \n",
            "    paul edgar philippe martin pc cc born august 28 1938 also known as paul martin jr is a canadian politician who was the 21st prime minister of canada and leader of the liberal party of canada after being the canadian minister of financeon november 14 2003 martin succeeded jean chrtien as leader of th\n",
            "Monique Landry [0.942] \n",
            "    monique landry pc born december 25 1937 is a former canadian politician a physiotherapist and administrator she was first elected to the canadian house of commons in the 1984 general election that brought the progressive conservative party to power under the leadership of brian mulroney hers was an \n",
            "Nicol Stephen, Baron Stephen [0.942] \n",
            "    nicol ross stephen baron stephen born 23 march 1960 is a scottish liberal democrat politician he was the member of the scottish parliament for aberdeen south and was leader of the scottish liberal democrats from 2005 to 2008 he is a former deputy first minister of scotland and minister for enterpris\n",
            "\n",
            "=================================================================\n",
            "CLUSTER 22\n",
            "she:14.61% | her:9.56% | miss:1.65% | actress:1.39% | women:1.11% | \n",
            "\n",
            "Lauren Royal [0.932] \n",
            "    lauren royal born march 3 circa 1965 is a book writer from california royal has written both historic and novelistic booksa selfproclaimed angels baseball fan royal has never let the general public know exactly how old she is at the age of eight she decided that she wanted to become a writer she won\n",
            "Barbara Hershey [0.933] \n",
            "    barbara hershey born barbara lynn herzstein february 5 1948 once known as barbara seagull is an american actress in a career spanning nearly 50 years she has played a variety of roles on television and in cinema in several genres including westerns and comedies she began acting at age 17 in 1965 but\n",
            "Janet Jackson [0.933] \n",
            "    janet damita jo jackson born may 16 1966 is an american singer songwriter and actress known for a series of sonically innovative socially conscious and sexually provocative records as well as elaborate stage shows television roles and film roles she has been a prominent figure in popular culture for\n",
            "Janine Shepherd [0.935] \n",
            "    janine lee shepherd am born 1962 is an australian pilot and former crosscountry skier shepherds career as an athlete ended when she suffered major injuries when hit by a truck during training before the accident she had been in contention to win australias first ever medal at the winter olympics tho\n",
            "Ellina Graypel [0.935] \n",
            "    ellina graypel born july 19 1972 is an awardwinning russian singersongwriter she was born near the volga river in the heart of russia she spent most of her youth growing up on a military base near belarus in the former soviet union the military base was underground and literally right next door to a\n",
            "\n",
            "=================================================================\n",
            "CLUSTER 23\n",
            "film:16.65% | films:5.41% | festival:4.38% | directed:3.27% | feature:3.15% | \n",
            "\n",
            "Shona Auerbach [0.886] \n",
            "    shona auerbach is a british film director and cinematographerauerbach began her career as a stills photographer she studied film at manchester university and cinematography at leeds before completing her master of arts at the polish national film school in d her first directorial effort was the 1996\n",
            "Singeetam Srinivasa Rao [0.887] \n",
            "    singeetam srinivasa rao born 21 september 1931 is an indian film director producer screenwriter composer singer lyricist and actor known for his works in telugu tamil kannada malayalam and hindi films across multiple genresthe octogenerain is widely regarded as one of the versatile directors of indi\n",
            "Nitzan Gilady [0.899] \n",
            "    nitzan gilady also known as nitzan giladi hebrew is an israeli film director who has written produced and directed the documentary films in satmar custody 2003 and jerusalem is proud to present 2008 and the last enemy and it runs in the family 2010 his films have received 13 international awards par\n",
            "Robb Moss [0.9] \n",
            "    robb moss is an independent documentary filmmaker and professor at harvard university notable work includes such films as the same river twice secrecy film and the tourist his films are often about the passage of time and its effect on characters stories and memoriesthe same river twice was nominate\n",
            "Justin Edgar [0.902] \n",
            "    justin edgar is a british film directorborn in handsworth birmingham on 18 august 1971 edgar graduated from portsmouth university in 1996 with a first class degree in film in 1998 he directed the short comedy dirty phonecalls for itvs first cut scheme it became a worldwide festival hit and won the 1\n",
            "\n",
            "=================================================================\n",
            "CLUSTER 24\n",
            "music:9.62% | orchestra:9.25% | symphony:6.12% | opera:4.79% | conductor:4.38% | \n",
            "\n",
            "Heiichiro Ohyama [0.886] \n",
            "    heiichiro ohyama yama heiichir born 1947 in kyoto japan is a japanese conductor and violisthe has a longestablished reputation as a remarkable conductor and one of the nations most renowned violists in addition to his post as music director and conductor of the santa barbara chamber orchestra he is \n",
            "Toshiyuki Shimada [0.897] \n",
            "    toshiyuki shimada is a japanese american orchestral conductor he is music director of both the eastern connecticut symphony orchestra in new london ct and the orchestra of the southern finger lakes in corning ny he has been music director of the yale symphony orchestra of yale university since 2005 \n",
            "Brenton Broadstock [0.9] \n",
            "    brenton broadstock ao born 1952 is an australian composerbroadstock was born in melbourne he studied history politics and music at monash university and later composition and theory with donald freund at the university of memphis in the united states and with peter sculthorpe at the university of sy\n",
            "David Porcelijn [0.901] \n",
            "    david porcelijn born 7 january 1947 in achtkarspelen is a dutch composer and conductordavid porcelijn studied flute composition and conducting at the royal conservatoire of music in the hague he also studied the baroque flute specialising in authentic performance practice of the baroque and classica\n",
            "Hugh Wolff [0.902] \n",
            "    hugh wolff born 21 october 1953 in paris is an american conductorhe was born in paris while his father was serving in the u s foreign service then spent his primaryschool years in london he received his higher education at harvard and at peabody conservatory between harvard and peabody he spent a ye\n",
            "\n",
            "=================================================================\n"
          ],
          "name": "stdout"
        }
      ]
    },
    {
      "cell_type": "code",
      "metadata": {
        "id": "2bNrSrZPm5CQ",
        "colab_type": "code",
        "colab": {
          "base_uri": "https://localhost:8080/",
          "height": 1000
        },
        "outputId": "212b8d36-4802-4746-832a-ee6743cec477"
      },
      "source": [
        "k=100\n",
        "visualize_document_clusters(wiki, tf_idf, centroids[k], cluster_assignment[k], k,\n",
        "                            map_index_to_word, display_content=False)"
      ],
      "execution_count": 39,
      "outputs": [
        {
          "output_type": "stream",
          "text": [
            "==========================================================\n",
            "CLUSTER 0\n",
            "brazilian:13.52% | brazil:8.27% | de:5.73% | rio:5.09% | paulo:5.05% | \n",
            "=================================================================\n",
            "CLUSTER 1\n",
            "film:18.27% | festival:5.35% | films:5.2% | documentary:3.73% | directed:3.58% | \n",
            "=================================================================\n",
            "CLUSTER 2\n",
            "comics:19.67% | comic:12.3% | strip:3.84% | graphic:3.67% | book:3.43% | \n",
            "=================================================================\n",
            "CLUSTER 3\n",
            "mayor:14.18% | city:4.73% | council:3.69% | elected:3.23% | election:2.83% | \n",
            "=================================================================\n",
            "CLUSTER 4\n",
            "tour:25.78% | pga:21.48% | golf:13.96% | open:7.32% | golfer:6.25% | \n",
            "=================================================================\n",
            "CLUSTER 5\n",
            "band:11.09% | album:4.83% | bands:3.24% | rock:3.18% | guitar:3.13% | \n",
            "=================================================================\n",
            "CLUSTER 6\n",
            "football:12.03% | afl:11.27% | australian:8.27% | season:5.82% | club:5.77% | \n",
            "=================================================================\n",
            "CLUSTER 7\n",
            "cricket:19.41% | firstclass:11.38% | cricketer:7.36% | batsman:6.82% | wickets:6.08% | \n",
            "=================================================================\n",
            "CLUSTER 8\n",
            "physics:18.1% | quantum:6.39% | theoretical:4.86% | theory:4.16% | research:4.12% | \n",
            "=================================================================\n",
            "CLUSTER 9\n",
            "editor:5.18% | journalism:4.17% | journalist:3.53% | news:3.1% | times:3.0% | \n",
            "=================================================================\n",
            "CLUSTER 10\n",
            "history:5.41% | university:4.25% | studies:3.86% | professor:3.71% | research:2.51% | \n",
            "=================================================================\n",
            "CLUSTER 11\n",
            "rugby:21.9% | cup:5.77% | against:5.09% | union:4.63% | played:4.34% | \n",
            "=================================================================\n",
            "CLUSTER 12\n",
            "election:9.37% | manitoba:9.26% | liberal:7.41% | riding:6.52% | quebec:6.32% | \n",
            "=================================================================\n",
            "CLUSTER 13\n",
            "party:7.91% | election:5.14% | parliament:3.32% | elected:3.27% | seat:2.73% | \n",
            "=================================================================\n",
            "CLUSTER 14\n",
            "republican:6.81% | senate:5.38% | district:4.65% | state:4.04% | house:3.86% | \n",
            "=================================================================\n",
            "CLUSTER 15\n",
            "poker:47.73% | wsop:12.09% | event:9.13% | limit:7.76% | winnings:7.24% | \n",
            "=================================================================\n",
            "CLUSTER 16\n",
            "bishop:14.74% | church:8.26% | diocese:7.48% | archbishop:7.41% | ordained:5.55% | \n",
            "=================================================================\n",
            "CLUSTER 17\n",
            "football:11.89% | nfl:10.88% | yards:8.37% | bowl:5.26% | quarterback:4.11% | \n",
            "=================================================================\n",
            "CLUSTER 18\n",
            "baseball:11.77% | league:10.87% | runs:6.18% | major:5.15% | batted:4.48% | \n",
            "=================================================================\n",
            "CLUSTER 19\n",
            "she:11.6% | her:7.16% | women:1.75% | book:1.13% | university:1.09% | \n",
            "=================================================================\n",
            "CLUSTER 20\n",
            "de:12.8% | la:5.97% | french:2.85% | el:2.44% | france:2.25% | \n",
            "=================================================================\n",
            "CLUSTER 21\n",
            "soccer:29.86% | league:7.2% | indoor:6.6% | team:5.38% | season:5.17% | \n",
            "=================================================================\n",
            "CLUSTER 22\n",
            "town:9.29% | league:8.07% | season:6.69% | club:6.43% | loan:6.29% | \n",
            "=================================================================\n",
            "CLUSTER 23\n",
            "linguistics:16.11% | language:14.89% | linguistic:6.32% | languages:4.23% | research:3.65% | \n",
            "=================================================================\n",
            "CLUSTER 24\n",
            "basketball:16.34% | nba:11.39% | points:6.6% | season:4.36% | player:4.33% | \n",
            "=================================================================\n",
            "CLUSTER 25\n",
            "russian:17.36% | soviet:6.43% | moscow:6.03% | russia:5.63% | vladimir:2.4% | \n",
            "=================================================================\n",
            "CLUSTER 26\n",
            "law:24.71% | legal:5.12% | professor:3.95% | university:3.8% | school:3.35% | \n",
            "=================================================================\n",
            "CLUSTER 27\n",
            "league:8.83% | cup:7.02% | goals:5.93% | season:5.24% | scored:5.23% | \n",
            "=================================================================\n",
            "CLUSTER 28\n",
            "radio:13.42% | show:6.5% | bbc:3.88% | host:3.41% | station:3.41% | \n",
            "=================================================================\n",
            "CLUSTER 29\n",
            "research:6.06% | medical:4.36% | medicine:4.09% | psychology:3.71% | professor:3.12% | \n",
            "=================================================================\n",
            "CLUSTER 30\n",
            "chef:25.98% | restaurant:14.5% | culinary:7.16% | cooking:6.63% | food:6.03% | \n",
            "=================================================================\n",
            "CLUSTER 31\n",
            "news:14.85% | anchor:7.84% | she:5.98% | reporter:5.71% | correspondent:3.17% | \n",
            "=================================================================\n",
            "CLUSTER 32\n",
            "theatre:18.56% | directed:3.41% | production:3.24% | musical:2.85% | play:2.74% | \n",
            "=================================================================\n",
            "CLUSTER 33\n",
            "violin:18.82% | violinist:7.63% | orchestra:6.81% | music:6.12% | symphony:4.35% | \n",
            "=================================================================\n",
            "CLUSTER 34\n",
            "philosophy:22.81% | philosophical:4.47% | university:4.42% | philosopher:4.06% | professor:4.03% | \n",
            "=================================================================\n",
            "CLUSTER 35\n",
            "ambassador:10.1% | foreign:8.59% | nations:6.4% | affairs:6.37% | united:4.69% | \n",
            "=================================================================\n",
            "CLUSTER 36\n",
            "minister:16.19% | prime:6.26% | party:4.3% | cabinet:4.18% | government:3.82% | \n",
            "=================================================================\n",
            "CLUSTER 37\n",
            "mathematics:14.81% | mathematical:11.22% | theory:5.43% | professor:4.71% | mathematician:4.53% | \n",
            "=================================================================\n",
            "CLUSTER 38\n",
            "she:16.08% | her:13.75% | actress:3.23% | film:2.27% | music:1.95% | \n",
            "=================================================================\n",
            "CLUSTER 39\n",
            "photography:11.65% | photographer:7.52% | photographs:5.56% | photographic:3.22% | images:3.22% | \n",
            "=================================================================\n",
            "CLUSTER 40\n",
            "football:5.03% | club:4.43% | cup:4.0% | team:3.99% | fc:3.75% | \n",
            "=================================================================\n",
            "CLUSTER 41\n",
            "miss:35.8% | pageant:20.59% | usa:12.34% | she:11.19% | her:6.34% | \n",
            "=================================================================\n",
            "CLUSTER 42\n",
            "army:7.74% | military:7.56% | commander:7.25% | command:7.12% | staff:5.51% | \n",
            "=================================================================\n",
            "CLUSTER 43\n",
            "scottish:20.33% | scotland:11.41% | glasgow:6.12% | snp:4.72% | edinburgh:4.02% | \n",
            "=================================================================\n",
            "CLUSTER 44\n",
            "puerto:31.01% | rico:22.16% | rican:6.55% | juan:4.15% | ricos:3.18% | \n",
            "=================================================================\n",
            "CLUSTER 45\n",
            "economics:16.82% | economic:10.19% | economist:5.78% | research:4.74% | finance:4.27% | \n",
            "=================================================================\n",
            "CLUSTER 46\n",
            "art:10.9% | gallery:4.37% | artist:3.66% | painting:3.35% | paintings:3.34% | \n",
            "=================================================================\n",
            "CLUSTER 47\n",
            "zimbabwe:24.5% | zimbabwean:8.21% | mugabe:6.74% | harare:6.06% | mbira:4.7% | \n",
            "=================================================================\n",
            "CLUSTER 48\n",
            "design:16.56% | architecture:11.65% | architectural:5.78% | architect:3.89% | architects:3.77% | \n",
            "=================================================================\n",
            "CLUSTER 49\n",
            "tennis:18.79% | doubles:15.91% | singles:9.99% | open:8.35% | slam:6.26% | \n",
            "=================================================================\n",
            "CLUSTER 50\n",
            "computer:11.76% | software:6.59% | science:3.59% | systems:3.24% | computing:3.19% | \n",
            "=================================================================\n",
            "CLUSTER 51\n",
            "role:5.18% | series:4.76% | film:4.57% | actor:4.28% | television:4.08% | \n",
            "=================================================================\n",
            "CLUSTER 52\n",
            "food:20.75% | wine:12.04% | cooking:4.98% | she:3.35% | cookbook:3.11% | \n",
            "=================================================================\n",
            "CLUSTER 53\n",
            "coach:20.34% | head:8.62% | basketball:6.2% | coaching:5.13% | football:4.68% | \n",
            "=================================================================\n",
            "CLUSTER 54\n",
            "art:21.1% | museum:18.65% | gallery:7.68% | arts:4.54% | contemporary:4.46% | \n",
            "=================================================================\n",
            "CLUSTER 55\n",
            "jewish:21.81% | rabbi:15.96% | israel:3.94% | yeshiva:3.42% | hebrew:3.13% | \n",
            "=================================================================\n",
            "CLUSTER 56\n",
            "marathon:46.59% | half:8.83% | she:8.08% | hours:6.36% | championships:6.06% | \n",
            "=================================================================\n",
            "CLUSTER 57\n",
            "album:10.71% | released:5.38% | single:4.0% | song:3.9% | music:3.87% | \n",
            "=================================================================\n",
            "CLUSTER 58\n",
            "music:5.62% | jazz:5.08% | album:2.43% | records:2.12% | band:2.11% | \n",
            "=================================================================\n",
            "CLUSTER 59\n",
            "iraqi:17.97% | iraq:14.83% | baghdad:6.0% | saddam:4.72% | hussein:3.79% | \n",
            "=================================================================\n",
            "CLUSTER 60\n",
            "olympics:5.99% | championships:5.68% | olympic:5.52% | world:3.99% | medal:3.85% | \n",
            "=================================================================\n",
            "CLUSTER 61\n",
            "racing:12.6% | formula:7.83% | race:6.6% | car:6.13% | driver:5.53% | \n",
            "=================================================================\n",
            "CLUSTER 62\n",
            "air:38.17% | force:24.65% | command:10.98% | commander:9.89% | base:8.31% | \n",
            "=================================================================\n",
            "CLUSTER 63\n",
            "orchestra:20.36% | symphony:14.76% | conductor:11.13% | music:7.65% | philharmonic:7.63% | \n",
            "=================================================================\n",
            "CLUSTER 64\n",
            "wrestling:30.03% | wwe:16.72% | wrestler:9.11% | tag:7.96% | championship:7.96% | \n",
            "=================================================================\n",
            "CLUSTER 65\n",
            "freestyle:15.43% | swimming:12.28% | m:11.8% | swimmer:9.02% | heat:7.49% | \n",
            "=================================================================\n",
            "CLUSTER 66\n",
            "hurling:17.04% | allireland:14.99% | munster:9.48% | intercounty:9.0% | cork:8.29% | \n",
            "=================================================================\n",
            "CLUSTER 67\n",
            "gay:19.48% | lesbian:6.69% | lgbt:5.35% | queer:2.57% | bisexual:2.43% | \n",
            "=================================================================\n",
            "CLUSTER 68\n",
            "lds:19.4% | church:18.38% | churchs:9.91% | latterday:7.24% | seventy:7.19% | \n",
            "=================================================================\n",
            "CLUSTER 69\n",
            "opera:26.45% | she:6.5% | la:4.02% | sang:3.88% | operatic:3.67% | \n",
            "=================================================================\n",
            "CLUSTER 70\n",
            "health:20.67% | medicine:8.16% | medical:8.12% | care:5.23% | research:3.23% | \n",
            "=================================================================\n",
            "CLUSTER 71\n",
            "ballet:23.02% | dance:17.42% | dancer:7.43% | she:5.79% | choreographer:4.8% | \n",
            "=================================================================\n",
            "CLUSTER 72\n",
            "rugby:12.59% | league:9.09% | nrl:6.58% | super:5.69% | queensland:4.68% | \n",
            "=================================================================\n",
            "CLUSTER 73\n",
            "boxing:13.2% | fight:8.46% | title:6.96% | boxer:6.62% | champion:5.89% | \n",
            "=================================================================\n",
            "CLUSTER 74\n",
            "engineering:10.08% | research:5.79% | chemistry:5.68% | science:4.82% | technology:4.19% | \n",
            "=================================================================\n",
            "CLUSTER 75\n",
            "business:3.72% | chairman:3.34% | board:3.01% | company:2.9% | ceo:2.61% | \n",
            "=================================================================\n",
            "CLUSTER 76\n",
            "he:1.08% | that:0.93% | his:0.89% | it:0.69% | has:0.66% | \n",
            "=================================================================\n",
            "CLUSTER 77\n",
            "film:10.9% | films:8.31% | tamil:7.28% | indian:6.62% | telugu:5.85% | \n",
            "=================================================================\n",
            "CLUSTER 78\n",
            "fashion:21.85% | she:5.96% | her:4.77% | designer:4.33% | vogue:4.05% | \n",
            "=================================================================\n",
            "CLUSTER 79\n",
            "climate:23.85% | change:10.72% | energy:6.63% | global:5.62% | environmental:5.35% | \n",
            "=================================================================\n",
            "CLUSTER 80\n",
            "police:23.31% | constable:5.19% | chief:4.87% | commissioner:3.77% | officers:3.44% | \n",
            "=================================================================\n",
            "CLUSTER 81\n",
            "rights:15.46% | human:11.22% | she:3.59% | law:2.98% | civil:2.83% | \n",
            "=================================================================\n",
            "CLUSTER 82\n",
            "greek:22.28% | greece:8.79% | athens:7.54% | hellenic:2.34% | she:2.19% | \n",
            "=================================================================\n",
            "CLUSTER 83\n",
            "she:18.54% | her:5.19% | party:3.9% | election:3.24% | member:2.94% | \n",
            "=================================================================\n",
            "CLUSTER 84\n",
            "comedy:5.35% | show:4.57% | television:4.06% | series:3.27% | producer:2.76% | \n",
            "=================================================================\n",
            "CLUSTER 85\n",
            "india:9.53% | indian:8.75% | sabha:4.46% | lok:4.02% | singh:3.28% | \n",
            "=================================================================\n",
            "CLUSTER 86\n",
            "canadian:11.79% | canada:7.54% | ontario:4.67% | toronto:4.47% | alberta:2.5% | \n",
            "=================================================================\n",
            "CLUSTER 87\n",
            "manager:16.28% | football:7.24% | league:7.2% | club:6.07% | division:4.47% | \n",
            "=================================================================\n",
            "CLUSTER 88\n",
            "hong:28.57% | kong:26.57% | chinese:6.46% | china:3.7% | wong:3.43% | \n",
            "=================================================================\n",
            "CLUSTER 89\n",
            "animation:19.41% | animated:9.63% | animator:7.07% | film:6.68% | disney:4.16% | \n",
            "=================================================================\n",
            "CLUSTER 90\n",
            "policy:5.17% | political:4.28% | university:3.72% | international:3.32% | research:3.25% | \n",
            "=================================================================\n",
            "CLUSTER 91\n",
            "prison:4.11% | sentenced:2.95% | court:2.77% | convicted:2.74% | arrested:2.4% | \n",
            "=================================================================\n",
            "CLUSTER 92\n",
            "metres:17.76% | championships:14.4% | athletics:9.96% | she:7.68% | m:7.29% | \n",
            "=================================================================\n",
            "CLUSTER 93\n",
            "hockey:21.97% | nhl:13.83% | ice:6.71% | season:5.3% | league:4.84% | \n",
            "=================================================================\n",
            "CLUSTER 94\n",
            "chess:41.42% | grandmaster:8.47% | olympiad:6.56% | championship:6.38% | fide:5.89% | \n",
            "=================================================================\n",
            "CLUSTER 95\n",
            "baseball:9.78% | league:9.74% | pitcher:8.2% | era:8.05% | pitched:7.34% | \n",
            "=================================================================\n",
            "CLUSTER 96\n",
            "court:13.73% | judge:11.5% | district:8.1% | law:7.65% | justice:5.71% | \n",
            "=================================================================\n",
            "CLUSTER 97\n",
            "poetry:20.72% | poems:8.04% | poet:6.78% | poets:4.17% | literary:4.03% | \n",
            "=================================================================\n",
            "CLUSTER 98\n",
            "novel:7.84% | fiction:5.87% | published:4.38% | book:4.13% | novels:3.86% | \n",
            "=================================================================\n",
            "CLUSTER 99\n",
            "music:12.44% | piano:4.89% | composition:4.09% | composer:3.75% | orchestra:3.64% | \n",
            "=================================================================\n"
          ],
          "name": "stdout"
        }
      ]
    }
  ]
}