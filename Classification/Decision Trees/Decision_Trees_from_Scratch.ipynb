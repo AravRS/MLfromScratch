{
  "nbformat": 4,
  "nbformat_minor": 0,
  "metadata": {
    "colab": {
      "name": "Decision Trees from Scratch",
      "provenance": [],
      "collapsed_sections": [],
      "toc_visible": true
    },
    "kernelspec": {
      "name": "python3",
      "display_name": "Python 3"
    }
  },
  "cells": [
    {
      "cell_type": "markdown",
      "metadata": {
        "id": "6Uh8qkZVkFUG",
        "colab_type": "text"
      },
      "source": [
        "# Decision Trees from Scratch"
      ]
    },
    {
      "cell_type": "markdown",
      "metadata": {
        "id": "2m0Rspk6kQ2h",
        "colab_type": "text"
      },
      "source": [
        "#### Necessary Imports"
      ]
    },
    {
      "cell_type": "code",
      "metadata": {
        "id": "MPt-E0n8kClJ",
        "colab_type": "code",
        "colab": {}
      },
      "source": [
        "import numpy as np\n",
        "import pandas as pd\n",
        "import matplotlib.pyplot as plt\n",
        "import seaborn as sns\n",
        "sns.set()"
      ],
      "execution_count": 0,
      "outputs": []
    },
    {
      "cell_type": "markdown",
      "metadata": {
        "id": "CbwvxAqqkU2l",
        "colab_type": "text"
      },
      "source": [
        "## Data"
      ]
    },
    {
      "cell_type": "code",
      "metadata": {
        "id": "vAzHKIkCkSbr",
        "colab_type": "code",
        "outputId": "b2dab47d-69ee-4d1d-c8a6-a41d0e2dc33b",
        "colab": {
          "base_uri": "https://localhost:8080/",
          "height": 660
        }
      },
      "source": [
        "loans = pd.read_csv(\"lending-club-data.csv\")\n",
        "loans.head()"
      ],
      "execution_count": 3,
      "outputs": [
        {
          "output_type": "execute_result",
          "data": {
            "text/html": [
              "<div>\n",
              "<style scoped>\n",
              "    .dataframe tbody tr th:only-of-type {\n",
              "        vertical-align: middle;\n",
              "    }\n",
              "\n",
              "    .dataframe tbody tr th {\n",
              "        vertical-align: top;\n",
              "    }\n",
              "\n",
              "    .dataframe thead th {\n",
              "        text-align: right;\n",
              "    }\n",
              "</style>\n",
              "<table border=\"1\" class=\"dataframe\">\n",
              "  <thead>\n",
              "    <tr style=\"text-align: right;\">\n",
              "      <th></th>\n",
              "      <th>id</th>\n",
              "      <th>member_id</th>\n",
              "      <th>loan_amnt</th>\n",
              "      <th>funded_amnt</th>\n",
              "      <th>funded_amnt_inv</th>\n",
              "      <th>term</th>\n",
              "      <th>int_rate</th>\n",
              "      <th>installment</th>\n",
              "      <th>grade</th>\n",
              "      <th>sub_grade</th>\n",
              "      <th>emp_title</th>\n",
              "      <th>emp_length</th>\n",
              "      <th>home_ownership</th>\n",
              "      <th>annual_inc</th>\n",
              "      <th>is_inc_v</th>\n",
              "      <th>issue_d</th>\n",
              "      <th>loan_status</th>\n",
              "      <th>pymnt_plan</th>\n",
              "      <th>url</th>\n",
              "      <th>desc</th>\n",
              "      <th>purpose</th>\n",
              "      <th>title</th>\n",
              "      <th>zip_code</th>\n",
              "      <th>addr_state</th>\n",
              "      <th>dti</th>\n",
              "      <th>delinq_2yrs</th>\n",
              "      <th>earliest_cr_line</th>\n",
              "      <th>inq_last_6mths</th>\n",
              "      <th>mths_since_last_delinq</th>\n",
              "      <th>mths_since_last_record</th>\n",
              "      <th>open_acc</th>\n",
              "      <th>pub_rec</th>\n",
              "      <th>revol_bal</th>\n",
              "      <th>revol_util</th>\n",
              "      <th>total_acc</th>\n",
              "      <th>initial_list_status</th>\n",
              "      <th>out_prncp</th>\n",
              "      <th>out_prncp_inv</th>\n",
              "      <th>total_pymnt</th>\n",
              "      <th>total_pymnt_inv</th>\n",
              "      <th>total_rec_prncp</th>\n",
              "      <th>total_rec_int</th>\n",
              "      <th>total_rec_late_fee</th>\n",
              "      <th>recoveries</th>\n",
              "      <th>collection_recovery_fee</th>\n",
              "      <th>last_pymnt_d</th>\n",
              "      <th>last_pymnt_amnt</th>\n",
              "      <th>next_pymnt_d</th>\n",
              "      <th>last_credit_pull_d</th>\n",
              "      <th>collections_12_mths_ex_med</th>\n",
              "      <th>mths_since_last_major_derog</th>\n",
              "      <th>policy_code</th>\n",
              "      <th>not_compliant</th>\n",
              "      <th>status</th>\n",
              "      <th>inactive_loans</th>\n",
              "      <th>bad_loans</th>\n",
              "      <th>emp_length_num</th>\n",
              "      <th>grade_num</th>\n",
              "      <th>sub_grade_num</th>\n",
              "      <th>delinq_2yrs_zero</th>\n",
              "      <th>pub_rec_zero</th>\n",
              "      <th>collections_12_mths_zero</th>\n",
              "      <th>short_emp</th>\n",
              "      <th>payment_inc_ratio</th>\n",
              "      <th>final_d</th>\n",
              "      <th>last_delinq_none</th>\n",
              "      <th>last_record_none</th>\n",
              "      <th>last_major_derog_none</th>\n",
              "    </tr>\n",
              "  </thead>\n",
              "  <tbody>\n",
              "    <tr>\n",
              "      <th>0</th>\n",
              "      <td>1077501</td>\n",
              "      <td>1296599</td>\n",
              "      <td>5000</td>\n",
              "      <td>5000</td>\n",
              "      <td>4975</td>\n",
              "      <td>36 months</td>\n",
              "      <td>10.65</td>\n",
              "      <td>162.87</td>\n",
              "      <td>B</td>\n",
              "      <td>B2</td>\n",
              "      <td>NaN</td>\n",
              "      <td>10+ years</td>\n",
              "      <td>RENT</td>\n",
              "      <td>24000.0</td>\n",
              "      <td>Verified</td>\n",
              "      <td>20111201T000000</td>\n",
              "      <td>Fully Paid</td>\n",
              "      <td>n</td>\n",
              "      <td>https://www.lendingclub.com/browse/loanDetail....</td>\n",
              "      <td>Borrower added on 12/22/11 &gt; I need to upgra...</td>\n",
              "      <td>credit_card</td>\n",
              "      <td>Computer</td>\n",
              "      <td>860xx</td>\n",
              "      <td>AZ</td>\n",
              "      <td>27.65</td>\n",
              "      <td>0.0</td>\n",
              "      <td>19850101T000000</td>\n",
              "      <td>1.0</td>\n",
              "      <td>NaN</td>\n",
              "      <td>NaN</td>\n",
              "      <td>3.0</td>\n",
              "      <td>0.0</td>\n",
              "      <td>13648</td>\n",
              "      <td>83.7</td>\n",
              "      <td>9.0</td>\n",
              "      <td>f</td>\n",
              "      <td>0.0</td>\n",
              "      <td>0.0</td>\n",
              "      <td>5861.07</td>\n",
              "      <td>5831.78</td>\n",
              "      <td>5000.00</td>\n",
              "      <td>861.07</td>\n",
              "      <td>0.00</td>\n",
              "      <td>0.00</td>\n",
              "      <td>0.00</td>\n",
              "      <td>20150101T000000</td>\n",
              "      <td>171.62</td>\n",
              "      <td>NaN</td>\n",
              "      <td>20150101T000000</td>\n",
              "      <td>0.0</td>\n",
              "      <td>NaN</td>\n",
              "      <td>1</td>\n",
              "      <td>0</td>\n",
              "      <td>Fully Paid</td>\n",
              "      <td>1</td>\n",
              "      <td>0</td>\n",
              "      <td>11</td>\n",
              "      <td>5</td>\n",
              "      <td>0.4</td>\n",
              "      <td>1.0</td>\n",
              "      <td>1.0</td>\n",
              "      <td>1.0</td>\n",
              "      <td>0</td>\n",
              "      <td>8.14350</td>\n",
              "      <td>20141201T000000</td>\n",
              "      <td>1</td>\n",
              "      <td>1</td>\n",
              "      <td>1</td>\n",
              "    </tr>\n",
              "    <tr>\n",
              "      <th>1</th>\n",
              "      <td>1077430</td>\n",
              "      <td>1314167</td>\n",
              "      <td>2500</td>\n",
              "      <td>2500</td>\n",
              "      <td>2500</td>\n",
              "      <td>60 months</td>\n",
              "      <td>15.27</td>\n",
              "      <td>59.83</td>\n",
              "      <td>C</td>\n",
              "      <td>C4</td>\n",
              "      <td>Ryder</td>\n",
              "      <td>&lt; 1 year</td>\n",
              "      <td>RENT</td>\n",
              "      <td>30000.0</td>\n",
              "      <td>Source Verified</td>\n",
              "      <td>20111201T000000</td>\n",
              "      <td>Charged Off</td>\n",
              "      <td>n</td>\n",
              "      <td>https://www.lendingclub.com/browse/loanDetail....</td>\n",
              "      <td>Borrower added on 12/22/11 &gt; I plan to use t...</td>\n",
              "      <td>car</td>\n",
              "      <td>bike</td>\n",
              "      <td>309xx</td>\n",
              "      <td>GA</td>\n",
              "      <td>1.00</td>\n",
              "      <td>0.0</td>\n",
              "      <td>19990401T000000</td>\n",
              "      <td>5.0</td>\n",
              "      <td>NaN</td>\n",
              "      <td>NaN</td>\n",
              "      <td>3.0</td>\n",
              "      <td>0.0</td>\n",
              "      <td>1687</td>\n",
              "      <td>9.4</td>\n",
              "      <td>4.0</td>\n",
              "      <td>f</td>\n",
              "      <td>0.0</td>\n",
              "      <td>0.0</td>\n",
              "      <td>1008.71</td>\n",
              "      <td>1008.71</td>\n",
              "      <td>456.46</td>\n",
              "      <td>435.17</td>\n",
              "      <td>0.00</td>\n",
              "      <td>117.08</td>\n",
              "      <td>1.11</td>\n",
              "      <td>20130401T000000</td>\n",
              "      <td>119.66</td>\n",
              "      <td>NaN</td>\n",
              "      <td>20130901T000000</td>\n",
              "      <td>0.0</td>\n",
              "      <td>NaN</td>\n",
              "      <td>1</td>\n",
              "      <td>0</td>\n",
              "      <td>Charged Off</td>\n",
              "      <td>1</td>\n",
              "      <td>1</td>\n",
              "      <td>1</td>\n",
              "      <td>4</td>\n",
              "      <td>0.8</td>\n",
              "      <td>1.0</td>\n",
              "      <td>1.0</td>\n",
              "      <td>1.0</td>\n",
              "      <td>1</td>\n",
              "      <td>2.39320</td>\n",
              "      <td>20161201T000000</td>\n",
              "      <td>1</td>\n",
              "      <td>1</td>\n",
              "      <td>1</td>\n",
              "    </tr>\n",
              "    <tr>\n",
              "      <th>2</th>\n",
              "      <td>1077175</td>\n",
              "      <td>1313524</td>\n",
              "      <td>2400</td>\n",
              "      <td>2400</td>\n",
              "      <td>2400</td>\n",
              "      <td>36 months</td>\n",
              "      <td>15.96</td>\n",
              "      <td>84.33</td>\n",
              "      <td>C</td>\n",
              "      <td>C5</td>\n",
              "      <td>NaN</td>\n",
              "      <td>10+ years</td>\n",
              "      <td>RENT</td>\n",
              "      <td>12252.0</td>\n",
              "      <td>Not Verified</td>\n",
              "      <td>20111201T000000</td>\n",
              "      <td>Fully Paid</td>\n",
              "      <td>n</td>\n",
              "      <td>https://www.lendingclub.com/browse/loanDetail....</td>\n",
              "      <td>NaN</td>\n",
              "      <td>small_business</td>\n",
              "      <td>real estate business</td>\n",
              "      <td>606xx</td>\n",
              "      <td>IL</td>\n",
              "      <td>8.72</td>\n",
              "      <td>0.0</td>\n",
              "      <td>20011101T000000</td>\n",
              "      <td>2.0</td>\n",
              "      <td>NaN</td>\n",
              "      <td>NaN</td>\n",
              "      <td>2.0</td>\n",
              "      <td>0.0</td>\n",
              "      <td>2956</td>\n",
              "      <td>98.5</td>\n",
              "      <td>10.0</td>\n",
              "      <td>f</td>\n",
              "      <td>0.0</td>\n",
              "      <td>0.0</td>\n",
              "      <td>3003.65</td>\n",
              "      <td>3003.65</td>\n",
              "      <td>2400.00</td>\n",
              "      <td>603.65</td>\n",
              "      <td>0.00</td>\n",
              "      <td>0.00</td>\n",
              "      <td>0.00</td>\n",
              "      <td>20140601T000000</td>\n",
              "      <td>649.91</td>\n",
              "      <td>NaN</td>\n",
              "      <td>20150201T000000</td>\n",
              "      <td>0.0</td>\n",
              "      <td>NaN</td>\n",
              "      <td>1</td>\n",
              "      <td>0</td>\n",
              "      <td>Fully Paid</td>\n",
              "      <td>1</td>\n",
              "      <td>0</td>\n",
              "      <td>11</td>\n",
              "      <td>4</td>\n",
              "      <td>1.0</td>\n",
              "      <td>1.0</td>\n",
              "      <td>1.0</td>\n",
              "      <td>1.0</td>\n",
              "      <td>0</td>\n",
              "      <td>8.25955</td>\n",
              "      <td>20141201T000000</td>\n",
              "      <td>1</td>\n",
              "      <td>1</td>\n",
              "      <td>1</td>\n",
              "    </tr>\n",
              "    <tr>\n",
              "      <th>3</th>\n",
              "      <td>1076863</td>\n",
              "      <td>1277178</td>\n",
              "      <td>10000</td>\n",
              "      <td>10000</td>\n",
              "      <td>10000</td>\n",
              "      <td>36 months</td>\n",
              "      <td>13.49</td>\n",
              "      <td>339.31</td>\n",
              "      <td>C</td>\n",
              "      <td>C1</td>\n",
              "      <td>AIR RESOURCES BOARD</td>\n",
              "      <td>10+ years</td>\n",
              "      <td>RENT</td>\n",
              "      <td>49200.0</td>\n",
              "      <td>Source Verified</td>\n",
              "      <td>20111201T000000</td>\n",
              "      <td>Fully Paid</td>\n",
              "      <td>n</td>\n",
              "      <td>https://www.lendingclub.com/browse/loanDetail....</td>\n",
              "      <td>Borrower added on 12/21/11 &gt; to pay for prop...</td>\n",
              "      <td>other</td>\n",
              "      <td>personel</td>\n",
              "      <td>917xx</td>\n",
              "      <td>CA</td>\n",
              "      <td>20.00</td>\n",
              "      <td>0.0</td>\n",
              "      <td>19960201T000000</td>\n",
              "      <td>1.0</td>\n",
              "      <td>35.0</td>\n",
              "      <td>NaN</td>\n",
              "      <td>10.0</td>\n",
              "      <td>0.0</td>\n",
              "      <td>5598</td>\n",
              "      <td>21.0</td>\n",
              "      <td>37.0</td>\n",
              "      <td>f</td>\n",
              "      <td>0.0</td>\n",
              "      <td>0.0</td>\n",
              "      <td>12226.30</td>\n",
              "      <td>12226.30</td>\n",
              "      <td>10000.00</td>\n",
              "      <td>2209.33</td>\n",
              "      <td>16.97</td>\n",
              "      <td>0.00</td>\n",
              "      <td>0.00</td>\n",
              "      <td>20150101T000000</td>\n",
              "      <td>357.48</td>\n",
              "      <td>NaN</td>\n",
              "      <td>20150101T000000</td>\n",
              "      <td>0.0</td>\n",
              "      <td>NaN</td>\n",
              "      <td>1</td>\n",
              "      <td>0</td>\n",
              "      <td>Fully Paid</td>\n",
              "      <td>1</td>\n",
              "      <td>0</td>\n",
              "      <td>11</td>\n",
              "      <td>4</td>\n",
              "      <td>0.2</td>\n",
              "      <td>1.0</td>\n",
              "      <td>1.0</td>\n",
              "      <td>1.0</td>\n",
              "      <td>0</td>\n",
              "      <td>8.27585</td>\n",
              "      <td>20141201T000000</td>\n",
              "      <td>0</td>\n",
              "      <td>1</td>\n",
              "      <td>1</td>\n",
              "    </tr>\n",
              "    <tr>\n",
              "      <th>4</th>\n",
              "      <td>1075269</td>\n",
              "      <td>1311441</td>\n",
              "      <td>5000</td>\n",
              "      <td>5000</td>\n",
              "      <td>5000</td>\n",
              "      <td>36 months</td>\n",
              "      <td>7.90</td>\n",
              "      <td>156.46</td>\n",
              "      <td>A</td>\n",
              "      <td>A4</td>\n",
              "      <td>Veolia Transportaton</td>\n",
              "      <td>3 years</td>\n",
              "      <td>RENT</td>\n",
              "      <td>36000.0</td>\n",
              "      <td>Source Verified</td>\n",
              "      <td>20111201T000000</td>\n",
              "      <td>Fully Paid</td>\n",
              "      <td>n</td>\n",
              "      <td>https://www.lendingclub.com/browse/loanDetail....</td>\n",
              "      <td>NaN</td>\n",
              "      <td>wedding</td>\n",
              "      <td>My wedding loan I promise to pay back</td>\n",
              "      <td>852xx</td>\n",
              "      <td>AZ</td>\n",
              "      <td>11.20</td>\n",
              "      <td>0.0</td>\n",
              "      <td>20041101T000000</td>\n",
              "      <td>3.0</td>\n",
              "      <td>NaN</td>\n",
              "      <td>NaN</td>\n",
              "      <td>9.0</td>\n",
              "      <td>0.0</td>\n",
              "      <td>7963</td>\n",
              "      <td>28.3</td>\n",
              "      <td>12.0</td>\n",
              "      <td>f</td>\n",
              "      <td>0.0</td>\n",
              "      <td>0.0</td>\n",
              "      <td>5631.38</td>\n",
              "      <td>5631.38</td>\n",
              "      <td>5000.00</td>\n",
              "      <td>631.38</td>\n",
              "      <td>0.00</td>\n",
              "      <td>0.00</td>\n",
              "      <td>0.00</td>\n",
              "      <td>20150101T000000</td>\n",
              "      <td>161.03</td>\n",
              "      <td>NaN</td>\n",
              "      <td>20150201T000000</td>\n",
              "      <td>0.0</td>\n",
              "      <td>NaN</td>\n",
              "      <td>1</td>\n",
              "      <td>0</td>\n",
              "      <td>Fully Paid</td>\n",
              "      <td>1</td>\n",
              "      <td>0</td>\n",
              "      <td>4</td>\n",
              "      <td>6</td>\n",
              "      <td>0.8</td>\n",
              "      <td>1.0</td>\n",
              "      <td>1.0</td>\n",
              "      <td>1.0</td>\n",
              "      <td>0</td>\n",
              "      <td>5.21533</td>\n",
              "      <td>20141201T000000</td>\n",
              "      <td>1</td>\n",
              "      <td>1</td>\n",
              "      <td>1</td>\n",
              "    </tr>\n",
              "  </tbody>\n",
              "</table>\n",
              "</div>"
            ],
            "text/plain": [
              "        id  member_id  ...  last_record_none  last_major_derog_none\n",
              "0  1077501    1296599  ...                 1                      1\n",
              "1  1077430    1314167  ...                 1                      1\n",
              "2  1077175    1313524  ...                 1                      1\n",
              "3  1076863    1277178  ...                 1                      1\n",
              "4  1075269    1311441  ...                 1                      1\n",
              "\n",
              "[5 rows x 68 columns]"
            ]
          },
          "metadata": {
            "tags": []
          },
          "execution_count": 3
        }
      ]
    },
    {
      "cell_type": "code",
      "metadata": {
        "id": "GY7OyvshnoSg",
        "colab_type": "code",
        "outputId": "d1f2cb6a-17bc-4a87-be58-12c9545a1b55",
        "colab": {
          "base_uri": "https://localhost:8080/",
          "height": 1000
        }
      },
      "source": [
        "loans.info()"
      ],
      "execution_count": 4,
      "outputs": [
        {
          "output_type": "stream",
          "text": [
            "<class 'pandas.core.frame.DataFrame'>\n",
            "RangeIndex: 122607 entries, 0 to 122606\n",
            "Data columns (total 68 columns):\n",
            " #   Column                       Non-Null Count   Dtype  \n",
            "---  ------                       --------------   -----  \n",
            " 0   id                           122607 non-null  int64  \n",
            " 1   member_id                    122607 non-null  int64  \n",
            " 2   loan_amnt                    122607 non-null  int64  \n",
            " 3   funded_amnt                  122607 non-null  int64  \n",
            " 4   funded_amnt_inv              122607 non-null  int64  \n",
            " 5   term                         122607 non-null  object \n",
            " 6   int_rate                     122607 non-null  float64\n",
            " 7   installment                  122607 non-null  float64\n",
            " 8   grade                        122607 non-null  object \n",
            " 9   sub_grade                    122607 non-null  object \n",
            " 10  emp_title                    115767 non-null  object \n",
            " 11  emp_length                   118516 non-null  object \n",
            " 12  home_ownership               122607 non-null  object \n",
            " 13  annual_inc                   122603 non-null  float64\n",
            " 14  is_inc_v                     122607 non-null  object \n",
            " 15  issue_d                      122607 non-null  object \n",
            " 16  loan_status                  122607 non-null  object \n",
            " 17  pymnt_plan                   122607 non-null  object \n",
            " 18  url                          122607 non-null  object \n",
            " 19  desc                         60705 non-null   object \n",
            " 20  purpose                      122607 non-null  object \n",
            " 21  title                        122596 non-null  object \n",
            " 22  zip_code                     122607 non-null  object \n",
            " 23  addr_state                   122607 non-null  object \n",
            " 24  dti                          122607 non-null  float64\n",
            " 25  delinq_2yrs                  122578 non-null  float64\n",
            " 26  earliest_cr_line             122578 non-null  object \n",
            " 27  inq_last_6mths               122578 non-null  float64\n",
            " 28  mths_since_last_delinq       50500 non-null   float64\n",
            " 29  mths_since_last_record       12531 non-null   float64\n",
            " 30  open_acc                     122578 non-null  float64\n",
            " 31  pub_rec                      122578 non-null  float64\n",
            " 32  revol_bal                    122607 non-null  int64  \n",
            " 33  revol_util                   122607 non-null  float64\n",
            " 34  total_acc                    122578 non-null  float64\n",
            " 35  initial_list_status          122607 non-null  object \n",
            " 36  out_prncp                    122607 non-null  float64\n",
            " 37  out_prncp_inv                122607 non-null  float64\n",
            " 38  total_pymnt                  122607 non-null  float64\n",
            " 39  total_pymnt_inv              122607 non-null  float64\n",
            " 40  total_rec_prncp              122607 non-null  float64\n",
            " 41  total_rec_int                122607 non-null  float64\n",
            " 42  total_rec_late_fee           122607 non-null  float64\n",
            " 43  recoveries                   122607 non-null  float64\n",
            " 44  collection_recovery_fee      122607 non-null  float64\n",
            " 45  last_pymnt_d                 122271 non-null  object \n",
            " 46  last_pymnt_amnt              122607 non-null  float64\n",
            " 47  next_pymnt_d                 2907 non-null    object \n",
            " 48  last_credit_pull_d           122601 non-null  object \n",
            " 49  collections_12_mths_ex_med   122462 non-null  float64\n",
            " 50  mths_since_last_major_derog  15460 non-null   float64\n",
            " 51  policy_code                  122607 non-null  int64  \n",
            " 52  not_compliant                122607 non-null  int64  \n",
            " 53  status                       122607 non-null  object \n",
            " 54  inactive_loans               122607 non-null  int64  \n",
            " 55  bad_loans                    122607 non-null  int64  \n",
            " 56  emp_length_num               122607 non-null  int64  \n",
            " 57  grade_num                    122607 non-null  int64  \n",
            " 58  sub_grade_num                122607 non-null  float64\n",
            " 59  delinq_2yrs_zero             122578 non-null  float64\n",
            " 60  pub_rec_zero                 122578 non-null  float64\n",
            " 61  collections_12_mths_zero     122462 non-null  float64\n",
            " 62  short_emp                    122607 non-null  int64  \n",
            " 63  payment_inc_ratio            122603 non-null  float64\n",
            " 64  final_d                      122607 non-null  object \n",
            " 65  last_delinq_none             122607 non-null  int64  \n",
            " 66  last_record_none             122607 non-null  int64  \n",
            " 67  last_major_derog_none        122607 non-null  int64  \n",
            "dtypes: float64(29), int64(16), object(23)\n",
            "memory usage: 63.6+ MB\n"
          ],
          "name": "stdout"
        }
      ]
    },
    {
      "cell_type": "code",
      "metadata": {
        "id": "W1IqcPiunsof",
        "colab_type": "code",
        "outputId": "31c8cd67-d272-4794-c550-9d1ec0c415dd",
        "colab": {
          "base_uri": "https://localhost:8080/",
          "height": 432
        }
      },
      "source": [
        "loans.describe(include='all')"
      ],
      "execution_count": 5,
      "outputs": [
        {
          "output_type": "execute_result",
          "data": {
            "text/html": [
              "<div>\n",
              "<style scoped>\n",
              "    .dataframe tbody tr th:only-of-type {\n",
              "        vertical-align: middle;\n",
              "    }\n",
              "\n",
              "    .dataframe tbody tr th {\n",
              "        vertical-align: top;\n",
              "    }\n",
              "\n",
              "    .dataframe thead th {\n",
              "        text-align: right;\n",
              "    }\n",
              "</style>\n",
              "<table border=\"1\" class=\"dataframe\">\n",
              "  <thead>\n",
              "    <tr style=\"text-align: right;\">\n",
              "      <th></th>\n",
              "      <th>id</th>\n",
              "      <th>member_id</th>\n",
              "      <th>loan_amnt</th>\n",
              "      <th>funded_amnt</th>\n",
              "      <th>funded_amnt_inv</th>\n",
              "      <th>term</th>\n",
              "      <th>int_rate</th>\n",
              "      <th>installment</th>\n",
              "      <th>grade</th>\n",
              "      <th>sub_grade</th>\n",
              "      <th>emp_title</th>\n",
              "      <th>emp_length</th>\n",
              "      <th>home_ownership</th>\n",
              "      <th>annual_inc</th>\n",
              "      <th>is_inc_v</th>\n",
              "      <th>issue_d</th>\n",
              "      <th>loan_status</th>\n",
              "      <th>pymnt_plan</th>\n",
              "      <th>url</th>\n",
              "      <th>desc</th>\n",
              "      <th>purpose</th>\n",
              "      <th>title</th>\n",
              "      <th>zip_code</th>\n",
              "      <th>addr_state</th>\n",
              "      <th>dti</th>\n",
              "      <th>delinq_2yrs</th>\n",
              "      <th>earliest_cr_line</th>\n",
              "      <th>inq_last_6mths</th>\n",
              "      <th>mths_since_last_delinq</th>\n",
              "      <th>mths_since_last_record</th>\n",
              "      <th>open_acc</th>\n",
              "      <th>pub_rec</th>\n",
              "      <th>revol_bal</th>\n",
              "      <th>revol_util</th>\n",
              "      <th>total_acc</th>\n",
              "      <th>initial_list_status</th>\n",
              "      <th>out_prncp</th>\n",
              "      <th>out_prncp_inv</th>\n",
              "      <th>total_pymnt</th>\n",
              "      <th>total_pymnt_inv</th>\n",
              "      <th>total_rec_prncp</th>\n",
              "      <th>total_rec_int</th>\n",
              "      <th>total_rec_late_fee</th>\n",
              "      <th>recoveries</th>\n",
              "      <th>collection_recovery_fee</th>\n",
              "      <th>last_pymnt_d</th>\n",
              "      <th>last_pymnt_amnt</th>\n",
              "      <th>next_pymnt_d</th>\n",
              "      <th>last_credit_pull_d</th>\n",
              "      <th>collections_12_mths_ex_med</th>\n",
              "      <th>mths_since_last_major_derog</th>\n",
              "      <th>policy_code</th>\n",
              "      <th>not_compliant</th>\n",
              "      <th>status</th>\n",
              "      <th>inactive_loans</th>\n",
              "      <th>bad_loans</th>\n",
              "      <th>emp_length_num</th>\n",
              "      <th>grade_num</th>\n",
              "      <th>sub_grade_num</th>\n",
              "      <th>delinq_2yrs_zero</th>\n",
              "      <th>pub_rec_zero</th>\n",
              "      <th>collections_12_mths_zero</th>\n",
              "      <th>short_emp</th>\n",
              "      <th>payment_inc_ratio</th>\n",
              "      <th>final_d</th>\n",
              "      <th>last_delinq_none</th>\n",
              "      <th>last_record_none</th>\n",
              "      <th>last_major_derog_none</th>\n",
              "    </tr>\n",
              "  </thead>\n",
              "  <tbody>\n",
              "    <tr>\n",
              "      <th>count</th>\n",
              "      <td>1.226070e+05</td>\n",
              "      <td>1.226070e+05</td>\n",
              "      <td>122607.000000</td>\n",
              "      <td>122607.000000</td>\n",
              "      <td>122607.000000</td>\n",
              "      <td>122607</td>\n",
              "      <td>122607.000000</td>\n",
              "      <td>122607.000000</td>\n",
              "      <td>122607</td>\n",
              "      <td>122607</td>\n",
              "      <td>115767</td>\n",
              "      <td>118516</td>\n",
              "      <td>122607</td>\n",
              "      <td>1.226030e+05</td>\n",
              "      <td>122607</td>\n",
              "      <td>122607</td>\n",
              "      <td>122607</td>\n",
              "      <td>122607</td>\n",
              "      <td>122607</td>\n",
              "      <td>60705</td>\n",
              "      <td>122607</td>\n",
              "      <td>122596</td>\n",
              "      <td>122607</td>\n",
              "      <td>122607</td>\n",
              "      <td>122607.000000</td>\n",
              "      <td>122578.000000</td>\n",
              "      <td>122578</td>\n",
              "      <td>122578.000000</td>\n",
              "      <td>50500.000000</td>\n",
              "      <td>12531.000000</td>\n",
              "      <td>122578.000000</td>\n",
              "      <td>122578.000000</td>\n",
              "      <td>1.226070e+05</td>\n",
              "      <td>122607.000000</td>\n",
              "      <td>122578.000000</td>\n",
              "      <td>122607</td>\n",
              "      <td>122607.000000</td>\n",
              "      <td>122607.000000</td>\n",
              "      <td>122607.000000</td>\n",
              "      <td>122607.000000</td>\n",
              "      <td>122607.000000</td>\n",
              "      <td>122607.000000</td>\n",
              "      <td>122607.000000</td>\n",
              "      <td>122607.000000</td>\n",
              "      <td>122607.000000</td>\n",
              "      <td>122271</td>\n",
              "      <td>122607.000000</td>\n",
              "      <td>2907</td>\n",
              "      <td>122601</td>\n",
              "      <td>122462.000000</td>\n",
              "      <td>15460.000000</td>\n",
              "      <td>122607.0</td>\n",
              "      <td>122607.000000</td>\n",
              "      <td>122607</td>\n",
              "      <td>122607.0</td>\n",
              "      <td>122607.000000</td>\n",
              "      <td>122607.000000</td>\n",
              "      <td>122607.000000</td>\n",
              "      <td>122607.000000</td>\n",
              "      <td>122578.000000</td>\n",
              "      <td>122578.000000</td>\n",
              "      <td>122462.000000</td>\n",
              "      <td>122607.000000</td>\n",
              "      <td>122603.000000</td>\n",
              "      <td>122607</td>\n",
              "      <td>122607.000000</td>\n",
              "      <td>122607.000000</td>\n",
              "      <td>122607.000000</td>\n",
              "    </tr>\n",
              "    <tr>\n",
              "      <th>unique</th>\n",
              "      <td>NaN</td>\n",
              "      <td>NaN</td>\n",
              "      <td>NaN</td>\n",
              "      <td>NaN</td>\n",
              "      <td>NaN</td>\n",
              "      <td>2</td>\n",
              "      <td>NaN</td>\n",
              "      <td>NaN</td>\n",
              "      <td>7</td>\n",
              "      <td>35</td>\n",
              "      <td>77167</td>\n",
              "      <td>11</td>\n",
              "      <td>4</td>\n",
              "      <td>NaN</td>\n",
              "      <td>3</td>\n",
              "      <td>91</td>\n",
              "      <td>5</td>\n",
              "      <td>1</td>\n",
              "      <td>122607</td>\n",
              "      <td>60314</td>\n",
              "      <td>12</td>\n",
              "      <td>36602</td>\n",
              "      <td>865</td>\n",
              "      <td>50</td>\n",
              "      <td>NaN</td>\n",
              "      <td>NaN</td>\n",
              "      <td>597</td>\n",
              "      <td>NaN</td>\n",
              "      <td>NaN</td>\n",
              "      <td>NaN</td>\n",
              "      <td>NaN</td>\n",
              "      <td>NaN</td>\n",
              "      <td>NaN</td>\n",
              "      <td>NaN</td>\n",
              "      <td>NaN</td>\n",
              "      <td>2</td>\n",
              "      <td>NaN</td>\n",
              "      <td>NaN</td>\n",
              "      <td>NaN</td>\n",
              "      <td>NaN</td>\n",
              "      <td>NaN</td>\n",
              "      <td>NaN</td>\n",
              "      <td>NaN</td>\n",
              "      <td>NaN</td>\n",
              "      <td>NaN</td>\n",
              "      <td>87</td>\n",
              "      <td>NaN</td>\n",
              "      <td>89</td>\n",
              "      <td>92</td>\n",
              "      <td>NaN</td>\n",
              "      <td>NaN</td>\n",
              "      <td>NaN</td>\n",
              "      <td>NaN</td>\n",
              "      <td>3</td>\n",
              "      <td>NaN</td>\n",
              "      <td>NaN</td>\n",
              "      <td>NaN</td>\n",
              "      <td>NaN</td>\n",
              "      <td>NaN</td>\n",
              "      <td>NaN</td>\n",
              "      <td>NaN</td>\n",
              "      <td>NaN</td>\n",
              "      <td>NaN</td>\n",
              "      <td>NaN</td>\n",
              "      <td>115</td>\n",
              "      <td>NaN</td>\n",
              "      <td>NaN</td>\n",
              "      <td>NaN</td>\n",
              "    </tr>\n",
              "    <tr>\n",
              "      <th>top</th>\n",
              "      <td>NaN</td>\n",
              "      <td>NaN</td>\n",
              "      <td>NaN</td>\n",
              "      <td>NaN</td>\n",
              "      <td>NaN</td>\n",
              "      <td>36 months</td>\n",
              "      <td>NaN</td>\n",
              "      <td>NaN</td>\n",
              "      <td>B</td>\n",
              "      <td>B3</td>\n",
              "      <td>Teacher</td>\n",
              "      <td>10+ years</td>\n",
              "      <td>MORTGAGE</td>\n",
              "      <td>NaN</td>\n",
              "      <td>Verified</td>\n",
              "      <td>20130801T000000</td>\n",
              "      <td>Fully Paid</td>\n",
              "      <td>n</td>\n",
              "      <td>https://www.lendingclub.com/browse/loanDetail....</td>\n",
              "      <td></td>\n",
              "      <td>debt_consolidation</td>\n",
              "      <td>Debt consolidation</td>\n",
              "      <td>945xx</td>\n",
              "      <td>CA</td>\n",
              "      <td>NaN</td>\n",
              "      <td>NaN</td>\n",
              "      <td>20001001T000000</td>\n",
              "      <td>NaN</td>\n",
              "      <td>NaN</td>\n",
              "      <td>NaN</td>\n",
              "      <td>NaN</td>\n",
              "      <td>NaN</td>\n",
              "      <td>NaN</td>\n",
              "      <td>NaN</td>\n",
              "      <td>NaN</td>\n",
              "      <td>f</td>\n",
              "      <td>NaN</td>\n",
              "      <td>NaN</td>\n",
              "      <td>NaN</td>\n",
              "      <td>NaN</td>\n",
              "      <td>NaN</td>\n",
              "      <td>NaN</td>\n",
              "      <td>NaN</td>\n",
              "      <td>NaN</td>\n",
              "      <td>NaN</td>\n",
              "      <td>20150101T000000</td>\n",
              "      <td>NaN</td>\n",
              "      <td>20150301T000000</td>\n",
              "      <td>20150201T000000</td>\n",
              "      <td>NaN</td>\n",
              "      <td>NaN</td>\n",
              "      <td>NaN</td>\n",
              "      <td>NaN</td>\n",
              "      <td>Fully Paid</td>\n",
              "      <td>NaN</td>\n",
              "      <td>NaN</td>\n",
              "      <td>NaN</td>\n",
              "      <td>NaN</td>\n",
              "      <td>NaN</td>\n",
              "      <td>NaN</td>\n",
              "      <td>NaN</td>\n",
              "      <td>NaN</td>\n",
              "      <td>NaN</td>\n",
              "      <td>NaN</td>\n",
              "      <td>20160501T000000</td>\n",
              "      <td>NaN</td>\n",
              "      <td>NaN</td>\n",
              "      <td>NaN</td>\n",
              "    </tr>\n",
              "    <tr>\n",
              "      <th>freq</th>\n",
              "      <td>NaN</td>\n",
              "      <td>NaN</td>\n",
              "      <td>NaN</td>\n",
              "      <td>NaN</td>\n",
              "      <td>NaN</td>\n",
              "      <td>97801</td>\n",
              "      <td>NaN</td>\n",
              "      <td>NaN</td>\n",
              "      <td>37172</td>\n",
              "      <td>9036</td>\n",
              "      <td>458</td>\n",
              "      <td>34100</td>\n",
              "      <td>59240</td>\n",
              "      <td>NaN</td>\n",
              "      <td>46090</td>\n",
              "      <td>3493</td>\n",
              "      <td>97544</td>\n",
              "      <td>122607</td>\n",
              "      <td>1</td>\n",
              "      <td>227</td>\n",
              "      <td>68233</td>\n",
              "      <td>17773</td>\n",
              "      <td>1612</td>\n",
              "      <td>21637</td>\n",
              "      <td>NaN</td>\n",
              "      <td>NaN</td>\n",
              "      <td>1103</td>\n",
              "      <td>NaN</td>\n",
              "      <td>NaN</td>\n",
              "      <td>NaN</td>\n",
              "      <td>NaN</td>\n",
              "      <td>NaN</td>\n",
              "      <td>NaN</td>\n",
              "      <td>NaN</td>\n",
              "      <td>NaN</td>\n",
              "      <td>102225</td>\n",
              "      <td>NaN</td>\n",
              "      <td>NaN</td>\n",
              "      <td>NaN</td>\n",
              "      <td>NaN</td>\n",
              "      <td>NaN</td>\n",
              "      <td>NaN</td>\n",
              "      <td>NaN</td>\n",
              "      <td>NaN</td>\n",
              "      <td>NaN</td>\n",
              "      <td>6925</td>\n",
              "      <td>NaN</td>\n",
              "      <td>131</td>\n",
              "      <td>36203</td>\n",
              "      <td>NaN</td>\n",
              "      <td>NaN</td>\n",
              "      <td>NaN</td>\n",
              "      <td>NaN</td>\n",
              "      <td>99457</td>\n",
              "      <td>NaN</td>\n",
              "      <td>NaN</td>\n",
              "      <td>NaN</td>\n",
              "      <td>NaN</td>\n",
              "      <td>NaN</td>\n",
              "      <td>NaN</td>\n",
              "      <td>NaN</td>\n",
              "      <td>NaN</td>\n",
              "      <td>NaN</td>\n",
              "      <td>NaN</td>\n",
              "      <td>3102</td>\n",
              "      <td>NaN</td>\n",
              "      <td>NaN</td>\n",
              "      <td>NaN</td>\n",
              "    </tr>\n",
              "    <tr>\n",
              "      <th>mean</th>\n",
              "      <td>4.728452e+06</td>\n",
              "      <td>5.493222e+06</td>\n",
              "      <td>12809.733743</td>\n",
              "      <td>12736.123753</td>\n",
              "      <td>12497.828395</td>\n",
              "      <td>NaN</td>\n",
              "      <td>13.639487</td>\n",
              "      <td>396.623285</td>\n",
              "      <td>NaN</td>\n",
              "      <td>NaN</td>\n",
              "      <td>NaN</td>\n",
              "      <td>NaN</td>\n",
              "      <td>NaN</td>\n",
              "      <td>7.138502e+04</td>\n",
              "      <td>NaN</td>\n",
              "      <td>NaN</td>\n",
              "      <td>NaN</td>\n",
              "      <td>NaN</td>\n",
              "      <td>NaN</td>\n",
              "      <td>NaN</td>\n",
              "      <td>NaN</td>\n",
              "      <td>NaN</td>\n",
              "      <td>NaN</td>\n",
              "      <td>NaN</td>\n",
              "      <td>15.496888</td>\n",
              "      <td>0.211996</td>\n",
              "      <td>NaN</td>\n",
              "      <td>0.980861</td>\n",
              "      <td>35.258198</td>\n",
              "      <td>73.964488</td>\n",
              "      <td>10.457749</td>\n",
              "      <td>0.103477</td>\n",
              "      <td>1.483507e+04</td>\n",
              "      <td>53.716307</td>\n",
              "      <td>24.248169</td>\n",
              "      <td>NaN</td>\n",
              "      <td>22.028899</td>\n",
              "      <td>22.015354</td>\n",
              "      <td>12510.211529</td>\n",
              "      <td>12269.338465</td>\n",
              "      <td>10707.864970</td>\n",
              "      <td>1696.232305</td>\n",
              "      <td>0.742344</td>\n",
              "      <td>105.371929</td>\n",
              "      <td>4.957537</td>\n",
              "      <td>NaN</td>\n",
              "      <td>6156.808616</td>\n",
              "      <td>NaN</td>\n",
              "      <td>NaN</td>\n",
              "      <td>0.003495</td>\n",
              "      <td>42.428913</td>\n",
              "      <td>1.0</td>\n",
              "      <td>0.021761</td>\n",
              "      <td>NaN</td>\n",
              "      <td>1.0</td>\n",
              "      <td>0.188815</td>\n",
              "      <td>6.370256</td>\n",
              "      <td>4.232882</td>\n",
              "      <td>0.597509</td>\n",
              "      <td>0.858107</td>\n",
              "      <td>0.908173</td>\n",
              "      <td>0.996734</td>\n",
              "      <td>0.123672</td>\n",
              "      <td>7.564725</td>\n",
              "      <td>NaN</td>\n",
              "      <td>0.588115</td>\n",
              "      <td>0.897795</td>\n",
              "      <td>0.873906</td>\n",
              "    </tr>\n",
              "    <tr>\n",
              "      <th>std</th>\n",
              "      <td>5.938517e+06</td>\n",
              "      <td>6.604693e+06</td>\n",
              "      <td>7932.313398</td>\n",
              "      <td>7887.167118</td>\n",
              "      <td>7946.731527</td>\n",
              "      <td>NaN</td>\n",
              "      <td>4.390836</td>\n",
              "      <td>239.475936</td>\n",
              "      <td>NaN</td>\n",
              "      <td>NaN</td>\n",
              "      <td>NaN</td>\n",
              "      <td>NaN</td>\n",
              "      <td>NaN</td>\n",
              "      <td>5.841483e+04</td>\n",
              "      <td>NaN</td>\n",
              "      <td>NaN</td>\n",
              "      <td>NaN</td>\n",
              "      <td>NaN</td>\n",
              "      <td>NaN</td>\n",
              "      <td>NaN</td>\n",
              "      <td>NaN</td>\n",
              "      <td>NaN</td>\n",
              "      <td>NaN</td>\n",
              "      <td>NaN</td>\n",
              "      <td>7.497442</td>\n",
              "      <td>0.662052</td>\n",
              "      <td>NaN</td>\n",
              "      <td>1.263588</td>\n",
              "      <td>21.950074</td>\n",
              "      <td>35.855540</td>\n",
              "      <td>4.713957</td>\n",
              "      <td>0.359382</td>\n",
              "      <td>1.937773e+04</td>\n",
              "      <td>25.723881</td>\n",
              "      <td>11.629814</td>\n",
              "      <td>NaN</td>\n",
              "      <td>611.510973</td>\n",
              "      <td>611.116057</td>\n",
              "      <td>9046.331429</td>\n",
              "      <td>9061.593794</td>\n",
              "      <td>8041.776401</td>\n",
              "      <td>1793.448627</td>\n",
              "      <td>5.363268</td>\n",
              "      <td>575.651981</td>\n",
              "      <td>94.427007</td>\n",
              "      <td>NaN</td>\n",
              "      <td>7155.007894</td>\n",
              "      <td>NaN</td>\n",
              "      <td>NaN</td>\n",
              "      <td>0.063674</td>\n",
              "      <td>21.457282</td>\n",
              "      <td>0.0</td>\n",
              "      <td>0.145901</td>\n",
              "      <td>NaN</td>\n",
              "      <td>0.0</td>\n",
              "      <td>0.391363</td>\n",
              "      <td>3.736014</td>\n",
              "      <td>1.362138</td>\n",
              "      <td>0.278934</td>\n",
              "      <td>0.348942</td>\n",
              "      <td>0.288783</td>\n",
              "      <td>0.057059</td>\n",
              "      <td>0.329208</td>\n",
              "      <td>4.127291</td>\n",
              "      <td>NaN</td>\n",
              "      <td>0.492177</td>\n",
              "      <td>0.302918</td>\n",
              "      <td>0.331957</td>\n",
              "    </tr>\n",
              "    <tr>\n",
              "      <th>min</th>\n",
              "      <td>5.473400e+04</td>\n",
              "      <td>7.047300e+04</td>\n",
              "      <td>500.000000</td>\n",
              "      <td>500.000000</td>\n",
              "      <td>0.000000</td>\n",
              "      <td>NaN</td>\n",
              "      <td>5.420000</td>\n",
              "      <td>15.670000</td>\n",
              "      <td>NaN</td>\n",
              "      <td>NaN</td>\n",
              "      <td>NaN</td>\n",
              "      <td>NaN</td>\n",
              "      <td>NaN</td>\n",
              "      <td>1.896000e+03</td>\n",
              "      <td>NaN</td>\n",
              "      <td>NaN</td>\n",
              "      <td>NaN</td>\n",
              "      <td>NaN</td>\n",
              "      <td>NaN</td>\n",
              "      <td>NaN</td>\n",
              "      <td>NaN</td>\n",
              "      <td>NaN</td>\n",
              "      <td>NaN</td>\n",
              "      <td>NaN</td>\n",
              "      <td>0.000000</td>\n",
              "      <td>0.000000</td>\n",
              "      <td>NaN</td>\n",
              "      <td>0.000000</td>\n",
              "      <td>0.000000</td>\n",
              "      <td>0.000000</td>\n",
              "      <td>0.000000</td>\n",
              "      <td>0.000000</td>\n",
              "      <td>0.000000e+00</td>\n",
              "      <td>0.000000</td>\n",
              "      <td>1.000000</td>\n",
              "      <td>NaN</td>\n",
              "      <td>0.000000</td>\n",
              "      <td>0.000000</td>\n",
              "      <td>0.000000</td>\n",
              "      <td>0.000000</td>\n",
              "      <td>0.000000</td>\n",
              "      <td>0.000000</td>\n",
              "      <td>0.000000</td>\n",
              "      <td>0.000000</td>\n",
              "      <td>0.000000</td>\n",
              "      <td>NaN</td>\n",
              "      <td>0.000000</td>\n",
              "      <td>NaN</td>\n",
              "      <td>NaN</td>\n",
              "      <td>0.000000</td>\n",
              "      <td>0.000000</td>\n",
              "      <td>1.0</td>\n",
              "      <td>0.000000</td>\n",
              "      <td>NaN</td>\n",
              "      <td>1.0</td>\n",
              "      <td>0.000000</td>\n",
              "      <td>0.000000</td>\n",
              "      <td>0.000000</td>\n",
              "      <td>0.200000</td>\n",
              "      <td>0.000000</td>\n",
              "      <td>0.000000</td>\n",
              "      <td>0.000000</td>\n",
              "      <td>0.000000</td>\n",
              "      <td>0.028895</td>\n",
              "      <td>NaN</td>\n",
              "      <td>0.000000</td>\n",
              "      <td>0.000000</td>\n",
              "      <td>0.000000</td>\n",
              "    </tr>\n",
              "    <tr>\n",
              "      <th>25%</th>\n",
              "      <td>8.532925e+05</td>\n",
              "      <td>1.064872e+06</td>\n",
              "      <td>6700.000000</td>\n",
              "      <td>6625.000000</td>\n",
              "      <td>6271.000000</td>\n",
              "      <td>NaN</td>\n",
              "      <td>10.620000</td>\n",
              "      <td>215.985000</td>\n",
              "      <td>NaN</td>\n",
              "      <td>NaN</td>\n",
              "      <td>NaN</td>\n",
              "      <td>NaN</td>\n",
              "      <td>NaN</td>\n",
              "      <td>4.405250e+04</td>\n",
              "      <td>NaN</td>\n",
              "      <td>NaN</td>\n",
              "      <td>NaN</td>\n",
              "      <td>NaN</td>\n",
              "      <td>NaN</td>\n",
              "      <td>NaN</td>\n",
              "      <td>NaN</td>\n",
              "      <td>NaN</td>\n",
              "      <td>NaN</td>\n",
              "      <td>NaN</td>\n",
              "      <td>9.880000</td>\n",
              "      <td>0.000000</td>\n",
              "      <td>NaN</td>\n",
              "      <td>0.000000</td>\n",
              "      <td>17.000000</td>\n",
              "      <td>52.000000</td>\n",
              "      <td>7.000000</td>\n",
              "      <td>0.000000</td>\n",
              "      <td>5.474000e+03</td>\n",
              "      <td>34.800000</td>\n",
              "      <td>16.000000</td>\n",
              "      <td>NaN</td>\n",
              "      <td>0.000000</td>\n",
              "      <td>0.000000</td>\n",
              "      <td>5669.805000</td>\n",
              "      <td>5454.050000</td>\n",
              "      <td>4500.000000</td>\n",
              "      <td>550.555000</td>\n",
              "      <td>0.000000</td>\n",
              "      <td>0.000000</td>\n",
              "      <td>0.000000</td>\n",
              "      <td>NaN</td>\n",
              "      <td>440.180000</td>\n",
              "      <td>NaN</td>\n",
              "      <td>NaN</td>\n",
              "      <td>0.000000</td>\n",
              "      <td>25.000000</td>\n",
              "      <td>1.0</td>\n",
              "      <td>0.000000</td>\n",
              "      <td>NaN</td>\n",
              "      <td>1.0</td>\n",
              "      <td>0.000000</td>\n",
              "      <td>3.000000</td>\n",
              "      <td>3.000000</td>\n",
              "      <td>0.400000</td>\n",
              "      <td>1.000000</td>\n",
              "      <td>1.000000</td>\n",
              "      <td>1.000000</td>\n",
              "      <td>0.000000</td>\n",
              "      <td>4.362575</td>\n",
              "      <td>NaN</td>\n",
              "      <td>0.000000</td>\n",
              "      <td>1.000000</td>\n",
              "      <td>1.000000</td>\n",
              "    </tr>\n",
              "    <tr>\n",
              "      <th>50%</th>\n",
              "      <td>1.621401e+06</td>\n",
              "      <td>1.879659e+06</td>\n",
              "      <td>11000.000000</td>\n",
              "      <td>10950.000000</td>\n",
              "      <td>10500.000000</td>\n",
              "      <td>NaN</td>\n",
              "      <td>13.480000</td>\n",
              "      <td>348.180000</td>\n",
              "      <td>NaN</td>\n",
              "      <td>NaN</td>\n",
              "      <td>NaN</td>\n",
              "      <td>NaN</td>\n",
              "      <td>NaN</td>\n",
              "      <td>6.000000e+04</td>\n",
              "      <td>NaN</td>\n",
              "      <td>NaN</td>\n",
              "      <td>NaN</td>\n",
              "      <td>NaN</td>\n",
              "      <td>NaN</td>\n",
              "      <td>NaN</td>\n",
              "      <td>NaN</td>\n",
              "      <td>NaN</td>\n",
              "      <td>NaN</td>\n",
              "      <td>NaN</td>\n",
              "      <td>15.260000</td>\n",
              "      <td>0.000000</td>\n",
              "      <td>NaN</td>\n",
              "      <td>1.000000</td>\n",
              "      <td>33.000000</td>\n",
              "      <td>86.000000</td>\n",
              "      <td>10.000000</td>\n",
              "      <td>0.000000</td>\n",
              "      <td>1.058600e+04</td>\n",
              "      <td>55.700000</td>\n",
              "      <td>23.000000</td>\n",
              "      <td>NaN</td>\n",
              "      <td>0.000000</td>\n",
              "      <td>0.000000</td>\n",
              "      <td>10575.400000</td>\n",
              "      <td>10352.500000</td>\n",
              "      <td>9100.000000</td>\n",
              "      <td>1136.920000</td>\n",
              "      <td>0.000000</td>\n",
              "      <td>0.000000</td>\n",
              "      <td>0.000000</td>\n",
              "      <td>NaN</td>\n",
              "      <td>3609.580000</td>\n",
              "      <td>NaN</td>\n",
              "      <td>NaN</td>\n",
              "      <td>0.000000</td>\n",
              "      <td>41.000000</td>\n",
              "      <td>1.0</td>\n",
              "      <td>0.000000</td>\n",
              "      <td>NaN</td>\n",
              "      <td>1.0</td>\n",
              "      <td>0.000000</td>\n",
              "      <td>6.000000</td>\n",
              "      <td>4.000000</td>\n",
              "      <td>0.600000</td>\n",
              "      <td>1.000000</td>\n",
              "      <td>1.000000</td>\n",
              "      <td>1.000000</td>\n",
              "      <td>0.000000</td>\n",
              "      <td>6.965760</td>\n",
              "      <td>NaN</td>\n",
              "      <td>1.000000</td>\n",
              "      <td>1.000000</td>\n",
              "      <td>1.000000</td>\n",
              "    </tr>\n",
              "    <tr>\n",
              "      <th>75%</th>\n",
              "      <td>6.699942e+06</td>\n",
              "      <td>8.117948e+06</td>\n",
              "      <td>17600.000000</td>\n",
              "      <td>17425.000000</td>\n",
              "      <td>17000.000000</td>\n",
              "      <td>NaN</td>\n",
              "      <td>16.290000</td>\n",
              "      <td>521.930000</td>\n",
              "      <td>NaN</td>\n",
              "      <td>NaN</td>\n",
              "      <td>NaN</td>\n",
              "      <td>NaN</td>\n",
              "      <td>NaN</td>\n",
              "      <td>8.500000e+04</td>\n",
              "      <td>NaN</td>\n",
              "      <td>NaN</td>\n",
              "      <td>NaN</td>\n",
              "      <td>NaN</td>\n",
              "      <td>NaN</td>\n",
              "      <td>NaN</td>\n",
              "      <td>NaN</td>\n",
              "      <td>NaN</td>\n",
              "      <td>NaN</td>\n",
              "      <td>NaN</td>\n",
              "      <td>20.850000</td>\n",
              "      <td>0.000000</td>\n",
              "      <td>NaN</td>\n",
              "      <td>2.000000</td>\n",
              "      <td>51.000000</td>\n",
              "      <td>103.000000</td>\n",
              "      <td>13.000000</td>\n",
              "      <td>0.000000</td>\n",
              "      <td>1.855200e+04</td>\n",
              "      <td>74.300000</td>\n",
              "      <td>31.000000</td>\n",
              "      <td>NaN</td>\n",
              "      <td>0.000000</td>\n",
              "      <td>0.000000</td>\n",
              "      <td>17177.650000</td>\n",
              "      <td>16914.050000</td>\n",
              "      <td>15000.000000</td>\n",
              "      <td>2167.950000</td>\n",
              "      <td>0.000000</td>\n",
              "      <td>0.000000</td>\n",
              "      <td>0.000000</td>\n",
              "      <td>NaN</td>\n",
              "      <td>9554.700000</td>\n",
              "      <td>NaN</td>\n",
              "      <td>NaN</td>\n",
              "      <td>0.000000</td>\n",
              "      <td>60.000000</td>\n",
              "      <td>1.0</td>\n",
              "      <td>0.000000</td>\n",
              "      <td>NaN</td>\n",
              "      <td>1.0</td>\n",
              "      <td>0.000000</td>\n",
              "      <td>11.000000</td>\n",
              "      <td>5.000000</td>\n",
              "      <td>0.800000</td>\n",
              "      <td>1.000000</td>\n",
              "      <td>1.000000</td>\n",
              "      <td>1.000000</td>\n",
              "      <td>0.000000</td>\n",
              "      <td>10.215850</td>\n",
              "      <td>NaN</td>\n",
              "      <td>1.000000</td>\n",
              "      <td>1.000000</td>\n",
              "      <td>1.000000</td>\n",
              "    </tr>\n",
              "    <tr>\n",
              "      <th>max</th>\n",
              "      <td>3.784128e+07</td>\n",
              "      <td>4.060424e+07</td>\n",
              "      <td>35000.000000</td>\n",
              "      <td>35000.000000</td>\n",
              "      <td>35000.000000</td>\n",
              "      <td>NaN</td>\n",
              "      <td>26.060000</td>\n",
              "      <td>1408.130000</td>\n",
              "      <td>NaN</td>\n",
              "      <td>NaN</td>\n",
              "      <td>NaN</td>\n",
              "      <td>NaN</td>\n",
              "      <td>NaN</td>\n",
              "      <td>7.141778e+06</td>\n",
              "      <td>NaN</td>\n",
              "      <td>NaN</td>\n",
              "      <td>NaN</td>\n",
              "      <td>NaN</td>\n",
              "      <td>NaN</td>\n",
              "      <td>NaN</td>\n",
              "      <td>NaN</td>\n",
              "      <td>NaN</td>\n",
              "      <td>NaN</td>\n",
              "      <td>NaN</td>\n",
              "      <td>39.880000</td>\n",
              "      <td>29.000000</td>\n",
              "      <td>NaN</td>\n",
              "      <td>33.000000</td>\n",
              "      <td>152.000000</td>\n",
              "      <td>129.000000</td>\n",
              "      <td>76.000000</td>\n",
              "      <td>11.000000</td>\n",
              "      <td>1.743266e+06</td>\n",
              "      <td>150.700000</td>\n",
              "      <td>118.000000</td>\n",
              "      <td>NaN</td>\n",
              "      <td>34310.200000</td>\n",
              "      <td>34310.200000</td>\n",
              "      <td>55758.200000</td>\n",
              "      <td>53913.900000</td>\n",
              "      <td>35000.000000</td>\n",
              "      <td>20758.200000</td>\n",
              "      <td>208.820000</td>\n",
              "      <td>29282.100000</td>\n",
              "      <td>7002.190000</td>\n",
              "      <td>NaN</td>\n",
              "      <td>36234.400000</td>\n",
              "      <td>NaN</td>\n",
              "      <td>NaN</td>\n",
              "      <td>5.000000</td>\n",
              "      <td>152.000000</td>\n",
              "      <td>1.0</td>\n",
              "      <td>1.000000</td>\n",
              "      <td>NaN</td>\n",
              "      <td>1.0</td>\n",
              "      <td>1.000000</td>\n",
              "      <td>11.000000</td>\n",
              "      <td>6.000000</td>\n",
              "      <td>1.000000</td>\n",
              "      <td>1.000000</td>\n",
              "      <td>1.000000</td>\n",
              "      <td>1.000000</td>\n",
              "      <td>1.000000</td>\n",
              "      <td>54.171000</td>\n",
              "      <td>NaN</td>\n",
              "      <td>1.000000</td>\n",
              "      <td>1.000000</td>\n",
              "      <td>1.000000</td>\n",
              "    </tr>\n",
              "  </tbody>\n",
              "</table>\n",
              "</div>"
            ],
            "text/plain": [
              "                  id     member_id  ...  last_record_none  last_major_derog_none\n",
              "count   1.226070e+05  1.226070e+05  ...     122607.000000          122607.000000\n",
              "unique           NaN           NaN  ...               NaN                    NaN\n",
              "top              NaN           NaN  ...               NaN                    NaN\n",
              "freq             NaN           NaN  ...               NaN                    NaN\n",
              "mean    4.728452e+06  5.493222e+06  ...          0.897795               0.873906\n",
              "std     5.938517e+06  6.604693e+06  ...          0.302918               0.331957\n",
              "min     5.473400e+04  7.047300e+04  ...          0.000000               0.000000\n",
              "25%     8.532925e+05  1.064872e+06  ...          1.000000               1.000000\n",
              "50%     1.621401e+06  1.879659e+06  ...          1.000000               1.000000\n",
              "75%     6.699942e+06  8.117948e+06  ...          1.000000               1.000000\n",
              "max     3.784128e+07  4.060424e+07  ...          1.000000               1.000000\n",
              "\n",
              "[11 rows x 68 columns]"
            ]
          },
          "metadata": {
            "tags": []
          },
          "execution_count": 5
        }
      ]
    },
    {
      "cell_type": "markdown",
      "metadata": {
        "id": "dFKncGIBnlI0",
        "colab_type": "text"
      },
      "source": [
        "**Assigning the Labels:** +1 for a safe loan, and -1 for a unsafe loan."
      ]
    },
    {
      "cell_type": "code",
      "metadata": {
        "id": "RZV6gqitnSXv",
        "colab_type": "code",
        "colab": {}
      },
      "source": [
        "loans['safe_loans'] = loans['bad_loans'].apply(lambda x : +1 if x==0 else -1)\n",
        "loans = loans.drop('bad_loans', axis=1)"
      ],
      "execution_count": 0,
      "outputs": []
    },
    {
      "cell_type": "code",
      "metadata": {
        "id": "SQ1xC2VQn8mI",
        "colab_type": "code",
        "colab": {}
      },
      "source": [
        "features = ['grade', 'term', 'home_ownership', 'emp_length']\n",
        "target = 'safe_loans'\n",
        "loans = loans[features + [target]]"
      ],
      "execution_count": 0,
      "outputs": []
    },
    {
      "cell_type": "code",
      "metadata": {
        "id": "3ypmkzBqnykZ",
        "colab_type": "code",
        "outputId": "7514cde9-6f2f-4dc8-9241-1e1c7a3ee72b",
        "colab": {
          "base_uri": "https://localhost:8080/",
          "height": 363
        }
      },
      "source": [
        "loans.head(10)"
      ],
      "execution_count": 8,
      "outputs": [
        {
          "output_type": "execute_result",
          "data": {
            "text/html": [
              "<div>\n",
              "<style scoped>\n",
              "    .dataframe tbody tr th:only-of-type {\n",
              "        vertical-align: middle;\n",
              "    }\n",
              "\n",
              "    .dataframe tbody tr th {\n",
              "        vertical-align: top;\n",
              "    }\n",
              "\n",
              "    .dataframe thead th {\n",
              "        text-align: right;\n",
              "    }\n",
              "</style>\n",
              "<table border=\"1\" class=\"dataframe\">\n",
              "  <thead>\n",
              "    <tr style=\"text-align: right;\">\n",
              "      <th></th>\n",
              "      <th>grade</th>\n",
              "      <th>term</th>\n",
              "      <th>home_ownership</th>\n",
              "      <th>emp_length</th>\n",
              "      <th>safe_loans</th>\n",
              "    </tr>\n",
              "  </thead>\n",
              "  <tbody>\n",
              "    <tr>\n",
              "      <th>0</th>\n",
              "      <td>B</td>\n",
              "      <td>36 months</td>\n",
              "      <td>RENT</td>\n",
              "      <td>10+ years</td>\n",
              "      <td>1</td>\n",
              "    </tr>\n",
              "    <tr>\n",
              "      <th>1</th>\n",
              "      <td>C</td>\n",
              "      <td>60 months</td>\n",
              "      <td>RENT</td>\n",
              "      <td>&lt; 1 year</td>\n",
              "      <td>-1</td>\n",
              "    </tr>\n",
              "    <tr>\n",
              "      <th>2</th>\n",
              "      <td>C</td>\n",
              "      <td>36 months</td>\n",
              "      <td>RENT</td>\n",
              "      <td>10+ years</td>\n",
              "      <td>1</td>\n",
              "    </tr>\n",
              "    <tr>\n",
              "      <th>3</th>\n",
              "      <td>C</td>\n",
              "      <td>36 months</td>\n",
              "      <td>RENT</td>\n",
              "      <td>10+ years</td>\n",
              "      <td>1</td>\n",
              "    </tr>\n",
              "    <tr>\n",
              "      <th>4</th>\n",
              "      <td>A</td>\n",
              "      <td>36 months</td>\n",
              "      <td>RENT</td>\n",
              "      <td>3 years</td>\n",
              "      <td>1</td>\n",
              "    </tr>\n",
              "    <tr>\n",
              "      <th>5</th>\n",
              "      <td>E</td>\n",
              "      <td>36 months</td>\n",
              "      <td>RENT</td>\n",
              "      <td>9 years</td>\n",
              "      <td>1</td>\n",
              "    </tr>\n",
              "    <tr>\n",
              "      <th>6</th>\n",
              "      <td>F</td>\n",
              "      <td>60 months</td>\n",
              "      <td>OWN</td>\n",
              "      <td>4 years</td>\n",
              "      <td>-1</td>\n",
              "    </tr>\n",
              "    <tr>\n",
              "      <th>7</th>\n",
              "      <td>B</td>\n",
              "      <td>60 months</td>\n",
              "      <td>RENT</td>\n",
              "      <td>&lt; 1 year</td>\n",
              "      <td>-1</td>\n",
              "    </tr>\n",
              "    <tr>\n",
              "      <th>8</th>\n",
              "      <td>C</td>\n",
              "      <td>60 months</td>\n",
              "      <td>OWN</td>\n",
              "      <td>5 years</td>\n",
              "      <td>1</td>\n",
              "    </tr>\n",
              "    <tr>\n",
              "      <th>9</th>\n",
              "      <td>B</td>\n",
              "      <td>36 months</td>\n",
              "      <td>OWN</td>\n",
              "      <td>10+ years</td>\n",
              "      <td>1</td>\n",
              "    </tr>\n",
              "  </tbody>\n",
              "</table>\n",
              "</div>"
            ],
            "text/plain": [
              "  grade        term home_ownership emp_length  safe_loans\n",
              "0     B   36 months           RENT  10+ years           1\n",
              "1     C   60 months           RENT   < 1 year          -1\n",
              "2     C   36 months           RENT  10+ years           1\n",
              "3     C   36 months           RENT  10+ years           1\n",
              "4     A   36 months           RENT    3 years           1\n",
              "5     E   36 months           RENT    9 years           1\n",
              "6     F   60 months            OWN    4 years          -1\n",
              "7     B   60 months           RENT   < 1 year          -1\n",
              "8     C   60 months            OWN    5 years           1\n",
              "9     B   36 months            OWN  10+ years           1"
            ]
          },
          "metadata": {
            "tags": []
          },
          "execution_count": 8
        }
      ]
    },
    {
      "cell_type": "code",
      "metadata": {
        "id": "LtDvpUUNtGIn",
        "colab_type": "code",
        "colab": {}
      },
      "source": [
        "loans = loans.fillna(0)"
      ],
      "execution_count": 0,
      "outputs": []
    },
    {
      "cell_type": "code",
      "metadata": {
        "id": "W2CIIwicoCSL",
        "colab_type": "code",
        "outputId": "eb4e0c42-34a5-4657-c8ca-f447050372c8",
        "colab": {
          "base_uri": "https://localhost:8080/",
          "height": 72
        }
      },
      "source": [
        "safe_loans_raw = loans[loans[target] == 1]\n",
        "risky_loans_raw = loans[loans[target] == -1]\n",
        "print(\"Percentage of safe loans                 :\", len(safe_loans_raw) / float(len(loans)))\n",
        "print(\"Percentage of risky loans                :\", len(risky_loans_raw) / float(len(loans)))\n",
        "print(\"Total number of loans in our old dataset :\", len(loans))"
      ],
      "execution_count": 10,
      "outputs": [
        {
          "output_type": "stream",
          "text": [
            "Percentage of safe loans                 : 0.8111853319957262\n",
            "Percentage of risky loans                : 0.18881466800427382\n",
            "Total number of loans in our old dataset : 122607\n"
          ],
          "name": "stdout"
        }
      ]
    },
    {
      "cell_type": "code",
      "metadata": {
        "id": "6bW0gDF_oPnO",
        "colab_type": "code",
        "outputId": "08102515-b67a-4110-ac57-f0a707773c86",
        "colab": {
          "base_uri": "https://localhost:8080/",
          "height": 72
        }
      },
      "source": [
        "# Since there are less risky loans than safe loans, we make them equal.\n",
        "percentage = len(risky_loans_raw)/float(len(safe_loans_raw))\n",
        "safe_loans = safe_loans_raw.iloc[:int(percentage*len(safe_loans_raw))]\n",
        "risky_loans = risky_loans_raw\n",
        "loans_data = risky_loans.append(safe_loans)\n",
        "\n",
        "print(\"Percentage of safe loans                 :\", len(safe_loans) / float(len(loans_data)))\n",
        "print(\"Percentage of risky loans                :\", len(risky_loans) / float(len(loans_data)))\n",
        "print(\"Total number of loans in our new dataset :\", len(loans_data))"
      ],
      "execution_count": 11,
      "outputs": [
        {
          "output_type": "stream",
          "text": [
            "Percentage of safe loans                 : 0.5\n",
            "Percentage of risky loans                : 0.5\n",
            "Total number of loans in our new dataset : 46300\n"
          ],
          "name": "stdout"
        }
      ]
    },
    {
      "cell_type": "markdown",
      "metadata": {
        "id": "LF-mARN3n8-P",
        "colab_type": "text"
      },
      "source": [
        "**1-Hot Encoding:** Converting Categorical Features to a Binary Representation"
      ]
    },
    {
      "cell_type": "code",
      "metadata": {
        "id": "NTXky3exo_Lu",
        "colab_type": "code",
        "outputId": "b81d2297-782b-47ae-9620-fc3172f4244c",
        "colab": {
          "base_uri": "https://localhost:8080/",
          "height": 418
        }
      },
      "source": [
        "loans_data = pd.get_dummies(loans_data)\n",
        "loans_data.head(10)"
      ],
      "execution_count": 12,
      "outputs": [
        {
          "output_type": "execute_result",
          "data": {
            "text/html": [
              "<div>\n",
              "<style scoped>\n",
              "    .dataframe tbody tr th:only-of-type {\n",
              "        vertical-align: middle;\n",
              "    }\n",
              "\n",
              "    .dataframe tbody tr th {\n",
              "        vertical-align: top;\n",
              "    }\n",
              "\n",
              "    .dataframe thead th {\n",
              "        text-align: right;\n",
              "    }\n",
              "</style>\n",
              "<table border=\"1\" class=\"dataframe\">\n",
              "  <thead>\n",
              "    <tr style=\"text-align: right;\">\n",
              "      <th></th>\n",
              "      <th>safe_loans</th>\n",
              "      <th>grade_A</th>\n",
              "      <th>grade_B</th>\n",
              "      <th>grade_C</th>\n",
              "      <th>grade_D</th>\n",
              "      <th>grade_E</th>\n",
              "      <th>grade_F</th>\n",
              "      <th>grade_G</th>\n",
              "      <th>term_ 36 months</th>\n",
              "      <th>term_ 60 months</th>\n",
              "      <th>home_ownership_MORTGAGE</th>\n",
              "      <th>home_ownership_OTHER</th>\n",
              "      <th>home_ownership_OWN</th>\n",
              "      <th>home_ownership_RENT</th>\n",
              "      <th>emp_length_0</th>\n",
              "      <th>emp_length_1 year</th>\n",
              "      <th>emp_length_10+ years</th>\n",
              "      <th>emp_length_2 years</th>\n",
              "      <th>emp_length_3 years</th>\n",
              "      <th>emp_length_4 years</th>\n",
              "      <th>emp_length_5 years</th>\n",
              "      <th>emp_length_6 years</th>\n",
              "      <th>emp_length_7 years</th>\n",
              "      <th>emp_length_8 years</th>\n",
              "      <th>emp_length_9 years</th>\n",
              "      <th>emp_length_&lt; 1 year</th>\n",
              "    </tr>\n",
              "  </thead>\n",
              "  <tbody>\n",
              "    <tr>\n",
              "      <th>1</th>\n",
              "      <td>-1</td>\n",
              "      <td>0</td>\n",
              "      <td>0</td>\n",
              "      <td>1</td>\n",
              "      <td>0</td>\n",
              "      <td>0</td>\n",
              "      <td>0</td>\n",
              "      <td>0</td>\n",
              "      <td>0</td>\n",
              "      <td>1</td>\n",
              "      <td>0</td>\n",
              "      <td>0</td>\n",
              "      <td>0</td>\n",
              "      <td>1</td>\n",
              "      <td>0</td>\n",
              "      <td>0</td>\n",
              "      <td>0</td>\n",
              "      <td>0</td>\n",
              "      <td>0</td>\n",
              "      <td>0</td>\n",
              "      <td>0</td>\n",
              "      <td>0</td>\n",
              "      <td>0</td>\n",
              "      <td>0</td>\n",
              "      <td>0</td>\n",
              "      <td>1</td>\n",
              "    </tr>\n",
              "    <tr>\n",
              "      <th>6</th>\n",
              "      <td>-1</td>\n",
              "      <td>0</td>\n",
              "      <td>0</td>\n",
              "      <td>0</td>\n",
              "      <td>0</td>\n",
              "      <td>0</td>\n",
              "      <td>1</td>\n",
              "      <td>0</td>\n",
              "      <td>0</td>\n",
              "      <td>1</td>\n",
              "      <td>0</td>\n",
              "      <td>0</td>\n",
              "      <td>1</td>\n",
              "      <td>0</td>\n",
              "      <td>0</td>\n",
              "      <td>0</td>\n",
              "      <td>0</td>\n",
              "      <td>0</td>\n",
              "      <td>0</td>\n",
              "      <td>1</td>\n",
              "      <td>0</td>\n",
              "      <td>0</td>\n",
              "      <td>0</td>\n",
              "      <td>0</td>\n",
              "      <td>0</td>\n",
              "      <td>0</td>\n",
              "    </tr>\n",
              "    <tr>\n",
              "      <th>7</th>\n",
              "      <td>-1</td>\n",
              "      <td>0</td>\n",
              "      <td>1</td>\n",
              "      <td>0</td>\n",
              "      <td>0</td>\n",
              "      <td>0</td>\n",
              "      <td>0</td>\n",
              "      <td>0</td>\n",
              "      <td>0</td>\n",
              "      <td>1</td>\n",
              "      <td>0</td>\n",
              "      <td>0</td>\n",
              "      <td>0</td>\n",
              "      <td>1</td>\n",
              "      <td>0</td>\n",
              "      <td>0</td>\n",
              "      <td>0</td>\n",
              "      <td>0</td>\n",
              "      <td>0</td>\n",
              "      <td>0</td>\n",
              "      <td>0</td>\n",
              "      <td>0</td>\n",
              "      <td>0</td>\n",
              "      <td>0</td>\n",
              "      <td>0</td>\n",
              "      <td>1</td>\n",
              "    </tr>\n",
              "    <tr>\n",
              "      <th>10</th>\n",
              "      <td>-1</td>\n",
              "      <td>0</td>\n",
              "      <td>0</td>\n",
              "      <td>1</td>\n",
              "      <td>0</td>\n",
              "      <td>0</td>\n",
              "      <td>0</td>\n",
              "      <td>0</td>\n",
              "      <td>1</td>\n",
              "      <td>0</td>\n",
              "      <td>0</td>\n",
              "      <td>0</td>\n",
              "      <td>0</td>\n",
              "      <td>1</td>\n",
              "      <td>0</td>\n",
              "      <td>0</td>\n",
              "      <td>0</td>\n",
              "      <td>0</td>\n",
              "      <td>0</td>\n",
              "      <td>0</td>\n",
              "      <td>0</td>\n",
              "      <td>0</td>\n",
              "      <td>0</td>\n",
              "      <td>0</td>\n",
              "      <td>0</td>\n",
              "      <td>1</td>\n",
              "    </tr>\n",
              "    <tr>\n",
              "      <th>12</th>\n",
              "      <td>-1</td>\n",
              "      <td>0</td>\n",
              "      <td>1</td>\n",
              "      <td>0</td>\n",
              "      <td>0</td>\n",
              "      <td>0</td>\n",
              "      <td>0</td>\n",
              "      <td>0</td>\n",
              "      <td>1</td>\n",
              "      <td>0</td>\n",
              "      <td>0</td>\n",
              "      <td>0</td>\n",
              "      <td>0</td>\n",
              "      <td>1</td>\n",
              "      <td>0</td>\n",
              "      <td>0</td>\n",
              "      <td>0</td>\n",
              "      <td>0</td>\n",
              "      <td>1</td>\n",
              "      <td>0</td>\n",
              "      <td>0</td>\n",
              "      <td>0</td>\n",
              "      <td>0</td>\n",
              "      <td>0</td>\n",
              "      <td>0</td>\n",
              "      <td>0</td>\n",
              "    </tr>\n",
              "    <tr>\n",
              "      <th>18</th>\n",
              "      <td>-1</td>\n",
              "      <td>0</td>\n",
              "      <td>1</td>\n",
              "      <td>0</td>\n",
              "      <td>0</td>\n",
              "      <td>0</td>\n",
              "      <td>0</td>\n",
              "      <td>0</td>\n",
              "      <td>1</td>\n",
              "      <td>0</td>\n",
              "      <td>0</td>\n",
              "      <td>0</td>\n",
              "      <td>0</td>\n",
              "      <td>1</td>\n",
              "      <td>0</td>\n",
              "      <td>0</td>\n",
              "      <td>1</td>\n",
              "      <td>0</td>\n",
              "      <td>0</td>\n",
              "      <td>0</td>\n",
              "      <td>0</td>\n",
              "      <td>0</td>\n",
              "      <td>0</td>\n",
              "      <td>0</td>\n",
              "      <td>0</td>\n",
              "      <td>0</td>\n",
              "    </tr>\n",
              "    <tr>\n",
              "      <th>21</th>\n",
              "      <td>-1</td>\n",
              "      <td>0</td>\n",
              "      <td>1</td>\n",
              "      <td>0</td>\n",
              "      <td>0</td>\n",
              "      <td>0</td>\n",
              "      <td>0</td>\n",
              "      <td>0</td>\n",
              "      <td>1</td>\n",
              "      <td>0</td>\n",
              "      <td>0</td>\n",
              "      <td>0</td>\n",
              "      <td>0</td>\n",
              "      <td>1</td>\n",
              "      <td>0</td>\n",
              "      <td>1</td>\n",
              "      <td>0</td>\n",
              "      <td>0</td>\n",
              "      <td>0</td>\n",
              "      <td>0</td>\n",
              "      <td>0</td>\n",
              "      <td>0</td>\n",
              "      <td>0</td>\n",
              "      <td>0</td>\n",
              "      <td>0</td>\n",
              "      <td>0</td>\n",
              "    </tr>\n",
              "    <tr>\n",
              "      <th>23</th>\n",
              "      <td>-1</td>\n",
              "      <td>0</td>\n",
              "      <td>0</td>\n",
              "      <td>1</td>\n",
              "      <td>0</td>\n",
              "      <td>0</td>\n",
              "      <td>0</td>\n",
              "      <td>0</td>\n",
              "      <td>1</td>\n",
              "      <td>0</td>\n",
              "      <td>0</td>\n",
              "      <td>0</td>\n",
              "      <td>0</td>\n",
              "      <td>1</td>\n",
              "      <td>0</td>\n",
              "      <td>0</td>\n",
              "      <td>0</td>\n",
              "      <td>0</td>\n",
              "      <td>0</td>\n",
              "      <td>0</td>\n",
              "      <td>0</td>\n",
              "      <td>0</td>\n",
              "      <td>0</td>\n",
              "      <td>0</td>\n",
              "      <td>1</td>\n",
              "      <td>0</td>\n",
              "    </tr>\n",
              "    <tr>\n",
              "      <th>24</th>\n",
              "      <td>-1</td>\n",
              "      <td>0</td>\n",
              "      <td>0</td>\n",
              "      <td>0</td>\n",
              "      <td>1</td>\n",
              "      <td>0</td>\n",
              "      <td>0</td>\n",
              "      <td>0</td>\n",
              "      <td>0</td>\n",
              "      <td>1</td>\n",
              "      <td>0</td>\n",
              "      <td>0</td>\n",
              "      <td>0</td>\n",
              "      <td>1</td>\n",
              "      <td>0</td>\n",
              "      <td>0</td>\n",
              "      <td>0</td>\n",
              "      <td>1</td>\n",
              "      <td>0</td>\n",
              "      <td>0</td>\n",
              "      <td>0</td>\n",
              "      <td>0</td>\n",
              "      <td>0</td>\n",
              "      <td>0</td>\n",
              "      <td>0</td>\n",
              "      <td>0</td>\n",
              "    </tr>\n",
              "    <tr>\n",
              "      <th>41</th>\n",
              "      <td>-1</td>\n",
              "      <td>1</td>\n",
              "      <td>0</td>\n",
              "      <td>0</td>\n",
              "      <td>0</td>\n",
              "      <td>0</td>\n",
              "      <td>0</td>\n",
              "      <td>0</td>\n",
              "      <td>1</td>\n",
              "      <td>0</td>\n",
              "      <td>1</td>\n",
              "      <td>0</td>\n",
              "      <td>0</td>\n",
              "      <td>0</td>\n",
              "      <td>0</td>\n",
              "      <td>0</td>\n",
              "      <td>1</td>\n",
              "      <td>0</td>\n",
              "      <td>0</td>\n",
              "      <td>0</td>\n",
              "      <td>0</td>\n",
              "      <td>0</td>\n",
              "      <td>0</td>\n",
              "      <td>0</td>\n",
              "      <td>0</td>\n",
              "      <td>0</td>\n",
              "    </tr>\n",
              "  </tbody>\n",
              "</table>\n",
              "</div>"
            ],
            "text/plain": [
              "    safe_loans  grade_A  ...  emp_length_9 years  emp_length_< 1 year\n",
              "1           -1        0  ...                   0                    1\n",
              "6           -1        0  ...                   0                    0\n",
              "7           -1        0  ...                   0                    1\n",
              "10          -1        0  ...                   0                    1\n",
              "12          -1        0  ...                   0                    0\n",
              "18          -1        0  ...                   0                    0\n",
              "21          -1        0  ...                   0                    0\n",
              "23          -1        0  ...                   1                    0\n",
              "24          -1        0  ...                   0                    0\n",
              "41          -1        1  ...                   0                    0\n",
              "\n",
              "[10 rows x 26 columns]"
            ]
          },
          "metadata": {
            "tags": []
          },
          "execution_count": 12
        }
      ]
    },
    {
      "cell_type": "code",
      "metadata": {
        "id": "uXxumlLXrBLl",
        "colab_type": "code",
        "outputId": "a49ea442-9fe4-44b2-934f-81049a658cd4",
        "colab": {
          "base_uri": "https://localhost:8080/",
          "height": 261
        }
      },
      "source": [
        "features = loans_data.drop('safe_loans', axis=1)\n",
        "features.head()"
      ],
      "execution_count": 13,
      "outputs": [
        {
          "output_type": "execute_result",
          "data": {
            "text/html": [
              "<div>\n",
              "<style scoped>\n",
              "    .dataframe tbody tr th:only-of-type {\n",
              "        vertical-align: middle;\n",
              "    }\n",
              "\n",
              "    .dataframe tbody tr th {\n",
              "        vertical-align: top;\n",
              "    }\n",
              "\n",
              "    .dataframe thead th {\n",
              "        text-align: right;\n",
              "    }\n",
              "</style>\n",
              "<table border=\"1\" class=\"dataframe\">\n",
              "  <thead>\n",
              "    <tr style=\"text-align: right;\">\n",
              "      <th></th>\n",
              "      <th>grade_A</th>\n",
              "      <th>grade_B</th>\n",
              "      <th>grade_C</th>\n",
              "      <th>grade_D</th>\n",
              "      <th>grade_E</th>\n",
              "      <th>grade_F</th>\n",
              "      <th>grade_G</th>\n",
              "      <th>term_ 36 months</th>\n",
              "      <th>term_ 60 months</th>\n",
              "      <th>home_ownership_MORTGAGE</th>\n",
              "      <th>home_ownership_OTHER</th>\n",
              "      <th>home_ownership_OWN</th>\n",
              "      <th>home_ownership_RENT</th>\n",
              "      <th>emp_length_0</th>\n",
              "      <th>emp_length_1 year</th>\n",
              "      <th>emp_length_10+ years</th>\n",
              "      <th>emp_length_2 years</th>\n",
              "      <th>emp_length_3 years</th>\n",
              "      <th>emp_length_4 years</th>\n",
              "      <th>emp_length_5 years</th>\n",
              "      <th>emp_length_6 years</th>\n",
              "      <th>emp_length_7 years</th>\n",
              "      <th>emp_length_8 years</th>\n",
              "      <th>emp_length_9 years</th>\n",
              "      <th>emp_length_&lt; 1 year</th>\n",
              "    </tr>\n",
              "  </thead>\n",
              "  <tbody>\n",
              "    <tr>\n",
              "      <th>1</th>\n",
              "      <td>0</td>\n",
              "      <td>0</td>\n",
              "      <td>1</td>\n",
              "      <td>0</td>\n",
              "      <td>0</td>\n",
              "      <td>0</td>\n",
              "      <td>0</td>\n",
              "      <td>0</td>\n",
              "      <td>1</td>\n",
              "      <td>0</td>\n",
              "      <td>0</td>\n",
              "      <td>0</td>\n",
              "      <td>1</td>\n",
              "      <td>0</td>\n",
              "      <td>0</td>\n",
              "      <td>0</td>\n",
              "      <td>0</td>\n",
              "      <td>0</td>\n",
              "      <td>0</td>\n",
              "      <td>0</td>\n",
              "      <td>0</td>\n",
              "      <td>0</td>\n",
              "      <td>0</td>\n",
              "      <td>0</td>\n",
              "      <td>1</td>\n",
              "    </tr>\n",
              "    <tr>\n",
              "      <th>6</th>\n",
              "      <td>0</td>\n",
              "      <td>0</td>\n",
              "      <td>0</td>\n",
              "      <td>0</td>\n",
              "      <td>0</td>\n",
              "      <td>1</td>\n",
              "      <td>0</td>\n",
              "      <td>0</td>\n",
              "      <td>1</td>\n",
              "      <td>0</td>\n",
              "      <td>0</td>\n",
              "      <td>1</td>\n",
              "      <td>0</td>\n",
              "      <td>0</td>\n",
              "      <td>0</td>\n",
              "      <td>0</td>\n",
              "      <td>0</td>\n",
              "      <td>0</td>\n",
              "      <td>1</td>\n",
              "      <td>0</td>\n",
              "      <td>0</td>\n",
              "      <td>0</td>\n",
              "      <td>0</td>\n",
              "      <td>0</td>\n",
              "      <td>0</td>\n",
              "    </tr>\n",
              "    <tr>\n",
              "      <th>7</th>\n",
              "      <td>0</td>\n",
              "      <td>1</td>\n",
              "      <td>0</td>\n",
              "      <td>0</td>\n",
              "      <td>0</td>\n",
              "      <td>0</td>\n",
              "      <td>0</td>\n",
              "      <td>0</td>\n",
              "      <td>1</td>\n",
              "      <td>0</td>\n",
              "      <td>0</td>\n",
              "      <td>0</td>\n",
              "      <td>1</td>\n",
              "      <td>0</td>\n",
              "      <td>0</td>\n",
              "      <td>0</td>\n",
              "      <td>0</td>\n",
              "      <td>0</td>\n",
              "      <td>0</td>\n",
              "      <td>0</td>\n",
              "      <td>0</td>\n",
              "      <td>0</td>\n",
              "      <td>0</td>\n",
              "      <td>0</td>\n",
              "      <td>1</td>\n",
              "    </tr>\n",
              "    <tr>\n",
              "      <th>10</th>\n",
              "      <td>0</td>\n",
              "      <td>0</td>\n",
              "      <td>1</td>\n",
              "      <td>0</td>\n",
              "      <td>0</td>\n",
              "      <td>0</td>\n",
              "      <td>0</td>\n",
              "      <td>1</td>\n",
              "      <td>0</td>\n",
              "      <td>0</td>\n",
              "      <td>0</td>\n",
              "      <td>0</td>\n",
              "      <td>1</td>\n",
              "      <td>0</td>\n",
              "      <td>0</td>\n",
              "      <td>0</td>\n",
              "      <td>0</td>\n",
              "      <td>0</td>\n",
              "      <td>0</td>\n",
              "      <td>0</td>\n",
              "      <td>0</td>\n",
              "      <td>0</td>\n",
              "      <td>0</td>\n",
              "      <td>0</td>\n",
              "      <td>1</td>\n",
              "    </tr>\n",
              "    <tr>\n",
              "      <th>12</th>\n",
              "      <td>0</td>\n",
              "      <td>1</td>\n",
              "      <td>0</td>\n",
              "      <td>0</td>\n",
              "      <td>0</td>\n",
              "      <td>0</td>\n",
              "      <td>0</td>\n",
              "      <td>1</td>\n",
              "      <td>0</td>\n",
              "      <td>0</td>\n",
              "      <td>0</td>\n",
              "      <td>0</td>\n",
              "      <td>1</td>\n",
              "      <td>0</td>\n",
              "      <td>0</td>\n",
              "      <td>0</td>\n",
              "      <td>0</td>\n",
              "      <td>1</td>\n",
              "      <td>0</td>\n",
              "      <td>0</td>\n",
              "      <td>0</td>\n",
              "      <td>0</td>\n",
              "      <td>0</td>\n",
              "      <td>0</td>\n",
              "      <td>0</td>\n",
              "    </tr>\n",
              "  </tbody>\n",
              "</table>\n",
              "</div>"
            ],
            "text/plain": [
              "    grade_A  grade_B  ...  emp_length_9 years  emp_length_< 1 year\n",
              "1         0        0  ...                   0                    1\n",
              "6         0        0  ...                   0                    0\n",
              "7         0        1  ...                   0                    1\n",
              "10        0        0  ...                   0                    1\n",
              "12        0        1  ...                   0                    0\n",
              "\n",
              "[5 rows x 25 columns]"
            ]
          },
          "metadata": {
            "tags": []
          },
          "execution_count": 13
        }
      ]
    },
    {
      "cell_type": "code",
      "metadata": {
        "id": "ciYY5OoirPn2",
        "colab_type": "code",
        "outputId": "25130f4e-6df6-42c8-b8f3-ddf2f36e8fc4",
        "colab": {
          "base_uri": "https://localhost:8080/",
          "height": 35
        }
      },
      "source": [
        "print(f\"Number of features (after binarizing categorical variables) = {len(features.columns)}\")"
      ],
      "execution_count": 14,
      "outputs": [
        {
          "output_type": "stream",
          "text": [
            "Number of features (after binarizing categorical variables) = 25\n"
          ],
          "name": "stdout"
        }
      ]
    },
    {
      "cell_type": "markdown",
      "metadata": {
        "id": "n0zCy-kuXICS",
        "colab_type": "text"
      },
      "source": [
        "Loading train/test data"
      ]
    },
    {
      "cell_type": "code",
      "metadata": {
        "id": "T90l540dRiFg",
        "colab_type": "code",
        "colab": {}
      },
      "source": [
        "import json\n",
        "with open('train-idx.json', 'r') as f:\n",
        "    train_idx = json.load(f)\n",
        "with open('test-idx.json', 'r') as f:\n",
        "    test_idx = json.load(f)"
      ],
      "execution_count": 0,
      "outputs": []
    },
    {
      "cell_type": "code",
      "metadata": {
        "id": "z_MD2cwRscrf",
        "colab_type": "code",
        "colab": {}
      },
      "source": [
        "train_data =  pd.get_dummies(loans.iloc[train_idx])\n",
        "test_data =  pd.get_dummies(loans.iloc[test_idx])"
      ],
      "execution_count": 0,
      "outputs": []
    },
    {
      "cell_type": "code",
      "metadata": {
        "id": "hwB8k1OnXOZX",
        "colab_type": "code",
        "outputId": "11796412-d81d-433c-807f-30fe2408d005",
        "colab": {
          "base_uri": "https://localhost:8080/",
          "height": 35
        }
      },
      "source": [
        "print(len(train_data), len(test_data))"
      ],
      "execution_count": 17,
      "outputs": [
        {
          "output_type": "stream",
          "text": [
            "37224 9284\n"
          ],
          "name": "stdout"
        }
      ]
    },
    {
      "cell_type": "markdown",
      "metadata": {
        "id": "nyw0g3Dbtp0O",
        "colab_type": "text"
      },
      "source": [
        "## Decision Tree Model"
      ]
    },
    {
      "cell_type": "markdown",
      "metadata": {
        "id": "QtK9fzaiLlkr",
        "colab_type": "text"
      },
      "source": [
        "**Count number of mistakes while predicting majority class.**\n",
        "\n",
        "1. Calculate the number of safe loans and risky loans.\n",
        "2. Since we are assuming majority class prediction, all the data points that are not in the majority class are considered mistakes.\n",
        "3. Return the number of mistakes."
      ]
    },
    {
      "cell_type": "code",
      "metadata": {
        "id": "UoecqFJ6tmgY",
        "colab_type": "code",
        "colab": {}
      },
      "source": [
        "def intermediate_node_num_mistakes(labels_in_node):\n",
        "    \n",
        "    if len(labels_in_node) == 0:\n",
        "        return 0\n",
        "    \n",
        "    # Count the number of 1's and -1's\n",
        "    num_of_positive = (labels_in_node == +1).sum() \n",
        "    num_of_negative = (labels_in_node == -1).sum()\n",
        "                \n",
        "    # Return the number of mistakes that the majority classifier makes.\n",
        "    return num_of_negative if num_of_positive > num_of_negative else num_of_positive"
      ],
      "execution_count": 0,
      "outputs": []
    },
    {
      "cell_type": "markdown",
      "metadata": {
        "id": "XjgWQF-CMIWc",
        "colab_type": "text"
      },
      "source": [
        "**Pick best feature to split on**\n",
        "\n",
        "1. Loop over each feature in the feature list.\n",
        "2. Within the loop, split the data into two groups: one group where all of the data has feature value 0 or False *(left split)*, and one group where all of the data has feature value 1 or True *(right split)*.\n",
        "3. Calculate the number of misclassified examples in both groups of data and compute the classification error.\n",
        "4. If the computed error is smaller than the best error found so far, store this feature and its error."
      ]
    },
    {
      "cell_type": "markdown",
      "metadata": {
        "id": "uKteqzgxuQ1f",
        "colab_type": "text"
      },
      "source": [
        "$ classification \\ error=  \\dfrac{number \\ of \\ mistakes}{total \\ number \\ of \\ examples} $"
      ]
    },
    {
      "cell_type": "code",
      "metadata": {
        "id": "BkHtYByTt0Tc",
        "colab_type": "code",
        "colab": {}
      },
      "source": [
        "def best_splitting_feature(data, features, target):\n",
        "    \n",
        "    best_feature = None  \n",
        "    best_error = 10\n",
        "    num_data_points = float(len(data))    \n",
        "\n",
        "    for feature in features:\n",
        "        \n",
        "        # The left split will have all data points where the feature value is 0 and 1\n",
        "        left_split = data[data[feature] == 0]\n",
        "        right_split =  data[data[feature] == 1]\n",
        "            \n",
        "        # Calculate the number of misclassified examples.\n",
        "        left_mistakes = intermediate_node_num_mistakes(left_split[target])            \n",
        "        right_mistakes = intermediate_node_num_mistakes(right_split[target])\n",
        "            \n",
        "        # Compute the classification error of this split.\n",
        "        error = (left_mistakes + right_mistakes) / num_data_points\n",
        "\n",
        "        # If this is the best error we have found so far, store the feature as best_feature and the error as best_error\n",
        "        if error < best_error:\n",
        "            best_feature = feature            \n",
        "            best_error = error              \n",
        "    \n",
        "    return best_feature"
      ],
      "execution_count": 0,
      "outputs": []
    },
    {
      "cell_type": "markdown",
      "metadata": {
        "id": "ZUheljEOvj62",
        "colab_type": "text"
      },
      "source": [
        "#### Building the Tree"
      ]
    },
    {
      "cell_type": "markdown",
      "metadata": {
        "id": "-0-xVdp3Mjxt",
        "colab_type": "text"
      },
      "source": [
        "\n",
        "\n",
        "```\n",
        "{ \n",
        "   'is_leaf'            : True/False.\n",
        "   'prediction'         : Prediction at the leaf node.\n",
        "   'left'               : (dictionary corresponding to the left tree).\n",
        "   'right'              : (dictionary corresponding to the right tree).\n",
        "   'splitting_feature'  : The feature that this node splits on.\n",
        "}\n",
        "```\n",
        "\n"
      ]
    },
    {
      "cell_type": "code",
      "metadata": {
        "id": "kw_sh45yuscy",
        "colab_type": "code",
        "colab": {}
      },
      "source": [
        "def create_leaf(target_values):\n",
        "    \n",
        "    # Create a leaf node\n",
        "    leaf = {'splitting_feature' : None,\n",
        "            'left' : None,\n",
        "            'right' : None,\n",
        "            'is_leaf':  True  }\n",
        "    \n",
        "    # Count the number of data points that are +1 and -1 in this node.\n",
        "    num_plus_ones = len(target_values[target_values == +1])\n",
        "    num_minus_ones = len(target_values[target_values == -1])\n",
        "    \n",
        "    # For the leaf node, set the prediction to be the majority class.\n",
        "    # Store the predicted class (1 or -1) in leaf['prediction']\n",
        "    if num_plus_ones > num_minus_ones:\n",
        "        leaf['prediction'] = +1\n",
        "    else:\n",
        "        leaf['prediction'] =  -1\n",
        "              \n",
        "    return leaf "
      ],
      "execution_count": 0,
      "outputs": []
    },
    {
      "cell_type": "markdown",
      "metadata": {
        "id": "MD4kBdg5v4Ko",
        "colab_type": "text"
      },
      "source": [
        "**Stopping conditions:**\n",
        "\n",
        "1. All data points in a node are from the same class.\n",
        "2. No more features to split on.\n",
        "3. Limit tree depth."
      ]
    },
    {
      "cell_type": "code",
      "metadata": {
        "id": "IIag24yVvlIa",
        "colab_type": "code",
        "colab": {}
      },
      "source": [
        "def decision_tree_create(data, features, target, current_depth = 0, max_depth = 10):\n",
        "    remaining_features = features.copy() # Make a copy of the features.\n",
        "    \n",
        "    target_values = data[target]\n",
        "    print(\"--------------------------------------------------------------------\")\n",
        "    print(f\"Subtree, depth = {current_depth} ({len(target_values)} data points).\")\n",
        "    \n",
        "\n",
        "    # Stopping condition 1. Error is 0.\n",
        "    if intermediate_node_num_mistakes(target_values) == 0:\n",
        "        print(\"Stopping condition 1 reached.\")  \n",
        "        return create_leaf(target_values)\n",
        "    \n",
        "    # Stopping condition 2. No more features.\n",
        "    if remaining_features.empty:\n",
        "        print(\"Stopping condition 2 reached.\")    \n",
        "        return create_leaf(target_values)    \n",
        "    \n",
        "    # Stopping condition 3. Limit tree depth.\n",
        "    if current_depth >= max_depth:\n",
        "        print(\"Reached maximum depth. Stopping for now.\")\n",
        "        return create_leaf(target_values)\n",
        "\n",
        "    # Find the best splitting feature\n",
        "    splitting_feature = best_splitting_feature(data, features, target)\n",
        "    \n",
        "    # Split on the best feature \n",
        "    left_split = data[data[splitting_feature] == 0]\n",
        "    right_split = data[data[splitting_feature] == 1]\n",
        "    remaining_features.drop(splitting_feature, axis=1, inplace=True)\n",
        "    print(f\"Split on feature {splitting_feature}. ({len(left_split)}, {len(right_split)})\")\n",
        "    \n",
        "    # Create a leaf node if the split is perfect\n",
        "    if len(left_split) == len(data):\n",
        "        print(\"Creating leaf node.\")\n",
        "        return create_leaf(left_split[target])\n",
        "    if len(right_split) == len(data):\n",
        "        print(\"Creating leaf node.\")\n",
        "        return create_leaf(right_split[target])\n",
        "        \n",
        "    # Repeat (recurse) on left and right subtrees\n",
        "    left_tree = decision_tree_create(left_split, remaining_features, target, current_depth + 1, max_depth)        \n",
        "    right_tree = decision_tree_create(right_split, remaining_features, target, current_depth + 1, max_depth) \n",
        "\n",
        "    return {'is_leaf'          : False, \n",
        "            'prediction'       : None,\n",
        "            'splitting_feature': splitting_feature,\n",
        "            'left'             : left_tree, \n",
        "            'right'            : right_tree}"
      ],
      "execution_count": 0,
      "outputs": []
    },
    {
      "cell_type": "markdown",
      "metadata": {
        "id": "dE8h8jhXwD2f",
        "colab_type": "text"
      },
      "source": [
        "**Function to Count the Nodes**"
      ]
    },
    {
      "cell_type": "code",
      "metadata": {
        "id": "yPcFeDocvy8h",
        "colab_type": "code",
        "colab": {}
      },
      "source": [
        "def count_nodes(tree):\n",
        "    if tree['is_leaf']:\n",
        "        return 1\n",
        "    return 1 + count_nodes(tree['left']) + count_nodes(tree['right'])"
      ],
      "execution_count": 0,
      "outputs": []
    },
    {
      "cell_type": "markdown",
      "metadata": {
        "id": "d_kQrTl5wjuc",
        "colab_type": "text"
      },
      "source": [
        "#### Fit the Tree"
      ]
    },
    {
      "cell_type": "code",
      "metadata": {
        "id": "g6hzBRkpwjZ-",
        "colab_type": "code",
        "outputId": "6ad6d10e-b1f2-41a2-bc80-d976657cd7c2",
        "colab": {
          "base_uri": "https://localhost:8080/",
          "height": 1000
        }
      },
      "source": [
        "my_decision_tree = decision_tree_create(train_data, features, 'safe_loans', max_depth = 6)"
      ],
      "execution_count": 23,
      "outputs": [
        {
          "output_type": "stream",
          "text": [
            "--------------------------------------------------------------------\n",
            "Subtree, depth = 0 (37224 data points).\n",
            "Split on feature term_ 36 months. (9223, 28001)\n",
            "--------------------------------------------------------------------\n",
            "Subtree, depth = 1 (9223 data points).\n",
            "Split on feature grade_A. (9122, 101)\n",
            "--------------------------------------------------------------------\n",
            "Subtree, depth = 2 (9122 data points).\n",
            "Split on feature grade_B. (8074, 1048)\n",
            "--------------------------------------------------------------------\n",
            "Subtree, depth = 3 (8074 data points).\n",
            "Split on feature grade_C. (5884, 2190)\n",
            "--------------------------------------------------------------------\n",
            "Subtree, depth = 4 (5884 data points).\n",
            "Split on feature grade_D. (3826, 2058)\n",
            "--------------------------------------------------------------------\n",
            "Subtree, depth = 5 (3826 data points).\n",
            "Split on feature grade_E. (1693, 2133)\n",
            "--------------------------------------------------------------------\n",
            "Subtree, depth = 6 (1693 data points).\n",
            "Reached maximum depth. Stopping for now.\n",
            "--------------------------------------------------------------------\n",
            "Subtree, depth = 6 (2133 data points).\n",
            "Reached maximum depth. Stopping for now.\n",
            "--------------------------------------------------------------------\n",
            "Subtree, depth = 5 (2058 data points).\n",
            "Split on feature grade_E. (2058, 0)\n",
            "Creating leaf node.\n",
            "--------------------------------------------------------------------\n",
            "Subtree, depth = 4 (2190 data points).\n",
            "Split on feature grade_D. (2190, 0)\n",
            "Creating leaf node.\n",
            "--------------------------------------------------------------------\n",
            "Subtree, depth = 3 (1048 data points).\n",
            "Split on feature emp_length_5 years. (969, 79)\n",
            "--------------------------------------------------------------------\n",
            "Subtree, depth = 4 (969 data points).\n",
            "Split on feature grade_C. (969, 0)\n",
            "Creating leaf node.\n",
            "--------------------------------------------------------------------\n",
            "Subtree, depth = 4 (79 data points).\n",
            "Split on feature home_ownership_MORTGAGE. (34, 45)\n",
            "--------------------------------------------------------------------\n",
            "Subtree, depth = 5 (34 data points).\n",
            "Split on feature grade_C. (34, 0)\n",
            "Creating leaf node.\n",
            "--------------------------------------------------------------------\n",
            "Subtree, depth = 5 (45 data points).\n",
            "Split on feature grade_C. (45, 0)\n",
            "Creating leaf node.\n",
            "--------------------------------------------------------------------\n",
            "Subtree, depth = 2 (101 data points).\n",
            "Split on feature emp_length_0. (96, 5)\n",
            "--------------------------------------------------------------------\n",
            "Subtree, depth = 3 (96 data points).\n",
            "Split on feature emp_length_< 1 year. (85, 11)\n",
            "--------------------------------------------------------------------\n",
            "Subtree, depth = 4 (85 data points).\n",
            "Split on feature grade_B. (85, 0)\n",
            "Creating leaf node.\n",
            "--------------------------------------------------------------------\n",
            "Subtree, depth = 4 (11 data points).\n",
            "Split on feature grade_B. (11, 0)\n",
            "Creating leaf node.\n",
            "--------------------------------------------------------------------\n",
            "Subtree, depth = 3 (5 data points).\n",
            "Split on feature grade_B. (5, 0)\n",
            "Creating leaf node.\n",
            "--------------------------------------------------------------------\n",
            "Subtree, depth = 1 (28001 data points).\n",
            "Split on feature grade_D. (23300, 4701)\n",
            "--------------------------------------------------------------------\n",
            "Subtree, depth = 2 (23300 data points).\n",
            "Split on feature grade_E. (22024, 1276)\n",
            "--------------------------------------------------------------------\n",
            "Subtree, depth = 3 (22024 data points).\n",
            "Split on feature grade_F. (21666, 358)\n",
            "--------------------------------------------------------------------\n",
            "Subtree, depth = 4 (21666 data points).\n",
            "Split on feature emp_length_0. (20734, 932)\n",
            "--------------------------------------------------------------------\n",
            "Subtree, depth = 5 (20734 data points).\n",
            "Split on feature grade_G. (20638, 96)\n",
            "--------------------------------------------------------------------\n",
            "Subtree, depth = 6 (20638 data points).\n",
            "Reached maximum depth. Stopping for now.\n",
            "--------------------------------------------------------------------\n",
            "Subtree, depth = 6 (96 data points).\n",
            "Reached maximum depth. Stopping for now.\n",
            "--------------------------------------------------------------------\n",
            "Subtree, depth = 5 (932 data points).\n",
            "Split on feature grade_A. (702, 230)\n",
            "--------------------------------------------------------------------\n",
            "Subtree, depth = 6 (702 data points).\n",
            "Reached maximum depth. Stopping for now.\n",
            "--------------------------------------------------------------------\n",
            "Subtree, depth = 6 (230 data points).\n",
            "Reached maximum depth. Stopping for now.\n",
            "--------------------------------------------------------------------\n",
            "Subtree, depth = 4 (358 data points).\n",
            "Split on feature emp_length_8 years. (347, 11)\n",
            "--------------------------------------------------------------------\n",
            "Subtree, depth = 5 (347 data points).\n",
            "Split on feature grade_A. (347, 0)\n",
            "Creating leaf node.\n",
            "--------------------------------------------------------------------\n",
            "Subtree, depth = 5 (11 data points).\n",
            "Split on feature home_ownership_OWN. (9, 2)\n",
            "--------------------------------------------------------------------\n",
            "Subtree, depth = 6 (9 data points).\n",
            "Reached maximum depth. Stopping for now.\n",
            "--------------------------------------------------------------------\n",
            "Subtree, depth = 6 (2 data points).\n",
            "Stopping condition 1 reached.\n",
            "--------------------------------------------------------------------\n",
            "Subtree, depth = 3 (1276 data points).\n",
            "Split on feature grade_A. (1276, 0)\n",
            "Creating leaf node.\n",
            "--------------------------------------------------------------------\n",
            "Subtree, depth = 2 (4701 data points).\n",
            "Split on feature grade_A. (4701, 0)\n",
            "Creating leaf node.\n"
          ],
          "name": "stdout"
        }
      ]
    },
    {
      "cell_type": "code",
      "metadata": {
        "id": "vYuAT2NowdsJ",
        "colab_type": "code",
        "outputId": "37ad0c30-c1b9-4c41-c3d3-9c98ad3852cc",
        "colab": {
          "base_uri": "https://localhost:8080/",
          "height": 1000
        }
      },
      "source": [
        "my_decision_tree"
      ],
      "execution_count": 24,
      "outputs": [
        {
          "output_type": "execute_result",
          "data": {
            "text/plain": [
              "{'is_leaf': False,\n",
              " 'left': {'is_leaf': False,\n",
              "  'left': {'is_leaf': False,\n",
              "   'left': {'is_leaf': False,\n",
              "    'left': {'is_leaf': False,\n",
              "     'left': {'is_leaf': False,\n",
              "      'left': {'is_leaf': True,\n",
              "       'left': None,\n",
              "       'prediction': -1,\n",
              "       'right': None,\n",
              "       'splitting_feature': None},\n",
              "      'prediction': None,\n",
              "      'right': {'is_leaf': True,\n",
              "       'left': None,\n",
              "       'prediction': -1,\n",
              "       'right': None,\n",
              "       'splitting_feature': None},\n",
              "      'splitting_feature': 'grade_E'},\n",
              "     'prediction': None,\n",
              "     'right': {'is_leaf': True,\n",
              "      'left': None,\n",
              "      'prediction': -1,\n",
              "      'right': None,\n",
              "      'splitting_feature': None},\n",
              "     'splitting_feature': 'grade_D'},\n",
              "    'prediction': None,\n",
              "    'right': {'is_leaf': True,\n",
              "     'left': None,\n",
              "     'prediction': -1,\n",
              "     'right': None,\n",
              "     'splitting_feature': None},\n",
              "    'splitting_feature': 'grade_C'},\n",
              "   'prediction': None,\n",
              "   'right': {'is_leaf': False,\n",
              "    'left': {'is_leaf': True,\n",
              "     'left': None,\n",
              "     'prediction': -1,\n",
              "     'right': None,\n",
              "     'splitting_feature': None},\n",
              "    'prediction': None,\n",
              "    'right': {'is_leaf': False,\n",
              "     'left': {'is_leaf': True,\n",
              "      'left': None,\n",
              "      'prediction': 1,\n",
              "      'right': None,\n",
              "      'splitting_feature': None},\n",
              "     'prediction': None,\n",
              "     'right': {'is_leaf': True,\n",
              "      'left': None,\n",
              "      'prediction': -1,\n",
              "      'right': None,\n",
              "      'splitting_feature': None},\n",
              "     'splitting_feature': 'home_ownership_MORTGAGE'},\n",
              "    'splitting_feature': 'emp_length_5 years'},\n",
              "   'splitting_feature': 'grade_B'},\n",
              "  'prediction': None,\n",
              "  'right': {'is_leaf': False,\n",
              "   'left': {'is_leaf': False,\n",
              "    'left': {'is_leaf': True,\n",
              "     'left': None,\n",
              "     'prediction': 1,\n",
              "     'right': None,\n",
              "     'splitting_feature': None},\n",
              "    'prediction': None,\n",
              "    'right': {'is_leaf': True,\n",
              "     'left': None,\n",
              "     'prediction': -1,\n",
              "     'right': None,\n",
              "     'splitting_feature': None},\n",
              "    'splitting_feature': 'emp_length_< 1 year'},\n",
              "   'prediction': None,\n",
              "   'right': {'is_leaf': True,\n",
              "    'left': None,\n",
              "    'prediction': -1,\n",
              "    'right': None,\n",
              "    'splitting_feature': None},\n",
              "   'splitting_feature': 'emp_length_0'},\n",
              "  'splitting_feature': 'grade_A'},\n",
              " 'prediction': None,\n",
              " 'right': {'is_leaf': False,\n",
              "  'left': {'is_leaf': False,\n",
              "   'left': {'is_leaf': False,\n",
              "    'left': {'is_leaf': False,\n",
              "     'left': {'is_leaf': False,\n",
              "      'left': {'is_leaf': True,\n",
              "       'left': None,\n",
              "       'prediction': 1,\n",
              "       'right': None,\n",
              "       'splitting_feature': None},\n",
              "      'prediction': None,\n",
              "      'right': {'is_leaf': True,\n",
              "       'left': None,\n",
              "       'prediction': -1,\n",
              "       'right': None,\n",
              "       'splitting_feature': None},\n",
              "      'splitting_feature': 'grade_G'},\n",
              "     'prediction': None,\n",
              "     'right': {'is_leaf': False,\n",
              "      'left': {'is_leaf': True,\n",
              "       'left': None,\n",
              "       'prediction': -1,\n",
              "       'right': None,\n",
              "       'splitting_feature': None},\n",
              "      'prediction': None,\n",
              "      'right': {'is_leaf': True,\n",
              "       'left': None,\n",
              "       'prediction': 1,\n",
              "       'right': None,\n",
              "       'splitting_feature': None},\n",
              "      'splitting_feature': 'grade_A'},\n",
              "     'splitting_feature': 'emp_length_0'},\n",
              "    'prediction': None,\n",
              "    'right': {'is_leaf': False,\n",
              "     'left': {'is_leaf': True,\n",
              "      'left': None,\n",
              "      'prediction': -1,\n",
              "      'right': None,\n",
              "      'splitting_feature': None},\n",
              "     'prediction': None,\n",
              "     'right': {'is_leaf': False,\n",
              "      'left': {'is_leaf': True,\n",
              "       'left': None,\n",
              "       'prediction': 1,\n",
              "       'right': None,\n",
              "       'splitting_feature': None},\n",
              "      'prediction': None,\n",
              "      'right': {'is_leaf': True,\n",
              "       'left': None,\n",
              "       'prediction': -1,\n",
              "       'right': None,\n",
              "       'splitting_feature': None},\n",
              "      'splitting_feature': 'home_ownership_OWN'},\n",
              "     'splitting_feature': 'emp_length_8 years'},\n",
              "    'splitting_feature': 'grade_F'},\n",
              "   'prediction': None,\n",
              "   'right': {'is_leaf': True,\n",
              "    'left': None,\n",
              "    'prediction': -1,\n",
              "    'right': None,\n",
              "    'splitting_feature': None},\n",
              "   'splitting_feature': 'grade_E'},\n",
              "  'prediction': None,\n",
              "  'right': {'is_leaf': True,\n",
              "   'left': None,\n",
              "   'prediction': -1,\n",
              "   'right': None,\n",
              "   'splitting_feature': None},\n",
              "  'splitting_feature': 'grade_D'},\n",
              " 'splitting_feature': 'term_ 36 months'}"
            ]
          },
          "metadata": {
            "tags": []
          },
          "execution_count": 24
        }
      ]
    },
    {
      "cell_type": "markdown",
      "metadata": {
        "id": "HX55TIjUwrnO",
        "colab_type": "text"
      },
      "source": [
        "### Making predictions"
      ]
    },
    {
      "cell_type": "code",
      "metadata": {
        "id": "7XH1OyGpwo5s",
        "colab_type": "code",
        "colab": {}
      },
      "source": [
        "def classify(tree, x, annotate = False):   \n",
        "    # if the node is a leaf node.\n",
        "    if tree['is_leaf']:\n",
        "        if annotate: \n",
        "            print(f\"At leaf, predicting {tree['prediction']}\")\n",
        "        return tree['prediction'] \n",
        "    else:\n",
        "        # split on feature.\n",
        "        split_feature_value = x[tree['splitting_feature']]\n",
        "        if annotate: \n",
        "            print (f\"Split on {tree['splitting_feature']} = {split_feature_value}\")\n",
        "        if split_feature_value == 0:\n",
        "            return classify(tree['left'], x, annotate)\n",
        "        else:\n",
        "            return classify(tree['right'], x, annotate)"
      ],
      "execution_count": 0,
      "outputs": []
    },
    {
      "cell_type": "code",
      "metadata": {
        "id": "Nf97pnqewt5X",
        "colab_type": "code",
        "outputId": "d1bc583e-8687-4e79-e6f7-f8ac24af0be8",
        "colab": {
          "base_uri": "https://localhost:8080/",
          "height": 508
        }
      },
      "source": [
        "test_data.iloc[0]"
      ],
      "execution_count": 26,
      "outputs": [
        {
          "output_type": "execute_result",
          "data": {
            "text/plain": [
              "safe_loans                -1\n",
              "grade_A                    0\n",
              "grade_B                    0\n",
              "grade_C                    0\n",
              "grade_D                    1\n",
              "grade_E                    0\n",
              "grade_F                    0\n",
              "grade_G                    0\n",
              "term_ 36 months            0\n",
              "term_ 60 months            1\n",
              "home_ownership_MORTGAGE    0\n",
              "home_ownership_OTHER       0\n",
              "home_ownership_OWN         0\n",
              "home_ownership_RENT        1\n",
              "emp_length_0               0\n",
              "emp_length_1 year          0\n",
              "emp_length_10+ years       0\n",
              "emp_length_2 years         1\n",
              "emp_length_3 years         0\n",
              "emp_length_4 years         0\n",
              "emp_length_5 years         0\n",
              "emp_length_6 years         0\n",
              "emp_length_7 years         0\n",
              "emp_length_8 years         0\n",
              "emp_length_9 years         0\n",
              "emp_length_< 1 year        0\n",
              "Name: 24, dtype: int64"
            ]
          },
          "metadata": {
            "tags": []
          },
          "execution_count": 26
        }
      ]
    },
    {
      "cell_type": "code",
      "metadata": {
        "id": "btd8379gwyyi",
        "colab_type": "code",
        "outputId": "9992d4bc-2534-4082-9155-900ac5c0d049",
        "colab": {
          "base_uri": "https://localhost:8080/",
          "height": 35
        }
      },
      "source": [
        "print('Predicted class: %s ' % classify(my_decision_tree, test_data.iloc[0]))"
      ],
      "execution_count": 27,
      "outputs": [
        {
          "output_type": "stream",
          "text": [
            "Predicted class: -1 \n"
          ],
          "name": "stdout"
        }
      ]
    },
    {
      "cell_type": "code",
      "metadata": {
        "id": "cwdwynaxw7_L",
        "colab_type": "code",
        "outputId": "c9fa8f96-d16e-41f8-9888-1b7cc752048f",
        "colab": {
          "base_uri": "https://localhost:8080/",
          "height": 144
        }
      },
      "source": [
        "classify(my_decision_tree, test_data.iloc[0], annotate=True)"
      ],
      "execution_count": 28,
      "outputs": [
        {
          "output_type": "stream",
          "text": [
            "Split on term_ 36 months = 0\n",
            "Split on grade_A = 0\n",
            "Split on grade_B = 0\n",
            "Split on grade_C = 0\n",
            "Split on grade_D = 1\n",
            "At leaf, predicting -1\n"
          ],
          "name": "stdout"
        },
        {
          "output_type": "execute_result",
          "data": {
            "text/plain": [
              "-1"
            ]
          },
          "metadata": {
            "tags": []
          },
          "execution_count": 28
        }
      ]
    },
    {
      "cell_type": "markdown",
      "metadata": {
        "id": "1tAEntAvxTRm",
        "colab_type": "text"
      },
      "source": [
        "### Evaluating the Model"
      ]
    },
    {
      "cell_type": "markdown",
      "metadata": {
        "id": "25FG1d5HNXXq",
        "colab_type": "text"
      },
      "source": [
        "$ classification \\ error=  \\dfrac{number \\ of \\ mistakes}{total \\ number \\ of \\ examples} $"
      ]
    },
    {
      "cell_type": "code",
      "metadata": {
        "id": "d8ZPwXQUxNe_",
        "colab_type": "code",
        "colab": {}
      },
      "source": [
        "def evaluate_classification_error(tree, data):\n",
        "    \n",
        "    # Applying the classify(tree, x) to each row of data\n",
        "    prediction = []\n",
        "    for i in range(len(data)):\n",
        "        prediction.append(classify(tree, data.iloc[i]))  \n",
        "\n",
        "    # Calculate the classification error\n",
        "    num_of_mistakes = (prediction != data[target]).sum()/float(len(data))\n",
        "    return num_of_mistakes"
      ],
      "execution_count": 0,
      "outputs": []
    },
    {
      "cell_type": "code",
      "metadata": {
        "id": "VKyFLR2pxVrh",
        "colab_type": "code",
        "outputId": "59b60138-958e-4986-f12a-60ef57502f68",
        "colab": {
          "base_uri": "https://localhost:8080/",
          "height": 35
        }
      },
      "source": [
        "evaluate_classification_error(my_decision_tree, test_data)"
      ],
      "execution_count": 30,
      "outputs": [
        {
          "output_type": "execute_result",
          "data": {
            "text/plain": [
              "0.3837785437311504"
            ]
          },
          "metadata": {
            "tags": []
          },
          "execution_count": 30
        }
      ]
    },
    {
      "cell_type": "markdown",
      "metadata": {
        "id": "zXIj3MrJZIyJ",
        "colab_type": "text"
      },
      "source": [
        "## Overfitting"
      ]
    },
    {
      "cell_type": "markdown",
      "metadata": {
        "id": "gpmAQY7hZg7_",
        "colab_type": "text"
      },
      "source": [
        "**Early stopping**\n",
        "\n",
        "1. Maximum depth. *(set by parameter `max_depth`)*\n",
        "2. Minimum node size. *(set by parameter `min_node_size`)*\n",
        "3. Minimum gain in error reduction *(set by parameter `min_error_reduction`)*"
      ]
    },
    {
      "cell_type": "code",
      "metadata": {
        "id": "unc7wweqZv8O",
        "colab_type": "code",
        "colab": {}
      },
      "source": [
        "#1 already implemented"
      ],
      "execution_count": 0,
      "outputs": []
    },
    {
      "cell_type": "code",
      "metadata": {
        "id": "7jNAwaOvxXz3",
        "colab_type": "code",
        "colab": {}
      },
      "source": [
        "#2\n",
        "def reached_minimum_node_size(data, min_node_size):\n",
        "    # Return True if the number of data points is less than or equal to the minimum node size.    \n",
        "    if len(data) <= min_node_size:\n",
        "        return True"
      ],
      "execution_count": 0,
      "outputs": []
    },
    {
      "cell_type": "code",
      "metadata": {
        "id": "zdQ1M2dIZVvb",
        "colab_type": "code",
        "colab": {}
      },
      "source": [
        "#3\n",
        "def error_reduction(error_before_split, error_after_split):\n",
        "    # Return the error before the split minus the error after the split.\n",
        "    error = error_before_split - error_after_split\n",
        "    return error"
      ],
      "execution_count": 0,
      "outputs": []
    },
    {
      "cell_type": "markdown",
      "metadata": {
        "id": "n8Jv7JVSOKm1",
        "colab_type": "text"
      },
      "source": [
        "Function with all 3 early stopping conditions."
      ]
    },
    {
      "cell_type": "code",
      "metadata": {
        "id": "kknrWHfYZXvU",
        "colab_type": "code",
        "colab": {}
      },
      "source": [
        "def decision_tree_create_overfit(data, features, target, current_depth = 0, max_depth = 10, \n",
        "                                 min_node_size=1, min_error_reduction=0.0):\n",
        "    \n",
        "    remaining_features = features.copy()\n",
        "    \n",
        "    target_values = data[target]\n",
        "    print(\"--------------------------------------------------------------------\")\n",
        "    print(f\"Subtree, depth = {current_depth} ({len(target_values)} data points).\")\n",
        "    \n",
        "    \n",
        "    # Stopping condition 1: All nodes are of the same type.\n",
        "    if intermediate_node_num_mistakes(target_values) == 0:\n",
        "        print(\"Stopping condition 1 reached. All data points have the same target value.\")\n",
        "        return create_leaf(target_values)\n",
        "    \n",
        "    # Stopping condition 2: No more features to split on.\n",
        "    if remaining_features.empty:\n",
        "        print(\"Stopping condition 2 reached. No remaining features.\")\n",
        "        return create_leaf(target_values)    \n",
        "    \n",
        "    # Early stopping condition 1: Reached max depth limit.\n",
        "    if current_depth >= max_depth:\n",
        "        print(\"Early stopping condition 1 reached. Reached maximum depth.\")\n",
        "        return create_leaf(target_values)\n",
        "    \n",
        "    # Early stopping condition 2: Reached the minimum node size.\n",
        "    if reached_minimum_node_size(data, min_node_size):\n",
        "        print(\"Early stopping condition 2 reached. Reached minimum node size.\")\n",
        "        return create_leaf(target_values)\n",
        "    \n",
        "    # Find the best splitting feature\n",
        "    splitting_feature = best_splitting_feature(data, features, target)\n",
        "    \n",
        "    # Split on the best feature \n",
        "    left_split = data[data[splitting_feature] == 0]\n",
        "    right_split = data[data[splitting_feature] == 1]\n",
        "    \n",
        "    # Early stopping condition 3: Minimum error reduction\n",
        "    error_before_split = intermediate_node_num_mistakes(target_values)/float(len(data))\n",
        "    \n",
        "    # Calculate the error after splitting (in both groups divided by the total number of examples)\n",
        "    left_mistakes = intermediate_node_num_mistakes(left_split[target])\n",
        "    right_mistakes = intermediate_node_num_mistakes(right_split[target])\n",
        "    error_after_split = (left_mistakes + right_mistakes) / float(len(data))\n",
        "    \n",
        "    # If the error reduction is less than or equal to min_error_reduction, return a leaf\n",
        "    if error_reduction(error_before_split, error_after_split) <= min_error_reduction:\n",
        "        print(\"Early stopping condition 3 reached. Minimum error reduction.\")\n",
        "        return create_leaf(target_values)\n",
        "    \n",
        "    remaining_features.drop(splitting_feature, axis=1, inplace=True)\n",
        "    print(f\"Split on feature {splitting_feature}. ({len(left_split)}, {len(right_split)})\")\n",
        "    \n",
        "\n",
        "    # Repeat (recurse) on left and right subtrees\n",
        "    left_tree = decision_tree_create_overfit(left_split, remaining_features, target, current_depth + 1, \n",
        "                                             max_depth, min_node_size, min_error_reduction)        \n",
        "    right_tree = decision_tree_create_overfit(right_split, remaining_features, target, current_depth + 1,\n",
        "                                              max_depth, min_node_size, min_error_reduction) \n",
        "    \n",
        "    return {'is_leaf'          : False, \n",
        "            'prediction'       : None,\n",
        "            'splitting_feature': splitting_feature,\n",
        "            'left'             : left_tree, \n",
        "            'right'            : right_tree}"
      ],
      "execution_count": 0,
      "outputs": []
    },
    {
      "cell_type": "markdown",
      "metadata": {
        "id": "c3_m6-7dcDDG",
        "colab_type": "text"
      },
      "source": [
        "#### Fitting the Tree"
      ]
    },
    {
      "cell_type": "code",
      "metadata": {
        "id": "KuGZ2R35cC2U",
        "colab_type": "code",
        "outputId": "d207a2f8-c274-4460-d740-38defeaa25c2",
        "colab": {
          "base_uri": "https://localhost:8080/",
          "height": 1000
        }
      },
      "source": [
        "my_decision_tree_new = decision_tree_create_overfit(train_data, features, 'safe_loans', max_depth = 6, \n",
        "                                min_node_size = 100, min_error_reduction=0.0)"
      ],
      "execution_count": 35,
      "outputs": [
        {
          "output_type": "stream",
          "text": [
            "--------------------------------------------------------------------\n",
            "Subtree, depth = 0 (37224 data points).\n",
            "Split on feature term_ 36 months. (9223, 28001)\n",
            "--------------------------------------------------------------------\n",
            "Subtree, depth = 1 (9223 data points).\n",
            "Split on feature grade_A. (9122, 101)\n",
            "--------------------------------------------------------------------\n",
            "Subtree, depth = 2 (9122 data points).\n",
            "Early stopping condition 3 reached. Minimum error reduction.\n",
            "--------------------------------------------------------------------\n",
            "Subtree, depth = 2 (101 data points).\n",
            "Split on feature emp_length_0. (96, 5)\n",
            "--------------------------------------------------------------------\n",
            "Subtree, depth = 3 (96 data points).\n",
            "Early stopping condition 2 reached. Reached minimum node size.\n",
            "--------------------------------------------------------------------\n",
            "Subtree, depth = 3 (5 data points).\n",
            "Early stopping condition 2 reached. Reached minimum node size.\n",
            "--------------------------------------------------------------------\n",
            "Subtree, depth = 1 (28001 data points).\n",
            "Split on feature grade_D. (23300, 4701)\n",
            "--------------------------------------------------------------------\n",
            "Subtree, depth = 2 (23300 data points).\n",
            "Split on feature grade_E. (22024, 1276)\n",
            "--------------------------------------------------------------------\n",
            "Subtree, depth = 3 (22024 data points).\n",
            "Split on feature grade_F. (21666, 358)\n",
            "--------------------------------------------------------------------\n",
            "Subtree, depth = 4 (21666 data points).\n",
            "Split on feature emp_length_0. (20734, 932)\n",
            "--------------------------------------------------------------------\n",
            "Subtree, depth = 5 (20734 data points).\n",
            "Split on feature grade_G. (20638, 96)\n",
            "--------------------------------------------------------------------\n",
            "Subtree, depth = 6 (20638 data points).\n",
            "Early stopping condition 1 reached. Reached maximum depth.\n",
            "--------------------------------------------------------------------\n",
            "Subtree, depth = 6 (96 data points).\n",
            "Early stopping condition 1 reached. Reached maximum depth.\n",
            "--------------------------------------------------------------------\n",
            "Subtree, depth = 5 (932 data points).\n",
            "Split on feature grade_A. (702, 230)\n",
            "--------------------------------------------------------------------\n",
            "Subtree, depth = 6 (702 data points).\n",
            "Early stopping condition 1 reached. Reached maximum depth.\n",
            "--------------------------------------------------------------------\n",
            "Subtree, depth = 6 (230 data points).\n",
            "Early stopping condition 1 reached. Reached maximum depth.\n",
            "--------------------------------------------------------------------\n",
            "Subtree, depth = 4 (358 data points).\n",
            "Split on feature emp_length_8 years. (347, 11)\n",
            "--------------------------------------------------------------------\n",
            "Subtree, depth = 5 (347 data points).\n",
            "Early stopping condition 3 reached. Minimum error reduction.\n",
            "--------------------------------------------------------------------\n",
            "Subtree, depth = 5 (11 data points).\n",
            "Early stopping condition 2 reached. Reached minimum node size.\n",
            "--------------------------------------------------------------------\n",
            "Subtree, depth = 3 (1276 data points).\n",
            "Early stopping condition 3 reached. Minimum error reduction.\n",
            "--------------------------------------------------------------------\n",
            "Subtree, depth = 2 (4701 data points).\n",
            "Early stopping condition 3 reached. Minimum error reduction.\n"
          ],
          "name": "stdout"
        }
      ]
    },
    {
      "cell_type": "markdown",
      "metadata": {
        "id": "cSDTRLXscP3o",
        "colab_type": "text"
      },
      "source": [
        "Let's now train a tree model ignoring early stopping conditions 2 and 3. To ignore these conditions, we set `min_node_size=0` and `min_error_reduction=-1` *(a negative value*)."
      ]
    },
    {
      "cell_type": "code",
      "metadata": {
        "id": "LEGIn1fAbQMr",
        "colab_type": "code",
        "outputId": "09f39b2c-9706-4021-bd2c-02ae6cb35bf6",
        "colab": {
          "base_uri": "https://localhost:8080/",
          "height": 1000
        }
      },
      "source": [
        "my_decision_tree_old = decision_tree_create_overfit(train_data, features, 'safe_loans', max_depth = 6, \n",
        "                                min_node_size = 0, min_error_reduction=-1)"
      ],
      "execution_count": 36,
      "outputs": [
        {
          "output_type": "stream",
          "text": [
            "--------------------------------------------------------------------\n",
            "Subtree, depth = 0 (37224 data points).\n",
            "Split on feature term_ 36 months. (9223, 28001)\n",
            "--------------------------------------------------------------------\n",
            "Subtree, depth = 1 (9223 data points).\n",
            "Split on feature grade_A. (9122, 101)\n",
            "--------------------------------------------------------------------\n",
            "Subtree, depth = 2 (9122 data points).\n",
            "Split on feature grade_B. (8074, 1048)\n",
            "--------------------------------------------------------------------\n",
            "Subtree, depth = 3 (8074 data points).\n",
            "Split on feature grade_C. (5884, 2190)\n",
            "--------------------------------------------------------------------\n",
            "Subtree, depth = 4 (5884 data points).\n",
            "Split on feature grade_D. (3826, 2058)\n",
            "--------------------------------------------------------------------\n",
            "Subtree, depth = 5 (3826 data points).\n",
            "Split on feature grade_E. (1693, 2133)\n",
            "--------------------------------------------------------------------\n",
            "Subtree, depth = 6 (1693 data points).\n",
            "Early stopping condition 1 reached. Reached maximum depth.\n",
            "--------------------------------------------------------------------\n",
            "Subtree, depth = 6 (2133 data points).\n",
            "Early stopping condition 1 reached. Reached maximum depth.\n",
            "--------------------------------------------------------------------\n",
            "Subtree, depth = 5 (2058 data points).\n",
            "Split on feature grade_E. (2058, 0)\n",
            "--------------------------------------------------------------------\n",
            "Subtree, depth = 6 (2058 data points).\n",
            "Early stopping condition 1 reached. Reached maximum depth.\n",
            "--------------------------------------------------------------------\n",
            "Subtree, depth = 6 (0 data points).\n",
            "Stopping condition 1 reached. All data points have the same target value.\n",
            "--------------------------------------------------------------------\n",
            "Subtree, depth = 4 (2190 data points).\n",
            "Split on feature grade_D. (2190, 0)\n",
            "--------------------------------------------------------------------\n",
            "Subtree, depth = 5 (2190 data points).\n",
            "Split on feature grade_E. (2190, 0)\n",
            "--------------------------------------------------------------------\n",
            "Subtree, depth = 6 (2190 data points).\n",
            "Early stopping condition 1 reached. Reached maximum depth.\n",
            "--------------------------------------------------------------------\n",
            "Subtree, depth = 6 (0 data points).\n",
            "Stopping condition 1 reached. All data points have the same target value.\n",
            "--------------------------------------------------------------------\n",
            "Subtree, depth = 5 (0 data points).\n",
            "Stopping condition 1 reached. All data points have the same target value.\n",
            "--------------------------------------------------------------------\n",
            "Subtree, depth = 3 (1048 data points).\n",
            "Split on feature emp_length_5 years. (969, 79)\n",
            "--------------------------------------------------------------------\n",
            "Subtree, depth = 4 (969 data points).\n",
            "Split on feature grade_C. (969, 0)\n",
            "--------------------------------------------------------------------\n",
            "Subtree, depth = 5 (969 data points).\n",
            "Split on feature grade_D. (969, 0)\n",
            "--------------------------------------------------------------------\n",
            "Subtree, depth = 6 (969 data points).\n",
            "Early stopping condition 1 reached. Reached maximum depth.\n",
            "--------------------------------------------------------------------\n",
            "Subtree, depth = 6 (0 data points).\n",
            "Stopping condition 1 reached. All data points have the same target value.\n",
            "--------------------------------------------------------------------\n",
            "Subtree, depth = 5 (0 data points).\n",
            "Stopping condition 1 reached. All data points have the same target value.\n",
            "--------------------------------------------------------------------\n",
            "Subtree, depth = 4 (79 data points).\n",
            "Split on feature home_ownership_MORTGAGE. (34, 45)\n",
            "--------------------------------------------------------------------\n",
            "Subtree, depth = 5 (34 data points).\n",
            "Split on feature grade_C. (34, 0)\n",
            "--------------------------------------------------------------------\n",
            "Subtree, depth = 6 (34 data points).\n",
            "Early stopping condition 1 reached. Reached maximum depth.\n",
            "--------------------------------------------------------------------\n",
            "Subtree, depth = 6 (0 data points).\n",
            "Stopping condition 1 reached. All data points have the same target value.\n",
            "--------------------------------------------------------------------\n",
            "Subtree, depth = 5 (45 data points).\n",
            "Split on feature grade_C. (45, 0)\n",
            "--------------------------------------------------------------------\n",
            "Subtree, depth = 6 (45 data points).\n",
            "Early stopping condition 1 reached. Reached maximum depth.\n",
            "--------------------------------------------------------------------\n",
            "Subtree, depth = 6 (0 data points).\n",
            "Stopping condition 1 reached. All data points have the same target value.\n",
            "--------------------------------------------------------------------\n",
            "Subtree, depth = 2 (101 data points).\n",
            "Split on feature emp_length_0. (96, 5)\n",
            "--------------------------------------------------------------------\n",
            "Subtree, depth = 3 (96 data points).\n",
            "Split on feature emp_length_< 1 year. (85, 11)\n",
            "--------------------------------------------------------------------\n",
            "Subtree, depth = 4 (85 data points).\n",
            "Split on feature grade_B. (85, 0)\n",
            "--------------------------------------------------------------------\n",
            "Subtree, depth = 5 (85 data points).\n",
            "Split on feature grade_C. (85, 0)\n",
            "--------------------------------------------------------------------\n",
            "Subtree, depth = 6 (85 data points).\n",
            "Early stopping condition 1 reached. Reached maximum depth.\n",
            "--------------------------------------------------------------------\n",
            "Subtree, depth = 6 (0 data points).\n",
            "Stopping condition 1 reached. All data points have the same target value.\n",
            "--------------------------------------------------------------------\n",
            "Subtree, depth = 5 (0 data points).\n",
            "Stopping condition 1 reached. All data points have the same target value.\n",
            "--------------------------------------------------------------------\n",
            "Subtree, depth = 4 (11 data points).\n",
            "Split on feature grade_B. (11, 0)\n",
            "--------------------------------------------------------------------\n",
            "Subtree, depth = 5 (11 data points).\n",
            "Split on feature grade_C. (11, 0)\n",
            "--------------------------------------------------------------------\n",
            "Subtree, depth = 6 (11 data points).\n",
            "Early stopping condition 1 reached. Reached maximum depth.\n",
            "--------------------------------------------------------------------\n",
            "Subtree, depth = 6 (0 data points).\n",
            "Stopping condition 1 reached. All data points have the same target value.\n",
            "--------------------------------------------------------------------\n",
            "Subtree, depth = 5 (0 data points).\n",
            "Stopping condition 1 reached. All data points have the same target value.\n",
            "--------------------------------------------------------------------\n",
            "Subtree, depth = 3 (5 data points).\n",
            "Split on feature grade_B. (5, 0)\n",
            "--------------------------------------------------------------------\n",
            "Subtree, depth = 4 (5 data points).\n",
            "Split on feature grade_C. (5, 0)\n",
            "--------------------------------------------------------------------\n",
            "Subtree, depth = 5 (5 data points).\n",
            "Split on feature grade_D. (5, 0)\n",
            "--------------------------------------------------------------------\n",
            "Subtree, depth = 6 (5 data points).\n",
            "Early stopping condition 1 reached. Reached maximum depth.\n",
            "--------------------------------------------------------------------\n",
            "Subtree, depth = 6 (0 data points).\n",
            "Stopping condition 1 reached. All data points have the same target value.\n",
            "--------------------------------------------------------------------\n",
            "Subtree, depth = 5 (0 data points).\n",
            "Stopping condition 1 reached. All data points have the same target value.\n",
            "--------------------------------------------------------------------\n",
            "Subtree, depth = 4 (0 data points).\n",
            "Stopping condition 1 reached. All data points have the same target value.\n",
            "--------------------------------------------------------------------\n",
            "Subtree, depth = 1 (28001 data points).\n",
            "Split on feature grade_D. (23300, 4701)\n",
            "--------------------------------------------------------------------\n",
            "Subtree, depth = 2 (23300 data points).\n",
            "Split on feature grade_E. (22024, 1276)\n",
            "--------------------------------------------------------------------\n",
            "Subtree, depth = 3 (22024 data points).\n",
            "Split on feature grade_F. (21666, 358)\n",
            "--------------------------------------------------------------------\n",
            "Subtree, depth = 4 (21666 data points).\n",
            "Split on feature emp_length_0. (20734, 932)\n",
            "--------------------------------------------------------------------\n",
            "Subtree, depth = 5 (20734 data points).\n",
            "Split on feature grade_G. (20638, 96)\n",
            "--------------------------------------------------------------------\n",
            "Subtree, depth = 6 (20638 data points).\n",
            "Early stopping condition 1 reached. Reached maximum depth.\n",
            "--------------------------------------------------------------------\n",
            "Subtree, depth = 6 (96 data points).\n",
            "Early stopping condition 1 reached. Reached maximum depth.\n",
            "--------------------------------------------------------------------\n",
            "Subtree, depth = 5 (932 data points).\n",
            "Split on feature grade_A. (702, 230)\n",
            "--------------------------------------------------------------------\n",
            "Subtree, depth = 6 (702 data points).\n",
            "Early stopping condition 1 reached. Reached maximum depth.\n",
            "--------------------------------------------------------------------\n",
            "Subtree, depth = 6 (230 data points).\n",
            "Early stopping condition 1 reached. Reached maximum depth.\n",
            "--------------------------------------------------------------------\n",
            "Subtree, depth = 4 (358 data points).\n",
            "Split on feature emp_length_8 years. (347, 11)\n",
            "--------------------------------------------------------------------\n",
            "Subtree, depth = 5 (347 data points).\n",
            "Split on feature grade_A. (347, 0)\n",
            "--------------------------------------------------------------------\n",
            "Subtree, depth = 6 (347 data points).\n",
            "Early stopping condition 1 reached. Reached maximum depth.\n",
            "--------------------------------------------------------------------\n",
            "Subtree, depth = 6 (0 data points).\n",
            "Stopping condition 1 reached. All data points have the same target value.\n",
            "--------------------------------------------------------------------\n",
            "Subtree, depth = 5 (11 data points).\n",
            "Split on feature home_ownership_OWN. (9, 2)\n",
            "--------------------------------------------------------------------\n",
            "Subtree, depth = 6 (9 data points).\n",
            "Early stopping condition 1 reached. Reached maximum depth.\n",
            "--------------------------------------------------------------------\n",
            "Subtree, depth = 6 (2 data points).\n",
            "Stopping condition 1 reached. All data points have the same target value.\n",
            "--------------------------------------------------------------------\n",
            "Subtree, depth = 3 (1276 data points).\n",
            "Split on feature grade_A. (1276, 0)\n",
            "--------------------------------------------------------------------\n",
            "Subtree, depth = 4 (1276 data points).\n",
            "Split on feature grade_B. (1276, 0)\n",
            "--------------------------------------------------------------------\n",
            "Subtree, depth = 5 (1276 data points).\n",
            "Split on feature grade_C. (1276, 0)\n",
            "--------------------------------------------------------------------\n",
            "Subtree, depth = 6 (1276 data points).\n",
            "Early stopping condition 1 reached. Reached maximum depth.\n",
            "--------------------------------------------------------------------\n",
            "Subtree, depth = 6 (0 data points).\n",
            "Stopping condition 1 reached. All data points have the same target value.\n",
            "--------------------------------------------------------------------\n",
            "Subtree, depth = 5 (0 data points).\n",
            "Stopping condition 1 reached. All data points have the same target value.\n",
            "--------------------------------------------------------------------\n",
            "Subtree, depth = 4 (0 data points).\n",
            "Stopping condition 1 reached. All data points have the same target value.\n",
            "--------------------------------------------------------------------\n",
            "Subtree, depth = 2 (4701 data points).\n",
            "Split on feature grade_A. (4701, 0)\n",
            "--------------------------------------------------------------------\n",
            "Subtree, depth = 3 (4701 data points).\n",
            "Split on feature grade_B. (4701, 0)\n",
            "--------------------------------------------------------------------\n",
            "Subtree, depth = 4 (4701 data points).\n",
            "Split on feature grade_C. (4701, 0)\n",
            "--------------------------------------------------------------------\n",
            "Subtree, depth = 5 (4701 data points).\n",
            "Split on feature grade_E. (4701, 0)\n",
            "--------------------------------------------------------------------\n",
            "Subtree, depth = 6 (4701 data points).\n",
            "Early stopping condition 1 reached. Reached maximum depth.\n",
            "--------------------------------------------------------------------\n",
            "Subtree, depth = 6 (0 data points).\n",
            "Stopping condition 1 reached. All data points have the same target value.\n",
            "--------------------------------------------------------------------\n",
            "Subtree, depth = 5 (0 data points).\n",
            "Stopping condition 1 reached. All data points have the same target value.\n",
            "--------------------------------------------------------------------\n",
            "Subtree, depth = 4 (0 data points).\n",
            "Stopping condition 1 reached. All data points have the same target value.\n",
            "--------------------------------------------------------------------\n",
            "Subtree, depth = 3 (0 data points).\n",
            "Stopping condition 1 reached. All data points have the same target value.\n"
          ],
          "name": "stdout"
        }
      ]
    },
    {
      "cell_type": "code",
      "metadata": {
        "id": "7QHPi3TpcSQI",
        "colab_type": "code",
        "outputId": "4063c139-bc80-48a9-a15d-61daec160030",
        "colab": {
          "base_uri": "https://localhost:8080/",
          "height": 508
        }
      },
      "source": [
        "test_data.iloc[0]"
      ],
      "execution_count": 37,
      "outputs": [
        {
          "output_type": "execute_result",
          "data": {
            "text/plain": [
              "safe_loans                -1\n",
              "grade_A                    0\n",
              "grade_B                    0\n",
              "grade_C                    0\n",
              "grade_D                    1\n",
              "grade_E                    0\n",
              "grade_F                    0\n",
              "grade_G                    0\n",
              "term_ 36 months            0\n",
              "term_ 60 months            1\n",
              "home_ownership_MORTGAGE    0\n",
              "home_ownership_OTHER       0\n",
              "home_ownership_OWN         0\n",
              "home_ownership_RENT        1\n",
              "emp_length_0               0\n",
              "emp_length_1 year          0\n",
              "emp_length_10+ years       0\n",
              "emp_length_2 years         1\n",
              "emp_length_3 years         0\n",
              "emp_length_4 years         0\n",
              "emp_length_5 years         0\n",
              "emp_length_6 years         0\n",
              "emp_length_7 years         0\n",
              "emp_length_8 years         0\n",
              "emp_length_9 years         0\n",
              "emp_length_< 1 year        0\n",
              "Name: 24, dtype: int64"
            ]
          },
          "metadata": {
            "tags": []
          },
          "execution_count": 37
        }
      ]
    },
    {
      "cell_type": "code",
      "metadata": {
        "id": "vpxqN-Vycgxu",
        "colab_type": "code",
        "outputId": "7befd597-66eb-4881-b48b-260067c5412b",
        "colab": {
          "base_uri": "https://localhost:8080/",
          "height": 35
        }
      },
      "source": [
        "print(f'Predicted class: {classify(my_decision_tree_new, test_data.iloc[0])}')"
      ],
      "execution_count": 38,
      "outputs": [
        {
          "output_type": "stream",
          "text": [
            "Predicted class: -1\n"
          ],
          "name": "stdout"
        }
      ]
    },
    {
      "cell_type": "code",
      "metadata": {
        "id": "3g7bKBwMcmpZ",
        "colab_type": "code",
        "outputId": "77bf4d99-c65f-478b-d681-78503d39b3ae",
        "colab": {
          "base_uri": "https://localhost:8080/",
          "height": 90
        }
      },
      "source": [
        "classify(my_decision_tree_new, test_data.iloc[0], annotate = True)"
      ],
      "execution_count": 39,
      "outputs": [
        {
          "output_type": "stream",
          "text": [
            "Split on term_ 36 months = 0\n",
            "Split on grade_A = 0\n",
            "At leaf, predicting -1\n"
          ],
          "name": "stdout"
        },
        {
          "output_type": "execute_result",
          "data": {
            "text/plain": [
              "-1"
            ]
          },
          "metadata": {
            "tags": []
          },
          "execution_count": 39
        }
      ]
    },
    {
      "cell_type": "markdown",
      "metadata": {
        "id": "hWsBdUKQcv-8",
        "colab_type": "text"
      },
      "source": [
        "The prediction path for the decision without overfitting *(tree model ignoring early stopping conditions 2 and 3)*."
      ]
    },
    {
      "cell_type": "code",
      "metadata": {
        "id": "7_BR0IrycpXp",
        "colab_type": "code",
        "outputId": "e728516f-ff22-4baa-9756-75efcd3180fb",
        "colab": {
          "base_uri": "https://localhost:8080/",
          "height": 162
        }
      },
      "source": [
        "classify(my_decision_tree_old, test_data.iloc[0], annotate = True)"
      ],
      "execution_count": 40,
      "outputs": [
        {
          "output_type": "stream",
          "text": [
            "Split on term_ 36 months = 0\n",
            "Split on grade_A = 0\n",
            "Split on grade_B = 0\n",
            "Split on grade_C = 0\n",
            "Split on grade_D = 1\n",
            "Split on grade_E = 0\n",
            "At leaf, predicting -1\n"
          ],
          "name": "stdout"
        },
        {
          "output_type": "execute_result",
          "data": {
            "text/plain": [
              "-1"
            ]
          },
          "metadata": {
            "tags": []
          },
          "execution_count": 40
        }
      ]
    },
    {
      "cell_type": "markdown",
      "metadata": {
        "id": "BvCrEJD4cyby",
        "colab_type": "text"
      },
      "source": [
        "### Evaluating the model"
      ]
    },
    {
      "cell_type": "markdown",
      "metadata": {
        "id": "Y7tog_qPbh3-",
        "colab_type": "text"
      },
      "source": [
        "Tree with overfitting"
      ]
    },
    {
      "cell_type": "code",
      "metadata": {
        "id": "OWs0puiocs0F",
        "colab_type": "code",
        "outputId": "5604ecf9-1c1e-4f61-b4d4-c2ce9553ce9e",
        "colab": {
          "base_uri": "https://localhost:8080/",
          "height": 35
        }
      },
      "source": [
        "evaluate_classification_error(my_decision_tree_new, test_data)"
      ],
      "execution_count": 41,
      "outputs": [
        {
          "output_type": "execute_result",
          "data": {
            "text/plain": [
              "0.38367083153813014"
            ]
          },
          "metadata": {
            "tags": []
          },
          "execution_count": 41
        }
      ]
    },
    {
      "cell_type": "markdown",
      "metadata": {
        "id": "7FNOrsRtbglm",
        "colab_type": "text"
      },
      "source": [
        "Tree without overfitting"
      ]
    },
    {
      "cell_type": "code",
      "metadata": {
        "id": "xJQOJS0PbWCz",
        "colab_type": "code",
        "outputId": "37b92d7d-a8dd-408f-bc9f-722b125980a2",
        "colab": {
          "base_uri": "https://localhost:8080/",
          "height": 35
        }
      },
      "source": [
        "evaluate_classification_error(my_decision_tree_old, test_data)"
      ],
      "execution_count": 42,
      "outputs": [
        {
          "output_type": "execute_result",
          "data": {
            "text/plain": [
              "0.3837785437311504"
            ]
          },
          "metadata": {
            "tags": []
          },
          "execution_count": 42
        }
      ]
    },
    {
      "cell_type": "markdown",
      "metadata": {
        "id": "eh9HYe14g4_c",
        "colab_type": "text"
      },
      "source": [
        "## Complexity of the Tree\n"
      ]
    },
    {
      "cell_type": "markdown",
      "metadata": {
        "id": "RFuVKodxg-XN",
        "colab_type": "text"
      },
      "source": [
        "$ complexity(T) $ = number of leaves in the tree T"
      ]
    },
    {
      "cell_type": "code",
      "metadata": {
        "id": "8hPWM-1hg7_L",
        "colab_type": "code",
        "colab": {}
      },
      "source": [
        "def count_leaves(tree):\n",
        "    if tree['is_leaf']:\n",
        "        return 1\n",
        "    return count_leaves(tree['left']) + count_leaves(tree['right'])"
      ],
      "execution_count": 0,
      "outputs": []
    },
    {
      "cell_type": "markdown",
      "metadata": {
        "id": "CEpiyFC4c-w7",
        "colab_type": "text"
      },
      "source": [
        "## Fitting Many Different Models"
      ]
    },
    {
      "cell_type": "markdown",
      "metadata": {
        "id": "zE2oKb1MicrQ",
        "colab_type": "text"
      },
      "source": [
        "***NOTE:*** We assume validation set as test set."
      ]
    },
    {
      "cell_type": "code",
      "metadata": {
        "id": "_-3ZFpJkip6L",
        "colab_type": "code",
        "colab": {}
      },
      "source": [
        "validation_data = test_data"
      ],
      "execution_count": 0,
      "outputs": []
    },
    {
      "cell_type": "markdown",
      "metadata": {
        "id": "Fox8JG1ChKd-",
        "colab_type": "text"
      },
      "source": [
        "Different `max_depth` values."
      ]
    },
    {
      "cell_type": "code",
      "metadata": {
        "id": "-47dHc9acz6-",
        "colab_type": "code",
        "colab": {}
      },
      "source": [
        "model_1 = decision_tree_create_overfit(train_data, features, 'safe_loans', max_depth = 2, \n",
        "                                min_node_size = 0, min_error_reduction=-1)\n",
        "model_2 = decision_tree_create_overfit(train_data, features, 'safe_loans', max_depth = 6, \n",
        "                                min_node_size = 0, min_error_reduction=-1)\n",
        "model_3 = decision_tree_create_overfit(train_data, features, 'safe_loans', max_depth = 14, \n",
        "                                min_node_size = 0, min_error_reduction=-1)"
      ],
      "execution_count": 0,
      "outputs": []
    },
    {
      "cell_type": "code",
      "metadata": {
        "id": "KEn-ijIlc__W",
        "colab_type": "code",
        "outputId": "c50c0a68-889c-47f1-84ca-51edd7389b9d",
        "colab": {
          "base_uri": "https://localhost:8080/",
          "height": 72
        }
      },
      "source": [
        "print(\"Training data, classification error (model 1):\", evaluate_classification_error(model_1, train_data))\n",
        "print(\"Training data, classification error (model 2):\", evaluate_classification_error(model_2, train_data))\n",
        "print(\"Training data, classification error (model 3):\", evaluate_classification_error(model_3, train_data))"
      ],
      "execution_count": 46,
      "outputs": [
        {
          "output_type": "stream",
          "text": [
            "Training data, classification error (model 1): 0.40003761014399314\n",
            "Training data, classification error (model 2): 0.38185041908446166\n",
            "Training data, classification error (model 3): 0.37446271222866967\n"
          ],
          "name": "stdout"
        }
      ]
    },
    {
      "cell_type": "code",
      "metadata": {
        "id": "nd7KlV_YdFdN",
        "colab_type": "code",
        "colab": {
          "base_uri": "https://localhost:8080/",
          "height": 72
        },
        "outputId": "aea811d9-c4fe-4501-e7b3-a72da611d537"
      },
      "source": [
        "print (\"Validation data, classification error (model 1):\", evaluate_classification_error(model_1, validation_data))\n",
        "print (\"Validation data, classification error (model 2):\", evaluate_classification_error(model_2, validation_data))\n",
        "print (\"Validation data, classification error (model 3):\", evaluate_classification_error(model_3, validation_data))"
      ],
      "execution_count": 47,
      "outputs": [
        {
          "output_type": "stream",
          "text": [
            "Validation data, classification error (model 1): 0.3981042654028436\n",
            "Validation data, classification error (model 2): 0.3837785437311504\n",
            "Validation data, classification error (model 3): 0.38000861697544164\n"
          ],
          "name": "stdout"
        }
      ]
    },
    {
      "cell_type": "code",
      "metadata": {
        "id": "fA0gXpEJgwlw",
        "colab_type": "code",
        "colab": {
          "base_uri": "https://localhost:8080/",
          "height": 72
        },
        "outputId": "1ee2ca89-55b6-47a4-e99f-6c0a62c69475"
      },
      "source": [
        "print(\"Number of nodes (model 1):\", count_leaves(model_1))\n",
        "print(\"Number of nodes (model 2):\", count_leaves(model_2))\n",
        "print(\"Number of nodes (model 3):\", count_leaves(model_3))"
      ],
      "execution_count": 48,
      "outputs": [
        {
          "output_type": "stream",
          "text": [
            "Number of nodes (model 1): 4\n",
            "Number of nodes (model 2): 41\n",
            "Number of nodes (model 3): 341\n"
          ],
          "name": "stdout"
        }
      ]
    },
    {
      "cell_type": "markdown",
      "metadata": {
        "id": "a061IcuoQKRO",
        "colab_type": "text"
      },
      "source": [
        "Different `min_error_reduction` values."
      ]
    },
    {
      "cell_type": "code",
      "metadata": {
        "id": "e42SIMFXg28u",
        "colab_type": "code",
        "colab": {}
      },
      "source": [
        "model_4 = decision_tree_create_overfit(train_data, features, 'safe_loans', max_depth = 6, \n",
        "                                min_node_size = 0, min_error_reduction=-1)\n",
        "model_5 = decision_tree_create_overfit(train_data, features, 'safe_loans', max_depth = 6, \n",
        "                                min_node_size = 0, min_error_reduction=0)\n",
        "model_6 = decision_tree_create_overfit(train_data, features, 'safe_loans', max_depth = 6, \n",
        "                                min_node_size = 0, min_error_reduction=5)"
      ],
      "execution_count": 0,
      "outputs": []
    },
    {
      "cell_type": "code",
      "metadata": {
        "id": "IeDvQlkShblJ",
        "colab_type": "code",
        "colab": {
          "base_uri": "https://localhost:8080/",
          "height": 72
        },
        "outputId": "c0c58285-9d6e-4635-99d8-3f511ba27d8a"
      },
      "source": [
        "print (\"Validation data, classification error (model 4):\", evaluate_classification_error(model_4, validation_data))\n",
        "print (\"Validation data, classification error (model 5):\", evaluate_classification_error(model_5, validation_data))\n",
        "print (\"Validation data, classification error (model 6):\", evaluate_classification_error(model_6, validation_data))"
      ],
      "execution_count": 50,
      "outputs": [
        {
          "output_type": "stream",
          "text": [
            "Validation data, classification error (model 4): 0.3837785437311504\n",
            "Validation data, classification error (model 5): 0.3837785437311504\n",
            "Validation data, classification error (model 6): 0.503446790176648\n"
          ],
          "name": "stdout"
        }
      ]
    },
    {
      "cell_type": "code",
      "metadata": {
        "id": "O8a_ua5_hjSW",
        "colab_type": "code",
        "colab": {
          "base_uri": "https://localhost:8080/",
          "height": 72
        },
        "outputId": "6d63c5d2-8bcc-4a7f-8195-0b7e416f575a"
      },
      "source": [
        "print( \"Number of nodes (model 4):\", count_leaves(model_4))\n",
        "print (\"Number of nodes (model 5):\", count_leaves(model_5))\n",
        "print (\"Number of nodes (model 6):\", count_leaves(model_6))"
      ],
      "execution_count": 51,
      "outputs": [
        {
          "output_type": "stream",
          "text": [
            "Number of nodes (model 4): 41\n",
            "Number of nodes (model 5): 13\n",
            "Number of nodes (model 6): 1\n"
          ],
          "name": "stdout"
        }
      ]
    },
    {
      "cell_type": "markdown",
      "metadata": {
        "id": "CObAatL2iA2a",
        "colab_type": "text"
      },
      "source": [
        "Different `min_node_size` values."
      ]
    },
    {
      "cell_type": "code",
      "metadata": {
        "id": "LvgSamlph2SG",
        "colab_type": "code",
        "colab": {}
      },
      "source": [
        "model_7 = decision_tree_create_overfit(train_data, features, 'safe_loans', max_depth = 6, \n",
        "                                min_node_size = 0, min_error_reduction=-1)\n",
        "model_8 = decision_tree_create_overfit(train_data, features, 'safe_loans', max_depth = 6, \n",
        "                                min_node_size = 2000, min_error_reduction=-1)\n",
        "model_9 = decision_tree_create_overfit(train_data, features, 'safe_loans', max_depth = 6, \n",
        "                                min_node_size = 50000, min_error_reduction=-1)"
      ],
      "execution_count": 0,
      "outputs": []
    },
    {
      "cell_type": "code",
      "metadata": {
        "id": "lNSsQLbziE-q",
        "colab_type": "code",
        "colab": {
          "base_uri": "https://localhost:8080/",
          "height": 72
        },
        "outputId": "4154edc6-aaf7-4604-db9d-3fb25df650c4"
      },
      "source": [
        "print (\"Validation data, classification error (model 7):\", evaluate_classification_error(model_7, validation_data))\n",
        "print (\"Validation data, classification error (model 8):\", evaluate_classification_error(model_8, validation_data))\n",
        "print (\"Validation data, classification error (model 9):\", evaluate_classification_error(model_9, validation_data))"
      ],
      "execution_count": 53,
      "outputs": [
        {
          "output_type": "stream",
          "text": [
            "Validation data, classification error (model 7): 0.3837785437311504\n",
            "Validation data, classification error (model 8): 0.38453252908229213\n",
            "Validation data, classification error (model 9): 0.503446790176648\n"
          ],
          "name": "stdout"
        }
      ]
    },
    {
      "cell_type": "code",
      "metadata": {
        "id": "pOXFSpLFiKrM",
        "colab_type": "code",
        "colab": {
          "base_uri": "https://localhost:8080/",
          "height": 72
        },
        "outputId": "56821d56-e279-47e8-87d5-925e783454e4"
      },
      "source": [
        "print( \"Number of nodes (model 7):\", count_leaves(model_7))\n",
        "print (\"Number of nodes (model 8):\", count_leaves(model_8))\n",
        "print (\"Number of nodes (model 9):\", count_leaves(model_9))"
      ],
      "execution_count": 54,
      "outputs": [
        {
          "output_type": "stream",
          "text": [
            "Number of nodes (model 7): 41\n",
            "Number of nodes (model 8): 19\n",
            "Number of nodes (model 9): 1\n"
          ],
          "name": "stdout"
        }
      ]
    },
    {
      "cell_type": "markdown",
      "metadata": {
        "id": "qSzQAPO9QpCP",
        "colab_type": "text"
      },
      "source": [
        "## Weighted Decision Trees"
      ]
    },
    {
      "cell_type": "markdown",
      "metadata": {
        "id": "_y_LNYIJpnwj",
        "colab_type": "text"
      },
      "source": [
        "$ E(α,\\hat{y})= \\dfrac{\\sum α_i × 1[y_i≠\\hat{y_i}]} {\\sum α_i} $"
      ]
    },
    {
      "cell_type": "code",
      "metadata": {
        "id": "GWonGgmsotsM",
        "colab_type": "code",
        "colab": {}
      },
      "source": [
        "def intermediate_node_weighted_mistakes(labels_in_node, data_weights):\n",
        "\n",
        "    # Sum the weights of all entries with label +1 and -1\n",
        "    total_weight_positive = sum(data_weights[labels_in_node == +1])\n",
        "    weighted_mistakes_all_negative = total_weight_positive\n",
        "\n",
        "    total_weight_negative = sum(data_weights[labels_in_node == -1])\n",
        "    weighted_mistakes_all_positive = total_weight_negative\n",
        "    \n",
        "    # Return the tuple (weight, class_label) representing the lower of the two weights\n",
        "    if weighted_mistakes_all_positive <= weighted_mistakes_all_negative:        \n",
        "        return (weighted_mistakes_all_positive, +1)\n",
        "    else:        \n",
        "        return (weighted_mistakes_all_negative, -1)"
      ],
      "execution_count": 0,
      "outputs": []
    },
    {
      "cell_type": "markdown",
      "metadata": {
        "id": "NFqWWZnFQ0xI",
        "colab_type": "text"
      },
      "source": [
        "The function **best_splitting_feature** should now accept an extra parameter `data_weights` to take account of weights of data points.\n",
        "Instead of computing the number of mistakes in the left and right side of the split, we compute the weight of mistakes for both sides, add up the two weights, and divide it by the total weight of the data."
      ]
    },
    {
      "cell_type": "code",
      "metadata": {
        "id": "pxXNH69upJh7",
        "colab_type": "code",
        "colab": {}
      },
      "source": [
        "def best_splitting_feature_weighted(data, features, target, data_weights):\n",
        "    \n",
        "    best_feature = None\n",
        "    best_error = float('+inf') \n",
        "    num_points = float(len(data))\n",
        "\n",
        "    for feature in features:\n",
        "        \n",
        "        # split data points according to 0 or 1\n",
        "        left_split = data[data[feature] == 0]\n",
        "        right_split = data[data[feature] == 1]\n",
        "        \n",
        "        # Apply the same filtering to data_weights\n",
        "        left_data_weights = data_weights[data[feature] == 0]\n",
        "        right_data_weights = data_weights[data[feature] == 1]\n",
        "                    \n",
        "        # Calculate the weight of mistakes for left and right sides\n",
        "        left_weighted_mistakes, left_class = intermediate_node_weighted_mistakes(left_split[target], left_data_weights)\n",
        "        right_weighted_mistakes, right_class = intermediate_node_weighted_mistakes(right_split[target], right_data_weights)\n",
        "        \n",
        "        # Compute weighted error by computing\n",
        "        error = (left_weighted_mistakes + right_weighted_mistakes)/(sum(left_data_weights) + sum(right_data_weights))\n",
        "        \n",
        "        #Store the feature and the best error\n",
        "        if error < best_error:\n",
        "            best_feature = feature\n",
        "            best_error = error    \n",
        "\n",
        "    return best_feature"
      ],
      "execution_count": 0,
      "outputs": []
    },
    {
      "cell_type": "code",
      "metadata": {
        "id": "1c1kPuukqffq",
        "colab_type": "code",
        "colab": {}
      },
      "source": [
        "def create_leaf_weighted(target_values, data_weights):\n",
        "    \n",
        "    # Create a leaf node\n",
        "    leaf = {'splitting_feature' : None,\n",
        "            'is_leaf': True}\n",
        "    \n",
        "    # Computed weight of mistakes.\n",
        "    weighted_error, best_class = intermediate_node_weighted_mistakes(target_values, data_weights)\n",
        "    # Store the predicted class (1 or -1) in leaf['prediction']\n",
        "    leaf['prediction'] = best_class\n",
        "    \n",
        "    return leaf "
      ],
      "execution_count": 0,
      "outputs": []
    },
    {
      "cell_type": "markdown",
      "metadata": {
        "id": "dYPsL2A3ROiT",
        "colab_type": "text"
      },
      "source": [
        "**Stopping Conditions:**\n",
        "\n",
        "1. All data points in a node are from the same class.\n",
        "2. No more features to split on.\n",
        "3. Stop growing the tree when the tree depth reaches `max_depth`.\n"
      ]
    },
    {
      "cell_type": "code",
      "metadata": {
        "id": "-vTSdGpQqlJl",
        "colab_type": "code",
        "colab": {}
      },
      "source": [
        "def weighted_decision_tree_create(data, features, target, data_weights, current_depth = 1, max_depth = 10):\n",
        "    remaining_features = features.copy()\n",
        "    target_values = data[target]\n",
        "    print(\"--------------------------------------------------------------------\")\n",
        "    print(f\"Subtree, depth = {current_depth} ({len(target_values)} data points).\")\n",
        "    \n",
        "    # Stopping condition 1. Error is 0.\n",
        "    if intermediate_node_weighted_mistakes(target_values, data_weights)[0] <= 1e-15:\n",
        "        print(\"Stopping condition 1 reached.\")\n",
        "        return create_leaf_weighted(target_values, data_weights)\n",
        "    \n",
        "    # Stopping condition 2. No more features.\n",
        "    if remaining_features.empty:\n",
        "        print(\"Stopping condition 2 reached.\")\n",
        "        return create_leaf_weighted(target_values, data_weights)    \n",
        "    \n",
        "    # Stopping condition 3. Limit tree depth.\n",
        "    if current_depth > max_depth:\n",
        "        print(\"Reached maximum depth. Stopping for now.\")\n",
        "        return create_leaf_weighted(target_values, data_weights)\n",
        "    \n",
        "    # If all the datapoints are the same, splitting_feature will be None. Create a leaf\n",
        "    splitting_feature = best_splitting_feature_weighted(data, features, target, data_weights)\n",
        "    remaining_features.drop(splitting_feature, axis=1, inplace=True)\n",
        "        \n",
        "    left_split = data[data[splitting_feature] == 0]\n",
        "    right_split = data[data[splitting_feature] == 1]\n",
        "    \n",
        "    left_data_weights = data_weights[data[splitting_feature] == 0]\n",
        "    right_data_weights = data_weights[data[splitting_feature] == 1]\n",
        "    \n",
        "    print (f\"Split on feature {splitting_feature}. ({len(left_split)}, {len(right_split)})\")\n",
        "    \n",
        "    # Create a leaf node if the split is perfect\n",
        "    if len(left_split) == len(data):\n",
        "        print(\"Creating leaf node.\")\n",
        "        return create_leaf_weighted(left_split[target], data_weights)\n",
        "    if len(right_split) == len(data):\n",
        "        print(\"Creating leaf node.\")\n",
        "        return create_leaf_weighted(right_split[target], data_weights)\n",
        "    \n",
        "    # Repeat (recurse) on left and right subtrees\n",
        "    left_tree = weighted_decision_tree_create(\n",
        "        left_split, remaining_features, target, left_data_weights, current_depth + 1, max_depth)\n",
        "    right_tree = weighted_decision_tree_create(\n",
        "        right_split, remaining_features, target, right_data_weights, current_depth + 1, max_depth)\n",
        "    \n",
        "    return {'is_leaf'          : False, \n",
        "            'prediction'       : None,\n",
        "            'splitting_feature': splitting_feature,\n",
        "            'left'             : left_tree, \n",
        "            'right'            : right_tree}"
      ],
      "execution_count": 0,
      "outputs": []
    },
    {
      "cell_type": "markdown",
      "metadata": {
        "id": "qMGt4L7OR6i1",
        "colab_type": "text"
      },
      "source": [
        "Fitting the model"
      ]
    },
    {
      "cell_type": "code",
      "metadata": {
        "id": "ZEGhffjOSHSg",
        "colab_type": "code",
        "colab": {
          "base_uri": "https://localhost:8080/",
          "height": 399
        },
        "outputId": "3eb19281-be1f-4603-bf9b-2b883fd52386"
      },
      "source": [
        "# Assign weights\n",
        "example_data_weights = np.array([1.] * 10 + [0.]*(len(train_data) - 20) + [1.] * 10)\n",
        "\n",
        "# Train a weighted decision tree model.\n",
        "small_data_decision_tree_subset_20 = weighted_decision_tree_create(train_data, features, target,\n",
        "                         example_data_weights, max_depth=2)"
      ],
      "execution_count": 59,
      "outputs": [
        {
          "output_type": "stream",
          "text": [
            "--------------------------------------------------------------------\n",
            "Subtree, depth = 1 (37224 data points).\n",
            "Split on feature home_ownership_RENT. (20514, 16710)\n",
            "--------------------------------------------------------------------\n",
            "Subtree, depth = 2 (20514 data points).\n",
            "Split on feature grade_F. (19613, 901)\n",
            "--------------------------------------------------------------------\n",
            "Subtree, depth = 3 (19613 data points).\n",
            "Reached maximum depth. Stopping for now.\n",
            "--------------------------------------------------------------------\n",
            "Subtree, depth = 3 (901 data points).\n",
            "Stopping condition 1 reached.\n",
            "--------------------------------------------------------------------\n",
            "Subtree, depth = 2 (16710 data points).\n",
            "Split on feature grade_D. (13315, 3395)\n",
            "--------------------------------------------------------------------\n",
            "Subtree, depth = 3 (13315 data points).\n",
            "Stopping condition 1 reached.\n",
            "--------------------------------------------------------------------\n",
            "Subtree, depth = 3 (3395 data points).\n",
            "Stopping condition 1 reached.\n"
          ],
          "name": "stdout"
        }
      ]
    },
    {
      "cell_type": "markdown",
      "metadata": {
        "id": "fKSKEXI_Srmv",
        "colab_type": "text"
      },
      "source": [
        "Now, we will compute the classification error on the subset_20, i.e. the subset of data points whose weight is 1 (namely the first and last 10 data points)."
      ]
    },
    {
      "cell_type": "code",
      "metadata": {
        "id": "l69LBxQqSpsx",
        "colab_type": "code",
        "colab": {
          "base_uri": "https://localhost:8080/",
          "height": 35
        },
        "outputId": "3a37e7c1-7b34-4826-e7f1-ef269e1d03a9"
      },
      "source": [
        "subset_20 = train_data.head(10).append(train_data.tail(10))\n",
        "evaluate_classification_error(small_data_decision_tree_subset_20, subset_20)"
      ],
      "execution_count": 60,
      "outputs": [
        {
          "output_type": "execute_result",
          "data": {
            "text/plain": [
              "0.05"
            ]
          },
          "metadata": {
            "tags": []
          },
          "execution_count": 60
        }
      ]
    },
    {
      "cell_type": "markdown",
      "metadata": {
        "id": "pROmPD2DStNa",
        "colab_type": "text"
      },
      "source": [
        "Compare the classification error of the model small_data_decision_tree_subset_20 on the entire test set train_data:"
      ]
    },
    {
      "cell_type": "code",
      "metadata": {
        "id": "O_27Z7x2SvhN",
        "colab_type": "code",
        "colab": {
          "base_uri": "https://localhost:8080/",
          "height": 35
        },
        "outputId": "b9b317d1-3aa0-4d10-d71e-18e155ad0889"
      },
      "source": [
        "evaluate_classification_error(small_data_decision_tree_subset_20, train_data)\n"
      ],
      "execution_count": 61,
      "outputs": [
        {
          "output_type": "execute_result",
          "data": {
            "text/plain": [
              "0.48124865678057166"
            ]
          },
          "metadata": {
            "tags": []
          },
          "execution_count": 61
        }
      ]
    },
    {
      "cell_type": "markdown",
      "metadata": {
        "id": "qden1OHnS50I",
        "colab_type": "text"
      },
      "source": [
        "The model small_data_decision_tree_subset_20 performs a lot better on subset_20 than on train_data.\n",
        "\n",
        "The points with higher weights are the ones that are more important during the training process of the weighted decision tree.\n",
        "The points with zero weights are basically ignored during training."
      ]
    },
    {
      "cell_type": "markdown",
      "metadata": {
        "id": "kNKf16KworJB",
        "colab_type": "text"
      },
      "source": [
        "## Boosting a Decision Stump"
      ]
    },
    {
      "cell_type": "markdown",
      "metadata": {
        "id": "Iwa-QspLrf32",
        "colab_type": "text"
      },
      "source": [
        "Adaboost (on decision stumps)"
      ]
    },
    {
      "cell_type": "markdown",
      "metadata": {
        "id": "ERLCXrOErigl",
        "colab_type": "text"
      },
      "source": [
        "$ \\hat{w}_t = \\dfrac{1}{2} \\dfrac{ln(1−E(α,\\hat{y}))}{E(α,\\hat{y})} $"
      ]
    },
    {
      "cell_type": "markdown",
      "metadata": {
        "id": "0G-deXFo-BP8",
        "colab_type": "text"
      },
      "source": [
        "Re-compute & Normalize weights $ α_j $"
      ]
    },
    {
      "cell_type": "code",
      "metadata": {
        "id": "668UjOeZrlue",
        "colab_type": "code",
        "colab": {}
      },
      "source": [
        "def adaboost_with_tree_stumps(data, features, target, num_tree_stumps):\n",
        "\n",
        "    # start with unweighted data\n",
        "    alpha = np.array([1.]*len(data))\n",
        "    weights = []\n",
        "    tree_stumps = []\n",
        "    target_values = data[target]\n",
        "    \n",
        "    for t in range(num_tree_stumps):\n",
        "        print ('=====================================================')\n",
        "        print ('Adaboost Iteration:', t)\n",
        "        print ('=====================================================' ) \n",
        "\n",
        "        # Learn a weighted decision tree stump. max_depth=1\n",
        "        tree_stump = weighted_decision_tree_create(data, features, target, data_weights=alpha, max_depth=1)\n",
        "        tree_stumps.append(tree_stump)\n",
        "        \n",
        "        # Make predictions\n",
        "        predictions = []\n",
        "        for i in range(len(data)):\n",
        "            predictions.append(classify(tree_stump, data.iloc[i]))  \n",
        "        \n",
        "        # Produce a Boolean array indicating whether, each data point was correctly classified\n",
        "        is_correct = predictions == target_values\n",
        "        is_wrong   = predictions != target_values\n",
        "        \n",
        "        # Compute weighted error\n",
        "        weighted_error = sum(alpha[is_wrong])/sum(alpha)\n",
        "        \n",
        "        # Compute model coefficient using weighted error\n",
        "        weight = 1./2. * np.log((1-weighted_error)/weighted_error)\n",
        "        weights.append(weight)\n",
        "        \n",
        "        # Adjust weights on data point\n",
        "        adjustment = is_correct.apply(lambda is_correct : np.exp(-weight) if is_correct else np.exp(weight))\n",
        "        \n",
        "        # Scale alpha by multiplying by adjustment and normalize data points weights \n",
        "        alpha = (alpha*adjustment)/float(sum(alpha))\n",
        "\n",
        "    return weights, tree_stumps"
      ],
      "execution_count": 0,
      "outputs": []
    },
    {
      "cell_type": "code",
      "metadata": {
        "id": "QKEH3QyArfL-",
        "colab_type": "code",
        "colab": {
          "base_uri": "https://localhost:8080/",
          "height": 453
        },
        "outputId": "c177dad6-aced-42d5-8d27-651d3874588d"
      },
      "source": [
        "stump_weights, tree_stumps = adaboost_with_tree_stumps(train_data, features, target, num_tree_stumps=2)"
      ],
      "execution_count": 63,
      "outputs": [
        {
          "output_type": "stream",
          "text": [
            "=====================================================\n",
            "Adaboost Iteration: 0\n",
            "=====================================================\n",
            "--------------------------------------------------------------------\n",
            "Subtree, depth = 1 (37224 data points).\n",
            "Split on feature term_ 36 months. (9223, 28001)\n",
            "--------------------------------------------------------------------\n",
            "Subtree, depth = 2 (9223 data points).\n",
            "Reached maximum depth. Stopping for now.\n",
            "--------------------------------------------------------------------\n",
            "Subtree, depth = 2 (28001 data points).\n",
            "Reached maximum depth. Stopping for now.\n",
            "=====================================================\n",
            "Adaboost Iteration: 1\n",
            "=====================================================\n",
            "--------------------------------------------------------------------\n",
            "Subtree, depth = 1 (37224 data points).\n",
            "Split on feature grade_A. (32094, 5130)\n",
            "--------------------------------------------------------------------\n",
            "Subtree, depth = 2 (32094 data points).\n",
            "Reached maximum depth. Stopping for now.\n",
            "--------------------------------------------------------------------\n",
            "Subtree, depth = 2 (5130 data points).\n",
            "Reached maximum depth. Stopping for now.\n"
          ],
          "name": "stdout"
        }
      ]
    },
    {
      "cell_type": "code",
      "metadata": {
        "id": "5jJPp8PJr0lk",
        "colab_type": "code",
        "colab": {
          "base_uri": "https://localhost:8080/",
          "height": 35
        },
        "outputId": "5959128b-3a01-49d3-f76f-a6971b5d4d0f"
      },
      "source": [
        "print(stump_weights)"
      ],
      "execution_count": 64,
      "outputs": [
        {
          "output_type": "stream",
          "text": [
            "[0.15802933659263743, 0.17682363293605327]\n"
          ],
          "name": "stdout"
        }
      ]
    },
    {
      "cell_type": "markdown",
      "metadata": {
        "id": "d-XYcZ1K067d",
        "colab_type": "text"
      },
      "source": [
        "### Training a Boosted Ensemble of 10 Stumps"
      ]
    },
    {
      "cell_type": "code",
      "metadata": {
        "id": "NU7_PaPe014y",
        "colab_type": "code",
        "colab": {
          "base_uri": "https://localhost:8080/",
          "height": 1000
        },
        "outputId": "94ba69ab-e7ce-4efa-b752-ebf4c2c1259a"
      },
      "source": [
        "stump_weights, tree_stumps = adaboost_with_tree_stumps(train_data, features, target, num_tree_stumps=10)"
      ],
      "execution_count": 65,
      "outputs": [
        {
          "output_type": "stream",
          "text": [
            "=====================================================\n",
            "Adaboost Iteration: 0\n",
            "=====================================================\n",
            "--------------------------------------------------------------------\n",
            "Subtree, depth = 1 (37224 data points).\n",
            "Split on feature term_ 36 months. (9223, 28001)\n",
            "--------------------------------------------------------------------\n",
            "Subtree, depth = 2 (9223 data points).\n",
            "Reached maximum depth. Stopping for now.\n",
            "--------------------------------------------------------------------\n",
            "Subtree, depth = 2 (28001 data points).\n",
            "Reached maximum depth. Stopping for now.\n",
            "=====================================================\n",
            "Adaboost Iteration: 1\n",
            "=====================================================\n",
            "--------------------------------------------------------------------\n",
            "Subtree, depth = 1 (37224 data points).\n",
            "Split on feature grade_A. (32094, 5130)\n",
            "--------------------------------------------------------------------\n",
            "Subtree, depth = 2 (32094 data points).\n",
            "Reached maximum depth. Stopping for now.\n",
            "--------------------------------------------------------------------\n",
            "Subtree, depth = 2 (5130 data points).\n",
            "Reached maximum depth. Stopping for now.\n",
            "=====================================================\n",
            "Adaboost Iteration: 2\n",
            "=====================================================\n",
            "--------------------------------------------------------------------\n",
            "Subtree, depth = 1 (37224 data points).\n",
            "Split on feature grade_D. (30465, 6759)\n",
            "--------------------------------------------------------------------\n",
            "Subtree, depth = 2 (30465 data points).\n",
            "Reached maximum depth. Stopping for now.\n",
            "--------------------------------------------------------------------\n",
            "Subtree, depth = 2 (6759 data points).\n",
            "Reached maximum depth. Stopping for now.\n",
            "=====================================================\n",
            "Adaboost Iteration: 3\n",
            "=====================================================\n",
            "--------------------------------------------------------------------\n",
            "Subtree, depth = 1 (37224 data points).\n",
            "Split on feature home_ownership_MORTGAGE. (19846, 17378)\n",
            "--------------------------------------------------------------------\n",
            "Subtree, depth = 2 (19846 data points).\n",
            "Reached maximum depth. Stopping for now.\n",
            "--------------------------------------------------------------------\n",
            "Subtree, depth = 2 (17378 data points).\n",
            "Reached maximum depth. Stopping for now.\n",
            "=====================================================\n",
            "Adaboost Iteration: 4\n",
            "=====================================================\n",
            "--------------------------------------------------------------------\n",
            "Subtree, depth = 1 (37224 data points).\n",
            "Split on feature grade_B. (26858, 10366)\n",
            "--------------------------------------------------------------------\n",
            "Subtree, depth = 2 (26858 data points).\n",
            "Reached maximum depth. Stopping for now.\n",
            "--------------------------------------------------------------------\n",
            "Subtree, depth = 2 (10366 data points).\n",
            "Reached maximum depth. Stopping for now.\n",
            "=====================================================\n",
            "Adaboost Iteration: 5\n",
            "=====================================================\n",
            "--------------------------------------------------------------------\n",
            "Subtree, depth = 1 (37224 data points).\n",
            "Split on feature grade_E. (33815, 3409)\n",
            "--------------------------------------------------------------------\n",
            "Subtree, depth = 2 (33815 data points).\n",
            "Reached maximum depth. Stopping for now.\n",
            "--------------------------------------------------------------------\n",
            "Subtree, depth = 2 (3409 data points).\n",
            "Reached maximum depth. Stopping for now.\n",
            "=====================================================\n",
            "Adaboost Iteration: 6\n",
            "=====================================================\n",
            "--------------------------------------------------------------------\n",
            "Subtree, depth = 1 (37224 data points).\n",
            "Split on feature grade_A. (32094, 5130)\n",
            "--------------------------------------------------------------------\n",
            "Subtree, depth = 2 (32094 data points).\n",
            "Reached maximum depth. Stopping for now.\n",
            "--------------------------------------------------------------------\n",
            "Subtree, depth = 2 (5130 data points).\n",
            "Reached maximum depth. Stopping for now.\n",
            "=====================================================\n",
            "Adaboost Iteration: 7\n",
            "=====================================================\n",
            "--------------------------------------------------------------------\n",
            "Subtree, depth = 1 (37224 data points).\n",
            "Split on feature grade_F. (35512, 1712)\n",
            "--------------------------------------------------------------------\n",
            "Subtree, depth = 2 (35512 data points).\n",
            "Reached maximum depth. Stopping for now.\n",
            "--------------------------------------------------------------------\n",
            "Subtree, depth = 2 (1712 data points).\n",
            "Reached maximum depth. Stopping for now.\n",
            "=====================================================\n",
            "Adaboost Iteration: 8\n",
            "=====================================================\n",
            "--------------------------------------------------------------------\n",
            "Subtree, depth = 1 (37224 data points).\n",
            "Split on feature grade_A. (32094, 5130)\n",
            "--------------------------------------------------------------------\n",
            "Subtree, depth = 2 (32094 data points).\n",
            "Reached maximum depth. Stopping for now.\n",
            "--------------------------------------------------------------------\n",
            "Subtree, depth = 2 (5130 data points).\n",
            "Reached maximum depth. Stopping for now.\n",
            "=====================================================\n",
            "Adaboost Iteration: 9\n",
            "=====================================================\n",
            "--------------------------------------------------------------------\n",
            "Subtree, depth = 1 (37224 data points).\n",
            "Split on feature emp_length_0. (35781, 1443)\n",
            "--------------------------------------------------------------------\n",
            "Subtree, depth = 2 (35781 data points).\n",
            "Reached maximum depth. Stopping for now.\n",
            "--------------------------------------------------------------------\n",
            "Subtree, depth = 2 (1443 data points).\n",
            "Reached maximum depth. Stopping for now.\n"
          ],
          "name": "stdout"
        }
      ]
    },
    {
      "cell_type": "markdown",
      "metadata": {
        "id": "3sTdJ8Ic9DuS",
        "colab_type": "text"
      },
      "source": [
        "#### Making Predictions"
      ]
    },
    {
      "cell_type": "markdown",
      "metadata": {
        "id": "XphNKG2U1Be5",
        "colab_type": "text"
      },
      "source": [
        "$ \\hat{y} = sign(\\sum_{t=1}^{T} \\hat{w} f_t(x)) $"
      ]
    },
    {
      "cell_type": "code",
      "metadata": {
        "id": "rseipqNU08ui",
        "colab_type": "code",
        "colab": {}
      },
      "source": [
        "def predict_adaboost(stump_weights, tree_stumps, data):\n",
        "    scores = np.array([0.]*len(data))\n",
        "    \n",
        "    for i, tree_stump in enumerate(tree_stumps):\n",
        "\n",
        "        predictions = []\n",
        "        for j in range(len(data)):\n",
        "            predictions.append(classify(tree_stump, data.iloc[j]))\n",
        "        \n",
        "        # Accumulate predictions on scores array\n",
        "        scores += (stump_weights[i] * np.asarray(predictions))\n",
        "        \n",
        "    return pd.Series(scores).apply(lambda score : +1 if score > 0 else -1)"
      ],
      "execution_count": 0,
      "outputs": []
    },
    {
      "cell_type": "code",
      "metadata": {
        "id": "bC1_zVAP1I3K",
        "colab_type": "code",
        "colab": {
          "base_uri": "https://localhost:8080/",
          "height": 199
        },
        "outputId": "b4426faa-d5dc-42ba-b0d6-6b16cbe75bb9"
      },
      "source": [
        "stump_weights"
      ],
      "execution_count": 67,
      "outputs": [
        {
          "output_type": "execute_result",
          "data": {
            "text/plain": [
              "[0.15802933659263743,\n",
              " 0.17682363293605327,\n",
              " 0.09311888971195705,\n",
              " 0.0728888552581495,\n",
              " 0.06706306914131716,\n",
              " 0.06456916961613322,\n",
              " 0.05456055779221647,\n",
              " 0.04351093673354489,\n",
              " 0.028988711500059067,\n",
              " 0.0259625096913776]"
            ]
          },
          "metadata": {
            "tags": []
          },
          "execution_count": 67
        }
      ]
    },
    {
      "cell_type": "code",
      "metadata": {
        "id": "zKI0tp4k1Dfz",
        "colab_type": "code",
        "colab": {
          "base_uri": "https://localhost:8080/",
          "height": 35
        },
        "outputId": "a7a20883-6ff1-4039-f019-40d6dad93a16"
      },
      "source": [
        "predictions = predict_adaboost(stump_weights, tree_stumps, test_data)\n",
        "accuracy = (predictions == test_data[target].values).sum()/len(test_data)\n",
        "print('Accuracy of 10-component ensemble =', accuracy )"
      ],
      "execution_count": 68,
      "outputs": [
        {
          "output_type": "stream",
          "text": [
            "Accuracy of 10-component ensemble = 0.6203145196036192\n"
          ],
          "name": "stdout"
        }
      ]
    },
    {
      "cell_type": "code",
      "metadata": {
        "id": "FIFk9pO42-V2",
        "colab_type": "code",
        "colab": {
          "base_uri": "https://localhost:8080/",
          "height": 303
        },
        "outputId": "541b9c4e-5da6-4e9f-af2e-066b875b2031"
      },
      "source": [
        "sns.distplot(test_data[target], hist=False, color=\"r\", label=\"Actual Value\")\n",
        "sns.distplot(predictions, hist=False, color=\"b\", label=\"Fitted Values\")"
      ],
      "execution_count": 69,
      "outputs": [
        {
          "output_type": "execute_result",
          "data": {
            "text/plain": [
              "<matplotlib.axes._subplots.AxesSubplot at 0x7f1195de8e10>"
            ]
          },
          "metadata": {
            "tags": []
          },
          "execution_count": 69
        },
        {
          "output_type": "display_data",
          "data": {
            "image/png": "[encoded data removed]",
            "text/plain": [
              "<Figure size 432x288 with 1 Axes>"
            ]
          },
          "metadata": {
            "tags": []
          }
        }
      ]
    },
    {
      "cell_type": "markdown",
      "metadata": {
        "id": "2LuR7unYbHq2",
        "colab_type": "text"
      },
      "source": [
        "## Performance Plots"
      ]
    },
    {
      "cell_type": "markdown",
      "metadata": {
        "id": "81M_hKXxbVIK",
        "colab_type": "text"
      },
      "source": [
        "Training a Boosted Ensemble of 30 Stumps"
      ]
    },
    {
      "cell_type": "code",
      "metadata": {
        "id": "XxDUi-OtZi3W",
        "colab_type": "code",
        "colab": {
          "base_uri": "https://localhost:8080/",
          "height": 1000
        },
        "outputId": "8b0e2c94-eaa9-46a9-c98c-169779324bf8"
      },
      "source": [
        "stump_weights, tree_stumps = adaboost_with_tree_stumps(train_data, features, target, num_tree_stumps=30)"
      ],
      "execution_count": 70,
      "outputs": [
        {
          "output_type": "stream",
          "text": [
            "=====================================================\n",
            "Adaboost Iteration: 0\n",
            "=====================================================\n",
            "--------------------------------------------------------------------\n",
            "Subtree, depth = 1 (37224 data points).\n",
            "Split on feature term_ 36 months. (9223, 28001)\n",
            "--------------------------------------------------------------------\n",
            "Subtree, depth = 2 (9223 data points).\n",
            "Reached maximum depth. Stopping for now.\n",
            "--------------------------------------------------------------------\n",
            "Subtree, depth = 2 (28001 data points).\n",
            "Reached maximum depth. Stopping for now.\n",
            "=====================================================\n",
            "Adaboost Iteration: 1\n",
            "=====================================================\n",
            "--------------------------------------------------------------------\n",
            "Subtree, depth = 1 (37224 data points).\n",
            "Split on feature grade_A. (32094, 5130)\n",
            "--------------------------------------------------------------------\n",
            "Subtree, depth = 2 (32094 data points).\n",
            "Reached maximum depth. Stopping for now.\n",
            "--------------------------------------------------------------------\n",
            "Subtree, depth = 2 (5130 data points).\n",
            "Reached maximum depth. Stopping for now.\n",
            "=====================================================\n",
            "Adaboost Iteration: 2\n",
            "=====================================================\n",
            "--------------------------------------------------------------------\n",
            "Subtree, depth = 1 (37224 data points).\n",
            "Split on feature grade_D. (30465, 6759)\n",
            "--------------------------------------------------------------------\n",
            "Subtree, depth = 2 (30465 data points).\n",
            "Reached maximum depth. Stopping for now.\n",
            "--------------------------------------------------------------------\n",
            "Subtree, depth = 2 (6759 data points).\n",
            "Reached maximum depth. Stopping for now.\n",
            "=====================================================\n",
            "Adaboost Iteration: 3\n",
            "=====================================================\n",
            "--------------------------------------------------------------------\n",
            "Subtree, depth = 1 (37224 data points).\n",
            "Split on feature home_ownership_MORTGAGE. (19846, 17378)\n",
            "--------------------------------------------------------------------\n",
            "Subtree, depth = 2 (19846 data points).\n",
            "Reached maximum depth. Stopping for now.\n",
            "--------------------------------------------------------------------\n",
            "Subtree, depth = 2 (17378 data points).\n",
            "Reached maximum depth. Stopping for now.\n",
            "=====================================================\n",
            "Adaboost Iteration: 4\n",
            "=====================================================\n",
            "--------------------------------------------------------------------\n",
            "Subtree, depth = 1 (37224 data points).\n",
            "Split on feature grade_B. (26858, 10366)\n",
            "--------------------------------------------------------------------\n",
            "Subtree, depth = 2 (26858 data points).\n",
            "Reached maximum depth. Stopping for now.\n",
            "--------------------------------------------------------------------\n",
            "Subtree, depth = 2 (10366 data points).\n",
            "Reached maximum depth. Stopping for now.\n",
            "=====================================================\n",
            "Adaboost Iteration: 5\n",
            "=====================================================\n",
            "--------------------------------------------------------------------\n",
            "Subtree, depth = 1 (37224 data points).\n",
            "Split on feature grade_E. (33815, 3409)\n",
            "--------------------------------------------------------------------\n",
            "Subtree, depth = 2 (33815 data points).\n",
            "Reached maximum depth. Stopping for now.\n",
            "--------------------------------------------------------------------\n",
            "Subtree, depth = 2 (3409 data points).\n",
            "Reached maximum depth. Stopping for now.\n",
            "=====================================================\n",
            "Adaboost Iteration: 6\n",
            "=====================================================\n",
            "--------------------------------------------------------------------\n",
            "Subtree, depth = 1 (37224 data points).\n",
            "Split on feature grade_A. (32094, 5130)\n",
            "--------------------------------------------------------------------\n",
            "Subtree, depth = 2 (32094 data points).\n",
            "Reached maximum depth. Stopping for now.\n",
            "--------------------------------------------------------------------\n",
            "Subtree, depth = 2 (5130 data points).\n",
            "Reached maximum depth. Stopping for now.\n",
            "=====================================================\n",
            "Adaboost Iteration: 7\n",
            "=====================================================\n",
            "--------------------------------------------------------------------\n",
            "Subtree, depth = 1 (37224 data points).\n",
            "Split on feature grade_F. (35512, 1712)\n",
            "--------------------------------------------------------------------\n",
            "Subtree, depth = 2 (35512 data points).\n",
            "Reached maximum depth. Stopping for now.\n",
            "--------------------------------------------------------------------\n",
            "Subtree, depth = 2 (1712 data points).\n",
            "Reached maximum depth. Stopping for now.\n",
            "=====================================================\n",
            "Adaboost Iteration: 8\n",
            "=====================================================\n",
            "--------------------------------------------------------------------\n",
            "Subtree, depth = 1 (37224 data points).\n",
            "Split on feature grade_A. (32094, 5130)\n",
            "--------------------------------------------------------------------\n",
            "Subtree, depth = 2 (32094 data points).\n",
            "Reached maximum depth. Stopping for now.\n",
            "--------------------------------------------------------------------\n",
            "Subtree, depth = 2 (5130 data points).\n",
            "Reached maximum depth. Stopping for now.\n",
            "=====================================================\n",
            "Adaboost Iteration: 9\n",
            "=====================================================\n",
            "--------------------------------------------------------------------\n",
            "Subtree, depth = 1 (37224 data points).\n",
            "Split on feature emp_length_0. (35781, 1443)\n",
            "--------------------------------------------------------------------\n",
            "Subtree, depth = 2 (35781 data points).\n",
            "Reached maximum depth. Stopping for now.\n",
            "--------------------------------------------------------------------\n",
            "Subtree, depth = 2 (1443 data points).\n",
            "Reached maximum depth. Stopping for now.\n",
            "=====================================================\n",
            "Adaboost Iteration: 10\n",
            "=====================================================\n",
            "--------------------------------------------------------------------\n",
            "Subtree, depth = 1 (37224 data points).\n",
            "Split on feature grade_D. (30465, 6759)\n",
            "--------------------------------------------------------------------\n",
            "Subtree, depth = 2 (30465 data points).\n",
            "Reached maximum depth. Stopping for now.\n",
            "--------------------------------------------------------------------\n",
            "Subtree, depth = 2 (6759 data points).\n",
            "Reached maximum depth. Stopping for now.\n",
            "=====================================================\n",
            "Adaboost Iteration: 11\n",
            "=====================================================\n",
            "--------------------------------------------------------------------\n",
            "Subtree, depth = 1 (37224 data points).\n",
            "Split on feature grade_B. (26858, 10366)\n",
            "--------------------------------------------------------------------\n",
            "Subtree, depth = 2 (26858 data points).\n",
            "Reached maximum depth. Stopping for now.\n",
            "--------------------------------------------------------------------\n",
            "Subtree, depth = 2 (10366 data points).\n",
            "Reached maximum depth. Stopping for now.\n",
            "=====================================================\n",
            "Adaboost Iteration: 12\n",
            "=====================================================\n",
            "--------------------------------------------------------------------\n",
            "Subtree, depth = 1 (37224 data points).\n",
            "Split on feature emp_length_0. (35781, 1443)\n",
            "--------------------------------------------------------------------\n",
            "Subtree, depth = 2 (35781 data points).\n",
            "Reached maximum depth. Stopping for now.\n",
            "--------------------------------------------------------------------\n",
            "Subtree, depth = 2 (1443 data points).\n",
            "Reached maximum depth. Stopping for now.\n",
            "=====================================================\n",
            "Adaboost Iteration: 13\n",
            "=====================================================\n",
            "--------------------------------------------------------------------\n",
            "Subtree, depth = 1 (37224 data points).\n",
            "Split on feature emp_length_4 years. (34593, 2631)\n",
            "--------------------------------------------------------------------\n",
            "Subtree, depth = 2 (34593 data points).\n",
            "Reached maximum depth. Stopping for now.\n",
            "--------------------------------------------------------------------\n",
            "Subtree, depth = 2 (2631 data points).\n",
            "Reached maximum depth. Stopping for now.\n",
            "=====================================================\n",
            "Adaboost Iteration: 14\n",
            "=====================================================\n",
            "--------------------------------------------------------------------\n",
            "Subtree, depth = 1 (37224 data points).\n",
            "Split on feature emp_length_0. (35781, 1443)\n",
            "--------------------------------------------------------------------\n",
            "Subtree, depth = 2 (35781 data points).\n",
            "Reached maximum depth. Stopping for now.\n",
            "--------------------------------------------------------------------\n",
            "Subtree, depth = 2 (1443 data points).\n",
            "Reached maximum depth. Stopping for now.\n",
            "=====================================================\n",
            "Adaboost Iteration: 15\n",
            "=====================================================\n",
            "--------------------------------------------------------------------\n",
            "Subtree, depth = 1 (37224 data points).\n",
            "Split on feature grade_C. (27812, 9412)\n",
            "--------------------------------------------------------------------\n",
            "Subtree, depth = 2 (27812 data points).\n",
            "Reached maximum depth. Stopping for now.\n",
            "--------------------------------------------------------------------\n",
            "Subtree, depth = 2 (9412 data points).\n",
            "Reached maximum depth. Stopping for now.\n",
            "=====================================================\n",
            "Adaboost Iteration: 16\n",
            "=====================================================\n",
            "--------------------------------------------------------------------\n",
            "Subtree, depth = 1 (37224 data points).\n",
            "Split on feature grade_A. (32094, 5130)\n",
            "--------------------------------------------------------------------\n",
            "Subtree, depth = 2 (32094 data points).\n",
            "Reached maximum depth. Stopping for now.\n",
            "--------------------------------------------------------------------\n",
            "Subtree, depth = 2 (5130 data points).\n",
            "Reached maximum depth. Stopping for now.\n",
            "=====================================================\n",
            "Adaboost Iteration: 17\n",
            "=====================================================\n",
            "--------------------------------------------------------------------\n",
            "Subtree, depth = 1 (37224 data points).\n",
            "Split on feature grade_F. (35512, 1712)\n",
            "--------------------------------------------------------------------\n",
            "Subtree, depth = 2 (35512 data points).\n",
            "Reached maximum depth. Stopping for now.\n",
            "--------------------------------------------------------------------\n",
            "Subtree, depth = 2 (1712 data points).\n",
            "Reached maximum depth. Stopping for now.\n",
            "=====================================================\n",
            "Adaboost Iteration: 18\n",
            "=====================================================\n",
            "--------------------------------------------------------------------\n",
            "Subtree, depth = 1 (37224 data points).\n",
            "Split on feature term_ 36 months. (9223, 28001)\n",
            "--------------------------------------------------------------------\n",
            "Subtree, depth = 2 (9223 data points).\n",
            "Reached maximum depth. Stopping for now.\n",
            "--------------------------------------------------------------------\n",
            "Subtree, depth = 2 (28001 data points).\n",
            "Reached maximum depth. Stopping for now.\n",
            "=====================================================\n",
            "Adaboost Iteration: 19\n",
            "=====================================================\n",
            "--------------------------------------------------------------------\n",
            "Subtree, depth = 1 (37224 data points).\n",
            "Split on feature grade_B. (26858, 10366)\n",
            "--------------------------------------------------------------------\n",
            "Subtree, depth = 2 (26858 data points).\n",
            "Reached maximum depth. Stopping for now.\n",
            "--------------------------------------------------------------------\n",
            "Subtree, depth = 2 (10366 data points).\n",
            "Reached maximum depth. Stopping for now.\n",
            "=====================================================\n",
            "Adaboost Iteration: 20\n",
            "=====================================================\n",
            "--------------------------------------------------------------------\n",
            "Subtree, depth = 1 (37224 data points).\n",
            "Split on feature emp_length_0. (35781, 1443)\n",
            "--------------------------------------------------------------------\n",
            "Subtree, depth = 2 (35781 data points).\n",
            "Reached maximum depth. Stopping for now.\n",
            "--------------------------------------------------------------------\n",
            "Subtree, depth = 2 (1443 data points).\n",
            "Reached maximum depth. Stopping for now.\n",
            "=====================================================\n",
            "Adaboost Iteration: 21\n",
            "=====================================================\n",
            "--------------------------------------------------------------------\n",
            "Subtree, depth = 1 (37224 data points).\n",
            "Split on feature grade_D. (30465, 6759)\n",
            "--------------------------------------------------------------------\n",
            "Subtree, depth = 2 (30465 data points).\n",
            "Reached maximum depth. Stopping for now.\n",
            "--------------------------------------------------------------------\n",
            "Subtree, depth = 2 (6759 data points).\n",
            "Reached maximum depth. Stopping for now.\n",
            "=====================================================\n",
            "Adaboost Iteration: 22\n",
            "=====================================================\n",
            "--------------------------------------------------------------------\n",
            "Subtree, depth = 1 (37224 data points).\n",
            "Split on feature grade_F. (35512, 1712)\n",
            "--------------------------------------------------------------------\n",
            "Subtree, depth = 2 (35512 data points).\n",
            "Reached maximum depth. Stopping for now.\n",
            "--------------------------------------------------------------------\n",
            "Subtree, depth = 2 (1712 data points).\n",
            "Reached maximum depth. Stopping for now.\n",
            "=====================================================\n",
            "Adaboost Iteration: 23\n",
            "=====================================================\n",
            "--------------------------------------------------------------------\n",
            "Subtree, depth = 1 (37224 data points).\n",
            "Split on feature grade_A. (32094, 5130)\n",
            "--------------------------------------------------------------------\n",
            "Subtree, depth = 2 (32094 data points).\n",
            "Reached maximum depth. Stopping for now.\n",
            "--------------------------------------------------------------------\n",
            "Subtree, depth = 2 (5130 data points).\n",
            "Reached maximum depth. Stopping for now.\n",
            "=====================================================\n",
            "Adaboost Iteration: 24\n",
            "=====================================================\n",
            "--------------------------------------------------------------------\n",
            "Subtree, depth = 1 (37224 data points).\n",
            "Split on feature emp_length_0. (35781, 1443)\n",
            "--------------------------------------------------------------------\n",
            "Subtree, depth = 2 (35781 data points).\n",
            "Reached maximum depth. Stopping for now.\n",
            "--------------------------------------------------------------------\n",
            "Subtree, depth = 2 (1443 data points).\n",
            "Reached maximum depth. Stopping for now.\n",
            "=====================================================\n",
            "Adaboost Iteration: 25\n",
            "=====================================================\n",
            "--------------------------------------------------------------------\n",
            "Subtree, depth = 1 (37224 data points).\n",
            "Split on feature emp_length_2 years. (33652, 3572)\n",
            "--------------------------------------------------------------------\n",
            "Subtree, depth = 2 (33652 data points).\n",
            "Reached maximum depth. Stopping for now.\n",
            "--------------------------------------------------------------------\n",
            "Subtree, depth = 2 (3572 data points).\n",
            "Reached maximum depth. Stopping for now.\n",
            "=====================================================\n",
            "Adaboost Iteration: 26\n",
            "=====================================================\n",
            "--------------------------------------------------------------------\n",
            "Subtree, depth = 1 (37224 data points).\n",
            "Split on feature grade_F. (35512, 1712)\n",
            "--------------------------------------------------------------------\n",
            "Subtree, depth = 2 (35512 data points).\n",
            "Reached maximum depth. Stopping for now.\n",
            "--------------------------------------------------------------------\n",
            "Subtree, depth = 2 (1712 data points).\n",
            "Reached maximum depth. Stopping for now.\n",
            "=====================================================\n",
            "Adaboost Iteration: 27\n",
            "=====================================================\n",
            "--------------------------------------------------------------------\n",
            "Subtree, depth = 1 (37224 data points).\n",
            "Split on feature home_ownership_OWN. (34149, 3075)\n",
            "--------------------------------------------------------------------\n",
            "Subtree, depth = 2 (34149 data points).\n",
            "Reached maximum depth. Stopping for now.\n",
            "--------------------------------------------------------------------\n",
            "Subtree, depth = 2 (3075 data points).\n",
            "Reached maximum depth. Stopping for now.\n",
            "=====================================================\n",
            "Adaboost Iteration: 28\n",
            "=====================================================\n",
            "--------------------------------------------------------------------\n",
            "Subtree, depth = 1 (37224 data points).\n",
            "Split on feature emp_length_0. (35781, 1443)\n",
            "--------------------------------------------------------------------\n",
            "Subtree, depth = 2 (35781 data points).\n",
            "Reached maximum depth. Stopping for now.\n",
            "--------------------------------------------------------------------\n",
            "Subtree, depth = 2 (1443 data points).\n",
            "Reached maximum depth. Stopping for now.\n",
            "=====================================================\n",
            "Adaboost Iteration: 29\n",
            "=====================================================\n",
            "--------------------------------------------------------------------\n",
            "Subtree, depth = 1 (37224 data points).\n",
            "Split on feature grade_C. (27812, 9412)\n",
            "--------------------------------------------------------------------\n",
            "Subtree, depth = 2 (27812 data points).\n",
            "Reached maximum depth. Stopping for now.\n",
            "--------------------------------------------------------------------\n",
            "Subtree, depth = 2 (9412 data points).\n",
            "Reached maximum depth. Stopping for now.\n"
          ],
          "name": "stdout"
        }
      ]
    },
    {
      "cell_type": "markdown",
      "metadata": {
        "id": "cM-yctFEcKvW",
        "colab_type": "text"
      },
      "source": [
        "Computing Training Error at the end of Each Iteration"
      ]
    },
    {
      "cell_type": "code",
      "metadata": {
        "id": "CLK3yd9vbWHt",
        "colab_type": "code",
        "colab": {
          "base_uri": "https://localhost:8080/",
          "height": 562
        },
        "outputId": "3ee2501a-6d10-4e00-9f57-b4f3b73768b4"
      },
      "source": [
        "train_error_all = []\n",
        "for n in range(1, 31):\n",
        "    predictions = predict_adaboost(stump_weights[:n], tree_stumps[:n], train_data)\n",
        "    error = (predictions != train_data[target].values).sum()/len(train_data)\n",
        "    train_error_all.append(error)\n",
        "    print(f\"Iteration {n}, training error = {train_error_all[n-1]}\")"
      ],
      "execution_count": 71,
      "outputs": [
        {
          "output_type": "stream",
          "text": [
            "Iteration 1, training error = 0.4216365785514722\n",
            "Iteration 2, training error = 0.4334300451321728\n",
            "Iteration 3, training error = 0.40003761014399314\n",
            "Iteration 4, training error = 0.40003761014399314\n",
            "Iteration 5, training error = 0.3847249086610789\n",
            "Iteration 6, training error = 0.38461745110681284\n",
            "Iteration 7, training error = 0.3827638082957232\n",
            "Iteration 8, training error = 0.38461745110681284\n",
            "Iteration 9, training error = 0.3827638082957232\n",
            "Iteration 10, training error = 0.38448312916398025\n",
            "Iteration 11, training error = 0.3827369439071567\n",
            "Iteration 12, training error = 0.3814474532559639\n",
            "Iteration 13, training error = 0.38152804642166344\n",
            "Iteration 14, training error = 0.3805609284332689\n",
            "Iteration 15, training error = 0.38050719965613583\n",
            "Iteration 16, training error = 0.3782237266279819\n",
            "Iteration 17, training error = 0.378277455405115\n",
            "Iteration 18, training error = 0.37841177734794756\n",
            "Iteration 19, training error = 0.37806254029658287\n",
            "Iteration 20, training error = 0.37876101439931226\n",
            "Iteration 21, training error = 0.37956694605630775\n",
            "Iteration 22, training error = 0.37889533634214484\n",
            "Iteration 23, training error = 0.37889533634214484\n",
            "Iteration 24, training error = 0.37876101439931226\n",
            "Iteration 25, training error = 0.37889533634214484\n",
            "Iteration 26, training error = 0.3789759295078444\n",
            "Iteration 27, training error = 0.379110251450677\n",
            "Iteration 28, training error = 0.37892220073071137\n",
            "Iteration 29, training error = 0.3790296582849774\n",
            "Iteration 30, training error = 0.37873415001074573\n"
          ],
          "name": "stdout"
        }
      ]
    },
    {
      "cell_type": "markdown",
      "metadata": {
        "id": "ZMf3kKOveaUO",
        "colab_type": "text"
      },
      "source": [
        "Computing Test Error at the end of Each Iteration"
      ]
    },
    {
      "cell_type": "code",
      "metadata": {
        "id": "XRMArmhhcaWJ",
        "colab_type": "code",
        "colab": {
          "base_uri": "https://localhost:8080/",
          "height": 562
        },
        "outputId": "b07ed28b-d220-405a-90ca-db427752767a"
      },
      "source": [
        "test_error_all = []\n",
        "for n in range(1, 31):\n",
        "    predictions = predict_adaboost(stump_weights[:n], tree_stumps[:n], test_data)\n",
        "    error = (predictions != test_data[target].values).sum()/len(test_data)\n",
        "    test_error_all.append(error)\n",
        "    print(f\"Iteration {n}, test error = {test_error_all[n-1]}\")"
      ],
      "execution_count": 72,
      "outputs": [
        {
          "output_type": "stream",
          "text": [
            "Iteration 1, test error = 0.4233089185695821\n",
            "Iteration 2, test error = 0.42847910383455406\n",
            "Iteration 3, test error = 0.3981042654028436\n",
            "Iteration 4, test error = 0.3981042654028436\n",
            "Iteration 5, test error = 0.3799009047824214\n",
            "Iteration 6, test error = 0.38000861697544164\n",
            "Iteration 7, test error = 0.3792546316242999\n",
            "Iteration 8, test error = 0.38000861697544164\n",
            "Iteration 9, test error = 0.3792546316242999\n",
            "Iteration 10, test error = 0.3796854803963809\n",
            "Iteration 11, test error = 0.3792546316242999\n",
            "Iteration 12, test error = 0.37796208530805686\n",
            "Iteration 13, test error = 0.3792546316242999\n",
            "Iteration 14, test error = 0.3778543731150366\n",
            "Iteration 15, test error = 0.3785006462731581\n",
            "Iteration 16, test error = 0.3778543731150366\n",
            "Iteration 17, test error = 0.37796208530805686\n",
            "Iteration 18, test error = 0.3778543731150366\n",
            "Iteration 19, test error = 0.37817750969409736\n",
            "Iteration 20, test error = 0.3768849633778544\n",
            "Iteration 21, test error = 0.37753123653597587\n",
            "Iteration 22, test error = 0.3767772511848341\n",
            "Iteration 23, test error = 0.3767772511848341\n",
            "Iteration 24, test error = 0.3768849633778544\n",
            "Iteration 25, test error = 0.3767772511848341\n",
            "Iteration 26, test error = 0.37656182679879363\n",
            "Iteration 27, test error = 0.3764541146057734\n",
            "Iteration 28, test error = 0.3769926755708746\n",
            "Iteration 29, test error = 0.3767772511848341\n",
            "Iteration 30, test error = 0.3767772511848341\n"
          ],
          "name": "stdout"
        }
      ]
    },
    {
      "cell_type": "markdown",
      "metadata": {
        "id": "lcEFga6JegZF",
        "colab_type": "text"
      },
      "source": [
        "**Visualizing** the Training & Test Errors"
      ]
    },
    {
      "cell_type": "code",
      "metadata": {
        "id": "DyOtC6DceWup",
        "colab_type": "code",
        "colab": {
          "base_uri": "https://localhost:8080/",
          "height": 410
        },
        "outputId": "fe62968d-fb16-42f9-cb9d-57658c5e6e1f"
      },
      "source": [
        "plt.figure(figsize=(10,6))\n",
        "sns.lineplot(range(1,31), train_error_all, label='Training Error')\n",
        "sns.lineplot(range(1,31), test_error_all,  label='Test Error')\n",
        "plt.title('Performance of Adaboost ensemble')\n",
        "plt.xlabel('Number of Iterations')\n",
        "plt.ylabel('Classification Error')\n",
        "plt.show()"
      ],
      "execution_count": 73,
      "outputs": [
        {
          "output_type": "display_data",
          "data": {
            "image/png": "[encoded data removed]",
            "text/plain": [
              "<Figure size 720x432 with 1 Axes>"
            ]
          },
          "metadata": {
            "tags": []
          }
        }
      ]
    }
  ]
}